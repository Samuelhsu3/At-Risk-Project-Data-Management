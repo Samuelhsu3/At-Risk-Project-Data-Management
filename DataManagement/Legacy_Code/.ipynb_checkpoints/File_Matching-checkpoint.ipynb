{
 "cells": [
  {
   "cell_type": "markdown",
   "id": "7bc039d9-11a5-4389-b763-ae909683adbc",
   "metadata": {},
   "source": [
    "Compares the list of names from the source/destination to list of names in tracking sheets, notes unexpected results "
   ]
  },
  {
   "cell_type": "code",
   "execution_count": 4,
   "id": "c4ca2d14-1058-48f7-bd36-c68aac9158e1",
   "metadata": {},
   "outputs": [],
   "source": [
    "compare_lists <- function(list1, list2) {\n",
    "  list1_only <- list1[!(list1 %in% list2)]\n",
    "  list2_only <- list2[!(list2 %in% list1)]\n",
    "  \n",
    "  cat(\"Number of elements in the first list:\", length(list1), \"\\n\")\n",
    "  cat(\"Number of elements in the second list:\", length(list2), \"\\n\\n\")\n",
    "  \n",
    "  cat(\"Elements present in the first list but not in the second list:\\n\")\n",
    "  print(list1_only) # Printing as a formatted list\n",
    "  \n",
    "  cat(\"\\nElements present in the second list but not in the first list:\\n\")\n",
    "  print(list2_only) # Printing as a formatted list\n",
    "}\n"
   ]
  },
  {
   "cell_type": "markdown",
   "id": "9d02ca86-441f-43b0-a338-197b08344753",
   "metadata": {},
   "source": [
    "Example for when I was matching the viewpoint files found to an existing tracking sheet:"
   ]
  },
  {
   "cell_type": "code",
   "execution_count": 5,
   "id": "4cd18e8f-b747-4a6f-a21f-97541a49494f",
   "metadata": {},
   "outputs": [
    {
     "name": "stdout",
     "output_type": "stream",
     "text": [
      "Number of elements in the first list: 116 \n",
      "Number of elements in the second list: 115 \n",
      "\n",
      "Elements present in the first list but not in the second list:\n",
      " [1] \"vp10224s\"         \"vp11107s\"         \"vp11121s\"         \"vp11385s\"        \n",
      " [5] \"vp11454s\"         \"vp11551s\"         \"vp11627s\"         \"vp11958s\"        \n",
      " [9] \"vp12017s\"         \"vp12018s\"         \"vp12019s\"         \"vp12044s\"        \n",
      "[13] \"vp12111s\"         \"vp12575s\"         \"vp12744s\"         \"vp17615s\"        \n",
      "[17] \"vp18918s\"         \"vp2586s\"          \"vp3048s\"          \"vp312s\"          \n",
      "[21] \"vp6105s\"          \"vp6176s\"          \"vp9618s_session2\"\n",
      "\n",
      "Elements present in the second list but not in the first list:\n",
      " [1] \"vps02s\"            \"vps03s\"            \"vps04s\"           \n",
      " [4] \"vps05s\"            \"vps06s\"            \"vps07s\"           \n",
      " [7] \"vps10s\"            \"vps11s\"            \"vps12s\"           \n",
      "[10] \"vps14s\"            \"vps13s\"            \"vps08s\"           \n",
      "[13] \"vps15s\"            \"vps16s\"            \"vps18s\"           \n",
      "[16] \"vps19s\"            \"vps21s\"            \"vp12575\"          \n",
      "[19] \"vp6167s\"           \"vp18919s\"          \"vp9618s_sessions2\"\n",
      "[22] \"vp191\"            \n"
     ]
    }
   ],
   "source": [
    "list1 <- c(\"vp01ylm\", \"vp02ylm\", \"vp03ylm\", \"vp04ylm\", \"vp10224s\", \"vp10544s\", \"vp11107s\", \"vp11121s\", \"vp11186s_session2\", \"vp11385s\", \"vp11454s\", \"vp11511s\", \"vp11551s\", \"vp11627s\", \"vp11949s\", \"vp11958s\", \"vp12017s\", \"vp12018s\", \"vp12019s\", \"vp12044s\", \"vp12111s\", \"vp12212s\", \"vp12349s\", \"vp12575s\", \"vp12575s_session2\", \"vp12595s\", \"vp12744s\", \"vp12744s_session2\", \"vp13019s\", \"vp14352s\", \"vp14691s\", \"vp14694s\", \"vp14804s\", \"vp15259s\", \"vp15273s\", \"vp15835s\", \"vp15966s\", \"vp16626s\", \"vp16707s\", \"vp16741s\", \"vp17086s\", \"vp17224s\", \"vp17615s\", \"vp17677s\", \"vp18009s\", \"vp18251s\", \"vp18498s\", \"vp18918s\", \"vp18922s\", \"vp18964s\", \"vp19001s\", \"vp19002s\", \"vp19861s\", \"vp19865s\", \"vp19872s\", \"vp19893s\", \"vp2586s\", \"vp3048s\", \"vp3048s_session2\", \"vp312s\", \"vp4159s\", \"vp4428s\", \"vp4628s\", \"vp473s\", \"vp6105s\", \"vp6176s\", \"vp7195s\", \"vp7212s\", \"vp7580s\", \"vp7675s\", \"vp7706s\", \"vp8064s\", \"vp8580s\", \"vp8973s\", \"vp9618s\", \"vp9618s_session2\", \"vps01s\", \"vps09s\", \"vps20s\", \"vps22s\", \"vs05ylm\", \"vs06ylm\", \"vs07ylm\", \"vs08ylm\", \"vs09ylm\", \"vs10ylm\", \"vs11ylm\", \"vs12ylm\", \"vs13ylm\", \"vs14ylm\", \"vs15ylm\", \"vs16ylm\", \"vs17ylm\", \"vs18ylm\", \"vs19ylm\", \"vs20ylm\", \"vs21ylm\", \"vs22ylm\", \"vs23ynm\", \"vs24ynm\", \"vs25ynm\", \"vs26ynm\", \"vs27ynm\", \"vs28ynm\", \"vs29ynm\", \"vs30ynm\", \"vs31ynm\", \"vs32ynm\", \"vs33ynm\", \"vs34ynm\", \"vs35ynm\", \"vs36ynm\", \"vs37ynm\", \"vs38ynm\", \"vs39ylj\", \"vs40ylj\")\n",
    "list2 <- c(\"vps02s\", \"vps03s\", \"vps04s\", \"vps05s\", \"vps06s\", \"vps07s\", \"vps01s\", \"vps09s\", \"vps10s\", \"vps11s\", \"vps12s\", \"vps14s\", \"vps13s\", \"vps08s\", \"vps15s\", \"vps16s\", \"vps18s\", \"vps19s\", \"vps20s\", \"vps21s\", \"vps22s\", \"vp12575\", \"vp14691s\", \"vp9618s\", \"vp6167s\", \"vp8580s\", \"vp8973s\", \"vp18922s\", \"vp11949s\", \"vp14694s\", \"vp8064s\", \"vp18919s\", \"vp15259s\", \"vp13019s\", \"vp7580s\", \"vp11186s_session2\", \"vp4628s\", \"vp4159s\", \"vp473s\", \"vp14352s\", \"vp18251s\", \"vp12212s\", \"vp16626s\", \"vp18498s\", \"vp16707s\", \"vp18009s\", \"vp12595s\", \"vp15966s\", \"vp3048s_session2\", \"vp18964s\", \"vp15273s\", \"vp17086s\", \"vp7706s\", \"vp12744s_session2\", \"vp16741s\", \"vp7212s\", \"vp7195s\", \"vp14804s\", \"vp10544s\", \"vp4428s\", \"vp12349s\", \"vp17677s\", \"vp7675s\", \"vp17224s\", \"vp19861s\", \"vp9618s_sessions2\", \"vp11511s\", \"vp12575s_session2\", \"vp19002s\", \"vp19872s\", \"vp19001s\", \"vp19865s\", \"vp19893s\", \"vp191\", \"vp15835s\", \"vp01ylm\", \"vp02ylm\", \"vp03ylm\", \"vp04ylm\", \"vs05ylm\", \"vs06ylm\", \"vs07ylm\", \"vs08ylm\", \"vs09ylm\", \"vs10ylm\", \"vs11ylm\", \"vs12ylm\", \"vs13ylm\", \"vs14ylm\", \"vs15ylm\", \"vs16ylm\", \"vs17ylm\", \"vs18ylm\", \"vs19ylm\", \"vs20ylm\", \"vs21ylm\", \"vs22ylm\", \"vs23ynm\", \"vs24ynm\", \"vs25ynm\", \"vs26ynm\", \"vs27ynm\", \"vs28ynm\", \"vs29ynm\", \"vs30ynm\", \"vs31ynm\", \"vs32ynm\", \"vs33ynm\", \"vs34ynm\", \"vs35ynm\", \"vs36ynm\", \"vs37ynm\", \"vs38ynm\", \"vs39ylj\", \"vs40ylj\")\n",
    "\n",
    "compare_lists(list1, list2)\n"
   ]
  }
 ],
 "metadata": {
  "kernelspec": {
   "display_name": "R",
   "language": "R",
   "name": "ir"
  },
  "language_info": {
   "codemirror_mode": "r",
   "file_extension": ".r",
   "mimetype": "text/x-r-source",
   "name": "R",
   "pygments_lexer": "r",
   "version": "4.2.2"
  }
 },
 "nbformat": 4,
 "nbformat_minor": 5
}
