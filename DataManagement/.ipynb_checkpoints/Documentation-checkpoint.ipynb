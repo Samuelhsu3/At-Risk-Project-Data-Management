{
 "cells": [
  {
   "cell_type": "markdown",
   "id": "1f9b5a34-c64b-4aa3-9601-285109c81ace",
   "metadata": {},
   "source": [
    "# About the dashboard project"
   ]
  },
  {
   "cell_type": "markdown",
   "id": "05ce7f21-26d5-4fe0-8f53-0142934d5a32",
   "metadata": {},
   "source": [
    "-During early attempts, I developed various iterations of the dashboard utilizing the R-Shiny application. \n",
    "\n",
    "- [See old Github Repository](https://github.com/Samuelhsu3/At-Risk-Dashboard)\n",
    "\n",
    "\n",
    "I would eventually end up using a Python-dash/Javascript based website for improved functionality and styling flexibility. The current code reads from a periodically updated JSON file that aggregates all metadata from every study within the At-Risk project ([Updating the JSON](DashBoard_Guide.ipynb#Json-File)). Previous methods tested included sourcing from multiple local excel sheets, hard coding data, and APIs. \n",
    "\n",
    "\n",
    "- [See current Github Repository](https://github.com/Samuelhsu3/Dashapp.git)\n",
    "     - *Note that this is Private*"
   ]
  },
  {
   "cell_type": "markdown",
   "id": "dde68971-4fd5-447f-aa64-1f8eef8a8077",
   "metadata": {},
   "source": [
    "R-Shiny application: [Old Data Location Tracker](https://samuelhsu03.shinyapps.io/DMP6/)"
   ]
  },
  {
   "cell_type": "markdown",
   "id": "79d635d6-2039-4ebd-ba7c-a20222ffbe11",
   "metadata": {},
   "source": [
    "---"
   ]
  },
  {
   "cell_type": "markdown",
   "id": "26fefb21-94de-431f-ac50-04c25b14709b",
   "metadata": {},
   "source": [
    "## Early Stages of Data Migration "
   ]
  },
  {
   "cell_type": "markdown",
   "id": "d9bd0ebd-4a3d-4eb4-a65e-58e3c8d9f7af",
   "metadata": {},
   "source": [
    "I started moving MRI files from data8 (baycrest server) to CC on May 30, 2023\n",
    "\n",
    "- I attempted to move entire directories at first but size posed an issue\n",
    "- I started by moving each participant folder one at a time using the rsync command. These commands were run simultaneously on 2 lab computers to speed up the process (Fishing-Owl and Megapode). I would check the sizes both at Baycrest as well as at Compute Canada to ensure no error occured during transfer. \n",
    "    - *A few folders had differences in size, measurable in kb but are identical in all other aspects (These are noted on the excel sheet).*\n",
    "    \n",
    "    -To further expedite the process, I wrote R codes to generate the command lines for me as I input the participant IDs (Since the destination folders were named after the IDs, it could automatically determine the pathway from each unique input). This way I could paste the new command line as soon as the previous task finishes running. \n",
    "    - [Example of a Command Line Generater](Legacy_Code/Data_Transfer.ipynb)\n"
   ]
  },
  {
   "cell_type": "markdown",
   "id": "cf5338ee-6303-4557-8800-a60fa8dc5907",
   "metadata": {},
   "source": [
    "## AI"
   ]
  },
  {
   "cell_type": "markdown",
   "id": "a895003b-8a50-4f58-824c-6815121d203b",
   "metadata": {},
   "source": [
    "- I decided to test out the capabilities of generative AI sometime after all the MRI files had been transferred. At first, it had trouble with handling the IDs but once properly trained (through feeding examples and correcting), it worked smoothly and was able to generate unique command lines in lumps efficiently. While tracking the dates, I realized that formats were not standardized and were inconsistent both between and within tracking sheets. I tried using chatgpt to fix this but it couldn’t consistently deliver. I ended up using excel formulas to format the dates correctly.\n"
   ]
  },
  {
   "cell_type": "markdown",
   "id": "a453d61e-7c97-4e84-ac5a-1fbb7b663110",
   "metadata": {},
   "source": []
  },
  {
   "cell_type": "code",
   "execution_count": null,
   "id": "f044e33b-6a69-4264-bb3c-d7dad71c354d",
   "metadata": {},
   "outputs": [],
   "source": [
    "[Saved Scripts](Moving_to_Projects.ipynb)"
   ]
  }
 ],
 "metadata": {
  "kernelspec": {
   "display_name": "Python 3 (ipykernel)",
   "language": "python",
   "name": "python3"
  },
  "language_info": {
   "codemirror_mode": {
    "name": "ipython",
    "version": 3
   },
   "file_extension": ".py",
   "mimetype": "text/x-python",
   "name": "python",
   "nbconvert_exporter": "python",
   "pygments_lexer": "ipython3",
   "version": "3.10.9"
  }
 },
 "nbformat": 4,
 "nbformat_minor": 5
}
