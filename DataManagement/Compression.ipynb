{
 "cells": [
  {
   "cell_type": "markdown",
   "id": "10432181-e45a-447a-8011-d9298fffefe7",
   "metadata": {},
   "source": [
    "# Compressing files at Scratch (.sh)"
   ]
  },
  {
   "cell_type": "markdown",
   "id": "2431fc9f-db2e-4c0f-b45b-0507a8c608ba",
   "metadata": {},
   "source": [
    "This creates a copy of the current structure but with compressed directories in place of the original. \n",
    "The script was used to package eyetracking files before moving to projects. \n",
    "\n",
    "*Note that each leaf directory is considered as one eyetracking file and so is compressed at that level*"
   ]
  },
  {
   "cell_type": "code",
   "execution_count": null,
   "id": "0c297ccb-f425-45ff-a2c4-6c8286b04310",
   "metadata": {},
   "outputs": [],
   "source": [
    "#!/bin/bash\n",
    "\n",
    "current_dir_name=$(basename \"$(pwd)\")\n",
    "\n",
    "compressed_dir=\"compressed_$current_dir_name\"\n",
    "mkdir -p \"$compressed_dir\"\n",
    "\n",
    "compress_leaf_directories() {\n",
    "    local src_dir=\"$1\"\n",
    "    local dest_dir=\"$compressed_dir/$1\"\n",
    "    \n",
    "    if [[ \"$src_dir\" == \"$compressed_dir\" ]]; then\n",
    "        return\n",
    "    fi\n",
    "    \n",
    "    mkdir -p \"$dest_dir\"\n",
    "    \n",
    "    for item in \"$src_dir\"/*; do\n",
    "        if [ -d \"$item\" ]; then\n",
    "            if [ -z \"$(find \"$item\" -mindepth 1 -type d)\" ]; then\n",
    "                tar -czf \"$dest_dir/$(basename \"$item\").tar.gz\" -C \"$item\" .\n",
    "            else\n",
    "\n",
    "                compress_leaf_directories \"${item#*/}\"\n",
    "            fi\n",
    "        else\n",
    "            cp \"$item\" \"$dest_dir\"\n",
    "        fi\n",
    "    done\n",
    "}\n",
    "\n",
    "for dir in */; do\n",
    "    # Skip the compressed_dir itself\n",
    "    if [[ \"$dir\" != \"$compressed_dir/\" ]]; then\n",
    "        compress_leaf_directories \"${dir%/}\"\n",
    "    fi\n",
    "done\n",
    "\n",
    "echo \"Compression complete\"\n",
    "\n",
    "\n"
   ]
  }
 ],
 "metadata": {
  "kernelspec": {
   "display_name": "Bash",
   "language": "bash",
   "name": "bash"
  },
  "language_info": {
   "name": ""
  }
 },
 "nbformat": 4,
 "nbformat_minor": 5
}
