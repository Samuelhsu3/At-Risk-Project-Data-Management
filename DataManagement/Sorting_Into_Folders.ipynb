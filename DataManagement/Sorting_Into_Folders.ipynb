{
 "cells": [
  {
   "cell_type": "markdown",
   "id": "95a7eff6-01c9-4e6d-a7c0-dbc5971220b8",
   "metadata": {},
   "source": [
    "# Sorting Raw Files (.sh)"
   ]
  },
  {
   "cell_type": "markdown",
   "id": "2f3df12a-baf6-4ea3-bf2e-d43fcd989696",
   "metadata": {},
   "source": [
    "Extracts IDs from reading the filenames and moves to respective folder"
   ]
  },
  {
   "cell_type": "markdown",
   "id": "b573322b-2fba-43a6-981e-289f72ca8dbc",
   "metadata": {},
   "source": [
    "*Prompts you to enter ID that are AVP, else will assume is BAY"
   ]
  },
  {
   "cell_type": "markdown",
   "id": "a05fad96-c3dc-47d5-9904-7c6ede86f9a5",
   "metadata": {},
   "source": [
    "For eyetracking files, looks for lowercase"
   ]
  },
  {
   "cell_type": "code",
   "execution_count": null,
   "id": "1326ac24-a84c-487a-975a-ec0da43c5357",
   "metadata": {},
   "outputs": [],
   "source": [
    "#!/bin/bash\n",
    "\n",
    "folder_count=0\n",
    "dir_moved_count=0\n",
    "echo \"Enter AVP IDs separated by space (e.g., AVP123 AVP234 AVP567):\"\n",
    "read -ra avp_ids\n",
    "\n",
    "for dir in */; do\n",
    "    if [[ -d \"$dir\" && \"$dir\" =~ [a-z] ]]; then\n",
    "        # Extract at least three consecutive numbers as the participant ID\n",
    "        participant_id=$(echo \"$dir\" | grep -oP '\\d{3,}')\n",
    "        if [[ -z \"$participant_id\" ]]; then\n",
    "            continue\n",
    "        fi\n",
    "        target_folder=\"BAY$participant_id\"\n",
    "\n",
    "        for avp_id in \"${avp_ids[@]}\"; do\n",
    "            if [[ \"AVP$participant_id\" == \"$avp_id\" ]]; then\n",
    "                target_folder=\"AVP$participant_id\"\n",
    "                break\n",
    "            fi\n",
    "        done\n",
    "        \n",
    "        if [[ ! -d \"$target_folder\" ]]; then\n",
    "            mkdir -p \"$target_folder\"\n",
    "            ((folder_count++))\n",
    "        fi\n",
    "        \n",
    "        mv \"$dir\" \"$target_folder/\"\n",
    "        ((dir_moved_count++))\n",
    "    fi\n",
    "done\n",
    "\n",
    "echo \"Folders created: $folder_count\"\n",
    "echo \"Directories moved: $dir_moved_count\"\n"
   ]
  },
  {
   "cell_type": "markdown",
   "id": "262219e1-77ed-4d9a-8c23-e6fa2c18fb18",
   "metadata": {},
   "source": [
    "For MRI and Neuropsych, looks for dates "
   ]
  },
  {
   "cell_type": "code",
   "execution_count": null,
   "id": "cbaefd2a-ad64-4b3b-aa9c-4850d3748778",
   "metadata": {},
   "outputs": [],
   "source": [
    "#!/bin/bash\n",
    "\n",
    "for dir in */; do\n",
    "    if [[ -d \"$dir\" && \"$dir\" == *\"_\"* ]]; then\n",
    "        id=$(echo \"$dir\" | grep -oP '^[^_]+')\n",
    "        if [[ ! -d \"$id\" ]]; then\n",
    "            mkdir -p \"$id\"\n",
    "        fi\n",
    "        mv \"$dir\" \"$id/\"\n",
    "        echo \"$dir -> $id\"\n",
    "    fi\n",
    "done\n"
   ]
  }
 ],
 "metadata": {
  "kernelspec": {
   "display_name": "Bash",
   "language": "bash",
   "name": "bash"
  },
  "language_info": {
   "name": ""
  }
 },
 "nbformat": 4,
 "nbformat_minor": 5
}
