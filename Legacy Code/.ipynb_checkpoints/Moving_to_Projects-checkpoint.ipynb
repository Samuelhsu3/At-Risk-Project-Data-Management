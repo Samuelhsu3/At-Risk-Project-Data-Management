{
 "cells": [
  {
   "cell_type": "markdown",
   "id": "b6a9d3c1-a3e9-4781-b2a2-6391a40fd4b7",
   "metadata": {},
   "source": [
    "Reads file names in bulk, isolates IDs from file names, generates command line to move to projects folder from scratch. This was used on most MRI files"
   ]
  },
  {
   "cell_type": "code",
   "execution_count": null,
   "id": "044b401c-81e3-48ea-a978-c89e4483fde9",
   "metadata": {},
   "outputs": [],
   "source": [
    "install.packages(\"clipr\")"
   ]
  },
  {
   "cell_type": "code",
   "execution_count": null,
   "id": "694a1b70-df97-4c20-b0b0-ba4f0d3715ac",
   "metadata": {},
   "outputs": [],
   "source": [
    "library(clipr)\n",
    "\n",
    "runRsyncCommands <- function() {\n",
    "  destination <- \" /home/samhsu03/projects/def-rolsen/AtRisk-Dataset/legacy\"\n",
    "  \n",
    "  filenames <- readline(prompt = \"Enter the filenames (separated by spaces): \")\n",
    "  filenames <- strsplit(filenames, \"\\\\s+\")[[1]]\n",
    "  \n",
    "  numFiles <- length(filenames)\n",
    "  cat(\"Number of filenames entered:\", numFiles, \"\\n\\n\")\n",
    "  \n",
    "  # Input filename\n",
    "  participant <- filenames\n",
    "  \n",
    "  # Remove \"sub-\" and \".tar.gz\" using regular expressions\n",
    "  clean_filename <- gsub(\"_.*\", \"\", participant)\n",
    "  \n",
    "  \n",
    "  output <- character()\n",
    "  \n",
    "  for (filename in filenames) {\n",
    "    command <- paste(\"mv\", \" \", filename, destination, \"/\", clean_filename, \"/sourcedata\", sep = \"\")\n",
    "    output <- c(output, paste( command))\n",
    "    \n",
    "    cat( command, \"\\n\")\n",
    "  }\n",
    "  \n",
    "  write_clip(output)\n",
    "  cat(\"\\nOutput copied to clipboard.\\n\")\n",
    "}\n"
   ]
  }
 ],
 "metadata": {
  "kernelspec": {
   "display_name": "R",
   "language": "R",
   "name": "ir"
  },
  "language_info": {
   "codemirror_mode": "r",
   "file_extension": ".r",
   "mimetype": "text/x-r-source",
   "name": "R",
   "pygments_lexer": "r",
   "version": "4.2.2"
  }
 },
 "nbformat": 4,
 "nbformat_minor": 5
}
