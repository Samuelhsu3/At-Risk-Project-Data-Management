{
 "cells": [
  {
   "cell_type": "markdown",
   "id": "e1e0b06e-952f-4d45-98b7-0865df560721",
   "metadata": {},
   "source": [
    "Reads from file names pasted in bulk, generates the command lines for transferring to CC. This allows for large directories to be moved individually."
   ]
  },
  {
   "cell_type": "markdown",
   "id": "e4ff9016-7f07-49c7-9cc9-efd2ac937dcc",
   "metadata": {},
   "source": [
    "Note *destination can be edited*"
   ]
  },
  {
   "cell_type": "code",
   "execution_count": null,
   "id": "2f7fb76a-7b67-4e6c-9ad4-0a39aec6a167",
   "metadata": {},
   "outputs": [],
   "source": [
    "install.packages(\"clipr\")"
   ]
  },
  {
   "cell_type": "code",
   "execution_count": null,
   "id": "1b66f58e-31ba-4d42-8738-086a28721663",
   "metadata": {},
   "outputs": [],
   "source": [
    "library(clipr)\n",
    "\n",
    "runRsyncCommands <- function() {\n",
    "  destination <- \"samhsu03@graham.computecanada.ca:/home/samhsu03/scratch/legacy/sourcedata\"\n",
    "  \n",
    "  filenames <- readline(prompt = \"Enter the filenames (separated by spaces): \")\n",
    "  filenames <- strsplit(filenames, \"\\\\s+\")[[1]]\n",
    "  \n",
    "  numFiles <- length(filenames)\n",
    "  cat(\"Number of filenames entered:\", numFiles, \"\\n\\n\")\n",
    "  \n",
    "  output <- character()\n",
    "  \n",
    "  for (filename in filenames) {\n",
    "    command <- paste(\"rsync -avz\", filename, destination)\n",
    "    output <- c(output, paste(\"Rsync Command:\", command))\n",
    "    \n",
    "    cat(\"Rsync Command:\", command, \"\\n\")\n",
    "  }\n",
    "  \n",
    "  write_clip(output)\n",
    "  cat(\"\\nOutput copied to clipboard.\\n\")\n",
    "}\n",
    "\n",
    "runRsyncCommands()\n"
   ]
  }
 ],
 "metadata": {
  "kernelspec": {
   "display_name": "R",
   "language": "R",
   "name": "ir"
  },
  "language_info": {
   "codemirror_mode": "r",
   "file_extension": ".r",
   "mimetype": "text/x-r-source",
   "name": "R",
   "pygments_lexer": "r",
   "version": "4.2.2"
  }
 },
 "nbformat": 4,
 "nbformat_minor": 5
}
