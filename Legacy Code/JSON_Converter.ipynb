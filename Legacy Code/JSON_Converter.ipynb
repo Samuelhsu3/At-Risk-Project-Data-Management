{
 "cells": [
  {
   "cell_type": "markdown",
   "id": "bedf314c-7375-4eeb-8c75-d4b0729ab7bc",
   "metadata": {},
   "source": [
    "Converts CSV file downloaded from excel to a JSON file that can be read by the dashboard"
   ]
  },
  {
   "cell_type": "markdown",
   "id": "e62e66bb-c27f-48e1-87d2-00fca1d95e3e",
   "metadata": {},
   "source": [
    "**"
   ]
  },
  {
   "cell_type": "code",
   "execution_count": null,
   "id": "959f63ea-c222-41f0-9abd-a30789357ea7",
   "metadata": {},
   "outputs": [],
   "source": [
    "import csv\n",
    "import json\n",
    "import os"
   ]
  },
  {
   "cell_type": "code",
   "execution_count": null,
   "id": "34875f8f-cdad-4620-8aab-a968ac560efc",
   "metadata": {},
   "outputs": [],
   "source": [
    "def csv_to_json(csv_file, json_file):\n",
    "    data = []\n",
    "    with open(csv_file, 'r') as f:\n",
    "        csv_reader = csv.DictReader(f)\n",
    "        for row in csv_reader:\n",
    "            data.append(row)\n",
    "    with open(json_file, 'w') as f:\n",
    "        json.dump(data, f, indent=4)\n",
    "\n",
    "\n",
    "if __name__ == \"__main__\":\n",
    "    # Find all CSV files in the current directory\n",
    "    csv_files = [f for f in os.listdir() if f.endswith('.csv')]\n",
    "\n",
    "    if not csv_files:\n",
    "        print(\"No CSV files found in the current directory!\")\n",
    "        exit()\n",
    "\n",
    "    print(\"Found the following CSV files:\")\n",
    "    for index, file in enumerate(csv_files, 1):\n",
    "        print(f\"{index}. {file}\")\n",
    "\n",
    "    # Select a CSV file\n",
    "    selection = int(input(\"Select a CSV file by entering its number: \"))\n",
    "    selected_csv = csv_files[selection - 1]\n",
    "\n",
    "    # Get desired JSON filename\n",
    "    json_name = input(\"Enter the desired name for the JSON file (without .json extension): \")\n",
    "    json_name += \".json\"\n",
    "\n",
    "    csv_to_json(selected_csv, json_name)\n",
    "    print(f\"Converted {selected_csv} to {json_name}!\")\n"
   ]
  }
 ],
 "metadata": {
  "kernelspec": {
   "display_name": "Python 3 (ipykernel)",
   "language": "python",
   "name": "python3"
  },
  "language_info": {
   "codemirror_mode": {
    "name": "ipython",
    "version": 3
   },
   "file_extension": ".py",
   "mimetype": "text/x-python",
   "name": "python",
   "nbconvert_exporter": "python",
   "pygments_lexer": "ipython3",
   "version": "3.10.9"
  }
 },
 "nbformat": 4,
 "nbformat_minor": 5
}
