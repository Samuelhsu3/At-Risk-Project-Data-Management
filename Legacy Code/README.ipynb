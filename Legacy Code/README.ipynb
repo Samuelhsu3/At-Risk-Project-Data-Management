{
 "cells": [
  {
   "cell_type": "markdown",
   "id": "622aafc8-0aa6-454a-84b5-96efe9ac9645",
   "metadata": {},
   "source": [
    "These are old scripts that are no longer in use. The R codes were initially used to generate command lines during data migration. They were written in R since I was also learning how to use the R-shiny application at around the same time. Since mass data transfer won't be necessary in the foreseeable future, any scripting could easily be achieved with bash. The Python files are also no longer needed since they have been replaced with custom functions in the Excel sheets. The files are only here for documentation purposes and using them is probably not ideal. "
   ]
  }
 ],
 "metadata": {
  "kernelspec": {
   "display_name": "Python 3 (ipykernel)",
   "language": "python",
   "name": "python3"
  },
  "language_info": {
   "codemirror_mode": {
    "name": "ipython",
    "version": 3
   },
   "file_extension": ".py",
   "mimetype": "text/x-python",
   "name": "python",
   "nbconvert_exporter": "python",
   "pygments_lexer": "ipython3",
   "version": "3.10.9"
  }
 },
 "nbformat": 4,
 "nbformat_minor": 5
}
