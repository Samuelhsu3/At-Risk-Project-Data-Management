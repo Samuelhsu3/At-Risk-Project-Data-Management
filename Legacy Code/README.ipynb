{
 "cells": [
  {
   "cell_type": "markdown",
   "id": "622aafc8-0aa6-454a-84b5-96efe9ac9645",
   "metadata": {},
   "source": [
    "##These are early scripts that are no longer in use. They were used to generate the command lines used for data migration.They were written in R only because I was also learning how to use the R-shiny application at around the same time. I stopped using these after learning bash and they are only here for documentation purposes. "
   ]
  }
 ],
 "metadata": {
  "kernelspec": {
   "display_name": "Python 3 (ipykernel)",
   "language": "python",
   "name": "python3"
  },
  "language_info": {
   "codemirror_mode": {
    "name": "ipython",
    "version": 3
   },
   "file_extension": ".py",
   "mimetype": "text/x-python",
   "name": "python",
   "nbconvert_exporter": "python",
   "pygments_lexer": "ipython3",
   "version": "3.10.9"
  }
 },
 "nbformat": 4,
 "nbformat_minor": 5
}
