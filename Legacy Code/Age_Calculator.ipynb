{
 "cells": [
  {
   "cell_type": "markdown",
   "id": "d2bc962a-1773-4486-99a8-812e321d510f",
   "metadata": {},
   "source": [
    "# Age Calculator (.py)"
   ]
  },
  {
   "cell_type": "markdown",
   "id": "780907d1-bb28-4588-be2f-6df8fc0d5268",
   "metadata": {},
   "source": [
    "Finds the ages of a list of participants. This requires two sheets (Time tested sheet and DOB sheet). "
   ]
  },
  {
   "cell_type": "markdown",
   "id": "5b70c00f-8979-4df8-8843-0db856f05c1b",
   "metadata": {},
   "source": [
    "*Ensure to change the pathway of the sheets and adjust date format if needed*"
   ]
  },
  {
   "cell_type": "code",
   "execution_count": null,
   "id": "82045b96-fae1-4f8e-9481-139b4c0d87e9",
   "metadata": {},
   "outputs": [],
   "source": [
    "import pandas as pd\n",
    "from datetime import datetime"
   ]
  },
  {
   "cell_type": "code",
   "execution_count": null,
   "id": "7f95c908-aeaa-457d-8517-fd3e4b30fe57",
   "metadata": {},
   "outputs": [],
   "source": [
    "def convert_to_datetime_str(date_val):\n",
    "    if isinstance(date_val, datetime):\n",
    "        return date_val.strftime('%B %d, %Y')\n",
    "    else:\n",
    "        return date_val\n",
    "\n",
    "\n",
    "def convert_testdate_to_datetime_str(testdate_val):\n",
    "    if isinstance(testdate_val, datetime):  \n",
    "        return testdate_val.strftime('%Y-%m-%d')\n",
    "\n",
    "    formats = [\"%B %d, %Y\", \"%Y-%m-%d\"]\n",
    "    for fmt in formats:\n",
    "        try:\n",
    "            return datetime.strptime(testdate_val, fmt).strftime('%Y-%m-%d')\n",
    "        except ValueError:\n",
    "            pass\n",
    "    print(f\"Failed parsing testdate: {testdate_val}.\")\n",
    "    return testdate_val\n",
    "\n",
    "\n",
    "def compute_age(birthday_str, testdate_str):\n",
    "    try:\n",
    "        birthdate_dt = datetime.strptime(birthday_str, \"%B %d, %Y\")\n",
    "        testdate_dt = datetime.strptime(testdate_str, \"%Y-%m-%d\")\n",
    "        age = testdate_dt.year - birthdate_dt.year - (\n",
    "                    (testdate_dt.month, testdate_dt.day) < (birthdate_dt.month, birthdate_dt.day))\n",
    "        return age\n",
    "    except Exception as e:\n",
    "        print(f\"Failed parsing birthdate: {birthday_str}, testdate: {testdate_str}. Error: {e}\")\n",
    "        return \"Unknown\"\n",
    "\n",
    "birthdays_df = pd.read_excel('C:\\\\Users\\\\samhs\\\\PycharmProjects\\\\pythonProject\\\\Dash\\\\Age.xlsx')\n",
    "\n",
    "birthdays_df['Date'] = birthdays_df['Date'].apply(convert_to_datetime_str)\n",
    "\n",
    "xls = pd.ExcelFile('C:\\\\Users\\\\samhs\\\\PycharmProjects\\\\pythonProject\\\\Dash\\\\TimeTested.xlsx')\n",
    "test_dates_dfs = [pd.read_excel(xls, sheet_name) for sheet_name in xls.sheet_names]\n",
    "\n",
    "with pd.ExcelWriter('C:\\\\Users\\\\samhs\\\\PycharmProjects\\\\pythonProject\\\\Dash\\\\TimeTested_processed.xlsx') as writer:\n",
    "    for test_df in test_dates_dfs:\n",
    "        ages = []\n",
    "        for index, row in test_df.iterrows():\n",
    "            participant_id = row['ID']\n",
    "            test_date = convert_testdate_to_datetime_str(row['Date_Tested'])\n",
    "\n",
    "            # Check if the participant's birthday is in the birthdays dataframe\n",
    "            if participant_id in birthdays_df['ID'].values:\n",
    "                birth_date = birthdays_df[birthdays_df['ID'] == participant_id]['Date'].iloc[0]\n",
    "                age = compute_age(birth_date, test_date)\n",
    "            else:\n",
    "                age = \"Unknown\"\n",
    "\n",
    "            ages.append(age)\n",
    "\n",
    "        test_df['Age'] = ages\n",
    "\n",
    "\n",
    "        test_df.to_excel(writer, sheet_name=f\"Processed_{xls.sheet_names[test_dates_dfs.index(test_df)]}\", index=False)\n",
    "\n",
    "print(\"Age Calculated\")\n"
   ]
  }
 ],
 "metadata": {
  "kernelspec": {
   "display_name": "Python 3 (ipykernel)",
   "language": "python",
   "name": "python3"
  },
  "language_info": {
   "codemirror_mode": {
    "name": "ipython",
    "version": 3
   },
   "file_extension": ".py",
   "mimetype": "text/x-python",
   "name": "python",
   "nbconvert_exporter": "python",
   "pygments_lexer": "ipython3",
   "version": "3.10.9"
  }
 },
 "nbformat": 4,
 "nbformat_minor": 5
}
