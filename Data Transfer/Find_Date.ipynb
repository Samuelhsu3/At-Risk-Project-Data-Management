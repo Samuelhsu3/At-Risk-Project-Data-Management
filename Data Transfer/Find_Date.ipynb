{
 "cells": [
  {
   "cell_type": "markdown",
   "id": "f9a3b6c0-b1c6-4d10-aede-ea3f9b546965",
   "metadata": {},
   "source": [
    "# Date Finder (.sh)"
   ]
  },
  {
   "cell_type": "markdown",
   "id": "23faf50d-f060-4ffa-a8c0-06c12a581498",
   "metadata": {},
   "source": [
    "This can be used on the actual eyetracking files to find when they were created. It allows you to confirm whether the dates matches with what is on record."
   ]
  },
  {
   "cell_type": "markdown",
   "id": "7089cf7a-342a-4a74-af41-45f56a010217",
   "metadata": {},
   "source": [
    "*Replace with actual dirs*"
   ]
  },
  {
   "cell_type": "code",
   "execution_count": null,
   "id": "6848160b-c756-4125-aa03-1ba778cb6230",
   "metadata": {},
   "outputs": [],
   "source": [
    "#!/bin/bash\n",
    "\n",
    "desired_dirs=(\n",
    "bay4628\n",
    "bay7195\n",
    "bay7212\n",
    "bay7675\n",
    "bay76752\n",
    "bay7706\n",
    "bay9618\n",
    ")\n",
    "for dir_name in \"${desired_dirs[@]}\"; do\n",
    "    date_found=false\n",
    "    for found_dir in $(find . -type d -name \"$dir_name\"); do\n",
    "        for file in $(find \"$found_dir\" -name \"*.edf\"); do\n",
    "            if [ -f \"$file\" ]; then\n",
    "                date_info=$(strings \"$file\" | grep \"^DATE:\" | awk -F \"DATE:\" '{print $2}')\n",
    "                month=$(echo \"$date_info\" | awk '{print $2}')\n",
    "                day=$(echo \"$date_info\" | awk '{print $3}')\n",
    "                year=$(echo \"$date_info\" | awk '{print $NF}')\n",
    "                echo \"$month $day, $year\"\n",
    "                date_found=true\n",
    "                break 2  \n",
    "            fi\n",
    "        done\n",
    "    done\n",
    "    if [ \"$date_found\" = false ]; then\n",
    "        echo \"-\"\n",
    "    fi\n",
    "done"
   ]
  }
 ],
 "metadata": {
  "kernelspec": {
   "display_name": "Bash",
   "language": "bash",
   "name": "bash"
  },
  "language_info": {
   "name": ""
  }
 },
 "nbformat": 4,
 "nbformat_minor": 5
}
