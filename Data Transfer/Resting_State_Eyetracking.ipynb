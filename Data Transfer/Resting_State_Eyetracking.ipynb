{
 "cells": [
  {
   "cell_type": "markdown",
   "id": "7db8e201-f142-4fbf-831c-e216ffadf2ef",
   "metadata": {},
   "source": [
    "## Compresses and Send Resting State Eyetracking Files to Project(.sh)"
   ]
  },
  {
   "cell_type": "markdown",
   "id": "f8422367-d8a2-41c9-ba60-4d333e746f29",
   "metadata": {},
   "source": [
    "The script can be run immediately after [this](Auto_DAY1_Transfer.ipynb) one in your scratch folder. It will find the newly transferred files, sort them into their own folders, and copy a compressed version to their respective locations at projects."
   ]
  },
  {
   "cell_type": "markdown",
   "id": "ceacae45-1a01-4b91-a008-691c813dfa11",
   "metadata": {},
   "source": [
    "*Remember to change the actual pathways*"
   ]
  },
  {
   "cell_type": "code",
   "execution_count": null,
   "id": "90883923-fde1-4562-87f8-a55661fc97b9",
   "metadata": {},
   "outputs": [],
   "source": [
    "#!/bin/bash\n",
    "\n",
    "destination_root=\"/home/samhsu03/projects/def-rolsen/AtRisk-Dataset/Resting_State_Eyetracking\"\n",
    "\n",
    "declare -a unsorted_dirs=()\n",
    "declare -a created_participant_dirs=()\n",
    "declare -a tarred_dirs=()\n",
    "\n",
    "create_and_move_tar() {\n",
    "  local source_dir=$1\n",
    "  local cap_dir_name=$2\n",
    "  local tar_name=\"${source_dir}.tar.gz\"\n",
    "\n",
    "  tar -czf \"$tar_name\" -C \"$cap_dir_name\" \"$source_dir\" && echo \"Tarring complete for $source_dir\"\n",
    "\n",
    "  local dest_dir=\"$destination_root/$cap_dir_name\"\n",
    "  if [[ ! -d \"$dest_dir\" ]]; then\n",
    "    mkdir -p \"$dest_dir\" && echo \"Created directory at $dest_dir\"\n",
    "    created_participant_dirs+=(\"$dest_dir\")\n",
    "  fi\n",
    "\n",
    "  mv \"$tar_name\" \"$dest_dir\" && echo \"Moved $tar_name to $dest_dir\"\n",
    "  tarred_dirs+=(\"$source_dir\")\n",
    "}\n",
    "\n",
    "for dir in */; do\n",
    "  dir=${dir%/}\n",
    "  if [[ \"$dir\" =~ [a-z] ]]; then\n",
    "    unsorted_dirs+=(\"$dir\")\n",
    "    cap_dir_name=${dir^^}\n",
    "\n",
    "    if [[ ! -d \"$cap_dir_name\" ]]; then\n",
    "      mkdir \"$cap_dir_name\" && echo \"Created Participant ID folder $cap_dir_name\"\n",
    "      created_participant_dirs+=(\"$cap_dir_name\")\n",
    "    fi\n",
    "\n",
    "    mv \"$dir\" \"$cap_dir_name/\" && echo \"Moved $dir to $cap_dir_name\"\n",
    "    create_and_move_tar \"$dir\" \"$cap_dir_name\"\n",
    "  fi\n",
    "done\n",
    "\n",
    "echo \"Summary:\"\n",
    "echo \"Unsorted directories found:\"\n",
    "for dir in \"${unsorted_dirs[@]}\"; do\n",
    "  echo \"- $dir\"\n",
    "done\n",
    "echo \"Participant ID folders created at the source:\"\n",
    "for dir in \"${created_participant_dirs[@]}\"; do\n",
    "  echo \"- $dir\"\n",
    "done\n",
    "echo \"Unsorted directories tarred and moved:\"\n",
    "for dir in \"${tarred_dirs[@]}\"; do\n",
    "  echo \"- $dir moved to $destination_root/${dir^^}\"\n",
    "done\n"
   ]
  },
  {
   "cell_type": "code",
   "execution_count": null,
   "id": "2e7ba26d-6e80-4259-91d9-71f16af18a65",
   "metadata": {},
   "outputs": [],
   "source": []
  }
 ],
 "metadata": {
  "kernelspec": {
   "display_name": "Bash",
   "language": "bash",
   "name": "bash"
  },
  "language_info": {
   "name": ""
  }
 },
 "nbformat": 4,
 "nbformat_minor": 5
}
