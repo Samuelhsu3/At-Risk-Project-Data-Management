{
 "cells": [
  {
   "cell_type": "markdown",
   "id": "83b159c7-4d9b-434b-a8cc-62c1f5db3b0b",
   "metadata": {},
   "source": [
    "# Sorting Oddity Files (.ps1)"
   ]
  },
  {
   "cell_type": "markdown",
   "id": "14f09c1d-94c0-456a-a8ce-5badabf4c5fe",
   "metadata": {},
   "source": [
    "This is used to sort raw oddity files after testing. It will find the matching txt and edat2 file assumed to be done in the same session and create a folder for it. \n"
   ]
  },
  {
   "cell_type": "code",
   "execution_count": null,
   "id": "65591911-5afc-4dfc-a0a3-7a735e976ed1",
   "metadata": {},
   "outputs": [],
   "source": [
    "$files = Get-ChildItem -Path .\\* -Include *.edat2, *.txt -File\n",
    "\n",
    "$groupedFiles = $files | Group-Object { $_.BaseName }\n",
    "\n",
    "$sortedFileCount = 0\n",
    "$sortedFolderCount = 0\n",
    "$missingFiles = @()\n",
    "\n",
    "foreach ($group in $groupedFiles) {\n",
    "    $folderName = $group.Name\n",
    "    $directoryPath = Join-Path -Path (Get-Location) -ChildPath $folderName\n",
    "\n",
    "    if (-not (Test-Path $directoryPath)) {\n",
    "        $hasTxt = $group.Group.Extension -contains '.txt'\n",
    "        $hasEdat2 = $group.Group.Extension -contains '.edat2'\n",
    "\n",
    "        if ($hasTxt -and $hasEdat2) {\n",
    "            New-Item -Path $directoryPath -ItemType Directory\n",
    "            foreach ($file in $group.Group) {\n",
    "                $newPath = Join-Path -Path $directoryPath -ChildPath $file.Name\n",
    "                Move-Item -Path $file.FullName -Destination $newPath\n",
    "                $sortedFileCount++\n",
    "            }\n",
    "            $sortedFolderCount++\n",
    "        } else {\n",
    "\n",
    "            if (-not $hasTxt) { $missingFiles += \"$folderName.txt\" }\n",
    "            if (-not $hasEdat2) { $missingFiles += \"$folderName.edat2\" }\n",
    "        }\n",
    "    }\n",
    "}\n",
    "\n",
    "if ($missingFiles.Count -gt 0) {\n",
    "    Write-Output \"Missing Files:\"\n",
    "    $missingFiles | ForEach-Object { Write-Output $_ }\n",
    "}\n",
    "\n",
    "Write-Output \"Total Files Sorted: $sortedFileCount\"\n",
    "Write-Output \"Total Folders Created: $sortedFolderCount\""
   ]
  }
 ],
 "metadata": {
  "kernelspec": {
   "display_name": "Bash",
   "language": "bash",
   "name": "bash"
  },
  "language_info": {
   "name": ""
  }
 },
 "nbformat": 4,
 "nbformat_minor": 5
}
