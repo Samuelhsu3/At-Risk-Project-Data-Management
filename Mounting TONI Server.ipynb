{
 "cells": [
  {
   "cell_type": "markdown",
   "id": "a89f2495-0402-42b6-a1a5-267e53df2dae",
   "metadata": {},
   "source": [
    "# Mounting Servers (Guide)"
   ]
  },
  {
   "cell_type": "markdown",
   "id": "2562135d-56a4-4c33-a5ce-b08bd7eb40a1",
   "metadata": {},
   "source": [
    "\n",
    "There are two ways to transfer files from TONI to Compute Canada. You could connect to graham, and then sftp onto the TONI server. Use the `Get -r` command to pull the files. You could also mount the remote server using sshfs. There are both advantages and disadvantages to each strategy. \n",
    "\n",
    "**Some pros of mounting the remote servers are:**\n",
    "\n",
    "- Integration with local file systems, tools, and commands\n",
    "- Avoids repeated authenticatation \n",
    "- Can automate file transfer \n",
    "- Overall more efficient for freuquent or bulk transfers \n",
    "\n",
    "You can mount either the root directory on TONI or the specific directory you would like to access (e.g JMR#)\n",
    "\n",
    "If you already have the sshfs software, skip to step 4.\n",
    " \n",
    "---"
   ]
  },
  {
   "cell_type": "markdown",
   "id": "3907b03e-edd0-477e-9875-3b9bf0068a72",
   "metadata": {},
   "source": [
    "# Step 1. Open Command Prompt \n",
    "Install a sub-system. This allows you to interact with a Linux-like environment. Mounting with powershell is also possible but you need another 3rd party tool (not included in this guide)\n",
    "Example (for windows) open powershell as admin and run:"
   ]
  },
  {
   "cell_type": "code",
   "execution_count": null,
   "id": "61da8fe7-a0e1-485d-82a4-529ef48b9b93",
   "metadata": {},
   "outputs": [],
   "source": [
    "wsl --install "
   ]
  },
  {
   "cell_type": "markdown",
   "id": "8244e938-8946-419a-97fa-1082f54f0a25",
   "metadata": {},
   "source": [
    "Install a Distribution. This is the OS and includes many things along with the Kernel and the Package Management System. Learn more about Distros and Linux before continuing. \n",
    "Example (for Ubuntu):"
   ]
  },
  {
   "cell_type": "code",
   "execution_count": null,
   "id": "64a530d9-26de-46e3-8624-762a1c5bf0ae",
   "metadata": {},
   "outputs": [],
   "source": [
    "wsl --install -d Ubuntu"
   ]
  },
  {
   "cell_type": "markdown",
   "id": "e5a0831a-057f-4771-8452-ed8934732331",
   "metadata": {
    "tags": []
   },
   "source": [
    "# Step 2. Install SSHFS\n",
    "If using Ubuntu run:"
   ]
  },
  {
   "cell_type": "code",
   "execution_count": null,
   "id": "f4435254-b7ed-4f98-bfe5-37b3579e3e1f",
   "metadata": {},
   "outputs": [],
   "source": [
    "sudo apt-get update"
   ]
  },
  {
   "cell_type": "markdown",
   "id": "7cbc2c82-b9c8-4601-96b5-2db3f5eee06f",
   "metadata": {},
   "source": [
    "You should learn more about `sudo` before continuing "
   ]
  },
  {
   "cell_type": "markdown",
   "id": "de10b4ef-078e-41ff-92d0-486b4daa4ae2",
   "metadata": {},
   "source": [
    "sudo apt-get install sshfs"
   ]
  },
  {
   "cell_type": "markdown",
   "id": "06d9f215-aa65-409b-b35b-68794ab24800",
   "metadata": {},
   "source": [
    "If using Homebrew on Mac:"
   ]
  },
  {
   "cell_type": "code",
   "execution_count": null,
   "id": "bd375f06-5e1c-465e-8f18-32d566a99bfc",
   "metadata": {},
   "outputs": [],
   "source": [
    "brew install sshfs"
   ]
  },
  {
   "cell_type": "markdown",
   "id": "83374e13-8346-4f39-8c72-c262488042d9",
   "metadata": {},
   "source": [
    "# Step 3. Make Local Mount Point\n",
    "The name could be the same as the folder you are accessing.\n",
    "Note: This should be done at the highest level directory/root.\n",
    "For example:"
   ]
  },
  {
   "cell_type": "code",
   "execution_count": null,
   "id": "6366a4d4-91e9-4eaf-86ea-a9395b983689",
   "metadata": {},
   "outputs": [],
   "source": [
    "mkdir ~/JMR"
   ]
  },
  {
   "cell_type": "markdown",
   "id": "b90153f9-ecc3-481e-b584-cf46e2b889cd",
   "metadata": {},
   "source": [
    "---\n",
    "\n",
    "# Step 4. Mount the Remote Directory (Start here if you've done this before)\n"
   ]
  },
  {
   "cell_type": "code",
   "execution_count": null,
   "id": "ecd9bfec-70c5-46d3-8209-214075f59777",
   "metadata": {},
   "outputs": [],
   "source": [
    "sshfs [user@]host:[dir] mountpoint "
   ]
  },
  {
   "cell_type": "markdown",
   "id": "16ca73db-0052-42fa-810d-c38b66ff0aaa",
   "metadata": {},
   "source": [
    "Replace placeholders with your actual port number and username. For example: "
   ]
  },
  {
   "cell_type": "code",
   "execution_count": 4,
   "id": "30c20be7-8f21-4fc2-ab90-5ff6f075672a",
   "metadata": {
    "tags": []
   },
   "outputs": [],
   "source": [
    "sshfs -p 14766 hsusamuel@echo.toni.psych.utoronto.ca:/DICOMS/JMR ~/JMR"
   ]
  },
  {
   "cell_type": "markdown",
   "id": "8ae7b3a8-d9aa-491b-a1be-b376f26c3841",
   "metadata": {},
   "source": [
    "# Step 5. Transfer The Files as You Would\n",
    "For example:"
   ]
  },
  {
   "cell_type": "code",
   "execution_count": null,
   "id": "41791526-d417-4d89-8962-a390a3fee284",
   "metadata": {},
   "outputs": [],
   "source": [
    "scp -r BAY19278_20230621 samhsu03@graham.computecanada.ca:/home/samhsu03/scratch/MRI"
   ]
  },
  {
   "cell_type": "markdown",
   "id": "d37cebff-a047-46de-a47a-cfe885023b43",
   "metadata": {},
   "source": [
    "Or you can save [This Script](Data_Transfer/MRI_Transfer.ipynb) if unfamiliar with CLI "
   ]
  },
  {
   "cell_type": "markdown",
   "id": "7e653854-14af-4e37-832a-9cbc89e303d8",
   "metadata": {},
   "source": [
    "# Step 6. Unmount\n",
    "For example:"
   ]
  },
  {
   "cell_type": "code",
   "execution_count": null,
   "id": "6c06ef83-d111-44c4-991c-e5c2f0b19132",
   "metadata": {},
   "outputs": [],
   "source": [
    "fusermount -u ~/JMR1"
   ]
  },
  {
   "cell_type": "markdown",
   "id": "8a94d120-72b7-480c-a9db-b9c82a7bb7d2",
   "metadata": {},
   "source": [
    "To check if it's still mounted:"
   ]
  },
  {
   "cell_type": "code",
   "execution_count": null,
   "id": "882ef250-cd7e-42b1-874f-547fe0e4dd1c",
   "metadata": {},
   "outputs": [],
   "source": [
    "mount | grep sshfs "
   ]
  }
 ],
 "metadata": {
  "kernelspec": {
   "display_name": "Bash",
   "language": "bash",
   "name": "bash"
  },
  "language_info": {
   "codemirror_mode": {
    "name": "ipython",
    "version": 3
   },
   "file_extension": ".py",
   "mimetype": "text/x-python",
   "name": "python",
   "nbconvert_exporter": "python",
   "pygments_lexer": "ipython3",
   "version": "3.10.9"
  }
 },
 "nbformat": 4,
 "nbformat_minor": 5
}
