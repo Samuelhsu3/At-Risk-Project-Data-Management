{
 "cells": [
  {
   "cell_type": "markdown",
   "id": "c26b0d3b-7ebf-41a3-8633-b3ede21e2e8a",
   "metadata": {},
   "source": [
    "# Instructions on Generating SSH Keys to Connect to CC Faster\n",
    "\n",
    "Follow these steps to generate an SSH key and add it to a remote server for faster and password-less connections:\n"
   ]
  },
  {
   "cell_type": "markdown",
   "id": "ee10e68d-91a5-49c4-81b6-59a63e0de3be",
   "metadata": {},
   "source": [
    "## Step 1: On Your Local Computer\n",
    "\n",
    "Run the following command to generate an SSH key:\n"
   ]
  },
  {
   "cell_type": "code",
   "execution_count": null,
   "id": "e046d799-601b-46e2-9919-bc5307b22765",
   "metadata": {
    "tags": []
   },
   "outputs": [],
   "source": [
    "!ssh-keygen -t rsa -b 4096\n"
   ]
  },
  {
   "cell_type": "markdown",
   "id": "44c13b54-4f83-4505-b4c1-e2d0f6d32963",
   "metadata": {},
   "source": [
    "If you need to find the generated public key later, you can use the `cat` or `less` command:\n"
   ]
  },
  {
   "cell_type": "code",
   "execution_count": null,
   "id": "278ccb16-9c74-46ed-9205-acccd1747e69",
   "metadata": {},
   "outputs": [],
   "source": [
    "!cat ~/.ssh/id_rsa.pub "
   ]
  },
  {
   "cell_type": "markdown",
   "id": "6246d354-99b2-464b-9386-c93ad9988545",
   "metadata": {},
   "source": [
    "## Step 2: On Your Remote Server\n",
    "\n",
    "Add the public key to the `authorized_keys` file and set the appropriate permissions:\n",
    "\n",
    "    "
   ]
  },
  {
   "cell_type": "code",
   "execution_count": null,
   "id": "eb6be8ba-1168-46ea-a451-501b2e3dff4c",
   "metadata": {},
   "outputs": [],
   "source": [
    "!nano ~/.ssh/authorized_keys\n",
    "!chmod 600 ~/.ssh/authorized_keys\n"
   ]
  },
  {
   "cell_type": "markdown",
   "id": "585b2989-28ff-4949-8969-dc49c8eee6aa",
   "metadata": {},
   "source": [
    "To check the file permissions of `authorized_keys`, use the following command:\n"
   ]
  },
  {
   "cell_type": "code",
   "execution_count": null,
   "id": "16a6787f-43bb-46a6-8763-0cb9c6dbcde0",
   "metadata": {},
   "outputs": [],
   "source": [
    "!ls -l ~/.ssh/authorized_keys"
   ]
  }
 ],
 "metadata": {
  "kernelspec": {
   "display_name": "Python 3 (ipykernel)",
   "language": "python",
   "name": "python3"
  },
  "language_info": {
   "codemirror_mode": {
    "name": "ipython",
    "version": 3
   },
   "file_extension": ".py",
   "mimetype": "text/x-python",
   "name": "python",
   "nbconvert_exporter": "python",
   "pygments_lexer": "ipython3",
   "version": "3.10.9"
  }
 },
 "nbformat": 4,
 "nbformat_minor": 5
}
