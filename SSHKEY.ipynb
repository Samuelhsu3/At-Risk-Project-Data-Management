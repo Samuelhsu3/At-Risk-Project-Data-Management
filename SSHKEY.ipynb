{
 "cells": [
  {
   "cell_type": "markdown",
   "id": "c26b0d3b-7ebf-41a3-8633-b3ede21e2e8a",
   "metadata": {
    "tags": []
   },
   "source": [
    "# Generating SSH Keys to Connect to CC Faster (Guide)\n",
    "\n",
    "Think of this as a `remember me` option when signing into an account. If you wish to script file transfer, this is probably ideal.\n"
   ]
  },
  {
   "cell_type": "markdown",
   "id": "ee10e68d-91a5-49c4-81b6-59a63e0de3be",
   "metadata": {},
   "source": [
    "## On Your Local Computer\n",
    "\n",
    "Run the following command to generate an SSH key if dont have one already (Key is 4096 bits): "
   ]
  },
  {
   "cell_type": "code",
   "execution_count": null,
   "id": "cbff02f8-3d51-4e58-992c-28a718612388",
   "metadata": {
    "tags": []
   },
   "outputs": [],
   "source": [
    "ssh-keygen -t rsa -b 4096"
   ]
  },
  {
   "cell_type": "markdown",
   "id": "44c13b54-4f83-4505-b4c1-e2d0f6d32963",
   "metadata": {},
   "source": [
    "If you need to find the public key later, you can use the `cat` command:\n",
    "\n",
    "Note that the `less` command might not be recognized as an alias if it's a powershell environment (which is the most case for lab devices). "
   ]
  },
  {
   "cell_type": "code",
   "execution_count": null,
   "id": "60ae3cbf-be0c-45d0-89e4-0f03b86ac941",
   "metadata": {
    "tags": []
   },
   "outputs": [],
   "source": [
    "cat ~/.ssh/id_rsa.pub "
   ]
  },
  {
   "cell_type": "markdown",
   "id": "6f135666-4d54-46dd-a723-d2e6f3ac379b",
   "metadata": {},
   "source": [
    "- You will find two files in the .ssh folder of your local device: \n",
    "    - id_rsa.pub stores your public key.\n",
    "    - id_rsa stores your private key (You could create an additional passphrase for this when generating the keys or simply skip it by clicking enter).\n",
    "    - Note that you need the private key on the client side to sign the challenge sent from the server and this key should not be shared. You need to share the public key however, for authentication verification. "
   ]
  },
  {
   "cell_type": "markdown",
   "id": "6246d354-99b2-464b-9386-c93ad9988545",
   "metadata": {
    "tags": []
   },
   "source": [
    "## On the Remote Server\n",
    "\n",
    "Add the *public key* to the file called `authorized_keys` using the nano text editor. Your key should look something like this ssh-rsa AAA....your_username@your_laptop. "
   ]
  },
  {
   "cell_type": "code",
   "execution_count": null,
   "id": "46f618fb-0b82-4ee8-bd6b-2cd4362ef069",
   "metadata": {},
   "outputs": [],
   "source": [
    "nano ~/.ssh/authorized_keys"
   ]
  },
  {
   "cell_type": "markdown",
   "id": "527800e1-e1e1-4915-aa58-d42dda3b892b",
   "metadata": {},
   "source": [
    "Control +V to Paste, Control +O to Save, Enter to Confirm, Control +X to Exit."
   ]
  },
  {
   "cell_type": "markdown",
   "id": "9ba7300b-f90a-4ead-805a-a483221c3e5d",
   "metadata": {},
   "source": [
    "Then set permissions:"
   ]
  },
  {
   "cell_type": "code",
   "execution_count": null,
   "id": "be5641d0-ec9f-421d-96b5-c1d890a752ce",
   "metadata": {},
   "outputs": [],
   "source": [
    "chmod +rw ~/.ssh/authorized_keys"
   ]
  },
  {
   "cell_type": "markdown",
   "id": "09ed2748-85e0-4c93-bceb-6256ff10331c",
   "metadata": {},
   "source": [
    "or"
   ]
  },
  {
   "cell_type": "code",
   "execution_count": null,
   "id": "5390787e-24a7-4472-a486-9a260b16d855",
   "metadata": {},
   "outputs": [],
   "source": [
    "chmod 600 ~/.ssh/authorized_keys"
   ]
  },
  {
   "cell_type": "markdown",
   "id": "aefe9fdd-7a59-4d45-a706-98e26329de37",
   "metadata": {},
   "source": [
    "Read (4) and write (2) so owner has read and write permissions (4 + 2 = 6)"
   ]
  },
  {
   "cell_type": "markdown",
   "id": "585b2989-28ff-4949-8969-dc49c8eee6aa",
   "metadata": {},
   "source": [
    "To check the file permissions of `authorized_keys`, use the following command:\n"
   ]
  },
  {
   "cell_type": "code",
   "execution_count": null,
   "id": "4042fb7f-2927-431e-a5d2-a82c9cba8ca4",
   "metadata": {},
   "outputs": [],
   "source": [
    "!ls -l ~/.ssh/authorized_keys"
   ]
  },
  {
   "cell_type": "markdown",
   "id": "91272fcc-c09c-4e08-ab89-ee0f7d7b2121",
   "metadata": {},
   "source": [
    "# Move SSH Key to root for automation"
   ]
  },
  {
   "cell_type": "code",
   "execution_count": null,
   "id": "4e50b38d-8ac8-40b7-ad7c-e5b0066a909c",
   "metadata": {},
   "outputs": [],
   "source": [
    "mkdir -p ~/.ssh"
   ]
  },
  {
   "cell_type": "markdown",
   "id": "7300e8ff-0b82-434e-98c5-f1f4ab5a16ec",
   "metadata": {},
   "source": [
    "Copy all the key pairs from the Windows file system into the Linux subsystem:"
   ]
  },
  {
   "cell_type": "code",
   "execution_count": null,
   "id": "51859ac0-9f34-4716-8cae-0d30982fec23",
   "metadata": {},
   "outputs": [],
   "source": [
    "cp /mnt/c/Users/[YourUsername]/.ssh/id_rsa* ~/.ssh/"
   ]
  },
  {
   "cell_type": "markdown",
   "id": "3ede584d-9dca-46bb-8aae-4f2258c7f724",
   "metadata": {},
   "source": [
    " /mnt/c corresponds to the C:\\ drive in Windows. "
   ]
  },
  {
   "cell_type": "markdown",
   "id": "d173950a-2f66-4214-835e-b6bc23acee7d",
   "metadata": {},
   "source": [
    "Set permissons: "
   ]
  },
  {
   "cell_type": "code",
   "execution_count": null,
   "id": "8a983a89-a751-426a-9647-2136b33dd45a",
   "metadata": {},
   "outputs": [],
   "source": [
    "chmod 600 ~/.ssh/id_rsa"
   ]
  },
  {
   "cell_type": "markdown",
   "id": "ca5bb990-26ad-4fd5-988e-570bd8c296b1",
   "metadata": {},
   "source": [
    "Initialize the SSH agent (manages authentication credentials):"
   ]
  },
  {
   "cell_type": "code",
   "execution_count": null,
   "id": "2533e900-8487-4c37-a17c-c68ac50a74ca",
   "metadata": {},
   "outputs": [],
   "source": [
    "eval $(ssh-agent -s)"
   ]
  },
  {
   "cell_type": "markdown",
   "id": "7c39f61e-f109-4252-a566-ad6fc684746c",
   "metadata": {},
   "source": [
    "Add the private keys: "
   ]
  },
  {
   "cell_type": "code",
   "execution_count": null,
   "id": "21a56a3d-d971-4fe5-95b8-bb1b964a7d96",
   "metadata": {},
   "outputs": [],
   "source": [
    " ssh-add ~/.ssh/id_rsa"
   ]
  },
  {
   "cell_type": "markdown",
   "id": "6a2bef44-8800-4860-8058-4a5c21d72bfa",
   "metadata": {},
   "source": [
    "Now you should be able to connect without entering your password. Any Sync scripts should be able to run without log-in prompts."
   ]
  }
 ],
 "metadata": {
  "kernelspec": {
   "display_name": "Bash",
   "language": "bash",
   "name": "bash"
  },
  "language_info": {
   "codemirror_mode": {
    "name": "ipython",
    "version": 3
   },
   "file_extension": ".py",
   "mimetype": "text/x-python",
   "name": "python",
   "nbconvert_exporter": "python",
   "pygments_lexer": "ipython3",
   "version": "3.10.9"
  }
 },
 "nbformat": 4,
 "nbformat_minor": 5
}
