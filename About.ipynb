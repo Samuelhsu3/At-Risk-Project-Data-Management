{
 "cells": [
  {
   "cell_type": "markdown",
   "id": "776554b9-3529-4ce0-bfa5-e31df4835205",
   "metadata": {},
   "source": [
    "##Link to the current dashboard: \n",
    "https://atriskdata.onrender.com/\n",
    "\t-Note that it spins down with inactivity so it may take some time to load \n"
   ]
  },
  {
   "cell_type": "markdown",
   "id": "a6363da8-c8e0-4ee8-a2ed-7f5a0bb224cc",
   "metadata": {},
   "source": [
    "###Logging in"
   ]
  },
  {
   "cell_type": "markdown",
   "id": "2803ad4f-d9e8-4827-b2ef-b4f5bcfce48b",
   "metadata": {},
   "source": [
    "- When directed, you will be asked to provide a username and password pair\n",
    "\t\t-You may use the same ID as in your baycrest email (e.g my email is shsu@research.baycrest.org, so my username would be shsu)\n",
    "-You may also use “At-risk”  as the username \n",
    "-All the passwords are currently set as “at-risk2022jmr”  (same as TONI log in)"
   ]
  },
  {
   "cell_type": "markdown",
   "id": "53746388-aa28-483d-b3fb-6dfae348d696",
   "metadata": {},
   "source": [
    "###Using the dashboard\n"
   ]
  },
  {
   "cell_type": "markdown",
   "id": "72cad006-40e4-4461-bee1-e2c0279a1aba",
   "metadata": {},
   "source": [
    "    -The Find tab allows you to view information about files, directories, and participants.\n",
    "    -The search function at the top allows you to search for specific participants \n",
    "    -There are two dropdown menus in the find tab. The first dropdown displays all the participants that are currently on file, the second dropdown displays all the file/directories that have been tracked.   \n",
    "    -You may narrow the items displayed in the dropdown by using the filters\n",
    "\t\t-Filters applied will update BOTH the ID as well as the Filename dropdown\n",
    "\t\t-Once selected, the following can be viewed (Demo info, Studies, Files)\n",
    "\t\t-Details about the files can be further explored by clicking on the file names which includes transfer history, date tested, size, file number, file type, location tested, timepoint, current pathway on compute canada, and any notes about the files (renaming history, incomplete blocks, errors…)\n",
    "\t-Other tabs link you to any old or new tracking sheets used to complete the summary sheet, it also records where all the data are backed up\n",
    "\t-The naming systems that have been used are also detailed in the other tabs\n"
   ]
  },
  {
   "cell_type": "markdown",
   "id": "92972e8b-888c-4141-b5d2-930101621e5d",
   "metadata": {},
   "source": [
    "###Editing, Updating, and Uploading\n"
   ]
  },
  {
   "cell_type": "markdown",
   "id": "370eaa81-2cbe-4453-ae91-94ad579f488f",
   "metadata": {},
   "source": [
    "\t-The code is currently stored in my private github repository \n",
    "\t\t-assets/css (design)\n",
    "\t\t-credentials.py (the username and password pairs)\n",
    "\t\t-csv_to_json_converter.py (can be run locally to convert excel sheets)\n",
    "\t\t-main.py (dashboard)\n",
    "\t\t-requirements.txt (packages)\n",
    "\t-I update the excel sheet biweekly, I would recommend doing it in bulk \n",
    "\t-Click the sync button from the custom menu to generate a template for the CC tracker. You can then commit to the JSON sheet and then download it. \t\n",
    "-The dashboard is currently hosted on Render and new commits would require redeployment, any other host would probably also work (~3 minutes)\n"
   ]
  }
 ],
 "metadata": {
  "kernelspec": {
   "display_name": "Python 3 (ipykernel)",
   "language": "python",
   "name": "python3"
  },
  "language_info": {
   "codemirror_mode": {
    "name": "ipython",
    "version": 3
   },
   "file_extension": ".py",
   "mimetype": "text/x-python",
   "name": "python",
   "nbconvert_exporter": "python",
   "pygments_lexer": "ipython3",
   "version": "3.10.9"
  }
 },
 "nbformat": 4,
 "nbformat_minor": 5
}
