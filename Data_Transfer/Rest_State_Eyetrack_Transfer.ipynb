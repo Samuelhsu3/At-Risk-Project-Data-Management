{
 "cells": [
  {
   "cell_type": "markdown",
   "id": "3d2f5409-d22a-4ce9-a422-e8f77f25ec40",
   "metadata": {},
   "source": [
    "## Transfer Resting State Eyetracking Files to Compute Canada (.ps1)"
   ]
  },
  {
   "cell_type": "markdown",
   "id": "905d61d6-657a-4d94-a14b-714b0902fc4c",
   "metadata": {},
   "source": [
    "VERSION: `Structural_Eyetrack_Auto_Sync_General.ps1`"
   ]
  },
  {
   "cell_type": "markdown",
   "id": "62e5ac5a-264f-434a-a06a-b666cad73a0e",
   "metadata": {},
   "source": [
    "### Advanced Explanation\n",
    "\n",
    "This PowerShell script facilitates the transfer of directories created within the last 24 hours from the local system to a specified remote server path. It starts by obtaining the current date and prompting the user for their username. The user is then asked to verify or enter the remote path, constructed as `\"/home/$username/scratch/RestingState_EyeTracking/\"`.\n",
    "\n",
    "Using `Get-ChildItem -Directory | Where-Object { ($currentDate - $_.CreationTime).TotalHours -le 24 }`, the script identifies directories created in the last 24 hours. For each of these directories, it calculates the directory size in MB and prompts the user to confirm the transfer to the server. Upon confirmation, `scp` is used to securely copy the directory to the remote path. The script tracks and outputs the count of successfully transferred directories, along with their names. It concludes by waiting for the user to press Enter to close the script.\n",
    "\n",
    "### User-Friendly Explanation\n",
    "\n",
    "This script helps you back up your newest folders to a server. It first asks for your username and confirms the server path where the folders will go. Then, it looks for folders created in the last day and shows their sizes, asking if you want to back up each one to the server.\n",
    "\n",
    "If you agree to back up a folder, the script securely transfers it to the server. It keeps track of how many folders it successfully transfers and lists their names at the end. Finally, the script waits for you to press Enter before it closes. This is a useful tool for regularly backing up new folders to a secure server.\n",
    "\n",
    "### Oversimplified Explanation\n",
    "\n",
    "This should be kept and run where resting state eyetracking session folders are backed up. It will send new ones from the local device to your scratch folder on Compute Canada. \n",
    "\n",
    "### Note\n",
    "    \n",
    "Track meta data before sending and compare it to the output of the check scripts. "
   ]
  },
  {
   "cell_type": "code",
   "execution_count": null,
   "id": "8b0caa22-c468-40ea-862f-5313834e3a8a",
   "metadata": {},
   "outputs": [],
   "source": [
    "$currentDate = Get-Date\n",
    "\n",
    "$username = Read-Host \"Please enter your username\"\n",
    "\n",
    "$remotePathBase = \"/home/$username/scratch/RestingState_EyeTracking/\"\n",
    "\n",
    "Write-Output \"The constructed remote path is: $remotePathBase\"\n",
    "$pathConfirmation = Read-Host \"Is this path correct? [Y/N]\"\n",
    "\n",
    "if ($pathConfirmation -ne \"Y\") {\n",
    "    $remotePathBase = Read-Host \"Please enter the full correct remote path\"\n",
    "}\n",
    "\n",
    "$recentDirectories = Get-ChildItem -Directory | Where-Object { ($currentDate - $_.CreationTime).TotalHours -le 24 }\n",
    "\n",
    "$transferredCount = 0\n",
    "$transferredDirectories = @()\n",
    "\n",
    "foreach ($dir in $recentDirectories) {\n",
    "    $remotePath = $remotePathBase + $dir.Name\n",
    "\n",
    "    $directorySize = (Get-ChildItem $dir.FullName -Recurse | Measure-Object -Property Length -Sum).Sum / 1MB\n",
    "    $userInput = Read-Host \"Do you want to push $($dir.Name) [Size: $($directorySize) MB] to the server at `\"$remotePath`\"? [Y/N]\"\n",
    "\n",
    "    if ($userInput -eq \"Y\") {\n",
    "        scp -r $dir.FullName \"$username@graham.computecanada.ca:`\"$remotePath`\"\"\n",
    "        if ($?) {\n",
    "            $transferredCount++\n",
    "            $transferredDirectories += $dir.Name\n",
    "            \n",
    "            Write-Output (\"Directory '{0}' transferred. Size: {1:N2} MB\" -f $dir.Name, $directorySize)\n",
    "        } else {\n",
    "            Write-Warning \"Failed to transfer directory: $dir\"\n",
    "        }\n",
    "    }\n",
    "}\n",
    "\n",
    "Write-Output \"Transfer process complete.\"\n",
    "Write-Output \"$transferredCount directory(ies) were transferred:\"\n",
    "$transferredDirectories | ForEach-Object {\n",
    "    Write-Output $_\n",
    "}\n",
    "\n",
    "Read-Host -Prompt \"Press Enter to Close\""
   ]
  },
  {
   "cell_type": "markdown",
   "id": "fd8b184d-4c58-4692-a0c2-13e75d16026a",
   "metadata": {},
   "source": [
    "VERSION: `Structural_Eyetrack_Auto_Sync_(name).ps1`"
   ]
  },
  {
   "cell_type": "markdown",
   "id": "aa065861-b053-4443-970c-0dda770a0de4",
   "metadata": {},
   "source": [
    "Replace remote pathbase and scp command to reflect the user and save with your name using Powershell ISE. Note that there will be no prompts as the script is designed for maximum efficiency so make sure you know what you are doing. "
   ]
  },
  {
   "cell_type": "code",
   "execution_count": null,
   "id": "a4716216-46dd-4e2c-be7d-8b096a1c1c98",
   "metadata": {},
   "outputs": [],
   "source": [
    "$currentDate = Get-Date\n",
    "\n",
    "$recentDirectories = Get-ChildItem -Directory | Where-Object { ($currentDate - $_.CreationTime).TotalHours -le 24 }\n",
    "\n",
    "$transferredCount = 0\n",
    "$transferredDirectories = @()\n",
    "\n",
    "$remotePathBase = \"/home/samhsu03/scratch/FinalRestingStateEyetracking/\"\n",
    "\n",
    "foreach ($dir in $recentDirectories) {\n",
    "    $remotePath = $remotePathBase + $dir.Name\n",
    "\n",
    "    scp -r $dir.FullName \"samhsu03@graham.computecanada.ca:`\"$remotePath`\"\"\n",
    "    if ($?) {\n",
    "        $transferredCount++\n",
    "        $transferredDirectories += $dir.Name\n",
    "        \n",
    "        $directorySize = (Get-ChildItem $dir.FullName -Recurse | Measure-Object -Property Length -Sum).Sum / 1MB\n",
    "        Write-Output (\"Directory '{0}' transferred. Size: {1:N2} MB\" -f $dir.Name, $directorySize)\n",
    "    } else {\n",
    "        Write-Warning \"Failed to transfer directory: $dir\"\n",
    "    }\n",
    "}\n",
    "\n",
    "Write-Output \"Transfer process complete.\"\n",
    "Write-Output \"$transferredCount directory(ies) were transferred:\"\n",
    "$transferredDirectories | ForEach-Object {\n",
    "    Write-Output $_\n",
    "}\n"
   ]
  }
 ],
 "metadata": {
  "kernelspec": {
   "display_name": "Bash",
   "language": "bash",
   "name": "bash"
  },
  "language_info": {
   "name": ""
  }
 },
 "nbformat": 4,
 "nbformat_minor": 5
}
