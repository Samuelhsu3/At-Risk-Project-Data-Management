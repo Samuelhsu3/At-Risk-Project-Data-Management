{
 "cells": [
  {
   "cell_type": "markdown",
   "id": "3d2f5409-d22a-4ce9-a422-e8f77f25ec40",
   "metadata": {},
   "source": [
    "## New MRI File Transfer (.ps1)"
   ]
  },
  {
   "cell_type": "markdown",
   "id": "62e5ac5a-264f-434a-a06a-b666cad73a0e",
   "metadata": {},
   "source": [
    "This will prompt you to enter which folder you want to transfer. You should save this in the root directory, or one above the directory you are mounting. Use the number key to select the directory you are trying to pull the files from. "
   ]
  },
  {
   "cell_type": "markdown",
   "id": "241651d8-762b-4d4d-9b3c-10eba1b49701",
   "metadata": {},
   "source": [
    "*Remember to replace with actual path of your scratch folder*"
   ]
  },
  {
   "cell_type": "code",
   "execution_count": null,
   "id": "a4716216-46dd-4e2c-be7d-8b096a1c1c98",
   "metadata": {},
   "outputs": [],
   "source": [
    "#!/bin/bash\n",
    "\n",
    "echo \"Found directories:\"\n",
    "\n",
    "dirs=(*/)\n",
    "for i in \"${!dirs[@]}\"; do\n",
    "    echo \"[$((i+1))] ${dirs[$i]}\"\n",
    "done\n",
    "\n",
    "read -p \"Choose a directory (by number): \" choice\n",
    "dir_index=$((choice-1))\n",
    "\n",
    "if [[ $dir_index -lt 0 || $dir_index -ge ${#dirs[@]} ]]; then\n",
    "    echo \"Invalid selection. Exiting.\"\n",
    "    exit 1\n",
    "fi\n",
    "\n",
    "selected_dir=\"${dirs[$dir_index]}\"\n",
    "\n",
    "read -p \"Name of session folder: \" session_folder\n",
    "\n",
    "session_path=\"${selected_dir}${session_folder}\"\n",
    "\n",
    "if [ ! -d \"$session_path\" ]; then\n",
    "    echo \"Error: Directory '$session_path' does not exist.\"\n",
    "    exit 1\n",
    "fi\n",
    "\n",
    "echo \"Pulling information...\"\n",
    "num_files=$(find \"$session_path\" -type f | wc -l)\n",
    "size=$(du -sh \"$session_path\" | cut -f1)\n",
    "echo \"Size of folder: $size\"\n",
    "echo \"Number of files: $num_files\"\n",
    "\n",
    "read -p \"Do you want to send this folder? (Y/N) \" confirmation\n",
    "if [[ $confirmation == [Yy] ]]; then\n",
    "    scp -r \"$session_path\" \"samhsu03@graham.computecanada.ca:/home/samhsu03/scratch/MRINEW/\"\n",
    "    echo \"Session folder $session_folder sent.\"\n",
    "else\n",
    "    echo \"Transfer cancelled.\"\n",
    "fi\n"
   ]
  }
 ],
 "metadata": {
  "kernelspec": {
   "display_name": "Bash",
   "language": "bash",
   "name": "bash"
  },
  "language_info": {
   "name": ""
  }
 },
 "nbformat": 4,
 "nbformat_minor": 5
}
