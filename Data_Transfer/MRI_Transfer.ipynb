{
 "cells": [
  {
   "cell_type": "markdown",
   "id": "3d2f5409-d22a-4ce9-a422-e8f77f25ec40",
   "metadata": {},
   "source": [
    "## MRI File Transfer (.sh)"
   ]
  },
  {
   "cell_type": "markdown",
   "id": "62e5ac5a-264f-434a-a06a-b666cad73a0e",
   "metadata": {},
   "source": [
    "You should save this in the root directory, or one above the directory you are mounting. Use the number key to select the mounted directory you are trying to pull the files from. "
   ]
  },
  {
   "cell_type": "markdown",
   "id": "241651d8-762b-4d4d-9b3c-10eba1b49701",
   "metadata": {},
   "source": [
    "*Remember to replace with actual path of your scratch folder*"
   ]
  },
  {
   "cell_type": "markdown",
   "id": "3db7101d-29b0-40cd-abba-6ce9f029139b",
   "metadata": {},
   "source": [
    "This version finds recent directories so it must be run on the same day. Name this script something like MRI_RECENT. Use the 2nd version if doing mutiple or specific transfers. "
   ]
  },
  {
   "cell_type": "markdown",
   "id": "6704d4a8-fb5d-41de-bc20-8d82b6f07c37",
   "metadata": {},
   "source": [
    "VERSION: `MRI_Auto_Sync`"
   ]
  },
  {
   "cell_type": "code",
   "execution_count": null,
   "id": "5e0f294b-74e2-4433-8192-82c954e9a9a4",
   "metadata": {
    "tags": []
   },
   "outputs": [],
   "source": [
    "#!/bin/bash\n",
    "\n",
    "echo \"Found directories:\"\n",
    "\n",
    "parent_dirs=(*/)\n",
    "for i in \"${!parent_dirs[@]}\"; do\n",
    "    echo \"[$((i+1))] ${parent_dirs[$i]}\"\n",
    "done\n",
    "\n",
    "read -p \"Choose a directory (by number): \" parent_choice\n",
    "parent_dir_index=$((parent_choice-1))\n",
    "\n",
    "if [[ $parent_dir_index -lt 0 || $parent_dir_index -ge ${#parent_dirs[@]} ]]; then\n",
    "    echo \"Invalid selection. Exiting.\"\n",
    "    exit 1\n",
    "fi\n",
    "\n",
    "selected_parent_dir=\"${parent_dirs[$parent_dir_index]}\"\n",
    "echo \"Selected directory: $selected_parent_dir\"\n",
    "\n",
    "echo \"Looking for recent directories in $selected_parent_dir\"\n",
    "recent_dirs=($(find \"$selected_parent_dir\" -maxdepth 1 -mindepth 1 -type d -mmin -$((10*60)) -printf '%T+ %p\\n' | sort -r | cut -d\" \" -f2-))\n",
    "\n",
    "if [ ${#recent_dirs[@]} -eq 0 ]; then\n",
    "    echo \"No recent directories found in $selected_parent_dir.\"\n",
    "    exit 1\n",
    "fi\n",
    "\n",
    "echo \"Found recent directories:\"\n",
    "for i in \"${!recent_dirs[@]}\"; do\n",
    "    echo \"[$((i+1))] ${recent_dirs[$i]}\"\n",
    "done\n",
    "\n",
    "read -p \"Choose one of the recent directories (by number): \" recent_choice\n",
    "recent_dir_index=$((recent_choice-1))\n",
    "\n",
    "if [[ $recent_dir_index -lt 0 || $recent_dir_index -ge ${#recent_dirs[@]} ]]; then\n",
    "    echo \"Invalid selection. Exiting.\"\n",
    "    exit 1\n",
    "fi\n",
    "\n",
    "selected_recent_dir=\"${recent_dirs[$recent_dir_index]}\"\n",
    "echo \"Selected recent directory: $selected_recent_dir\"\n",
    "\n",
    "echo \"Pulling information...\"\n",
    "num_files=$(find \"$selected_recent_dir\" -type f | wc -l)\n",
    "size=$(du -sh \"$selected_recent_dir\" | cut -f1)\n",
    "echo \"Size of folder: $size\"\n",
    "echo \"Number of files: $num_files\"\n",
    "\n",
    "read -p \"Do you want to send this folder? (Y/N) \" confirmation\n",
    "if [[ $confirmation == [Yy] ]]; then\n",
    "    scp -r \"$selected_recent_dir\" \"samhsu03@graham.computecanada.ca:/home/samhsu03/scratch/MRINEW/\"\n",
    "    echo \"Folder sent.\"\n",
    "else\n",
    "    echo \"Transfer cancelled.\"\n",
    "fi\n"
   ]
  },
  {
   "cell_type": "markdown",
   "id": "be41bd4c-8298-4338-9ce9-1a5f7495a9b7",
   "metadata": {},
   "source": [
    "This version will promt you to enter the name of the directory you want to transfer. Name this script something like MRI_SYNC."
   ]
  },
  {
   "cell_type": "markdown",
   "id": "76e59948-e49e-4554-85ba-72358169cc86",
   "metadata": {},
   "source": [
    "VERSION: `MRI_Manual_Sync`"
   ]
  },
  {
   "cell_type": "code",
   "execution_count": null,
   "id": "a4716216-46dd-4e2c-be7d-8b096a1c1c98",
   "metadata": {},
   "outputs": [],
   "source": [
    "#!/bin/bash\n",
    "\n",
    "echo \"Found directories:\"\n",
    "\n",
    "dirs=(*/)\n",
    "for i in \"${!dirs[@]}\"; do\n",
    "    echo \"[$((i+1))] ${dirs[$i]}\"\n",
    "done\n",
    "\n",
    "read -p \"Choose a directory (by number): \" choice\n",
    "dir_index=$((choice-1))\n",
    "\n",
    "if [[ $dir_index -lt 0 || $dir_index -ge ${#dirs[@]} ]]; then\n",
    "    echo \"Invalid selection. Exiting.\"\n",
    "    exit 1\n",
    "fi\n",
    "\n",
    "selected_dir=\"${dirs[$dir_index]}\"\n",
    "\n",
    "read -p \"Name of session folder: \" session_folder\n",
    "\n",
    "session_path=\"${selected_dir}${session_folder}\"\n",
    "\n",
    "if [ ! -d \"$session_path\" ]; then\n",
    "    echo \"Error: Directory '$session_path' does not exist.\"\n",
    "    exit 1\n",
    "fi\n",
    "\n",
    "echo \"Pulling information...\"\n",
    "num_files=$(find \"$session_path\" -type f | wc -l)\n",
    "size=$(du -sh \"$session_path\" | cut -f1)\n",
    "echo \"Size of folder: $size\"\n",
    "echo \"Number of files: $num_files\"\n",
    "\n",
    "read -p \"Do you want to send this folder? (Y/N) \" confirmation\n",
    "if [[ $confirmation == [Yy] ]]; then\n",
    "    scp -r \"$session_path\" \"samhsu03@graham.computecanada.ca:/home/samhsu03/scratch/MRINEW/\"\n",
    "    echo \"Session folder $session_folder sent.\"\n",
    "else\n",
    "    echo \"Transfer cancelled.\"\n",
    "fi\n"
   ]
  }
 ],
 "metadata": {
  "kernelspec": {
   "display_name": "Bash",
   "language": "bash",
   "name": "bash"
  },
  "language_info": {
   "name": ""
  }
 },
 "nbformat": 4,
 "nbformat_minor": 5
}
