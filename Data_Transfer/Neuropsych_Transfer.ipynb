{
 "cells": [
  {
   "cell_type": "markdown",
   "id": "3d2f5409-d22a-4ce9-a422-e8f77f25ec40",
   "metadata": {},
   "source": [
    "## Neuro File Transfer (.ps1)"
   ]
  },
  {
   "cell_type": "markdown",
   "id": "62e5ac5a-264f-434a-a06a-b666cad73a0e",
   "metadata": {},
   "source": [
    "This should be kept and run in the Compute Canada folder where Oddity txt and edat2 files are backed up and sorted (Currently fishingowl). It will send new files (24hours) to Compute Canada."
   ]
  },
  {
   "cell_type": "markdown",
   "id": "241651d8-762b-4d4d-9b3c-10eba1b49701",
   "metadata": {},
   "source": [
    "*Remember to replace with actual path of your scratch folder*"
   ]
  },
  {
   "cell_type": "markdown",
   "id": "6ab02164-9257-49ff-bdcd-74c73a305ae0",
   "metadata": {},
   "source": [
    "General"
   ]
  },
  {
   "cell_type": "markdown",
   "id": "be8cd94f-8d18-4388-8a32-956a43f97784",
   "metadata": {},
   "source": [
    "NeuropsychBattery_Auto_Sync.ps1"
   ]
  },
  {
   "cell_type": "code",
   "execution_count": null,
   "id": "a4716216-46dd-4e2c-be7d-8b096a1c1c98",
   "metadata": {},
   "outputs": [],
   "source": [
    "$currentDate = Get-Date\n",
    "\n",
    "$recentDirectories = Get-ChildItem -Directory | Where-Object { ($currentDate - $_.CreationTime).TotalHours -le 24 }\n",
    "\n",
    "$transferredCount = 0\n",
    "$transferredDirectories = @()\n",
    "\n",
    "$remotePathBase = \"/home/samhsu03/scratch/FinalOddity/\"\n",
    "\n",
    "foreach ($dir in $recentDirectories) {\n",
    "    $remotePath = $remotePathBase + $dir.Name\n",
    "\n",
    "    scp -r $dir.FullName \"samhsu03@graham.computecanada.ca:`\"$remotePath`\"\"\n",
    "    if ($?) {\n",
    "        $transferredCount++\n",
    "        $transferredDirectories += $dir.Name\n",
    "        \n",
    "        $directorySize = (Get-ChildItem $dir.FullName -Recurse | Measure-Object -Property Length -Sum).Sum / 1MB\n",
    "        Write-Output (\"Directory '{0}' transferred. Size: {1:N2} MB\" -f $dir.Name, $directorySize)\n",
    "    } else {\n",
    "        Write-Warning \"Failed to transfer directory: $dir\"\n",
    "    }\n",
    "}\n",
    "\n",
    "Write-Output \"Transfer process complete.\"\n",
    "Write-Output \"$transferredCount directory(ies) were transferred:\"\n",
    "$transferredDirectories | ForEach-Object {\n",
    "    Write-Output $_\n",
    "}"
   ]
  },
  {
   "cell_type": "code",
   "execution_count": null,
   "id": "8d881d02-d532-472f-b430-b318f4e150e6",
   "metadata": {},
   "outputs": [],
   "source": []
  }
 ],
 "metadata": {
  "kernelspec": {
   "display_name": "Bash",
   "language": "bash",
   "name": "bash"
  },
  "language_info": {
   "name": ""
  }
 },
 "nbformat": 4,
 "nbformat_minor": 5
}
