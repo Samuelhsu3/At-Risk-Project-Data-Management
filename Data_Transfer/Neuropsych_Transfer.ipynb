{
 "cells": [
  {
   "cell_type": "markdown",
   "id": "3d2f5409-d22a-4ce9-a422-e8f77f25ec40",
   "metadata": {},
   "source": [
    "## Neuro File Transfer (.ps1)"
   ]
  },
  {
   "cell_type": "markdown",
   "id": "241651d8-762b-4d4d-9b3c-10eba1b49701",
   "metadata": {},
   "source": [
    "VERSION: `Neuro_Psych_Battery_Auto_Sync_General`"
   ]
  },
  {
   "cell_type": "markdown",
   "id": "62e5ac5a-264f-434a-a06a-b666cad73a0e",
   "metadata": {},
   "source": [
    "### Advanced Explanation\n",
    "\n",
    "The script, written in PowerShell, is designed for transferring newly created directories from the local machine to a specified remote server. It starts by obtaining the current date and the user's username. The user is prompted to confirm or specify the remote destination path, preformatted as `/home/$username/scratch/Actual_Final_Neuropsych_Battery/`.\n",
    "\n",
    "The script identifies directories in the current location created within the last 24 hours using `Get-ChildItem -Directory` combined with a `Where-Object` filter. For each identified directory, it calculates its size in kilobytes and prompts the user for confirmation to transfer to the server. The transfer is conducted using `scp` (Secure Copy Protocol), with the success of each operation logged. The script counts and lists the names of successfully transferred directories, providing feedback once the process is complete. It concludes by waiting for user input to close.\n",
    "\n",
    "### User-Friendly Explanation\n",
    "\n",
    "This script is a convenient tool for backing up recent folders to a server. It starts by asking for your username and confirming the destination path on the server. Then, it looks for any folders in your current location that were created in the last day, showing their sizes in kilobytes.\n",
    "\n",
    "For each new folder, the script asks if you want to transfer it to the server. If you agree, it securely sends the folder to the server, keeping track of each successful transfer. At the end, it reports how many folders were transferred and their names. The script waits for you to press Enter before closing, ensuring you're informed about the completion of the backup process.\n",
    "\n",
    "### Oversimplified Explanation\n",
    "\n",
    "This should be kept and run where NeuroPsych Battery session folders are backed up. It will send new ones from the local device to your scratch folder on Compute Canada. \n",
    "\n",
    "### Note\n",
    "    \n",
    "Track meta data before sending and compare it to the output of the check scripts. "
   ]
  },
  {
   "cell_type": "code",
   "execution_count": null,
   "id": "5826907b-4c64-46cb-999a-617e653e1428",
   "metadata": {},
   "outputs": [],
   "source": [
    "$currentDate = Get-Date\n",
    "\n",
    "$username = Read-Host \"Please enter your username\"\n",
    "\n",
    "$remotePathBase = \"/home/$username/scratch/Actual_Final_Neuropsych_Battery/\"\n",
    "Write-Output \"The constructed remote path is: $remotePathBase\"\n",
    "$pathConfirmation = Read-Host \"Is this path correct? [Y/N]\"\n",
    "\n",
    "if ($pathConfirmation -ne \"Y\") {\n",
    "    $remotePathBase = Read-Host \"Please enter the full correct remote path\"\n",
    "}\n",
    "\n",
    "$recentDirectories = Get-ChildItem -Directory | Where-Object { ($currentDate - $_.CreationTime).TotalHours -le 24 }\n",
    "\n",
    "$transferredCount = 0\n",
    "$transferredDirectories = @()\n",
    "\n",
    "foreach ($dir in $recentDirectories) {\n",
    "    $remotePath = $remotePathBase + $dir.Name\n",
    "    $directorySize = (Get-ChildItem $dir.FullName -Recurse | Measure-Object -Property Length -Sum).Sum / 1KB\n",
    "\n",
    "    $userInput = Read-Host \"Do you want to push $($dir.Name) [Size: $($directorySize) KB] to the server at `\"$remotePath`\"? [Y/N]\"\n",
    "\n",
    "    if ($userInput -eq \"Y\") {\n",
    "\n",
    "        scp -r $dir.FullName \"$username@graham.computecanada.ca:`\"$remotePath`\"\"\n",
    "        if ($?) {\n",
    "            $transferredCount++\n",
    "            $transferredDirectories += $dir.Name\n",
    "            Write-Output (\"Directory '{0}' transferred. Size: {1:N2} MB\" -f $dir.Name, $directorySize)\n",
    "        } else {\n",
    "            Write-Warning \"Failed to transfer directory: $dir\"\n",
    "        }\n",
    "    }\n",
    "}\n",
    "\n",
    "Write-Output \"Transfer process complete.\"\n",
    "Write-Output \"$transferredCount directory(ies) were transferred:\"\n",
    "$transferredDirectories | ForEach-Object {\n",
    "    Write-Output $_\n",
    "}\n",
    "\n",
    "Read-Host -Prompt \"Press Enter to Close\"\n"
   ]
  },
  {
   "cell_type": "markdown",
   "id": "be8cd94f-8d18-4388-8a32-956a43f97784",
   "metadata": {},
   "source": [
    "VERSION: `NeuroPsych_Battery_Auto_Sync_(name).ps1`"
   ]
  },
  {
   "cell_type": "code",
   "execution_count": null,
   "id": "a4716216-46dd-4e2c-be7d-8b096a1c1c98",
   "metadata": {},
   "outputs": [],
   "source": [
    "$currentDate = Get-Date\n",
    "\n",
    "$recentDirectories = Get-ChildItem -Directory | Where-Object { ($currentDate - $_.CreationTime).TotalHours -le 24 }\n",
    "\n",
    "$transferredCount = 0\n",
    "$transferredDirectories = @()\n",
    "\n",
    "$remotePathBase = \"/home/samhsu03/scratch/Actual_Final_Neuropsych_Battery/\"\n",
    "\n",
    "foreach ($dir in $recentDirectories) {\n",
    "    $remotePath = $remotePathBase + $dir.Name\n",
    "\n",
    "    scp -r $dir.FullName \"samhsu03@graham.computecanada.ca:`\"$remotePath`\"\"\n",
    "    if ($?) {\n",
    "        $transferredCount++\n",
    "        $transferredDirectories += $dir.Name\n",
    "        \n",
    "        $directorySize = (Get-ChildItem $dir.FullName -Recurse | Measure-Object -Property Length -Sum).Sum / 1MB\n",
    "        Write-Output (\"Directory '{0}' transferred. Size: {1:N2} MB\" -f $dir.Name, $directorySize)\n",
    "    } else {\n",
    "        Write-Warning \"Failed to transfer directory: $dir\"\n",
    "    }\n",
    "}\n",
    "\n",
    "Write-Output \"Transfer process complete.\"\n",
    "Write-Output \"$transferredCount directory(ies) were transferred:\"\n",
    "$transferredDirectories | ForEach-Object {\n",
    "    Write-Output $_\n",
    "}"
   ]
  }
 ],
 "metadata": {
  "kernelspec": {
   "display_name": "Bash",
   "language": "bash",
   "name": "bash"
  },
  "language_info": {
   "name": ""
  }
 },
 "nbformat": 4,
 "nbformat_minor": 5
}
