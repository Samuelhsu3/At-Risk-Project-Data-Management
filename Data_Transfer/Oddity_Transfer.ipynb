{
 "cells": [
  {
   "cell_type": "markdown",
   "id": "3d2f5409-d22a-4ce9-a422-e8f77f25ec40",
   "metadata": {},
   "source": [
    "## Oddity File Transfer (.ps1)"
   ]
  },
  {
   "cell_type": "markdown",
   "id": "57b08379-565a-416e-937f-e14bafa9cc85",
   "metadata": {},
   "source": [
    "VERSION: `Oddity_Auto_Sync_General`"
   ]
  },
  {
   "cell_type": "markdown",
   "id": "62e5ac5a-264f-434a-a06a-b666cad73a0e",
   "metadata": {},
   "source": [
    "### Advanced Explanation\n",
    "\n",
    "This PowerShell script is designed for selective directory transfer to a remote server. It commences by capturing the current date and prompting the user for their username. The script then constructs a remote path (`/home/$username/scratch/Final_Oddity/`) and asks the user to confirm or adjust this path.\n",
    "\n",
    "Directories created in the past 24 hours are identified using `Get-ChildItem -Directory` combined with a `Where-Object` filter based on creation time. For each directory found, the script calculates its size in kilobytes and prompts the user to confirm its transfer to the server. The transfer is executed using `scp` (Secure Copy Protocol) to the specified remote path. The script monitors the success of each transfer, keeping a count of successful transfers and listing the names of transferred directories. It concludes with a summary of the transfer process and awaits the user's input to close.\n",
    "\n",
    "### User-Friendly Explanation\n",
    "\n",
    "This script helps you back up newly created folders from your computer to a server. First, it asks for your username and verifies the server path for the backup. Then, it looks for any folders created in the last day and tells you their sizes, asking if you want to transfer each one to the server.\n",
    "\n",
    "If you agree, the script securely sends the folder to the specified server path. It keeps track of how many folders it transfers and lists their names once done. At the end, the script informs you that the transfer is complete and waits for you to press Enter before closing. This tool is handy for regularly backing up your most recent folders to a secure location.\n",
    "\n",
    "### Oversimplified Explanation\n",
    "\n",
    "This should be kept and run where pre-processed Oddity session folders are backed up. It will send new ones from the local device to your scratch folder on Compute Canada. \n",
    "\n",
    "\n",
    "### Note\n",
    "    \n",
    "Track meta data before sending and compare it to the output of the check scripts. "
   ]
  },
  {
   "cell_type": "code",
   "execution_count": null,
   "id": "a4716216-46dd-4e2c-be7d-8b096a1c1c98",
   "metadata": {},
   "outputs": [],
   "source": [
    "$currentDate = Get-Date\n",
    "\n",
    "$username = Read-Host \"Please enter your username\"\n",
    "\n",
    "$remotePathBase = \"/home/$username/scratch/Final_Oddity/\"\n",
    "Write-Output \"The constructed remote path is: $remotePathBase\"\n",
    "$pathConfirmation = Read-Host \"Is this path correct? [Y/N]\"\n",
    "\n",
    "if ($pathConfirmation -ne \"Y\") {\n",
    "    $remotePathBase = Read-Host \"Please enter the full correct remote path\"\n",
    "}\n",
    "\n",
    "$recentDirectories = Get-ChildItem -Directory | Where-Object { ($currentDate - $_.CreationTime).TotalHours -le 24 }\n",
    "\n",
    "$transferredCount = 0\n",
    "$transferredDirectories = @()\n",
    "\n",
    "foreach ($dir in $recentDirectories) {\n",
    "    $remotePath = $remotePathBase + $dir.Name\n",
    "    $directorySize = (Get-ChildItem $dir.FullName -Recurse | Measure-Object -Property Length -Sum).Sum / 1KB\n",
    "\n",
    "    $userInput = Read-Host \"Do you want to push $($dir.Name) [Size: $($directorySize) KB] to the server at `\"$remotePath`\"? [Y/N]\"\n",
    "\n",
    "    if ($userInput -eq \"Y\") {\n",
    "\n",
    "        scp -r $dir.FullName \"$username@graham.computecanada.ca:`\"$remotePath`\"\"\n",
    "        if ($?) {\n",
    "            $transferredCount++\n",
    "            $transferredDirectories += $dir.Name\n",
    "            Write-Output (\"Directory '{0}' transferred. Size: {1:N2} MB\" -f $dir.Name, $directorySize)\n",
    "        } else {\n",
    "            Write-Warning \"Failed to transfer directory: $dir\"\n",
    "        }\n",
    "    }\n",
    "}\n",
    "\n",
    "Write-Output \"Transfer process complete.\"\n",
    "Write-Output \"$transferredCount directory(ies) were transferred:\"\n",
    "$transferredDirectories | ForEach-Object {\n",
    "    Write-Output $_\n",
    "}\n",
    "\n",
    "Read-Host -Prompt \"Press Enter to Close\"\n"
   ]
  },
  {
   "cell_type": "markdown",
   "id": "0a151ae3-6069-40fa-9174-f750166d0a6f",
   "metadata": {},
   "source": [
    "VERSION: `Oddity_Auto_Sync_(name).ps1`"
   ]
  },
  {
   "cell_type": "markdown",
   "id": "ec8bafc9-e8ba-40d5-ba65-9d933f3a89ff",
   "metadata": {},
   "source": [
    "Replace remote pathbase and scp command to reflect the user and save with your name using Powershell ISE. Note that there will be no prompts as the script is designed for maximum efficiency so make sure you know what you are doing. "
   ]
  },
  {
   "cell_type": "code",
   "execution_count": null,
   "id": "9f6860a9-07b9-4694-8ee9-ab55ae593a1b",
   "metadata": {},
   "outputs": [],
   "source": [
    "$currentDate = Get-Date\n",
    "\n",
    "$recentDirectories = Get-ChildItem -Directory | Where-Object { ($currentDate - $_.CreationTime).TotalHours -le 24 }\n",
    "\n",
    "$transferredCount = 0\n",
    "$transferredDirectories = @()\n",
    "\n",
    "$remotePathBase = \"/home/samhsu03/scratch/Actual_Final_Oddity/\"\n",
    "\n",
    "foreach ($dir in $recentDirectories) {\n",
    "    $remotePath = $remotePathBase + $dir.Name\n",
    "\n",
    "    scp -r $dir.FullName \"samhsu03@graham.computecanada.ca:`\"$remotePath`\"\"\n",
    "    if ($?) {\n",
    "        $transferredCount++\n",
    "        $transferredDirectories += $dir.Name\n",
    "        \n",
    "        $directorySize = (Get-ChildItem $dir.FullName -Recurse | Measure-Object -Property Length -Sum).Sum / 1MB\n",
    "        Write-Output (\"Directory '{0}' transferred. Size: {1:N2} MB\" -f $dir.Name, $directorySize)\n",
    "    } else {\n",
    "        Write-Warning \"Failed to transfer directory: $dir\"\n",
    "    }\n",
    "}\n",
    "\n",
    "Write-Output \"Transfer process complete.\"\n",
    "Write-Output \"$transferredCount directory(ies) were transferred:\"\n",
    "$transferredDirectories | ForEach-Object {\n",
    "    Write-Output $_\n",
    "}\n"
   ]
  }
 ],
 "metadata": {
  "kernelspec": {
   "display_name": "Bash",
   "language": "bash",
   "name": "bash"
  },
  "language_info": {
   "name": ""
  }
 },
 "nbformat": 4,
 "nbformat_minor": 5
}
