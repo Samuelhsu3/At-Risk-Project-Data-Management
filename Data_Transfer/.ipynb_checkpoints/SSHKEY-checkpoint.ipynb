{
 "cells": [
  {
   "cell_type": "markdown",
   "id": "c26b0d3b-7ebf-41a3-8633-b3ede21e2e8a",
   "metadata": {
    "tags": []
   },
   "source": [
    "# Generating SSH Keys to Connect to CC Faster\n",
    "\n",
    "This can be done on your device so that typing in passwords are no longer necessary. If you wish to script file transfer, this is probably ideal\n"
   ]
  },
  {
   "cell_type": "markdown",
   "id": "ee10e68d-91a5-49c4-81b6-59a63e0de3be",
   "metadata": {},
   "source": [
    "## Step 1: On Your Local Computer\n",
    "\n",
    "Run the following command to generate an SSH key if dont have one already: \n",
    "(Key is 4096 bits)"
   ]
  },
  {
   "cell_type": "code",
   "execution_count": null,
   "id": "cbff02f8-3d51-4e58-992c-28a718612388",
   "metadata": {
    "tags": []
   },
   "outputs": [],
   "source": [
    "ssh-keygen -t rsa -b 4096"
   ]
  },
  {
   "cell_type": "markdown",
   "id": "44c13b54-4f83-4505-b4c1-e2d0f6d32963",
   "metadata": {},
   "source": [
    "If you need to find the public key later, you can use the `cat` or `less` command:\n"
   ]
  },
  {
   "cell_type": "code",
   "execution_count": null,
   "id": "60ae3cbf-be0c-45d0-89e4-0f03b86ac941",
   "metadata": {
    "tags": []
   },
   "outputs": [],
   "source": [
    "cat ~/.ssh/id_rsa.pub "
   ]
  },
  {
   "cell_type": "markdown",
   "id": "6246d354-99b2-464b-9386-c93ad9988545",
   "metadata": {
    "tags": []
   },
   "source": [
    "## Step 2: On Your Remote Server\n",
    "\n",
    "Add the public key to the `authorized_keys` file and set the appropriate permissions. Read (4) and write (2) so owner has read and write permissions (4 + 2 = 6):"
   ]
  },
  {
   "cell_type": "code",
   "execution_count": null,
   "id": "be5641d0-ec9f-421d-96b5-c1d890a752ce",
   "metadata": {},
   "outputs": [],
   "source": [
    "nano ~/.ssh/authorized_keys\n",
    "chmod 600 ~/.ssh/authorized_keys"
   ]
  },
  {
   "cell_type": "markdown",
   "id": "585b2989-28ff-4949-8969-dc49c8eee6aa",
   "metadata": {},
   "source": [
    "To check the file permissions of `authorized_keys`, use the following command:\n"
   ]
  },
  {
   "cell_type": "code",
   "execution_count": null,
   "id": "4042fb7f-2927-431e-a5d2-a82c9cba8ca4",
   "metadata": {},
   "outputs": [],
   "source": [
    "!ls -l ~/.ssh/authorized_keys"
   ]
  },
  {
   "cell_type": "markdown",
   "id": "91272fcc-c09c-4e08-ab89-ee0f7d7b2121",
   "metadata": {},
   "source": [
    "# Move SSH Key for scripting"
   ]
  },
  {
   "cell_type": "code",
   "execution_count": null,
   "id": "4e50b38d-8ac8-40b7-ad7c-e5b0066a909c",
   "metadata": {},
   "outputs": [],
   "source": [
    "mkdir -p ~/.ssh"
   ]
  },
  {
   "cell_type": "markdown",
   "id": "7300e8ff-0b82-434e-98c5-f1f4ab5a16ec",
   "metadata": {},
   "source": [
    "Copy the private and public key pair from the Windows file system into the Linux subsystem."
   ]
  },
  {
   "cell_type": "code",
   "execution_count": null,
   "id": "51859ac0-9f34-4716-8cae-0d30982fec23",
   "metadata": {},
   "outputs": [],
   "source": [
    "cp /mnt/c/Users/[YourUsername]/.ssh/id_rsa* ~/.ssh/"
   ]
  },
  {
   "cell_type": "markdown",
   "id": "d173950a-2f66-4214-835e-b6bc23acee7d",
   "metadata": {},
   "source": [
    "Set permissons and add keys "
   ]
  },
  {
   "cell_type": "code",
   "execution_count": null,
   "id": "8a983a89-a751-426a-9647-2136b33dd45a",
   "metadata": {},
   "outputs": [],
   "source": [
    "chmod 600 ~/.ssh/id_rsa\n",
    "\n",
    "eval $(ssh-agent -s)\n",
    "\n",
    "ssh-add ~/.ssh/id_rsa"
   ]
  }
 ],
 "metadata": {
  "kernelspec": {
   "display_name": "Bash",
   "language": "bash",
   "name": "bash"
  },
  "language_info": {
   "codemirror_mode": {
    "name": "ipython",
    "version": 3
   },
   "file_extension": ".py",
   "mimetype": "text/x-python",
   "name": "python",
   "nbconvert_exporter": "python",
   "pygments_lexer": "ipython3",
   "version": "3.10.9"
  }
 },
 "nbformat": 4,
 "nbformat_minor": 5
}
