{
 "cells": [
  {
   "cell_type": "markdown",
   "id": "3d2f5409-d22a-4ce9-a422-e8f77f25ec40",
   "metadata": {},
   "source": [
    "## Scene Viewing Eyetracking Transfer (.ps1)"
   ]
  },
  {
   "cell_type": "markdown",
   "id": "62e5ac5a-264f-434a-a06a-b666cad73a0e",
   "metadata": {},
   "source": [
    "This should be kept and run in the Day 3 folder where scene viewing eyetracking files are backed up (Currently fishingowl). It will send new files (24hours) to Compute Canada. Ensure that all 6 session folders match after sending.  \n",
    "    - (4 Encoding, 3 Retrieval)"
   ]
  },
  {
   "cell_type": "markdown",
   "id": "241651d8-762b-4d4d-9b3c-10eba1b49701",
   "metadata": {},
   "source": [
    "*Remember to replace with actual path of your scratch folder"
   ]
  },
  {
   "cell_type": "code",
   "execution_count": null,
   "id": "16c2169a-bde7-49dc-bdb0-237a13e056d5",
   "metadata": {},
   "outputs": [],
   "source": [
    "Scene_Eyetrack_Auto_Sync.ps1"
   ]
  },
  {
   "cell_type": "code",
   "execution_count": null,
   "id": "a4716216-46dd-4e2c-be7d-8b096a1c1c98",
   "metadata": {},
   "outputs": [],
   "source": [
    "$currentDate = Get-Date\n",
    "$localFolders = Get-ChildItem -Path . -Directory\n",
    "\n",
    "$transferredCount = 0\n",
    "$transferredDirectories = @()\n",
    "\n",
    "$remotePathBase = \"/home/samhsu03/scratch/FinalSceneViewingEyetracking/\"\n",
    "\n",
    "foreach ($localFolder in $localFolders) {\n",
    "\n",
    "    $recentDirectories = Get-ChildItem -Path $localFolder.FullName -Directory | Where-Object {\n",
    "        ($currentDate - $_.CreationTime).TotalHours -le 24\n",
    "    }\n",
    "\n",
    "    foreach ($dir in $recentDirectories) {\n",
    "\n",
    "        $remotePath = \"$remotePathBase/$($localFolder.Name)/$($dir.Name)\"\n",
    "\n",
    "        scp -r $dir.FullName \"samhsu03@graham.computecanada.ca:`\"$remotePath`\"\"\n",
    "        if ($?) {\n",
    "            $transferredCount++\n",
    "            $transferredDirectories += $dir.Name\n",
    "            \n",
    "            $directorySize = (Get-ChildItem $dir.FullName -Recurse | Measure-Object -Property Length -Sum).Sum / 1MB\n",
    "            Write-Output (\"Directory '{0}' transferred to '{1}'. Size: {2:N2} MB\" -f $dir.Name, $remotePath, $directorySize)\n",
    "        } else {\n",
    "            Write-Warning \"Failed to transfer directory: $dir\"\n",
    "        }\n",
    "    }\n",
    "}\n",
    "\n",
    "Write-Output \"Transfer process complete.\"\n",
    "Write-Output \"$transferredCount directory(ies) were transferred:\"\n",
    "$transferredDirectories | ForEach-Object {\n",
    "    Write-Output $_\n",
    "}\n"
   ]
  },
  {
   "cell_type": "code",
   "execution_count": null,
   "id": "d8552e66-93ab-4352-bd1d-5e41b8ea83c0",
   "metadata": {},
   "outputs": [],
   "source": [
    "Scene_Eyetrack_Manual_Sync.ps1"
   ]
  }
 ],
 "metadata": {
  "kernelspec": {
   "display_name": "Bash",
   "language": "bash",
   "name": "bash"
  },
  "language_info": {
   "name": ""
  }
 },
 "nbformat": 4,
 "nbformat_minor": 5
}
