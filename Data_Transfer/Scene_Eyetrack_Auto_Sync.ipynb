{
 "cells": [
  {
   "cell_type": "markdown",
   "id": "3d2f5409-d22a-4ce9-a422-e8f77f25ec40",
   "metadata": {},
   "source": [
    "## Transfer Scene Viewing Eyetracking Files to Compute Canada (.ps1)"
   ]
  },
  {
   "cell_type": "markdown",
   "id": "dbd8bec3-f4a4-4199-89ad-9fb9a1217fdc",
   "metadata": {},
   "source": [
    "VERSION: `Scene_Eyetrack_Auto_Sync_General.ps1`"
   ]
  },
  {
   "cell_type": "markdown",
   "id": "3827582f-170b-472a-bba4-b44b8b949b68",
   "metadata": {},
   "source": [
    "### Advanced Explanation\n",
    "\n",
    "This PowerShell script automates the transfer of directories from a local machine to a remote server based on user-defined criteria. It starts by fetching the current date and listing all local directories. The user is prompted to enter their username and confirm or specify the remote path, which is constructed using `/home/$username/scratch/Actual_Final_SceneViewing_EyeTracking`.\n",
    "\n",
    "The script iterates over each local directory, filtering subdirectories created in the last 24 hours. For each recent directory, it calculates the size in MB and fetches the creation time. The user is then prompted to confirm the transfer of each directory to the server. On confirmation, `scp` (Secure Copy Protocol) is used to transfer the directory to the constructed remote path. Success or failure of each transfer is logged, and the number of successfully transferred directories is tracked and output at the end.\n",
    "\n",
    "### User-Friendly Explanation\n",
    "\n",
    "This script helps you transfer recent folders from your computer to a server. First, it asks for your username and checks the server path where the folders will be transferred. You can confirm or correct this path. Then, it looks for folders created in the last 24 hours and asks you for each folder if you want to transfer it to the server.\n",
    "\n",
    "For each folder you choose, the script calculates its size and notes when it was created. If you say yes, it transfers the folder to the server using your username and the confirmed path. After the process, the script tells you how many folders were transferred and their names. This is a useful way to back up new folders to a server regularly.\n",
    "\n",
    "### Oversimplified Explanation\n",
    "\n",
    "This should be kept and run where scene viewing eyetracking session folders are backed up. It will send new ones from the local device to your scratch folder on Compute Canada. \n",
    "\n",
    "### Note\n",
    "Ensure that all 6 session folders match after sending. \n",
    "    - (4 Encoding, 3 Retrieval)\n",
    "    \n",
    "Track meta data before sending and compare it to the output of the check scripts. "
   ]
  },
  {
   "cell_type": "code",
   "execution_count": null,
   "id": "603341f8-a213-452c-ade5-988968d4d525",
   "metadata": {},
   "outputs": [],
   "source": [
    "$currentDate = Get-Date\n",
    "$localFolders = Get-ChildItem -Path . -Directory\n",
    "\n",
    "$transferredCount = 0\n",
    "$transferredDirectories = @()\n",
    "\n",
    "$username = Read-Host \"Please enter your username\"\n",
    "\n",
    "$remotePathBase = \"/home/$username/scratch/Actual_Final_SceneViewing_EyeTracking\"\n",
    "\n",
    "Write-Output \"The constructed remote path is: $remotePathBase\"\n",
    "$pathConfirmation = Read-Host \"Is this path correct? [Y/N]\"\n",
    "\n",
    "if ($pathConfirmation -ne \"Y\") {\n",
    "    $remotePathBase = Read-Host \"Please enter the full correct remote path\"\n",
    "}\n",
    "\n",
    "foreach ($localFolder in $localFolders) {\n",
    "\n",
    "    $recentDirectories = Get-ChildItem -Path $localFolder.FullName -Directory | Where-Object {\n",
    "        ($currentDate - $_.CreationTime).TotalHours -le 24\n",
    "    }\n",
    "\n",
    "    foreach ($dir in $recentDirectories) {\n",
    "\n",
    "        $directorySize = (Get-ChildItem $dir.FullName -Recurse | Measure-Object -Property Length -Sum).Sum / 1MB\n",
    "        $creationTime = $dir.CreationTime\n",
    "        $userInput = Read-Host \"Do you want to transfer $($dir.Name) [Size: $($directorySize) MB, Created: $($creationTime)] to the server at `\"$remotePathBase`\"? [Y/N]\"\n",
    "\n",
    "        if ($userInput -eq \"Y\") {\n",
    "            $remotePath = \"$remotePathBase/$($localFolder.Name)/$($dir.Name)\"\n",
    "\n",
    "            scp -r $dir.FullName \"$username@graham.computecanada.ca:`\"$remotePath`\"\"\n",
    "            if ($?) {\n",
    "                $transferredCount++\n",
    "                $transferredDirectories += $dir.Name\n",
    "                \n",
    "                Write-Output (\"Directory '{0}' transferred to '{1}'. Size: {2:N2} MB\" -f $dir.Name, $remotePath, $directorySize)\n",
    "            } else {\n",
    "                Write-Warning \"Failed to transfer directory: $dir\"\n",
    "            }\n",
    "        }\n",
    "    }\n",
    "}\n",
    "\n",
    "Write-Output \"Transfer process complete.\"\n",
    "Write-Output \"$transferredCount directory(ies) were transferred:\"\n",
    "$transferredDirectories | ForEach-Object {\n",
    "    Write-Output $_\n",
    "}\n"
   ]
  },
  {
   "cell_type": "markdown",
   "id": "8325cc59-25ea-4c11-8926-5c24b95292bb",
   "metadata": {},
   "source": [
    "VERSION: `Scene_Eyetrack_Auto_Sync_(name).ps1`"
   ]
  },
  {
   "cell_type": "markdown",
   "id": "2a19abf5-1aa3-4478-b659-ae96ac900cb4",
   "metadata": {},
   "source": [
    "Replace remote pathbase and scp command to reflect the user and save with your name using Powershell ISE. Note that there will be no prompts as the script is designed for maximum efficiency so make sure you know what you are doing. "
   ]
  },
  {
   "cell_type": "code",
   "execution_count": null,
   "id": "a4716216-46dd-4e2c-be7d-8b096a1c1c98",
   "metadata": {},
   "outputs": [],
   "source": [
    "$currentDate = Get-Date\n",
    "$localFolders = Get-ChildItem -Path . -Directory\n",
    "\n",
    "$transferredCount = 0\n",
    "$transferredDirectories = @()\n",
    "\n",
    "$remotePathBase = \"/home/samhsu03/scratch/FinalSceneViewingEyetracking/\"\n",
    "\n",
    "foreach ($localFolder in $localFolders) {\n",
    "\n",
    "    $recentDirectories = Get-ChildItem -Path $localFolder.FullName -Directory | Where-Object {\n",
    "        ($currentDate - $_.CreationTime).TotalHours -le 24\n",
    "    }\n",
    "\n",
    "    foreach ($dir in $recentDirectories) {\n",
    "\n",
    "        $remotePath = \"$remotePathBase/$($localFolder.Name)/$($dir.Name)\"\n",
    "\n",
    "        scp -r $dir.FullName \"samhsu03@graham.computecanada.ca:`\"$remotePath`\"\"\n",
    "        if ($?) {\n",
    "            $transferredCount++\n",
    "            $transferredDirectories += $dir.Name\n",
    "            \n",
    "            $directorySize = (Get-ChildItem $dir.FullName -Recurse | Measure-Object -Property Length -Sum).Sum / 1MB\n",
    "            Write-Output (\"Directory '{0}' transferred to '{1}'. Size: {2:N2} MB\" -f $dir.Name, $remotePath, $directorySize)\n",
    "        } else {\n",
    "            Write-Warning \"Failed to transfer directory: $dir\"\n",
    "        }\n",
    "    }\n",
    "}\n",
    "\n",
    "Write-Output \"Transfer process complete.\"\n",
    "Write-Output \"$transferredCount directory(ies) were transferred:\"\n",
    "$transferredDirectories | ForEach-Object {\n",
    "    Write-Output $_\n",
    "}\n"
   ]
  }
 ],
 "metadata": {
  "kernelspec": {
   "display_name": "Bash",
   "language": "bash",
   "name": "bash"
  },
  "language_info": {
   "name": ""
  }
 },
 "nbformat": 4,
 "nbformat_minor": 5
}
