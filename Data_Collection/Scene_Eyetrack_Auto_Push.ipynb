{
 "cells": [
  {
   "cell_type": "markdown",
   "id": "83b159c7-4d9b-434b-a8cc-62c1f5db3b0b",
   "metadata": {},
   "source": [
    "## Transfer Scene Viewing Eyetracking Files From USB to Computer"
   ]
  },
  {
   "cell_type": "markdown",
   "id": "14f09c1d-94c0-456a-a8ce-5badabf4c5fe",
   "metadata": {},
   "source": [
    "This script will keep a log of when it was last synced. A prompt will appear asking for confirmation of the files that you would like to push to the computer. It is designed so that any files created after the last sync will be copied over (meaning you could rename a file and they won't be copied over again). This script will push the session folders from each block to their corresponding block folders on the computer. "
   ]
  },
  {
   "cell_type": "markdown",
   "id": "8d7b20b4-d55e-49b2-8dac-1a5ad92eccc7",
   "metadata": {},
   "source": [
    "VERSION: `Scene_Eyetrack_Auto_Push`"
   ]
  },
  {
   "cell_type": "code",
   "execution_count": null,
   "id": "65591911-5afc-4dfc-a0a3-7a735e976ed1",
   "metadata": {},
   "outputs": [],
   "source": [
    "$source = \"E:\\SceneViewing_DAY3\" \n",
    "$destination = \"C:\\Backupdata\\SceneViewing_DAY3\" \n",
    "$logFile = \"C:\\Backupdata\\SceneViewing_DAY3\\DAY3_USB_Log.txt\" \n",
    "\n",
    "if (-not (Test-Path -Path $logFile)) {\n",
    "    New-Item -Path $logFile -ItemType File\n",
    "    \"Log Created: $(Get-Date)\" | Out-File -FilePath $logFile\n",
    "}\n",
    "\n",
    "$lastSyncTime = (Get-Content -Path $logFile -Tail 1) -replace \"Last Sync:\", \"\"\n",
    "if ([string]::IsNullOrWhiteSpace($lastSyncTime)) {\n",
    "    $lastSyncTime = [datetime]::MinValue\n",
    "} else {\n",
    "    $lastSyncTime = [datetime]::Parse($lastSyncTime)\n",
    "}\n",
    "\n",
    "$blockTypes = @(\"Encoding\", \"Retrieval\")\n",
    "$blockNumbers = 1..4\n",
    "$noNewFolders = $true\n",
    "\n",
    "foreach ($type in $blockTypes) {\n",
    "    foreach ($number in $blockNumbers) {\n",
    "        $blockName = \"${type}_Block$number\"\n",
    "        $sourcePath = Join-Path -Path $source -ChildPath $blockName\n",
    "        $destinationPath = Join-Path -Path $destination -ChildPath $blockName\n",
    "\n",
    "        if (-not (Test-Path -Path $sourcePath)) {\n",
    "            Write-Output \"Source path $sourcePath does not exist.\"\n",
    "            continue\n",
    "        }\n",
    "\n",
    "        if (-not (Test-Path -Path $destinationPath)) {\n",
    "            New-Item -Path $destinationPath -ItemType Directory\n",
    "        }\n",
    "\n",
    "        $newData = Get-ChildItem -Path $sourcePath -Directory | Where-Object { $_.CreationTime -gt $lastSyncTime }\n",
    "\n",
    "        if ($newData.Count -eq 0) {\n",
    "            Write-Output \"No new session folders in $blockName since last synced.\"\n",
    "            continue\n",
    "        }\n",
    "\n",
    "        $noNewFolders = $false\n",
    "\n",
    "        foreach ($dir in $newData) {\n",
    "            $dirSizeBytes = (Get-ChildItem -Path $dir.FullName -Recurse -File | Measure-Object -Property Length -Sum).Sum\n",
    "            $dirSizeMB = [math]::Round($dirSizeBytes / 1MB, 2)\n",
    "\n",
    "            $userInput = Read-Host \"Do you want to push $($dir.Name) [Size: $($dirSizeMB) MB] [Y/N]\"\n",
    "\n",
    "            if ($userInput -eq \"Y\") {\n",
    "                $destPath = Join-Path -Path $destinationPath -ChildPath $dir.Name\n",
    "                Copy-Item -Path $dir.FullName -Destination $destPath -Recurse\n",
    "                Write-Output \"Copied $($dir.Name) to $destinationPath\"\n",
    "            }\n",
    "        }\n",
    "    }\n",
    "}\n",
    "\n",
    "if ($noNewFolders) {\n",
    "    Write-Output \"No new session folders across all blocks since last synced.\"\n",
    "}\n",
    "\n",
    "\"Last Sync: $(Get-Date)\" | Out-File -FilePath $logFile -Append\n",
    "\n",
    "Read-Host -Prompt \"Press Enter to Close\""
   ]
  }
 ],
 "metadata": {
  "kernelspec": {
   "display_name": "Bash",
   "language": "bash",
   "name": "bash"
  },
  "language_info": {
   "name": ""
  }
 },
 "nbformat": 4,
 "nbformat_minor": 5
}
