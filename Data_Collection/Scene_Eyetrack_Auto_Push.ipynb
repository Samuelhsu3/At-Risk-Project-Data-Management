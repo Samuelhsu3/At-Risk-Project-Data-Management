{
 "cells": [
  {
   "cell_type": "markdown",
   "id": "83b159c7-4d9b-434b-a8cc-62c1f5db3b0b",
   "metadata": {},
   "source": [
    "## Transfer Scene Viewing Eyetracking Files from USB to Backup Device (.ps1)"
   ]
  },
  {
   "cell_type": "markdown",
   "id": "8d7b20b4-d55e-49b2-8dac-1a5ad92eccc7",
   "metadata": {},
   "source": [
    "VERSION: `Scene_Eyetrack_Auto_Push`"
   ]
  },
  {
   "cell_type": "markdown",
   "id": "14f09c1d-94c0-456a-a8ce-5badabf4c5fe",
   "metadata": {},
   "source": [
    "### Advanced Explanation\n",
    "\n",
    "This PowerShell script is designed for data synchronization between two directories, `$source` and `$destination`, with logging capabilities. It starts by ensuring a log file exists at `$logFile`, creating it if necessary and appending the creation time.\n",
    "\n",
    "The script retrieves the last synchronization time from the log file, defaulting to `[datetime]::MinValue` if no previous sync is recorded. It then iterates through combinations of predefined `$blockTypes` and `$blockNumbers` to construct subdirectory paths under the source and destination.\n",
    "\n",
    "For each block, it checks if the source path exists. If it does, it ensures the corresponding destination path also exists, creating it if not. The script then looks for new directories in the source path (created after the last sync time). If new directories are found, it prompts the user for each directory, asking whether to copy it to the destination. Copied directories are reported in the console.\n",
    "\n",
    "After processing all blocks, the script updates the log file with the current sync time. If no new directories were found across all blocks, it outputs a message indicating so. The script concludes by waiting for the user to press Enter.\n",
    "\n",
    "### User-Friendly Explanation\n",
    "\n",
    "This script helps back up certain folders from one location on your computer to another. It checks folders named \"Encoding_Block#\" and \"Retrieval_Block#\" in a specific source directory and backs them up to a destination directory, only if they are new or have been updated since the last backup.\n",
    "\n",
    "First, the script makes sure there's a log file where it records each backup's date and time. It then goes through each folder, checking if there's anything new to back up. If it finds new or updated folders, it asks if you want to back up each one, showing the folder's name and size. If you agree, it copies the folder to the backup location and notes this in the console.\n",
    "\n",
    "After checking all the folders, the script updates the log file with the current date and time. If there were no new or updated folders, it tells you so. Finally, it waits for you to press Enter before it closes.\n",
    "\n",
    "### Oversimplified Explantion\n",
    "\n",
    "The script is designed so that files created after the last sync will be copied over from the USB to the Backupdata folder. (This means you could fix a folder name and the old version won't be copied over again). This script will push the session folders from each block to their corresponding block folders on the backup device. "
   ]
  },
  {
   "cell_type": "code",
   "execution_count": null,
   "id": "65591911-5afc-4dfc-a0a3-7a735e976ed1",
   "metadata": {},
   "outputs": [],
   "source": [
    "$source = \"E:\\SceneViewing_DAY3\" \n",
    "$destination = \"C:\\Backupdata\\SceneViewing_DAY3\" \n",
    "$logFile = \"C:\\Backupdata\\SceneViewing_DAY3\\DAY3_USB_Log.txt\" \n",
    "\n",
    "if (-not (Test-Path -Path $logFile)) {\n",
    "    New-Item -Path $logFile -ItemType File\n",
    "    \"Log Created: $(Get-Date)\" | Out-File -FilePath $logFile\n",
    "}\n",
    "\n",
    "$lastSyncTime = (Get-Content -Path $logFile -Tail 1) -replace \"Last Sync:\", \"\"\n",
    "if ([string]::IsNullOrWhiteSpace($lastSyncTime)) {\n",
    "    $lastSyncTime = [datetime]::MinValue\n",
    "} else {\n",
    "    $lastSyncTime = [datetime]::Parse($lastSyncTime)\n",
    "}\n",
    "\n",
    "$blockTypes = @(\"Encoding\", \"Retrieval\")\n",
    "$blockNumbers = 1..4\n",
    "$noNewFolders = $true\n",
    "\n",
    "foreach ($type in $blockTypes) {\n",
    "    foreach ($number in $blockNumbers) {\n",
    "        $blockName = \"${type}_Block$number\"\n",
    "        $sourcePath = Join-Path -Path $source -ChildPath $blockName\n",
    "        $destinationPath = Join-Path -Path $destination -ChildPath $blockName\n",
    "\n",
    "        if (-not (Test-Path -Path $sourcePath)) {\n",
    "            Write-Output \"Source path $sourcePath does not exist.\"\n",
    "            continue\n",
    "        }\n",
    "\n",
    "        if (-not (Test-Path -Path $destinationPath)) {\n",
    "            New-Item -Path $destinationPath -ItemType Directory\n",
    "        }\n",
    "\n",
    "        $newData = Get-ChildItem -Path $sourcePath -Directory | Where-Object { $_.CreationTime -gt $lastSyncTime }\n",
    "\n",
    "        if ($newData.Count -eq 0) {\n",
    "            Write-Output \"No new session folders in $blockName since last synced.\"\n",
    "            continue\n",
    "        }\n",
    "\n",
    "        $noNewFolders = $false\n",
    "\n",
    "        foreach ($dir in $newData) {\n",
    "            $dirSizeBytes = (Get-ChildItem -Path $dir.FullName -Recurse -File | Measure-Object -Property Length -Sum).Sum\n",
    "            $dirSizeMB = [math]::Round($dirSizeBytes / 1MB, 2)\n",
    "\n",
    "            $userInput = Read-Host \"Do you want to push $($dir.Name) [Size: $($dirSizeMB) MB] [Y/N]\"\n",
    "\n",
    "            if ($userInput -eq \"Y\") {\n",
    "                $destPath = Join-Path -Path $destinationPath -ChildPath $dir.Name\n",
    "                Copy-Item -Path $dir.FullName -Destination $destPath -Recurse\n",
    "                Write-Output \"Copied $($dir.Name) to $destinationPath\"\n",
    "            }\n",
    "        }\n",
    "    }\n",
    "}\n",
    "\n",
    "if ($noNewFolders) {\n",
    "    Write-Output \"No new session folders across all blocks since last synced.\"\n",
    "}\n",
    "\n",
    "\"Last Sync: $(Get-Date)\" | Out-File -FilePath $logFile -Append\n",
    "\n",
    "Read-Host -Prompt \"Press Enter to Close\""
   ]
  }
 ],
 "metadata": {
  "kernelspec": {
   "display_name": "Bash",
   "language": "bash",
   "name": "bash"
  },
  "language_info": {
   "name": ""
  }
 },
 "nbformat": 4,
 "nbformat_minor": 5
}
