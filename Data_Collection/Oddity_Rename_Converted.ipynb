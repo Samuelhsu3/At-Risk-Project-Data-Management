{
 "cells": [
  {
   "cell_type": "markdown",
   "id": "14574aec-fa77-4c0b-b76d-a2c4467de9e5",
   "metadata": {},
   "source": [
    "## Rename Converted/Raw Oddity Files (.ps1)"
   ]
  },
  {
   "cell_type": "markdown",
   "id": "45be81f4-dba7-453a-ab08-7955cb26a257",
   "metadata": {},
   "source": [
    "VERSION: `Oddity_Rename_Converted`"
   ]
  },
  {
   "cell_type": "markdown",
   "id": "b32af555-6cbd-4469-a31b-576c6946813a",
   "metadata": {},
   "source": [
    "### Advanced Explanation\n",
    "\n",
    "In this PowerShell script, the `$directoryPath` variable is set to the current directory using `Get-Location`. It then searches for `.txt` files in this directory and its subdirectories, storing the results in `$txtFiles`. The script uses a `foreach` loop to iterate over these files.\n",
    "\n",
    "Within the loop, files ending with \"_Converted.txt\" or \"_Raw.txt\" are immediately skipped using a conditional `if` statement and the `-like` operator. For each remaining file, the first line is fetched using `Get-Content` with the `-First 1` parameter. Based on this line, the script decides how to rename the file: if the line is \"*** Header Start ***\", it appends \"_Raw\" to the file name; if it starts with \"C:\\Users\", \"_Converted\" is appended. This renaming is handled by `Rename-Item`, combining the file's directory and the new name using `Join-Path`.\n",
    "\n",
    "The script keeps count of how many files it renames using the `$renamedFilesCount` variable, which is incremented each time a file is renamed. After processing all files, it outputs this count with `Write-Host`. The script concludes with a `Read-Host` prompt, requiring the user to press Enter to exit.\n",
    "\n",
    "### User-Friendly Explanation\n",
    "\n",
    "This script helps organize text files in a specific folder on your computer. It searches for text files and renames them based on their content. If a file starts with a special header (\"*** Header Start ***\"), the script adds \"_Raw\" to its name. If it begins with \"C:\\Users\", \"_Converted\" is added. Files that already have these terms in their names or don't meet these conditions are not changed. In the end, the script tells you how many files it renamed and waits for you to press Enter before finishing.\n",
    "\n",
    "\n",
    "### Oversimplfied Explanation\n",
    "\n",
    "It adds \"_Converted\" to the file name if its converted and adds \"_Raw\" to the file name if its raw."
   ]
  },
  {
   "cell_type": "code",
   "execution_count": null,
   "id": "9567a433-99e5-49e1-ba5d-106033905c36",
   "metadata": {},
   "outputs": [],
   "source": [
    "$directoryPath = Get-Location\n",
    "$txtFiles = Get-ChildItem -Path $directoryPath -Filter *.txt -Recurse\n",
    "\n",
    "$renamedFilesCount = 0\n",
    "\n",
    "foreach ($file in $txtFiles) {\n",
    "    if ($file.Name -like '*_Converted.txt' -or $file.Name -like '*_Raw.txt') {\n",
    "        continue\n",
    "    }\n",
    "\n",
    "    $firstLine = Get-Content $file.FullName -First 1\n",
    "    if ($firstLine -eq \"*** Header Start ***\") {\n",
    "        $newName = $file.BaseName + \"_Raw.txt\"\n",
    "    } elseif ($firstLine.StartsWith(\"C:\\Users\")) {\n",
    "        $newName = $file.BaseName + \"_Converted.txt\"\n",
    "    } else {\n",
    "        continue\n",
    "    }\n",
    "\n",
    "    $newFullPath = Join-Path $file.DirectoryName $newName\n",
    "    Rename-Item -Path $file.FullName -NewName $newFullPath\n",
    "    $renamedFilesCount++\n",
    "}\n",
    "\n",
    "Write-Host \"$renamedFilesCount files have been renamed.\"\n",
    "Read-Host -Prompt \"Press Enter to exit\"\n"
   ]
  }
 ],
 "metadata": {
  "kernelspec": {
   "display_name": "Bash",
   "language": "bash",
   "name": "bash"
  },
  "language_info": {
   "codemirror_mode": {
    "name": "ipython",
    "version": 3
   },
   "file_extension": ".py",
   "mimetype": "text/x-python",
   "name": "python",
   "nbconvert_exporter": "python",
   "pygments_lexer": "ipython3",
   "version": "3.10.9"
  }
 },
 "nbformat": 4,
 "nbformat_minor": 5
}
