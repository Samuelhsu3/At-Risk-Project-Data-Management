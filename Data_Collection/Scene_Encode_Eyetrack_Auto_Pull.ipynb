{
 "cells": [
  {
   "cell_type": "markdown",
   "id": "83b159c7-4d9b-434b-a8cc-62c1f5db3b0b",
   "metadata": {},
   "source": [
    "## Transfer Raw Scene Viewing Encoding Files to USB from Host Computer (.ps1)"
   ]
  },
  {
   "cell_type": "markdown",
   "id": "cd7a810d-a7c1-41b3-ab84-96abdf04fd64",
   "metadata": {},
   "source": [
    "VERSION: `Scene_Encode_Eyetrack_Auto_Pull`"
   ]
  },
  {
   "cell_type": "markdown",
   "id": "b385bec2-f9fa-47a4-b267-7f57195c06e0",
   "metadata": {},
   "source": [
    "### Advanced Explanation\n",
    "\n",
    "This PowerShell script performs data transfer operations based on specific directory criteria. It begins by setting source (`$sourceBase`) and destination (`$destinationBase`) base paths, and defines the time frame for file modification (`$currentDate.AddHours(-10)`). The script iterates through a predefined range of blocks (1 to 4), constructing a source path for each block and fetching subdirectories modified within the last 10 hours.\n",
    "\n",
    "If no recent directories are found in a block (`$rawdata.Count -eq 0`), the block number is added to `$missingBlocks`. Otherwise, it calculates the size of each directory in megabytes and adds this information to `$dirInfo`.\n",
    "\n",
    "After collecting information, the script prompts the user to confirm the transfer of these directories. If confirmed, it checks for any missing blocks, asking the user whether to proceed despite these missing elements. If the user agrees, the script proceeds to copy the non-missing block directories to their respective destination paths, displaying a message for each operation. The script aborts if the user decides not to proceed at any confirmation stage.\n",
    "\n",
    "### User-Friendly Explanation\n",
    "\n",
    "This script helps in transferring certain folders from one place on your computer to another (from \"C:\\Users\\...\" to \"E:\\SceneViewing_DAY3\"). It looks for folders that have been updated in the last 10 hours within specific subfolders (\"FinalR1D\\results\", \"FinalR2D\\results\", etc.).\n",
    "\n",
    "First, the script checks which of these specific subfolders have recent updates. If any are not updated recently, it notes this down. Then, it asks if you want to move the recently updated folders to a new location. If you agree, but there are some folders missing, it asks again to confirm whether to proceed without those folders. If you still agree, it moves the updated folders to the new location, telling you what it's doing along the way. If you say 'no' at any point, it stops and doesn't move anything.\n",
    "\n",
    "### Oversimplified Explantion\n",
    "\n",
    "This script will treat session folders created within 10 hours as new data and copy it over to the USB. If an expected block is missing, it will throw an error before asking to proceed. Make sure to track this when it occurs. \n"
   ]
  },
  {
   "cell_type": "code",
   "execution_count": null,
   "id": "65591911-5afc-4dfc-a0a3-7a735e976ed1",
   "metadata": {},
   "outputs": [],
   "source": [
    "$sourceBase = \"C:\\Users\\at-risk\\Documents\\atrisk_nate\\ARD2_Programming & Deployed_vF\\Deployed Final\"\n",
    "$destinationBase = \"E:\\SceneViewing_DAY3\"\n",
    "$currentDate = Get-Date\n",
    "$blocks = 1..4\n",
    "$missingBlocks = @()\n",
    "$dirInfo = @()\n",
    "\n",
    "\n",
    "foreach ($block in $blocks) {\n",
    "    $sourcePath = Join-Path -Path $sourceBase -ChildPath (\"FinalR\" + $block + \"D\\results\")\n",
    "    $rawdata = Get-ChildItem -Path $sourcePath -Directory | Where-Object { $_.LastWriteTime -gt $currentDate.AddHours(-10) }\n",
    "\n",
    "    if ($rawdata.Count -eq 0) {\n",
    "        $missingBlocks += $block\n",
    "        continue\n",
    "    } else {\n",
    "        foreach ($dir in $rawdata) {\n",
    "            $dirSizeBytes = (Get-ChildItem -Path $dir.FullName -Recurse -File | Measure-Object -Property Length -Sum).Sum\n",
    "            $dirSizeMB = [math]::Round($dirSizeBytes / 1MB, 2)\n",
    "            $dirSizeMBStr = $dirSizeMB.ToString() + \"M\"\n",
    "            $dirInfo += \"[$($dir.Name): $($dirSizeMBStr)]\"\n",
    "        }\n",
    "    }\n",
    "}\n",
    "\n",
    "\n",
    "$dirInfoStr = $dirInfo -join \", \"\n",
    "$userInput = Read-Host \"Do you want to move the following directories to their respective folders in D:\\SceneViewing_DAY3? Directories: $dirInfoStr [Y/N]\"\n",
    "\n",
    "\n",
    "if ($userInput -eq \"Y\") {\n",
    "    if ($missingBlocks.Count -gt 0) {\n",
    "        $missingBlockStr = $missingBlocks -join \", \"\n",
    "        $continueAnyway = Read-Host \"Unexpected event: block(s) [$missingBlockStr] missing. Continue anyway? [Y/N]\"\n",
    "        if ($continueAnyway -ne \"Y\") {\n",
    "            Write-Output \"Operation aborted due to missing blocks.\"\n",
    "            exit\n",
    "        }\n",
    "    }\n",
    "\n",
    "    foreach ($block in $blocks) {\n",
    "        if ($missingBlocks -contains $block) {\n",
    "            Write-Output \"Skipping block $block as it is missing.\"\n",
    "            continue\n",
    "        }\n",
    "\n",
    "        $sourcePath = Join-Path -Path $sourceBase -ChildPath (\"FinalR\" + $block + \"D\\results\")\n",
    "        $destinationPath = Join-Path -Path $destinationBase -ChildPath (\"Encoding_Block\" + $block)\n",
    "        $rawdata = Get-ChildItem -Path $sourcePath -Directory | Where-Object { $_.LastWriteTime -gt $currentDate.AddHours(-10) }\n",
    "        \n",
    "        foreach ($dir in $rawdata) {\n",
    "            $destPath = Join-Path -Path $destinationPath -ChildPath $dir.Name\n",
    "            Copy-Item -Path $dir.FullName -Destination $destPath -Recurse\n",
    "            Write-Output \"Copied $($dir.Name) to USB\"\n",
    "        }\n",
    "    }\n",
    "} else {\n",
    "    Write-Output \"Operation cancelled by user.\"\n",
    "}\n"
   ]
  }
 ],
 "metadata": {
  "kernelspec": {
   "display_name": "Bash",
   "language": "bash",
   "name": "bash"
  },
  "language_info": {
   "name": ""
  }
 },
 "nbformat": 4,
 "nbformat_minor": 5
}
