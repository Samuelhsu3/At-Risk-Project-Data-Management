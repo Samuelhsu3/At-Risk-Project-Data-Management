{
 "cells": [
  {
   "cell_type": "markdown",
   "id": "83b159c7-4d9b-434b-a8cc-62c1f5db3b0b",
   "metadata": {},
   "source": [
    "## Transfer Raw Scene Viewing Encoding Files to USB (.ps1)"
   ]
  },
  {
   "cell_type": "markdown",
   "id": "43ad9895-82bf-486e-80ba-3cfbcb712cb5",
   "metadata": {},
   "source": [
    "This script will treat session folders created within 10 hours as new data and copy it over to the USB. A prompt will appear asking for confirmation of the files that you would like to collect. It will then copy each session folder from each FinalRD folder over to their respective EncodingBlock folder on the USB. If an expected block is missing, it will throw an error before asking to proceed. Make sure to track this when it occurs. "
   ]
  },
  {
   "cell_type": "markdown",
   "id": "cd7a810d-a7c1-41b3-ab84-96abdf04fd64",
   "metadata": {},
   "source": [
    "VERSION: `Scene_Encode_Eyetrack_Auto_Pull`"
   ]
  },
  {
   "cell_type": "code",
   "execution_count": null,
   "id": "65591911-5afc-4dfc-a0a3-7a735e976ed1",
   "metadata": {},
   "outputs": [],
   "source": [
    "$sourceBase = \"C:\\Users\\at-risk\\Documents\\atrisk_nate\\ARD2_Programming & Deployed_vF\\Deployed Final\"\n",
    "$destinationBase = \"E:\\SceneViewing_DAY3\"\n",
    "$currentDate = Get-Date\n",
    "$blocks = 1..4\n",
    "$missingBlocks = @()\n",
    "$dirInfo = @()\n",
    "\n",
    "\n",
    "foreach ($block in $blocks) {\n",
    "    $sourcePath = Join-Path -Path $sourceBase -ChildPath (\"FinalR\" + $block + \"D\\results\")\n",
    "    $rawdata = Get-ChildItem -Path $sourcePath -Directory | Where-Object { $_.LastWriteTime -gt $currentDate.AddHours(-10) }\n",
    "\n",
    "    if ($rawdata.Count -eq 0) {\n",
    "        $missingBlocks += $block\n",
    "        continue\n",
    "    } else {\n",
    "        foreach ($dir in $rawdata) {\n",
    "            $dirSizeBytes = (Get-ChildItem -Path $dir.FullName -Recurse -File | Measure-Object -Property Length -Sum).Sum\n",
    "            $dirSizeMB = [math]::Round($dirSizeBytes / 1MB, 2)\n",
    "            $dirSizeMBStr = $dirSizeMB.ToString() + \"M\"\n",
    "            $dirInfo += \"[$($dir.Name): $($dirSizeMBStr)]\"\n",
    "        }\n",
    "    }\n",
    "}\n",
    "\n",
    "\n",
    "$dirInfoStr = $dirInfo -join \", \"\n",
    "$userInput = Read-Host \"Do you want to move the following directories to their respective folders in D:\\SceneViewing_DAY3? Directories: $dirInfoStr [Y/N]\"\n",
    "\n",
    "\n",
    "if ($userInput -eq \"Y\") {\n",
    "    if ($missingBlocks.Count -gt 0) {\n",
    "        $missingBlockStr = $missingBlocks -join \", \"\n",
    "        $continueAnyway = Read-Host \"Unexpected event: block(s) [$missingBlockStr] missing. Continue anyway? [Y/N]\"\n",
    "        if ($continueAnyway -ne \"Y\") {\n",
    "            Write-Output \"Operation aborted due to missing blocks.\"\n",
    "            exit\n",
    "        }\n",
    "    }\n",
    "\n",
    "    foreach ($block in $blocks) {\n",
    "        if ($missingBlocks -contains $block) {\n",
    "            Write-Output \"Skipping block $block as it is missing.\"\n",
    "            continue\n",
    "        }\n",
    "\n",
    "        $sourcePath = Join-Path -Path $sourceBase -ChildPath (\"FinalR\" + $block + \"D\\results\")\n",
    "        $destinationPath = Join-Path -Path $destinationBase -ChildPath (\"Encoding_Block\" + $block)\n",
    "        $rawdata = Get-ChildItem -Path $sourcePath -Directory | Where-Object { $_.LastWriteTime -gt $currentDate.AddHours(-10) }\n",
    "        \n",
    "        foreach ($dir in $rawdata) {\n",
    "            $destPath = Join-Path -Path $destinationPath -ChildPath $dir.Name\n",
    "            Copy-Item -Path $dir.FullName -Destination $destPath -Recurse\n",
    "            Write-Output \"Copied $($dir.Name) to USB\"\n",
    "        }\n",
    "    }\n",
    "} else {\n",
    "    Write-Output \"Operation cancelled by user.\"\n",
    "}\n"
   ]
  }
 ],
 "metadata": {
  "kernelspec": {
   "display_name": "Bash",
   "language": "bash",
   "name": "bash"
  },
  "language_info": {
   "name": ""
  }
 },
 "nbformat": 4,
 "nbformat_minor": 5
}
