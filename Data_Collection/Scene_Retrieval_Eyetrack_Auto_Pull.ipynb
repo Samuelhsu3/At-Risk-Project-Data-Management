{
 "cells": [
  {
   "cell_type": "markdown",
   "id": "960a5bab-5cbc-4835-8da2-50fca978bd25",
   "metadata": {},
   "source": [
    "## Transfer Raw Scene Viewing Retrieval Files to USB from Host Computer (.ps1)"
   ]
  },
  {
   "cell_type": "markdown",
   "id": "a0431ebb-79e5-40c0-aabd-2522f1dea2c6",
   "metadata": {},
   "source": [
    "VERSION: `Resting_Eyetrack_Auto_Push`"
   ]
  },
  {
   "cell_type": "markdown",
   "id": "f6812d03-4691-41c2-a065-8179b4d4a40a",
   "metadata": {},
   "source": [
    "### Advanced Explanation\n",
    "\n",
    "The script sets up data transfer from `$sourceBase` to `$destinationBase` for directories updated in the last 10 hours. The `$blocks` array (1 to 3) is iterated over, constructing `$sourcePath` for each block. It fetches directories in `$sourcePath` modified after `$currentDate.AddHours(-10)` using `Get-ChildItem` and `Where-Object`.\n",
    "\n",
    "If no directories are found for a block (`$rawdata.Count -eq 0`), the block number is added to `$missingBlocks`. For directories found, the script calculates their size in MB and appends this info to `$dirInfo`.\n",
    "\n",
    "After collecting directory data, the script prompts the user for confirmation to proceed with the transfer. If there are missing blocks and the user still opts to continue, it starts the transfer process. The script then iterates again through each block, checking against `$missingBlocks`. It constructs source and destination paths, fetches the relevant directories again, and if they meet the time criteria, copies them to the destination using `Copy-Item`. The script outputs each copy operation and aborts if the user opts out at any confirmation stage.\n",
    "\n",
    "### User-Friendly Explanation\n",
    "\n",
    "This script is designed to transfer specific folders from one location on your computer to another. It looks for folders within certain subfolders (\"Last Block # Retrieval Task Fixed_deploy\\results\") that have been updated in the last 10 hours.\n",
    "\n",
    "First, it checks which of these subfolders have been recently updated. If any are not updated, it notes them as missing. Then, it asks if you want to move the updated folders to a new location on a USB drive. If you agree, but there are some folders missing, it asks again to confirm whether to proceed without those folders. If you still agree, it moves the updated folders to the new location, telling you what it's doing along the way. If you say 'no' at any point, it stops and doesn't move anything.\n",
    "\n",
    "### Oversimplified Explantion\n",
    "\n",
    "This script is adjusted for retrieval blocks. It is currently not in use because the computer for the post scan task uses powershell version 1 which is not compatible. (It's 2002 I wasn't even born yet)"
   ]
  },
  {
   "cell_type": "code",
   "execution_count": null,
   "id": "4b09084d-2182-44f1-b0d8-d711ed53c0c4",
   "metadata": {},
   "outputs": [],
   "source": [
    "$sourceBase = \"C:\\Documents and Settings\\UT\\Desktop\\Olsen Lab\\Final Deployed Tasks Retrieval Aug 29\"\n",
    "$destinationBase = \"E:\\SceneViewing_DAY3\"\n",
    "$currentDate = Get-Date\n",
    "$blocks = 1..3\n",
    "$missingBlocks = @()\n",
    "$dirInfo = @()\n",
    "\n",
    "foreach ($block in $blocks) {\n",
    "    $sourcePath = Join-Path -Path $sourceBase -ChildPath (\"Last Block $block Retrieval Task Fixed_deploy\\results\")\n",
    "    $rawdata = Get-ChildItem -Path $sourcePath -Directory | Where-Object { $_.LastWriteTime -gt $currentDate.AddHours(-10) }\n",
    "\n",
    "    if ($rawdata.Count -eq 0) {\n",
    "        $missingBlocks += $block\n",
    "        continue\n",
    "    } else {\n",
    "        foreach ($dir in $rawdata) {\n",
    "            $dirSizeBytes = (Get-ChildItem -Path $dir.FullName -Recurse -File | Measure-Object -Property Length -Sum).Sum\n",
    "            $dirSizeMB = [math]::Round($dirSizeBytes / 1MB, 2)\n",
    "            $dirSizeMBStr = $dirSizeMB.ToString() + \"M\"\n",
    "            $dirInfo += \"[$($dir.Name): $($dirSizeMBStr)]\"\n",
    "        }\n",
    "    }\n",
    "}\n",
    "\n",
    "$dirInfoStr = $dirInfo -join \", \"\n",
    "$userInput = Read-Host \"Do you want to move the following directories to their respective folders in the USB? Directories: $dirInfoStr [Y/N]\"\n",
    "\n",
    "if ($userInput -eq \"Y\") {\n",
    "    if ($missingBlocks.Count -gt 0) {\n",
    "        $missingBlockStr = $missingBlocks -join \", \"\n",
    "        $continueAnyway = Read-Host \"Unexpected event: block(s) [$missingBlockStr] missing. Continue anyway? [Y/N]\"\n",
    "        if ($continueAnyway -ne \"Y\") {\n",
    "            Write-Output \"Operation aborted due to missing blocks.\"\n",
    "            exit\n",
    "        }\n",
    "    }\n",
    "\n",
    "    foreach ($block in $blocks) {\n",
    "        if ($missingBlocks -contains $block) {\n",
    "            Write-Output \"Skipping block $block as it is missing.\"\n",
    "            continue\n",
    "        }\n",
    "\n",
    "        $sourcePath = Join-Path -Path $sourceBase -ChildPath (\"Last Block $block Retrieval Task Fixed_deploy\\results\")\n",
    "        $destinationPath = Join-Path -Path $destinationBase -ChildPath (\"Retrieval_Block$block\")\n",
    "        $rawdata = Get-ChildItem -Path $sourcePath -Directory | Where-Object { $_.LastWriteTime -gt $currentDate.AddHours(-10) }\n",
    "\n",
    "        foreach ($dir in $rawdata) {\n",
    "            $destPath = Join-Path -Path $destinationPath -ChildPath $dir.Name\n",
    "            Copy-Item -Path $dir.FullName -Destination $destPath -Recurse\n",
    "            Write-Output \"Copied $($dir.Name) to $($destinationPath)\"\n",
    "        }\n",
    "    }\n",
    "} else {\n",
    "    Write-Output \"Operation cancelled by user.\"\n",
    "}\n"
   ]
  }
 ],
 "metadata": {
  "kernelspec": {
   "display_name": "Python 3 (ipykernel)",
   "language": "python",
   "name": "python3"
  },
  "language_info": {
   "codemirror_mode": {
    "name": "ipython",
    "version": 3
   },
   "file_extension": ".py",
   "mimetype": "text/x-python",
   "name": "python",
   "nbconvert_exporter": "python",
   "pygments_lexer": "ipython3",
   "version": "3.10.9"
  }
 },
 "nbformat": 4,
 "nbformat_minor": 5
}
