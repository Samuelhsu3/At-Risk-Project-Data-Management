{
 "cells": [
  {
   "cell_type": "markdown",
   "id": "83b159c7-4d9b-434b-a8cc-62c1f5db3b0b",
   "metadata": {},
   "source": [
    "# Transfer raw files to USB"
   ]
  },
  {
   "cell_type": "markdown",
   "id": "43ad9895-82bf-486e-80ba-3cfbcb712cb5",
   "metadata": {},
   "source": [
    "This script will treat folders created within 10 hours as new rawdata. It will then copy each folder over to their respective blocks on the USB. If blocks are missing, it will throw an error before asking to proceed. "
   ]
  },
  {
   "cell_type": "markdown",
   "id": "4193948c-e006-464f-85e3-9ded00d0c622",
   "metadata": {},
   "source": [
    "Note this is for the Host PC at TONI"
   ]
  },
  {
   "cell_type": "markdown",
   "id": "14f09c1d-94c0-456a-a8ce-5badabf4c5fe",
   "metadata": {},
   "source": [
    "\n"
   ]
  },
  {
   "cell_type": "code",
   "execution_count": null,
   "id": "65591911-5afc-4dfc-a0a3-7a735e976ed1",
   "metadata": {},
   "outputs": [],
   "source": [
    "$sourceBase = \"C:\\Users\\samhs\\OneDrive\\Documents\\EYETRACKING\"\n",
    "$destinationBase = \"D:\\Powershellmove\"\n",
    "$currentDate = Get-Date\n",
    "$blocks = 1..4\n",
    "$missingBlocks = @()\n",
    "\n",
    "foreach ($block in $blocks) {\n",
    "    $sourcePath = Join-Path -Path $sourceBase -ChildPath (\"FinalR\" + $block + \"D\\results\")\n",
    "    $destinationPath = Join-Path -Path $destinationBase -ChildPath (\"Encoding_Block\" + $block)\n",
    "\n",
    "    $rawdata = Get-ChildItem -Path $sourcePath -Directory | Where-Object { $_.LastWriteTime -gt $currentDate.AddHours(-10) }\n",
    "\n",
    "    if ($rawdata.Count -eq 0) {\n",
    "        $missingBlocks += $block\n",
    "        continue\n",
    "    }\n",
    "\n",
    "    foreach ($dir in $rawdata) {\n",
    "        $dirSizeBytes = (Get-ChildItem -Path $dir.FullName -Recurse -File | Measure-Object -Property Length -Sum).Sum\n",
    "        $dirSizeMB = [math]::Round($dirSizeBytes / 1MB, 2)\n",
    "        $creationTime = $dir.CreationTime\n",
    "        $userInput = $null\n",
    "\n",
    "        if ($block -eq 1) {\n",
    "            $userInput = Read-Host \"Do you want to move directories from FinalR1D/results, FinalR2D/results, FinalR3D/results, and FinalR4D/results to their respective destinations on the USB? [Y/N]\"\n",
    "        }\n",
    "\n",
    "        if ($userInput -eq \"Y\") {\n",
    "            $destPath = Join-Path -Path $destinationPath -ChildPath $dir.Name\n",
    "            Copy-Item -Path $dir.FullName -Destination $destPath -Recurse\n",
    "            Write-Output \"Copied $($dir.Name) to $($destinationPath)\"\n",
    "        }\n",
    "    }\n",
    "}\n",
    "\n",
    "if ($missingBlocks.Count -gt 0) {\n",
    "    $missingBlockStr = $missingBlocks -join \", \"\n",
    "    $continueAnyway = Read-Host \"Unexpected event: block(s) [$missingBlockStr] missing. Continue anyway? [Y/N]\"\n",
    "    if ($continueAnyway -ne \"Y\") {\n",
    "        Write-Output \"Operation aborted due to missing blocks.\"\n",
    "        exit\n",
    "    }\n",
    "}\n"
   ]
  }
 ],
 "metadata": {
  "kernelspec": {
   "display_name": "Bash",
   "language": "bash",
   "name": "bash"
  },
  "language_info": {
   "name": ""
  }
 },
 "nbformat": 4,
 "nbformat_minor": 5
}
