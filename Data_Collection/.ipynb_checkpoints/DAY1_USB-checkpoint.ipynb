{
 "cells": [
  {
   "cell_type": "markdown",
   "id": "83b159c7-4d9b-434b-a8cc-62c1f5db3b0b",
   "metadata": {},
   "source": [
    "# Transfer raw files to USB"
   ]
  },
  {
   "cell_type": "markdown",
   "id": "14f09c1d-94c0-456a-a8ce-5badabf4c5fe",
   "metadata": {},
   "source": [
    "This is used to sort raw oddity files after testing. It will find the matching txt and edat2 file assumed to be done in the same session and create a folder for it. \n"
   ]
  },
  {
   "cell_type": "code",
   "execution_count": null,
   "id": "65591911-5afc-4dfc-a0a3-7a735e976ed1",
   "metadata": {},
   "outputs": [],
   "source": [
    "$source = \"C:\\Users\\samhs\\OneDrive\\Documents\\EYETRACKING\"\n",
    "$destination = \"D:\\Powershellmove\"\n",
    "$currentDate = Get-Date\n",
    "$directoriesToCopy = Get-ChildItem -Path $source -Directory | Where-Object { $_.LastWriteTime -gt $currentDate.AddHours(-10) }\n",
    "foreach ($dir in $directoriesToCopy) {\n",
    "    $userInput = Read-Host \"Do you want to move the directory $($dir.Name)? [Y/N]\"\n",
    "    if ($userInput -eq \"Y\") {\n",
    "        $destPath = Join-Path -Path $destination -ChildPath $dir.Name\n",
    "        Copy-Item -Path $dir.FullName -Destination $destPath -Recurse\n",
    "        Write-Output \"Copied $($dir.Name) and its contents to $destPath\"\n",
    "    } else {\n",
    "        Write-Output \"Skipped $($dir.Name)\"\n",
    "    }\n",
    "}"
   ]
  }
 ],
 "metadata": {
  "kernelspec": {
   "display_name": "Bash",
   "language": "bash",
   "name": "bash"
  },
  "language_info": {
   "name": ""
  }
 },
 "nbformat": 4,
 "nbformat_minor": 5
}
