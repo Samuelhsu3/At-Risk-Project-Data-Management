{
 "cells": [
  {
   "cell_type": "markdown",
   "id": "83b159c7-4d9b-434b-a8cc-62c1f5db3b0b",
   "metadata": {},
   "source": [
    "# Transfer Scene Viewing Eyetracking Files From USB"
   ]
  },
  {
   "cell_type": "markdown",
   "id": "14f09c1d-94c0-456a-a8ce-5badabf4c5fe",
   "metadata": {},
   "source": [
    "This script will keep a log of when it was last synced. A prompt will appear asking for confirmation of the files that you would like to collect.  "
   ]
  },
  {
   "cell_type": "markdown",
   "id": "8d7b20b4-d55e-49b2-8dac-1a5ad92eccc7",
   "metadata": {},
   "source": [
    "NAME: USB_DAY3_AUTO_Push"
   ]
  },
  {
   "cell_type": "code",
   "execution_count": null,
   "id": "65591911-5afc-4dfc-a0a3-7a735e976ed1",
   "metadata": {},
   "outputs": [],
   "source": [
    "$source = \"D:\\Powershellmove\" \n",
    "$destination = \"C:\\Users\\samhs\\OneDrive\\Desktop\\TEST\\SV\" \n",
    "$logFile = \"$destination\\DAY3_USB_Log.txt\" \n",
    "\n",
    "if (-not (Test-Path -Path $logFile)) {\n",
    "    New-Item -Path $logFile -ItemType File\n",
    "    \"Log Created: $(Get-Date)\" | Out-File -FilePath $logFile\n",
    "}\n",
    "\n",
    "$lastSyncTime = (Get-Content -Path $logFile -Tail 1) -replace \"Last Sync:\", \"\"\n",
    "if ([string]::IsNullOrWhiteSpace($lastSyncTime)) {\n",
    "    $lastSyncTime = [datetime]::MinValue\n",
    "} else {\n",
    "    $lastSyncTime = [datetime]::Parse($lastSyncTime)\n",
    "}\n",
    "\n",
    "$blocks = 1..4\n",
    "\n",
    "foreach ($block in $blocks) {\n",
    "    $blockName = \"Encoding_Block$block\"\n",
    "    $sourcePath = Join-Path -Path $source -ChildPath $blockName\n",
    "    $destinationPath = Join-Path -Path $destination -ChildPath $blockName\n",
    "\n",
    "    if (-not (Test-Path -Path $destinationPath)) {\n",
    "        New-Item -Path $destinationPath -ItemType Directory\n",
    "    }\n",
    "\n",
    "    $newData = Get-ChildItem -Path $sourcePath -Directory | Where-Object { $_.CreationTime -gt $lastSyncTime }\n",
    "\n",
    "    foreach ($dir in $newData) {\n",
    "        $dirSizeBytes = (Get-ChildItem -Path $dir.FullName -Recurse -File | Measure-Object -Property Length -Sum).Sum\n",
    "        $dirSizeMB = [math]::Round($dirSizeBytes / 1MB, 2)\n",
    "\n",
    "        $userInput = Read-Host \"Do you want to move the directory $($dir.Name) [Size: $($dirSizeMB) MB] from $sourcePath to $destinationPath? [Y/N]\"\n",
    "\n",
    "        if ($userInput -eq \"Y\") {\n",
    "            $destPath = Join-Path -Path $destinationPath -ChildPath $dir.Name\n",
    "            Copy-Item -Path $dir.FullName -Destination $destPath -Recurse\n",
    "            Write-Output \"Copied $($dir.Name) to $destinationPath\"\n",
    "        }\n",
    "    }\n",
    "}\n",
    "\n",
    "\"Last Sync: $(Get-Date)\" | Out-File -FilePath $logFile -Append\n"
   ]
  }
 ],
 "metadata": {
  "kernelspec": {
   "display_name": "Bash",
   "language": "bash",
   "name": "bash"
  },
  "language_info": {
   "name": ""
  }
 },
 "nbformat": 4,
 "nbformat_minor": 5
}
