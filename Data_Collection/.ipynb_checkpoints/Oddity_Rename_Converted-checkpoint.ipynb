{
 "cells": [
  {
   "cell_type": "markdown",
   "id": "14574aec-fa77-4c0b-b76d-a2c4467de9e5",
   "metadata": {},
   "source": [
    "### Rename Converted Files"
   ]
  },
  {
   "cell_type": "code",
   "execution_count": null,
   "id": "9567a433-99e5-49e1-ba5d-106033905c36",
   "metadata": {},
   "outputs": [],
   "source": [
    "$directoryPath = Get-Location\n",
    "$txtFiles = Get-ChildItem -Path $directoryPath -Filter *.txt -Recurse\n",
    "\n",
    "$renamedFilesCount = 0\n",
    "\n",
    "foreach ($file in $txtFiles) {\n",
    "    if ($file.Name -like '*_Converted.txt' -or $file.Name -like '*_Raw.txt') {\n",
    "        continue\n",
    "    }\n",
    "\n",
    "    $firstLine = Get-Content $file.FullName -First 1\n",
    "    if ($firstLine -eq \"*** Header Start ***\") {\n",
    "        $newName = $file.BaseName + \"_Raw.txt\"\n",
    "    } elseif ($firstLine.StartsWith(\"C:\\Users\")) {\n",
    "        $newName = $file.BaseName + \"_Converted.txt\"\n",
    "    } else {\n",
    "        continue\n",
    "    }\n",
    "\n",
    "    $newFullPath = Join-Path $file.DirectoryName $newName\n",
    "    Rename-Item -Path $file.FullName -NewName $newFullPath\n",
    "    $renamedFilesCount++\n",
    "}\n",
    "\n",
    "Write-Host \"$renamedFilesCount files have been renamed.\"\n",
    "Read-Host -Prompt \"Press Enter to exit\"\n"
   ]
  }
 ],
 "metadata": {
  "kernelspec": {
   "display_name": "Bash",
   "language": "bash",
   "name": "bash"
  },
  "language_info": {
   "codemirror_mode": {
    "name": "ipython",
    "version": 3
   },
   "file_extension": ".py",
   "mimetype": "text/x-python",
   "name": "python",
   "nbconvert_exporter": "python",
   "pygments_lexer": "ipython3",
   "version": "3.10.9"
  }
 },
 "nbformat": 4,
 "nbformat_minor": 5
}
