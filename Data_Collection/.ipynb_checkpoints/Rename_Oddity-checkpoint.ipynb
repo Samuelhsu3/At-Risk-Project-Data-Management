{
 "cells": [
  {
   "cell_type": "markdown",
   "id": "83b159c7-4d9b-434b-a8cc-62c1f5db3b0b",
   "metadata": {},
   "source": [
    "# Renaming Oddity Files (.ps1)"
   ]
  },
  {
   "cell_type": "markdown",
   "id": "14f09c1d-94c0-456a-a8ce-5badabf4c5fe",
   "metadata": {},
   "source": [
    "This is used to rename raw oddity files after testing. Since it reads the txt for the date, there is no need to rename on the same day. "
   ]
  },
  {
   "cell_type": "markdown",
   "id": "609aef6f-cb81-49ef-bd8e-34e7d2431b08",
   "metadata": {},
   "source": [
    "NAME: RENAME_RAW_ODDITY"
   ]
  },
  {
   "cell_type": "code",
   "execution_count": null,
   "id": "99fc0d6a-7e60-4e2f-8b55-4b2bd4d037ff",
   "metadata": {},
   "outputs": [],
   "source": [
    "$currentDirectory = Get-Location\n",
    "$txtFiles = Get-ChildItem -Path $currentDirectory\\*cat*.txt\n",
    "\n",
    "foreach ($txtFile in $txtFiles) {\n",
    "    $content = Get-Content $txtFile.FullName\n",
    "    $dateLine = $content | Where-Object { $_ -match \"SessionDate: (\\d{2})-(\\d{2})-(\\d{4})\" }\n",
    "\n",
    "    if ($dateLine) {\n",
    "        $dateMatches = [regex]::Match($dateLine, \"(\\d{2})-(\\d{2})-(\\d{4})\")\n",
    "        $formattedDate = \"{0}{1}{2}\" -f $dateMatches.Groups[3], $dateMatches.Groups[1], $dateMatches.Groups[2]\n",
    "\n",
    "        if ($txtFile.Name -match \"cat.*_v2-(\\d+)-1\") {\n",
    "            $participantID = $matches[1]\n",
    "            $baseNameWithoutExtension = $txtFile.BaseName\n",
    "            $newBaseName = \"${participantID}_${formattedDate}\"\n",
    "\n",
    "            $ftxt = \"$newBaseName.txt\"\n",
    "            Rename-Item -Path $txtFile.FullName -NewName $ftxt\n",
    "            Write-Output \"Renamed $($txtFile.Name) to $ftxt\"\n",
    "\n",
    "            $edat2FileName = $baseNameWithoutExtension + \".edat2\"\n",
    "            $edat2File = Get-ChildItem -Path \"$currentDirectory\\$edat2FileName\" -ErrorAction SilentlyContinue\n",
    "            if ($edat2File) {\n",
    "                $fedat = \"$newBaseName.edat2\"\n",
    "                Rename-Item -Path $edat2File.FullName -NewName $fedat\n",
    "                Write-Output \"Renamed $($edat2File.Name) to $fedat\"\n",
    "            }\n",
    "        }\n",
    "    }\n",
    "}\n"
   ]
  },
  {
   "cell_type": "markdown",
   "id": "81bd5418-2725-4b6c-bbbf-8bf7c6585940",
   "metadata": {},
   "source": [
    "This version assumes date so it has to be run on the same day"
   ]
  },
  {
   "cell_type": "code",
   "execution_count": null,
   "id": "65591911-5afc-4dfc-a0a3-7a735e976ed1",
   "metadata": {},
   "outputs": [],
   "source": [
    "$currentDate = Get-Date -Format \"yyyyMMdd\"\n",
    "\n",
    "Get-ChildItem -Path .\\*cat* | ForEach-Object {\n",
    "\n",
    "    if ($_.Name -match \"_v2-(\\d+)-1\") {\n",
    "        # Extract the ID\n",
    "        $participantID = $matches[1]\n",
    "        $newFileName = \"${participantID}_$currentDate$($_.Extension)\"\n",
    "\n",
    "        Rename-Item -Path $_.FullName -NewName $newFileName\n",
    "        Write-Output \"Renamed $($_.Name) to $newFileName\"\n",
    "    }\n",
    "}\n"
   ]
  }
 ],
 "metadata": {
  "kernelspec": {
   "display_name": "Bash",
   "language": "bash",
   "name": "bash"
  },
  "language_info": {
   "name": ""
  }
 },
 "nbformat": 4,
 "nbformat_minor": 5
}
