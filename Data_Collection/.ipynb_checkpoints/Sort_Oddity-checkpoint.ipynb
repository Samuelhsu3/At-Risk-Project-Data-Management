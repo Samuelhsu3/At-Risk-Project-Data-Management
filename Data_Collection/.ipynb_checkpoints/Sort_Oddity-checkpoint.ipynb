{
 "cells": [
  {
   "cell_type": "markdown",
   "id": "83b159c7-4d9b-434b-a8cc-62c1f5db3b0b",
   "metadata": {},
   "source": [
    "# Renaming Oddity Files (.ps1)"
   ]
  },
  {
   "cell_type": "markdown",
   "id": "14f09c1d-94c0-456a-a8ce-5badabf4c5fe",
   "metadata": {},
   "source": [
    "This creates a new oddity session folder for every pair of raw files (should be edat2 and txt with the same name)in the current directory. "
   ]
  },
  {
   "cell_type": "code",
   "execution_count": null,
   "id": "99fc0d6a-7e60-4e2f-8b55-4b2bd4d037ff",
   "metadata": {},
   "outputs": [],
   "source": [
    "$files = Get-ChildItem -Path .\\* -Include *.edat2, *.txt -File\n",
    "$groupedFiles = $files | Group-Object { $_.BaseName }\n",
    "\n",
    "$sortedFileCount = 0\n",
    "$sortedFolderCount = 0\n",
    "$missingFiles = @()\n",
    "\n",
    "foreach ($group in $groupedFiles) {\n",
    "    $folderName = $group.Name\n",
    "    $directoryPath = Join-Path -Path (Get-Location) -ChildPath $folderName\n",
    "\n",
    "    $hasTxt = $false\n",
    "    $hasEdat2 = $false\n",
    "\n",
    "    foreach ($file in $group.Group) {\n",
    "        if ($file.Extension -eq '.txt') {\n",
    "            $hasTxt = $true\n",
    "        } elseif ($file.Extension -eq '.edat2') {\n",
    "            $hasEdat2 = $true\n",
    "        }\n",
    "    }\n",
    "\n",
    "    if ($hasTxt -and $hasEdat2) {\n",
    "        if (-not (Test-Path $directoryPath)) {\n",
    "            New-Item -Path $directoryPath -ItemType Directory\n",
    "        }\n",
    "\n",
    "        foreach ($file in $group.Group) {\n",
    "            $newPath = Join-Path -Path $directoryPath -ChildPath $file.Name\n",
    "            Move-Item -Path $file.FullName -Destination $newPath\n",
    "            $sortedFileCount++\n",
    "        }\n",
    "        $sortedFolderCount++\n",
    "    } else {\n",
    "        if (-not $hasTxt) { $missingFiles += \"$folderName.txt\" }\n",
    "        if (-not $hasEdat2) { $missingFiles += \"$folderName.edat2\" }\n",
    "    }\n",
    "}\n",
    "\n",
    "if ($missingFiles.Count -gt 0) {\n",
    "    Write-Output \"Missing Files:\"\n",
    "    $missingFiles | ForEach-Object { Write-Output $_ }\n",
    "}\n",
    "\n",
    "Write-Output \"Total Files Sorted: $sortedFileCount\"\n",
    "Write-Output \"Total Folders Created: $sortedFolderCount\"\n"
   ]
  }
 ],
 "metadata": {
  "kernelspec": {
   "display_name": "Bash",
   "language": "bash",
   "name": "bash"
  },
  "language_info": {
   "name": ""
  }
 },
 "nbformat": 4,
 "nbformat_minor": 5
}
