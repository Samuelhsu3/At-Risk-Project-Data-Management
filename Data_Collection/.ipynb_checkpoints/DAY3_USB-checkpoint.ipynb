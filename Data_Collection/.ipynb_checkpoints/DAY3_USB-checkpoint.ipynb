{
 "cells": [
  {
   "cell_type": "markdown",
   "id": "83b159c7-4d9b-434b-a8cc-62c1f5db3b0b",
   "metadata": {},
   "source": [
    "# Transfer raw files to USB"
   ]
  },
  {
   "cell_type": "markdown",
   "id": "14f09c1d-94c0-456a-a8ce-5badabf4c5fe",
   "metadata": {},
   "source": [
    "\n"
   ]
  },
  {
   "cell_type": "code",
   "execution_count": null,
   "id": "65591911-5afc-4dfc-a0a3-7a735e976ed1",
   "metadata": {},
   "outputs": [],
   "source": [
    "$source = \"C:\\Users\\At-risk\\Documents\\atrisk_nate\\ARD2_Resting State_Deployed\\results\"\n",
    "$destination = \"D:\\Powershellmove\"\n",
    "$currentDate = Get-Date\n",
    "$rawdata = Get-ChildItem -Path $source -Directory | Where-Object { $_.LastWriteTime -gt $currentDate.AddHours(-10) }\n",
    "\n",
    "foreach ($dir in $rawdata) {\n",
    "    $dirSizeBytes = (Get-ChildItem -Path $dir.FullName -Recurse -File | Measure-Object -Property Length -Sum).Sum\n",
    "    $dirSizeMB = [math]::Round($dirSizeBytes / 1MB, 2)\n",
    "    $creationTime = $dir.CreationTime\n",
    "    $userInput = Read-Host \"Do you want to move the directory $($dir.Name) [Size: $($dirSizeMB) MB, Created: $($creationTime)]\n",
    "     from $source to D:\\Powershellmove? [Y/N]\"\n",
    "\n",
    "    if ($userInput -eq \"Y\") {\n",
    "        $destPath = Join-Path -Path $destination -ChildPath $dir.Name\n",
    "        Copy-Item -Path $dir.FullName -Destination $destPath -Recurse\n",
    "        Write-Output \"Copied $($dir.Name) to D:\\Powershellmove\"\n",
    "    }\n",
    "}\n"
   ]
  },
  {
   "cell_type": "code",
   "execution_count": null,
   "id": "ce0e4c22-c93b-432d-8897-9d997b1fa3e3",
   "metadata": {},
   "outputs": [],
   "source": [
    "$source = \"C:\\Users\\At-risk\\Documents\\atrisk_nate\\ARD2_Resting State_Deployed\\results\"\n",
    "$destination = \"D:\\RestingState_DAY1\"\n",
    "$currentDate = Get-Date\n",
    "$directoriesToCopy = Get-ChildItem -Path $source -Directory | Where-Object { $_.LastWriteTime -gt $currentDate.AddHours(-10) }\n",
    "foreach ($dir in $directoriesToCopy) {\n",
    "    $userInput = Read-Host \"Do you want to move the directory $($dir.Name)? [Y/N]\"\n",
    "    if ($userInput -eq \"Y\") {\n",
    "        $destPath = Join-Path -Path $destination -ChildPath $dir.Name\n",
    "        Copy-Item -Path $dir.FullName -Destination $destPath -Recurse\n",
    "        Write-Output \"Copied $($dir.Name) and its contents to $destPath\"\n",
    "    } else {\n",
    "        Write-Output \"Skipped $($dir.Name)\"\n",
    "    }\n",
    "}"
   ]
  }
 ],
 "metadata": {
  "kernelspec": {
   "display_name": "Bash",
   "language": "bash",
   "name": "bash"
  },
  "language_info": {
   "name": ""
  }
 },
 "nbformat": 4,
 "nbformat_minor": 5
}
