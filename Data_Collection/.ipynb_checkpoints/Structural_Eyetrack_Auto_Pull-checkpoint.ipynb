{
 "cells": [
  {
   "cell_type": "markdown",
   "id": "83b159c7-4d9b-434b-a8cc-62c1f5db3b0b",
   "metadata": {},
   "source": [
    "## Transfer Resting State Eyetracking Files to USB (.ps1)"
   ]
  },
  {
   "cell_type": "markdown",
   "id": "14f09c1d-94c0-456a-a8ce-5badabf4c5fe",
   "metadata": {},
   "source": [
    "This script will treat session folders created within 10 hours as new data and copy it over to the USB. A prompt will appear asking for confirmation of the files that you would like to collect.  "
   ]
  },
  {
   "cell_type": "markdown",
   "id": "8d7b20b4-d55e-49b2-8dac-1a5ad92eccc7",
   "metadata": {},
   "source": [
    "VERSION: `Structural_Eyetrack_Auto_Pull`"
   ]
  },
  {
   "cell_type": "code",
   "execution_count": null,
   "id": "65591911-5afc-4dfc-a0a3-7a735e976ed1",
   "metadata": {},
   "outputs": [],
   "source": [
    "$source = \"C:\\Users\\at-risk\\Documents\\atrisk_nate\\ARD2_RestingState_Deployed\\results\"\n",
    "$destination = \"E:\\RestingState_DAY1\"\n",
    "$currentDate = Get-Date\n",
    "$rawdata = Get-ChildItem -Path $source -Directory | Where-Object { $_.LastWriteTime -gt $currentDate.AddHours(-10) }\n",
    "\n",
    "foreach ($dir in $rawdata) {\n",
    "    $dirSizeBytes = (Get-ChildItem -Path $dir.FullName -Recurse -File | Measure-Object -Property Length -Sum).Sum\n",
    "    $dirSizeMB = [math]::Round($dirSizeBytes / 1MB, 2)\n",
    "    $creationTime = $dir.CreationTime\n",
    "    $userInput = Read-Host \"Do you want to pull $($dir.Name) [Size: $($dirSizeMB) MB, Created: $($creationTime)]\n",
    "     from $source to the USB? [Y/N]\"\n",
    "\n",
    "    if ($userInput -eq \"Y\") {\n",
    "        $destPath = Join-Path -Path $destination -ChildPath $dir.Name\n",
    "        Copy-Item -Path $dir.FullName -Destination $destPath -Recurse\n",
    "        Write-Output \"Copied $($dir.Name) to USB\"\n",
    "    }\n",
    "}"
   ]
  }
 ],
 "metadata": {
  "kernelspec": {
   "display_name": "Bash",
   "language": "bash",
   "name": "bash"
  },
  "language_info": {
   "name": ""
  }
 },
 "nbformat": 4,
 "nbformat_minor": 5
}
