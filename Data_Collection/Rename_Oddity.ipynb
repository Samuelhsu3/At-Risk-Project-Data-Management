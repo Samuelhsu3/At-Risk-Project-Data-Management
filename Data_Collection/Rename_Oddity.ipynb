{
 "cells": [
  {
   "cell_type": "markdown",
   "id": "83b159c7-4d9b-434b-a8cc-62c1f5db3b0b",
   "metadata": {},
   "source": [
    "## Rename Oddity Files to Standard Format (.ps1)"
   ]
  },
  {
   "cell_type": "markdown",
   "id": "609aef6f-cb81-49ef-bd8e-34e7d2431b08",
   "metadata": {},
   "source": [
    "VERSION: `Rename_Oddity`"
   ]
  },
  {
   "cell_type": "markdown",
   "id": "499634d8-a101-4f8b-ba15-106573be9b0d",
   "metadata": {},
   "source": [
    "### Advanced Explanation\n",
    "\n",
    "This PowerShell script begins by setting `$currentDirectory` to the current working directory using `Get-Location`. It then retrieves `.txt` files containing 'cat' in their names from `$currentDirectory` using `Get-ChildItem`. Iterating through these files with a `foreach` loop, the script reads each file's content into `$content`.\n",
    "\n",
    "For each file, the script searches `$content` for a line matching a date pattern (\"SessionDate: DD-MM-YYYY\") using `Where-Object` and a regex pattern. If such a line is found, the date is extracted and reformatted into \"YYYYDDMM\" format using regex groups.\n",
    "\n",
    "Next, it checks if the file name matches the pattern \"cat.*_v2-#\", extracting the participant ID using regex. The script then constructs a new base name for the file, combining the participant ID and the formatted date, and renames the `.txt` file accordingly.\n",
    "\n",
    "Additionally, the script attempts to find a corresponding `.edat2` file with the same base name as the `.txt` file. If found, this file is also renamed using the new base name format. Renaming operations and their results are outputted using `Write-Output`.\n",
    "\n",
    "### User-Friendly Explanation\n",
    "\n",
    "This script is designed to rename specific text files and related files in a folder on your computer. It looks for text files that include 'cat' in their name and have a specific date format inside (\"SessionDate: DD-MM-YYYY\"). When such a file is found, the script changes its name to include a participant ID (extracted from the original file name) and the date from inside the file, but in a different format (YYYYDDMM).\n",
    "\n",
    "The script also looks for related files with the extension '.edat2' that have the same original name as the text file. If such a file is found, it is renamed to match the new name of the text file. After renaming each file, the script reports the old and new names. This process helps in organizing and identifying files based on specific data contained within them.\n",
    "\n",
    "### Oversimplified Explantion\n",
    "\n",
    "Renames raw Oddity files to a format like 123_20231216 (123 being the ID).  Since it reads the txt for the date, there is no need to rename on the same day. "
   ]
  },
  {
   "cell_type": "code",
   "execution_count": null,
   "id": "99fc0d6a-7e60-4e2f-8b55-4b2bd4d037ff",
   "metadata": {},
   "outputs": [],
   "source": [
    "$currentDirectory = Get-Location\n",
    "$txtFiles = Get-ChildItem -Path $currentDirectory\\*cat*.txt\n",
    "\n",
    "foreach ($txtFile in $txtFiles) {\n",
    "    $content = Get-Content $txtFile.FullName\n",
    "    $dateLine = $content | Where-Object { $_ -match \"SessionDate: (\\d{2})-(\\d{2})-(\\d{4})\" }\n",
    "\n",
    "    if ($dateLine) {\n",
    "        $dateMatches = [regex]::Match($dateLine, \"(\\d{2})-(\\d{2})-(\\d{4})\")\n",
    "        $formattedDate = \"{0}{1}{2}\" -f $dateMatches.Groups[3], $dateMatches.Groups[1], $dateMatches.Groups[2]\n",
    "\n",
    "        if ($txtFile.Name -match \"cat.*_v2-(\\d+)-1\") {\n",
    "            $participantID = $matches[1]\n",
    "            $baseNameWithoutExtension = $txtFile.BaseName\n",
    "            $newBaseName = \"${participantID}_${formattedDate}\"\n",
    "\n",
    "            $ftxt = \"$newBaseName.txt\"\n",
    "            Rename-Item -Path $txtFile.FullName -NewName $ftxt\n",
    "            Write-Output \"Renamed $($txtFile.Name) to $ftxt\"\n",
    "\n",
    "            $edat2FileName = $baseNameWithoutExtension + \".edat2\"\n",
    "            $edat2File = Get-ChildItem -Path \"$currentDirectory\\$edat2FileName\" -ErrorAction SilentlyContinue\n",
    "            if ($edat2File) {\n",
    "                $fedat = \"$newBaseName.edat2\"\n",
    "                Rename-Item -Path $edat2File.FullName -NewName $fedat\n",
    "                Write-Output \"Renamed $($edat2File.Name) to $fedat\"\n",
    "            }\n",
    "        }\n",
    "    }\n",
    "}\n"
   ]
  },
  {
   "cell_type": "markdown",
   "id": "c94b3b41-55e3-4ce5-82db-5c4c36128450",
   "metadata": {},
   "source": [
    "VERSION: `Rename_Oddity_Today`"
   ]
  },
  {
   "cell_type": "markdown",
   "id": "81bd5418-2725-4b6c-bbbf-8bf7c6585940",
   "metadata": {},
   "source": [
    "This assumes the date so it has to be run on the same day"
   ]
  },
  {
   "cell_type": "code",
   "execution_count": null,
   "id": "65591911-5afc-4dfc-a0a3-7a735e976ed1",
   "metadata": {},
   "outputs": [],
   "source": [
    "$currentDate = Get-Date -Format \"yyyyMMdd\"\n",
    "\n",
    "Get-ChildItem -Path .\\*cat* | ForEach-Object {\n",
    "\n",
    "    if ($_.Name -match \"_v2-(\\d+)-1\") {\n",
    "\n",
    "        $participantID = $matches[1]\n",
    "        $newFileName = \"${participantID}_$currentDate$($_.Extension)\"\n",
    "\n",
    "        Rename-Item -Path $_.FullName -NewName $newFileName\n",
    "        Write-Output \"Renamed $($_.Name) to $newFileName\"\n",
    "    }\n",
    "}\n"
   ]
  }
 ],
 "metadata": {
  "kernelspec": {
   "display_name": "Bash",
   "language": "bash",
   "name": "bash"
  },
  "language_info": {
   "name": ""
  }
 },
 "nbformat": 4,
 "nbformat_minor": 5
}
