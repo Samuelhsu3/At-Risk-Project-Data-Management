{
 "cells": [
  {
   "cell_type": "markdown",
   "id": "83b159c7-4d9b-434b-a8cc-62c1f5db3b0b",
   "metadata": {},
   "source": [
    "## Sort Neuropsychological Assessment Battery Files (.ps1)"
   ]
  },
  {
   "cell_type": "markdown",
   "id": "14f09c1d-94c0-456a-a8ce-5badabf4c5fe",
   "metadata": {},
   "source": [
    "This should be saved in the Neuropsych Battery folder of the backup laptop. It creates a new Neuropsych Batt session folder for every pair of raw files (should be Neuropsych and Moca with the same extention) in the current directory. "
   ]
  },
  {
   "cell_type": "markdown",
   "id": "4c669db0-764c-4436-9083-d3a2e9ea9641",
   "metadata": {},
   "source": [
    "VERSION: `Sort_Neuropsych_Batt.ps1`"
   ]
  },
  {
   "cell_type": "code",
   "execution_count": null,
   "id": "99fc0d6a-7e60-4e2f-8b55-4b2bd4d037ff",
   "metadata": {},
   "outputs": [],
   "source": [
    "$files = Get-ChildItem -Path .\\* -Include *.pdf -File\n",
    "\n",
    "$groupedFiles = $files | Group-Object { $_.BaseName.Split('_')[0] }\n",
    "\n",
    "$sortedFileCount = 0\n",
    "$sortedFolderCount = 0\n",
    "\n",
    "foreach ($group in $groupedFiles) {\n",
    "    $folderName = $group.Name\n",
    "    $directoryPath = Join-Path -Path (Get-Location) -ChildPath $folderName\n",
    "\n",
    "    if (-not (Test-Path $directoryPath)) {\n",
    "        New-Item -Path $directoryPath -ItemType Directory\n",
    "    }\n",
    "\n",
    "    foreach ($file in $group.Group) {\n",
    "        $newPath = Join-Path -Path $directoryPath -ChildPath $file.Name\n",
    "        Move-Item -Path $file.FullName -Destination $newPath\n",
    "        $sortedFileCount++\n",
    "    }\n",
    "    $sortedFolderCount++\n",
    "}\n",
    "\n",
    "Write-Output \"Total Files Sorted: $sortedFileCount\"\n",
    "Write-Output \"Total Folders Created: $sortedFolderCount\"\n"
   ]
  }
 ],
 "metadata": {
  "kernelspec": {
   "display_name": "Bash",
   "language": "bash",
   "name": "bash"
  },
  "language_info": {
   "name": ""
  }
 },
 "nbformat": 4,
 "nbformat_minor": 5
}
