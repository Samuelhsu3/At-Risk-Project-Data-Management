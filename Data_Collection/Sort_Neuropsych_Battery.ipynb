{
 "cells": [
  {
   "cell_type": "markdown",
   "id": "83b159c7-4d9b-434b-a8cc-62c1f5db3b0b",
   "metadata": {},
   "source": [
    "## Sort Neuropsychological Assessment Battery Files into Session Folders (.ps1)"
   ]
  },
  {
   "cell_type": "markdown",
   "id": "4c669db0-764c-4436-9083-d3a2e9ea9641",
   "metadata": {},
   "source": [
    "VERSION: `Sort_Neuropsych_Batt.ps1`"
   ]
  },
  {
   "cell_type": "markdown",
   "id": "14f09c1d-94c0-456a-a8ce-5badabf4c5fe",
   "metadata": {},
   "source": [
    "### Advanced Explanation\n",
    "\n",
    "This PowerShell script is designed to automate the organization of `.pdf` files in the current directory. It starts by retrieving all `.pdf` files (`Get-ChildItem -Path . -Include *.pdf -File`). The script then groups these files using `Group-Object { $_.BaseName.Split('_')[0] }`, creating a collection based on the prefix of each file name before an underscore.\n",
    "\n",
    "In the main loop, for each group, it checks whether a directory named after the group's prefix exists. If not, it creates one (`New-Item -Path $directoryPath -ItemType Directory`). Then, it iterates over each file in the group, moving it to the newly created or existing directory with `Move-Item`. The counts of sorted files (`$sortedFileCount`) and created folders (`$sortedFolderCount`) are maintained and incremented accordingly.\n",
    "\n",
    "The script concludes by outputting the total number of files sorted and folders created, giving an overview of the organization process.\n",
    "\n",
    "### User-Friendly Explanation\n",
    "\n",
    "This script makes it easy to organize PDF files in a folder. It groups the files based on the first part of their names (before an underscore) and creates a new folder for each group. For example, all files starting with \"Project_\" will be moved to a folder named \"Project\".\n",
    "\n",
    "The script checks if the right folder exists for each group of files. If not, it creates the folder. Then, it moves each file into its designated folder. In the end, the script tells you how many files it sorted into how many new folders. This is a great way to keep your PDF files neatly organized by their naming patterns.\n",
    "\n",
    "### Oversimplified Explantion\n",
    "\n",
    "This should be saved in the Neuropsych Battery folder of the backup laptop. It creates a new Neuropsych Batt session folder for every group of raw files (should be Neuropsych and Moca with the same extention, or even MFQ) in the current directory. Example: ID_YYYYMMDD_Moca.pdf and ID_YYYYMMDD.pdf will go inside folder ID_YYYYMMDD."
   ]
  },
  {
   "cell_type": "code",
   "execution_count": null,
   "id": "99fc0d6a-7e60-4e2f-8b55-4b2bd4d037ff",
   "metadata": {},
   "outputs": [],
   "source": [
    "\n",
    "$files = Get-ChildItem -Path . -Include *.pdf -File\n",
    "\n",
    "$groupedFiles = $files | Group-Object { $_.BaseName.Split('_')[0] }\n",
    "\n",
    "$sortedFileCount = 0\n",
    "$sortedFolderCount = 0\n",
    "\n",
    "foreach ($group in $groupedFiles) {\n",
    "    $folderName = $group.Name\n",
    "    $directoryPath = Join-Path -Path (Get-Location) -ChildPath $folderName\n",
    "\n",
    "    if (-not (Test-Path $directoryPath)) {\n",
    "        New-Item -Path $directoryPath -ItemType Directory\n",
    "    }\n",
    "\n",
    "    foreach ($file in $group.Group) {\n",
    "        $newPath = Join-Path -Path $directoryPath -ChildPath $file.Name\n",
    "        Move-Item -Path $file.FullName -Destination $newPath\n",
    "        $sortedFileCount++\n",
    "    }\n",
    "    $sortedFolderCount++\n",
    "}\n",
    "\n",
    "Write-Output \"Total Files Sorted: $sortedFileCount\"\n",
    "Write-Output \"Total Folders Created: $sortedFolderCount\"\n"
   ]
  }
 ],
 "metadata": {
  "kernelspec": {
   "display_name": "Bash",
   "language": "bash",
   "name": "bash"
  },
  "language_info": {
   "name": ""
  }
 },
 "nbformat": 4,
 "nbformat_minor": 5
}
