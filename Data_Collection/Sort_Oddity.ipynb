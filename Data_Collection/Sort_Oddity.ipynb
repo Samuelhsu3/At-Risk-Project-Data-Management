{
 "cells": [
  {
   "cell_type": "markdown",
   "id": "83b159c7-4d9b-434b-a8cc-62c1f5db3b0b",
   "metadata": {},
   "source": [
    "## Sort Oddity Files into Session Folders (.ps1)"
   ]
  },
  {
   "cell_type": "markdown",
   "id": "3d1a4a8f-4948-4e1b-a482-8744dfe74090",
   "metadata": {},
   "source": [
    "VERSION: `Sort_Oddity_Converted_Raw.ps1`"
   ]
  },
  {
   "cell_type": "markdown",
   "id": "14f09c1d-94c0-456a-a8ce-5badabf4c5fe",
   "metadata": {},
   "source": [
    "### Advanced Explanation\n",
    "\n",
    "This PowerShell script sorts `.edat2` and `.txt` files into folders based on a grouping criterion. It begins by fetching files with these extensions in the current directory (`Get-ChildItem -Path .\\* -Include *.edat2, *.txt -File`). The files are grouped using `Group-Object`. If the base name matches a pattern (`'^[a-zA-Z]*(\\d+)_`'), it groups by the numeric part; otherwise, it uses the entire base name.\n",
    "\n",
    "The script iterates over each group. It first checks for the presence of an `.edat2` file in each group, skipping the group if none is found. The folder name is determined from the base name of the `.edat2` file. The script then checks for the presence of both `.edat2` and `.txt` files within the group. If both are present, it creates a new directory (if it doesn't exist) and moves all files in the group to this directory, updating counters for files and folders sorted.\n",
    "\n",
    "If either file type is missing in a group, the missing file names are added to `$missingFiles`. After processing all groups, it lists any missing files and outputs the total count of sorted files and created folders.\n",
    "\n",
    "### User-Friendly Explanation\n",
    "\n",
    "This script helps to organize `.edat2` and `.txt` files into separate folders. It goes through all such files in a folder, and groups them based on their names. Each group is intended to have one `.edat2` file and one `.txt` file. It then creates a new folder for each group and moves the files into these folders.\n",
    "\n",
    "The script also checks if any group is missing either a `.txt` or `.edat2` file. If a file is missing, it notes down which one is absent. After it finishes organizing, the script reports any missing files, how many files it moved, and how many new folders it created. This is useful for keeping your files neatly sorted and identifying any missing files in a set.\n",
    "\n",
    "### Oversimplified Explantion\n",
    "\n",
    "This should be saved in the processing folder of the testing laptop. It creates a new oddity session folder for every group of Oddity files in the current directory (2 txt and 1 edat2). "
   ]
  },
  {
   "cell_type": "code",
   "execution_count": null,
   "id": "bd7b3ad8-a67d-426c-aa54-58760d68fa48",
   "metadata": {},
   "outputs": [],
   "source": [
    "$files = Get-ChildItem -Path .\\* -Include *.edat2, *.txt -File\n",
    "\n",
    "$groupedFiles = $files | Group-Object { if ($_.BaseName -match '^[a-zA-Z]*(\\d+)_') { $matches[1] } else { $_.BaseName } }\n",
    "\n",
    "$sortedFileCount = 0\n",
    "$sortedFolderCount = 0\n",
    "$missingFiles = @()\n",
    "\n",
    "foreach ($group in $groupedFiles) {\n",
    "    $edat2File = $group.Group | Where-Object { $_.Extension -eq '.edat2' } | Select-Object -First 1\n",
    "    if ($edat2File -eq $null) {\n",
    "        continue \n",
    "    }\n",
    "    \n",
    "    $folderName = $edat2File.BaseName\n",
    "    $directoryPath = Join-Path -Path (Get-Location) -ChildPath $folderName\n",
    "\n",
    "    $hasTxt = $false\n",
    "    $hasEdat2 = $false\n",
    "\n",
    "    foreach ($file in $group.Group) {\n",
    "        if ($file.Extension -eq '.txt') {\n",
    "            $hasTxt = $true\n",
    "        } elseif ($file.Extension -eq '.edat2') {\n",
    "            $hasEdat2 = $true\n",
    "        }\n",
    "    }\n",
    "\n",
    "    if ($hasTxt -and $hasEdat2) {\n",
    "        if (-not (Test-Path $directoryPath)) {\n",
    "            New-Item -Path $directoryPath -ItemType Directory\n",
    "        }\n",
    "\n",
    "        foreach ($file in $group.Group) {\n",
    "            $newPath = Join-Path -Path $directoryPath -ChildPath $file.Name\n",
    "            Move-Item -Path $file.FullName -Destination $newPath\n",
    "            $sortedFileCount++\n",
    "        }\n",
    "        $sortedFolderCount++\n",
    "    } else {\n",
    "        if (-not $hasTxt) { $missingFiles += \"$folderName.txt\" }\n",
    "        if (-not $hasEdat2) { $missingFiles += \"$folderName.edat2\" }\n",
    "    }\n",
    "}\n",
    "\n",
    "if ($missingFiles.Count -gt 0) {\n",
    "    Write-Output \"Missing Files:\"\n",
    "    $missingFiles | ForEach-Object { Write-Output $_ }\n",
    "}\n",
    "\n",
    "Write-Output \"Total Files Sorted: $sortedFileCount\"\n",
    "Write-Output \"Total Folders Created: $sortedFolderCount\"\n"
   ]
  },
  {
   "cell_type": "markdown",
   "id": "4c669db0-764c-4436-9083-d3a2e9ea9641",
   "metadata": {},
   "source": [
    "VERSION: `Sort_Oddity_edat2&txt.ps1`"
   ]
  },
  {
   "cell_type": "markdown",
   "id": "9d67308d-20b2-4a25-a7e3-9652e9ec4883",
   "metadata": {},
   "source": [
    "Expects edat2 and a raw txt "
   ]
  },
  {
   "cell_type": "code",
   "execution_count": null,
   "id": "99fc0d6a-7e60-4e2f-8b55-4b2bd4d037ff",
   "metadata": {},
   "outputs": [],
   "source": [
    "$files = Get-ChildItem -Path .\\* -Include *.edat2, *.txt -File\n",
    "$groupedFiles = $files | Group-Object { $_.BaseName }\n",
    "\n",
    "$sortedFileCount = 0\n",
    "$sortedFolderCount = 0\n",
    "$missingFiles = @()\n",
    "\n",
    "foreach ($group in $groupedFiles) {\n",
    "    $folderName = $group.Name\n",
    "    $directoryPath = Join-Path -Path (Get-Location) -ChildPath $folderName\n",
    "\n",
    "    $hasTxt = $false\n",
    "    $hasEdat2 = $false\n",
    "\n",
    "    foreach ($file in $group.Group) {\n",
    "        if ($file.Extension -eq '.txt') {\n",
    "            $hasTxt = $true\n",
    "        } elseif ($file.Extension -eq '.edat2') {\n",
    "            $hasEdat2 = $true\n",
    "        }\n",
    "    }\n",
    "\n",
    "    if ($hasTxt -and $hasEdat2) {\n",
    "        if (-not (Test-Path $directoryPath)) {\n",
    "            New-Item -Path $directoryPath -ItemType Directory\n",
    "        }\n",
    "\n",
    "        foreach ($file in $group.Group) {\n",
    "            $newPath = Join-Path -Path $directoryPath -ChildPath $file.Name\n",
    "            Move-Item -Path $file.FullName -Destination $newPath\n",
    "            $sortedFileCount++\n",
    "        }\n",
    "        $sortedFolderCount++\n",
    "    } else {\n",
    "        if (-not $hasTxt) { $missingFiles += \"$folderName.txt\" }\n",
    "        if (-not $hasEdat2) { $missingFiles += \"$folderName.edat2\" }\n",
    "    }\n",
    "}\n",
    "\n",
    "if ($missingFiles.Count -gt 0) {\n",
    "    Write-Output \"Missing Files:\"\n",
    "    $missingFiles | ForEach-Object { Write-Output $_ }\n",
    "}\n",
    "\n",
    "Write-Output \"Total Files Sorted: $sortedFileCount\"\n",
    "Write-Output \"Total Folders Created: $sortedFolderCount\""
   ]
  }
 ],
 "metadata": {
  "kernelspec": {
   "display_name": "Bash",
   "language": "bash",
   "name": "bash"
  },
  "language_info": {
   "name": ""
  }
 },
 "nbformat": 4,
 "nbformat_minor": 5
}
