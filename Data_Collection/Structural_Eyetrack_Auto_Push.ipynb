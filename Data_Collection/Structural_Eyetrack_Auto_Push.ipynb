{
 "cells": [
  {
   "cell_type": "markdown",
   "id": "83b159c7-4d9b-434b-a8cc-62c1f5db3b0b",
   "metadata": {},
   "source": [
    "## Transfer Resting State Eyetracking Files From USB to Computer (.ps1)"
   ]
  },
  {
   "cell_type": "markdown",
   "id": "14f09c1d-94c0-456a-a8ce-5badabf4c5fe",
   "metadata": {},
   "source": [
    "This script will keep a log of when it was last synced. A prompt will appear asking for confirmation of the files that you would like to push to the backup device. It is designed so that any files created after the last sync will be copied over (meaning you could rename a file within the same folder and they won't be copied over again). Still make sure to check if the session folders pushed are the ones expected.  "
   ]
  },
  {
   "cell_type": "markdown",
   "id": "8d7b20b4-d55e-49b2-8dac-1a5ad92eccc7",
   "metadata": {},
   "source": [
    "VERSION: `Structural_Eyetrack_Auto_Push`"
   ]
  },
  {
   "cell_type": "code",
   "execution_count": null,
   "id": "65591911-5afc-4dfc-a0a3-7a735e976ed1",
   "metadata": {},
   "outputs": [],
   "source": [
    "$source = \"E:\\RestingState_DAY1\" \n",
    "$destination = \"C:\\Backupdata\\RestingState_DAY1\" \n",
    "$logFile = \"C:\\Backupdata\\RestingState_DAY1\\DAY1_USB_Log.txt\" \n",
    "\n",
    "if (-not (Test-Path -Path $logFile)) {\n",
    "    New-Item -Path $logFile -ItemType File\n",
    "    \"Log Created: $(Get-Date)\" | Out-File -FilePath $logFile\n",
    "}\n",
    "\n",
    "$lastSyncTime = (Get-Content -Path $logFile -Tail 1) -replace \"Last Sync:\", \"\"\n",
    "if ([string]::IsNullOrWhiteSpace($lastSyncTime)) {\n",
    "    $lastSyncTime = [datetime]::MinValue\n",
    "} else {\n",
    "    $lastSyncTime = [datetime]::Parse($lastSyncTime)\n",
    "}\n",
    "\n",
    "$newData = Get-ChildItem -Path $source -Directory | Where-Object { $_.CreationTime -gt $lastSyncTime }\n",
    "\n",
    "if ($newData.Count -eq 0) {\n",
    "    Write-Output \"No new session folders since last synced.\"\n",
    "} else {\n",
    "    foreach ($dir in $newData) {\n",
    "        $dirSizeBytes = (Get-ChildItem -Path $dir.FullName -Recurse -File | Measure-Object -Property Length -Sum).Sum\n",
    "        $dirSizeMB = [math]::Round($dirSizeBytes / 1MB, 2)\n",
    "        $creationTime = $dir.CreationTime\n",
    "\n",
    "        $userInput = Read-Host \"Do you want to push $($dir.Name) [Size: $($dirSizeMB) MB, Created: $($creationTime)]\n",
    "         from $source ? [Y/N]\"\n",
    "\n",
    "        if ($userInput -eq \"Y\") {\n",
    "            $destPath = Join-Path -Path $destination -ChildPath $dir.Name\n",
    "            Copy-Item -Path $dir.FullName -Destination $destPath -Recurse\n",
    "            Write-Output \"Copied $($dir.Name) to the computer\"\n",
    "        }\n",
    "    }\n",
    "}\n",
    "\n",
    "\"Last Sync: $(Get-Date)\" | Out-File -FilePath $logFile -Append\n"
   ]
  }
 ],
 "metadata": {
  "kernelspec": {
   "display_name": "Bash",
   "language": "bash",
   "name": "bash"
  },
  "language_info": {
   "name": ""
  }
 },
 "nbformat": 4,
 "nbformat_minor": 5
}
