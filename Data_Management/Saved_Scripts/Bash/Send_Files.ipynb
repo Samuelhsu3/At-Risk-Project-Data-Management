{
 "cells": [
  {
   "cell_type": "markdown",
   "id": "365c0eb0-4e36-42e6-a0de-81e2dd9431cb",
   "metadata": {},
   "source": [
    "# Sends recent files to Compute Canada automatically (.sh)"
   ]
  },
  {
   "cell_type": "markdown",
   "id": "81047241-84dd-4b4b-a5ce-1af86974d3e4",
   "metadata": {},
   "source": [
    "This saves you from typing in command lines manually by looking for recent files and syncing it automatically"
   ]
  },
  {
   "cell_type": "markdown",
   "id": "bcbbc2dd-c5ba-414d-a5a8-1b97b7f11d66",
   "metadata": {},
   "source": [
    "*Ensure to change folder name*"
   ]
  },
  {
   "cell_type": "code",
   "execution_count": null,
   "id": "7801eef0-0474-4ceb-8fcc-00a8d757b344",
   "metadata": {},
   "outputs": [],
   "source": [
    "#!/bin/bash\n",
    "\n",
    "folder=\"/mnt/c/Users/samhs/powershelltest\"\n",
    "\n",
    "destination=\"samhsu03@graham.computecanada.ca:/home/samhsu03/scratch/powershelltest/\"\n",
    "\n",
    "find \"$folder\" -type d -mtime -1 | while read -r dir; do\n",
    "    if [ \"$dir\" != \"$folder\" ]; then\n",
    "        rsync -av --progress \"$dir\" \"$destination\"\n",
    "    fi\n",
    "done\n",
    "\n"
   ]
  },
  {
   "cell_type": "markdown",
   "id": "81ce2da8-2df8-46a4-bcec-a58713224d5b",
   "metadata": {},
   "source": [
    "See the *Move SSH Key* Section in the [SSH key guide](SSHKEY.ipynb) if it asks for password"
   ]
  }
 ],
 "metadata": {
  "kernelspec": {
   "display_name": "Bash",
   "language": "bash",
   "name": "bash"
  },
  "language_info": {
   "name": ""
  }
 },
 "nbformat": 4,
 "nbformat_minor": 5
}
