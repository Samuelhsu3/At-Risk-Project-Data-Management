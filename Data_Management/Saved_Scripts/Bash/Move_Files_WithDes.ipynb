{
 "cells": [
  {
   "cell_type": "markdown",
   "id": "2b2d5baa-233b-422b-a396-9579636b775c",
   "metadata": {},
   "source": [
    "# Moves specified files to specified destination (.sh)"
   ]
  },
  {
   "cell_type": "markdown",
   "id": "8ce8ef08-0b9d-4d44-8615-e1f614f41047",
   "metadata": {},
   "source": [
    "This requires defining the absolute pathways. It was used to move files in bulk from scratch to projects after compression.   "
   ]
  },
  {
   "cell_type": "markdown",
   "id": "9522c165-4bee-40ea-8224-f2334dd0d8a7",
   "metadata": {},
   "source": [
    "*Replace with actual file names and destination*"
   ]
  },
  {
   "cell_type": "code",
   "execution_count": null,
   "id": "7aa1c945-67c6-4b45-9524-ea0548e8af17",
   "metadata": {},
   "outputs": [],
   "source": [
    "#!/bin/bash\n",
    "\n",
    "src_files=( \"bay9618.tar.gz\")\n",
    "\n",
    "dst_dirs=(\"projects/def-rolsen/AtRisk-Dataset/DAY1_EyeTracking/BAY9618\")\n",
    "\n",
    "if [ ${#src_files[@]} -ne ${#dst_dirs[@]} ]; then\n",
    "    echo \"Mismatch in number of source files and destination directories.\"\n",
    "    exit 1\n",
    "fi\n",
    "\n",
    "copied_files=0\n",
    "\n",
    "for i in \"${!src_files[@]}\"; do\n",
    "    cp \"${src_files[$i]}\" \"${dst_dirs[$i]}\" && copied_files=$((copied_files + 1))\n",
    "done\n",
    "\n",
    "echo \"Number of files copied: $copied_files\"\n"
   ]
  }
 ],
 "metadata": {
  "kernelspec": {
   "display_name": "Bash",
   "language": "bash",
   "name": "bash"
  },
  "language_info": {
   "name": ""
  }
 },
 "nbformat": 4,
 "nbformat_minor": 5
}
