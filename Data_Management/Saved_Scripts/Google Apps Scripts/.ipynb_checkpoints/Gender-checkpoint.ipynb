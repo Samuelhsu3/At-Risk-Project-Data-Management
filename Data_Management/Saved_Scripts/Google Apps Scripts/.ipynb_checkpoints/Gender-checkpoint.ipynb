{
 "cells": [
  {
   "cell_type": "markdown",
   "id": "59551eb4-76fb-41d3-add9-4b4ceb545332",
   "metadata": {},
   "source": [
    "# Find Gender (.gs)"
   ]
  },
  {
   "cell_type": "markdown",
   "id": "c6c4a1fe-78f9-49d8-974c-3b16d408b74e",
   "metadata": {},
   "source": [
    "Reads from Gender sheet and updates column"
   ]
  },
  {
   "cell_type": "code",
   "execution_count": null,
   "id": "443c550c-7c73-4d1c-8df1-7550ac502565",
   "metadata": {},
   "outputs": [],
   "source": [
    "function Fill_gender() {\n",
    "  var ss = SpreadsheetApp.getActiveSpreadsheet();\n",
    "  var sheet = ss.getActiveSheet();\n",
    "  var genderSheet = ss.getSheetByName(\"Gender\");\n",
    "  \n",
    "  // Define the range for the ID and Gender columns\n",
    "  var idRange = sheet.getRange(2, 1, sheet.getLastRow() - 1);\n",
    "  var genderRange = sheet.getRange(2, 4, sheet.getLastRow() - 1);\n",
    "  \n",
    "  var genderData = genderSheet.getDataRange().getValues();\n",
    "  var ids = idRange.getValues(); // Get only the IDs\n",
    "  var genders = genderRange.getValues(); // Get only the genders\n",
    "  \n",
    "  var genderDict = {}; // For mapping participant ID to gender\n",
    "  var notFoundIds = []; // To keep track of IDs without a gender found\n",
    "  \n",
    "  // Build a dictionary from the Gender sheet for easier lookup\n",
    "  for (var i = 0; i < genderData.length; i++) {\n",
    "    genderDict[genderData[i][0]] = genderData[i][1];\n",
    "  }\n",
    "  \n",
    "  // Iterate over the IDs and genders separately\n",
    "  for (var i = 0; i < ids.length; i++) {\n",
    "    var participantId = ids[i][0];\n",
    "    if ((genders[i][0] === \"\" || genders[i][0] === \"Not found\") && participantId) { // If gender cell is empty or says \"Not found\"\n",
    "      var gender = genderDict[participantId];\n",
    "      if (gender) {\n",
    "        genders[i][0] = gender; // Update the gender array\n",
    "      } else {\n",
    "        genders[i][0] = \"Not found\"; // Keep \"Not found\" if gender is not in the dictionary\n",
    "        notFoundIds.push(participantId); // Add the ID to not found list\n",
    "      }\n",
    "    }\n",
    "  }\n",
    "  \n",
    "  // Update the gender column only\n",
    "  genderRange.setValues(genders);\n",
    "  \n",
    "  // Notify the user if any gender information could not be found\n",
    "  if (notFoundIds.length > 0) {\n",
    "    var message = \"Gender not found for ID(s): \" + notFoundIds.join(\", \");\n",
    "    SpreadsheetApp.getUi().alert(message);\n",
    "  } else {\n",
    "    SpreadsheetApp.getUi().alert('Gender filled for all applicable entries.');\n",
    "  }\n",
    "}\n"
   ]
  }
 ],
 "metadata": {
  "kernelspec": {
   "display_name": "Python 3 (ipykernel)",
   "language": "python",
   "name": "python3"
  },
  "language_info": {
   "codemirror_mode": {
    "name": "ipython",
    "version": 3
   },
   "file_extension": ".py",
   "mimetype": "text/x-python",
   "name": "python",
   "nbconvert_exporter": "python",
   "pygments_lexer": "ipython3",
   "version": "3.10.9"
  }
 },
 "nbformat": 4,
 "nbformat_minor": 5
}
