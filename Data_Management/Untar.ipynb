{
 "cells": [
  {
   "cell_type": "markdown",
   "id": "ceb7e134-41f9-48c7-a386-a8eed280b48d",
   "metadata": {},
   "source": [
    "# Untaring FIles (.sh)"
   ]
  },
  {
   "cell_type": "markdown",
   "id": "30ffc034-354d-4c69-9e6e-7f7c3ebed843",
   "metadata": {},
   "source": [
    "Directories copied from projects can be untarred with this script.\n",
    "It will keep the same structure by replacing the tars."
   ]
  },
  {
   "cell_type": "code",
   "execution_count": null,
   "id": "f3452c0b-5e7b-49c5-9c8e-d08b3aa3ad0b",
   "metadata": {},
   "outputs": [],
   "source": [
    "#!/bin/bash\n",
    "\n",
    "untar_and_delete() {\n",
    "    local tar_file=\"$1\"\n",
    "    local dir_name=$(dirname \"$tar_file\")\n",
    "    local base_name=$(basename \"$tar_file\" \".tar.gz\")\n",
    "    mkdir -p \"$dir_name/$base_name\"\n",
    "    tar -xzf \"$tar_file\" -C \"$dir_name/$base_name\"\n",
    "    rm \"$tar_file\"\n",
    "}\n",
    "\n",
    "find . -type f -name \"*.tar.gz\" -print0 | while IFS= read -r -d '' tar_file; do\n",
    "    untar_and_delete \"$tar_file\"\n",
    "done\n"
   ]
  },
  {
   "cell_type": "code",
   "execution_count": null,
   "id": "5e3e9ce4-fd23-4f52-93b9-e84670e1552e",
   "metadata": {},
   "outputs": [],
   "source": [
    "#!/bin/bash\n",
    "\n",
    "before_dirs=$(find . -type d)\n",
    "\n",
    "file_count=0\n",
    "\n",
    "find . -type f -name \"*.tar.gz\" -print0 | while IFS= read -r -d '' file; do\n",
    "    tar -zxvf \"$file\" -C \"$(dirname \"$file\")\"\n",
    "    rm \"$file\"\n",
    "    let file_count++\n",
    "done\n",
    "\n",
    "after_dirs=$(find . -type d)\n",
    "\n",
    "new_dirs=$(comm -13 <(echo \"$before_dirs\" | sort) <(echo \"$after_dirs\" | sort) | wc -l)\n",
    "\n",
    "echo \"$file_count .tar.gz files were untarred.\"\n",
    "echo \"$new_dirs new directories were created.\"\n"
   ]
  }
 ],
 "metadata": {
  "kernelspec": {
   "display_name": "Bash",
   "language": "bash",
   "name": "bash"
  },
  "language_info": {
   "name": ""
  }
 },
 "nbformat": 4,
 "nbformat_minor": 5
}
