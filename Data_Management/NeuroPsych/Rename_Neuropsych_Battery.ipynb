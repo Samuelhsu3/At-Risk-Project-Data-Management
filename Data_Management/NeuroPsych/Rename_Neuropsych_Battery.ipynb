{
 "cells": [
  {
   "cell_type": "markdown",
   "id": "7db8e201-f142-4fbf-831c-e216ffadf2ef",
   "metadata": {},
   "source": [
    "## Rename NeuroPsych Battery Folders and Files(.sh)"
   ]
  },
  {
   "cell_type": "markdown",
   "id": "9438b773-ac38-4bcb-8723-21d921e683ea",
   "metadata": {},
   "source": [
    "VERSION: `Rename_NeuroPsych_Battery`"
   ]
  },
  {
   "cell_type": "code",
   "execution_count": null,
   "id": "347327a1-45e8-4e75-907f-ea5f91a9639a",
   "metadata": {},
   "outputs": [],
   "source": [
    "#!/bin/bash\n",
    "\n",
    "renamed_count=0\n",
    "\n",
    "for id_dir in */ ; do\n",
    "    if [[ -d \"$id_dir\" ]]; then\n",
    "        id=${id_dir%/}\n",
    "        for session_dir in \"${id_dir}\"*/ ; do\n",
    "            session_name=$(basename \"$session_dir\")\n",
    "            if [[ $session_name =~ ^[0-9]{8}$ ]]; then\n",
    "                continue\n",
    "            fi\n",
    "\n",
    "            session_changed=false\n",
    "            for file in \"${session_dir}\"*.pdf ; do\n",
    "                if [[ -f \"$file\" ]]; then\n",
    "                    filename=$(basename -- \"$file\")\n",
    "                    IFS='_' read -ra ADDR <<< \"$filename\"\n",
    "                    ID=${ADDR[0]}\n",
    "                    DATE=${ADDR[1]}\n",
    "                    TYPE=${ADDR[2]%.*}\n",
    "\n",
    "                    if [ -z \"$TYPE\" ]; then\n",
    "                        new_filename=\"sub-${ID}_date-${DATE}_neuropsych.pdf\"\n",
    "                    else\n",
    "                        new_filename=\"sub-${ID}_date-${DATE}_${TYPE,,}.pdf\"\n",
    "                    fi\n",
    "\n",
    "                    mv \"$file\" \"${session_dir}${new_filename}\"\n",
    "                    session_changed=true\n",
    "                fi\n",
    "            done\n",
    "\n",
    "            if [ \"$session_changed\" = true ]; then\n",
    "                new_session_dir=\"${id_dir}${DATE}/\"\n",
    "                echo \"${session_name} -> ${DATE}\"\n",
    "                mv \"$session_dir\" \"$new_session_dir\" && ((renamed_count++))\n",
    "            fi\n",
    "        done\n",
    "    fi\n",
    "done\n",
    "\n",
    "echo \"Number of folders renamed: $renamed_count\"\n"
   ]
  }
 ],
 "metadata": {
  "kernelspec": {
   "display_name": "Bash",
   "language": "bash",
   "name": "bash"
  },
  "language_info": {
   "name": ""
  }
 },
 "nbformat": 4,
 "nbformat_minor": 5
}
