{
 "cells": [
  {
   "cell_type": "markdown",
   "id": "7db8e201-f142-4fbf-831c-e216ffadf2ef",
   "metadata": {},
   "source": [
    "## Rename Oddity Folders and Files(.sh)"
   ]
  },
  {
   "cell_type": "markdown",
   "id": "5ff1953a-73ce-41f8-bc77-8000c0850dc6",
   "metadata": {},
   "source": [
    "This script should work on both session folders pulled from the drive as well as from the raw folder. (e.g BAY11107_20231128 or 11107_20231128). "
   ]
  },
  {
   "cell_type": "markdown",
   "id": "9438b773-ac38-4bcb-8723-21d921e683ea",
   "metadata": {},
   "source": [
    "This does not look for specific file extensions since the file basename are the same. This means that any edat, edat2, and txt will all be renamed to the same format. "
   ]
  },
  {
   "cell_type": "code",
   "execution_count": null,
   "id": "347327a1-45e8-4e75-907f-ea5f91a9639a",
   "metadata": {},
   "outputs": [],
   "source": [
    "#!/bin/bash\n",
    "\n",
    "renamed_folders_count=0\n",
    "\n",
    "rename_session_folder_and_files() {\n",
    "    local id_folder=\"$1\"\n",
    "    local session_folder=\"$2\"\n",
    "    local id=\"$3\"\n",
    "    local date=\"$4\"\n",
    "\n",
    "    local already_renamed=true\n",
    "    for file in \"${session_folder}\"/*; do\n",
    "        if [[ -f \"$file\" && ! $file =~ sub-${id}_date-${date}_proj-oddity_response ]]; then\n",
    "            already_renamed=false\n",
    "            break\n",
    "        fi\n",
    "    done\n",
    "\n",
    "    if $already_renamed; then\n",
    "        return\n",
    "    fi\n",
    "\n",
    "    local new_session_folder=\"${id_folder}${date}\"\n",
    "\n",
    "    if [[ \"$session_folder\" != \"$new_session_folder\" ]]; then\n",
    "        mv \"$session_folder\" \"$new_session_folder\"\n",
    "        echo \"$session_folder -> $new_session_folder\"\n",
    "        ((renamed_folders_count++))\n",
    "    fi\n",
    "\n",
    "    for file in \"${new_session_folder}\"/*; do\n",
    "        if [[ -f \"$file\" ]]; then\n",
    "            local extension=\"${file##*.}\"\n",
    "            local new_file=\"${new_session_folder}/sub-${id}_date-${date}_proj-oddity_response.${extension}\"\n",
    "            mv \"$file\" \"$new_file\"\n",
    "        fi\n",
    "    done\n",
    "}\n",
    "\n",
    "for id_folder in BAY*/ AVP*/; do\n",
    "    if [[ -d \"$id_folder\" ]]; then\n",
    "        id=${id_folder%/}  # Remove trailing slash\n",
    "\n",
    "        for session_folder in \"${id_folder}\"*/; do\n",
    "            if [[ -d \"$session_folder\" ]]; then\n",
    "                session_name=$(basename \"$session_folder\")\n",
    "                session_date=\"${session_name##*[-_]}\"\n",
    "                rename_session_folder_and_files \"$id_folder\" \"$session_folder\" \"$id\" \"$session_date\"\n",
    "            fi\n",
    "        done\n",
    "    fi\n",
    "done\n",
    "\n",
    "if [ $renamed_folders_count -eq 0 ]; then\n",
    "    echo \"No folders were renamed.\"\n",
    "else\n",
    "    echo \"Total session folders renamed: $renamed_folders_count\"\n",
    "fi\n"
   ]
  }
 ],
 "metadata": {
  "kernelspec": {
   "display_name": "Bash",
   "language": "bash",
   "name": "bash"
  },
  "language_info": {
   "name": ""
  }
 },
 "nbformat": 4,
 "nbformat_minor": 5
}
