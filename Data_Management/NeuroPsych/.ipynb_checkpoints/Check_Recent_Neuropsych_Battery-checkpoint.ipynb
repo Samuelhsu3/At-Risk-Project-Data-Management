{
 "cells": [
  {
   "cell_type": "markdown",
   "id": "fecda52d-5d8c-4f4c-ba19-3cb658cb9e9b",
   "metadata": {},
   "source": [
    "## Check Format of All Neuropsych Battery Files"
   ]
  },
  {
   "cell_type": "markdown",
   "id": "fb926d5a-a2d4-474e-b42a-431e1b1371b1",
   "metadata": {},
   "source": [
    "Expects 2 pdfs. One Moca one Neuropsych"
   ]
  },
  {
   "cell_type": "code",
   "execution_count": null,
   "id": "d3b053c4-a27d-42e3-a850-3a68041dac4f",
   "metadata": {},
   "outputs": [],
   "source": [
    "#!/bin/bash\n",
    "\n",
    "unexpected_found=false\n",
    "output_file=\"unexpected_folders_report.txt\"\n",
    "\n",
    "> \"$output_file\" \n",
    "\n",
    "for id_folder in */; do\n",
    "    if [[ -d \"$id_folder\" ]]; then\n",
    "        for session_folder in \"${id_folder}\"*/; do\n",
    "            if [[ -d \"$session_folder\" ]]; then\n",
    "\n",
    "                pdf_count=$(find \"$session_folder\" -maxdepth 1 -type f -name \"*.pdf\" | wc -l)\n",
    "\n",
    "                if [[ $pdf_count -ne 2 ]]; then\n",
    "                    echo \"[UNEXPECTED] Unexpected file structure in $session_folder. Expected 2 PDF files, found $pdf_count. Contents:\" >> \"$output_file\"\n",
    "                    ls -l \"$session_folder\" >> \"$output_file\"\n",
    "                    echo \"_________________________________________________________________\" >> \"$output_file\"\n",
    "                    unexpected_found=true\n",
    "                fi\n",
    "            fi\n",
    "        done\n",
    "    fi\n",
    "done\n",
    "\n",
    "if ! $unexpected_found; then\n",
    "    echo \"All folders match expected structure.\" >> \"$output_file\"\n",
    "else\n",
    "    echo \"There are folders with unexpected structure. See $output_file for details.\"\n",
    "fi\n"
   ]
  }
 ],
 "metadata": {
  "kernelspec": {
   "display_name": "",
   "name": ""
  },
  "language_info": {
   "name": ""
  }
 },
 "nbformat": 4,
 "nbformat_minor": 5
}
