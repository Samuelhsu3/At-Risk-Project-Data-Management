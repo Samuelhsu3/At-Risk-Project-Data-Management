{
 "cells": [
  {
   "cell_type": "code",
   "execution_count": null,
   "id": "5b2b7c61-13c6-4af4-bf51-86d94ba79d2c",
   "metadata": {},
   "outputs": [],
   "source": []
  },
  {
   "cell_type": "code",
   "execution_count": null,
   "id": "6555ec01-7169-4844-963c-4adbe89756ec",
   "metadata": {},
   "outputs": [],
   "source": [
    "#!/bin/bash\n",
    "\n",
    "for dir in */; do\n",
    "    if [[ -d \"$dir\" && \"$dir\" == *\"_\"* ]]; then\n",
    "        id=$(echo \"$dir\" | grep -oP '^[^_]+')\n",
    "        if [[ ! -d \"$id\" ]]; then\n",
    "            mkdir -p \"$id\"\n",
    "        fi\n",
    "        mv \"$dir\" \"$id/\"\n",
    "        echo \"$dir -> $id\"\n",
    "    fi\n",
    "done\n"
   ]
  }
 ],
 "metadata": {
  "kernelspec": {
   "display_name": "Python 3 (ipykernel)",
   "language": "python",
   "name": "python3"
  },
  "language_info": {
   "codemirror_mode": {
    "name": "ipython",
    "version": 3
   },
   "file_extension": ".py",
   "mimetype": "text/x-python",
   "name": "python",
   "nbconvert_exporter": "python",
   "pygments_lexer": "ipython3",
   "version": "3.10.9"
  }
 },
 "nbformat": 4,
 "nbformat_minor": 5
}
