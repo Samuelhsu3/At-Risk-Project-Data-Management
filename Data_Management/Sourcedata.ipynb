{
 "cells": [
  {
   "cell_type": "markdown",
   "id": "7714134f-2d61-402c-9aef-30b52f11215d",
   "metadata": {},
   "source": [
    "## Source data format"
   ]
  },
  {
   "cell_type": "code",
   "execution_count": null,
   "id": "72544ee3-b771-485a-8b01-200b8091b685",
   "metadata": {},
   "outputs": [],
   "source": [
    "VERSION: `Process_Sourcedata_Format`"
   ]
  },
  {
   "cell_type": "code",
   "execution_count": null,
   "id": "6a79c77e-0945-41ae-8446-ea047ac74581",
   "metadata": {},
   "outputs": [],
   "source": [
    "#!/bin/bash\n",
    "\n",
    "echo \"Choose from the following projects:\"\n",
    "options=(\"RestingState_EyeTracking\" \"SceneViewing_EyeTracking\" \"Viewpoint_EyeTracking\" \"Neuropsych_Battery\" \"Oddity\" )\n",
    "\n",
    "select study in \"${options[@]}\"\n",
    "do\n",
    "    case $study in\n",
    "        \"RestingState_EyeTracking\")\n",
    "            break\n",
    "            ;;\n",
    "        \"SceneViewing_EyeTracking\")\n",
    "            break\n",
    "            ;;\n",
    "        \"Viewpoint_EyeTracking\")\n",
    "            break\n",
    "            ;;\n",
    "        \"Neuropsych_Battery\")\n",
    "            break\n",
    "            ;;\n",
    "        \"Oddity\")\n",
    "            break\n",
    "            ;;\n",
    "            \n",
    "        *) echo \"Invalid option $REPLY\";;\n",
    "    esac\n",
    "done\n",
    "\n",
    "echo \"Project Selected: $study\"\n",
    "\n",
    "projects_base=\"/home/$USER/projects/def-rolsen/AtRisk-Dataset\"\n",
    "count=0\n",
    "\n",
    "for id_dir in */; do\n",
    "    if [ -d \"$id_dir\" ]; then\n",
    "        id=$(basename \"$id_dir\")\n",
    "\n",
    "        for session_dir in \"$id_dir\"*/; do\n",
    "            if [ -d \"$session_dir\" ]; then\n",
    "                session=$(basename \"$session_dir\")\n",
    "                dest_tar_gz_path=\"$projects_base/$id/$study/$session.tar.gz\"\n",
    "\n",
    "                if [ ! -f \"$dest_tar_gz_path\" ]; then\n",
    "                    echo \"Processing $session from ID $id in study $study\"\n",
    "\n",
    "                    chmod -R 777 \"$session_dir\"\n",
    "\n",
    "                    temp_tar_gz_path=\"/tmp/$id-$study-$session.tar.gz\"\n",
    "\n",
    "                    tar -czf \"$temp_tar_gz_path\" -C \"$id_dir\" \"$session\"\n",
    "\n",
    "                    install -D -m 777 \"$temp_tar_gz_path\" \"$dest_tar_gz_path\"\n",
    "\n",
    "                    count=$((count+1))\n",
    "                fi\n",
    "            fi\n",
    "        done\n",
    "    fi\n",
    "done\n",
    "\n",
    "echo \"Total Processed: $count\"\n"
   ]
  }
 ],
 "metadata": {
  "kernelspec": {
   "display_name": "Python 3 (ipykernel)",
   "language": "python",
   "name": "python3"
  },
  "language_info": {
   "codemirror_mode": {
    "name": "ipython",
    "version": 3
   },
   "file_extension": ".py",
   "mimetype": "text/x-python",
   "name": "python",
   "nbconvert_exporter": "python",
   "pygments_lexer": "ipython3",
   "version": "3.10.9"
  }
 },
 "nbformat": 4,
 "nbformat_minor": 5
}
