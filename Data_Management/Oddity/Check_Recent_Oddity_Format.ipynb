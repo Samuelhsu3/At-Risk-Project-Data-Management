{
 "cells": [
  {
   "cell_type": "markdown",
   "id": "7db8e201-f142-4fbf-831c-e216ffadf2ef",
   "metadata": {},
   "source": [
    "## Check_Recent_Oddity_Format (.sh)"
   ]
  },
  {
   "cell_type": "markdown",
   "id": "39c09aa5-a4ac-40fb-acbc-5f85096857ac",
   "metadata": {},
   "source": [
    "Check recent Oddity files for correct size and structure:\n",
    "- `2 txt && (1 edat | 1 edat2)`\n",
    "\n",
    "  Outputs results in terminal. "
   ]
  },
  {
   "cell_type": "code",
   "execution_count": null,
   "id": "d7371876-948e-419a-964f-2514585d5655",
   "metadata": {},
   "outputs": [],
   "source": [
    "#!/bin/bash\n",
    "\n",
    "unexpected_found=false\n",
    "\n",
    "for id_folder in */; do\n",
    "    if [[ -d \"$id_folder\" ]]; then\n",
    "        for session_folder in \"${id_folder}\"*/; do\n",
    "            if [[ -d \"$session_folder\" ]]; then\n",
    "\n",
    "                edat_edat2_count=$(find \"$session_folder\" -maxdepth 1 -type f \\( -name \"*.edat\" -o -name \"*.edat2\" \\) | wc -l)\n",
    "                txt_count=$(find \"$session_folder\" -maxdepth 1 -type f -name \"*.txt\" | wc -l)\n",
    "\n",
    "                if [[ ! ($edat_edat2_count -eq 1 && $txt_count -eq 2) ]]; then\n",
    "                    echo \"[UNEXPECTED] Unexpected file structure in $session_folder. Contents:\"\n",
    "                    ls -l \"$session_folder\"\n",
    "                    echo \"_________________________________________________________________\"\n",
    "                    unexpected_found=true\n",
    "                fi\n",
    "            fi\n",
    "        done\n",
    "    fi\n",
    "done\n",
    "\n",
    "if ! $unexpected_found; then\n",
    "    echo \"All folders match structure.\"\n",
    "fi\n"
   ]
  }
 ],
 "metadata": {
  "kernelspec": {
   "display_name": "Bash",
   "language": "bash",
   "name": "bash"
  },
  "language_info": {
   "name": ""
  }
 },
 "nbformat": 4,
 "nbformat_minor": 5
}
