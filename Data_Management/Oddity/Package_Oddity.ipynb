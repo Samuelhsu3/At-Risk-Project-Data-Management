{
 "cells": [
  {
   "cell_type": "markdown",
   "id": "9c533a53-2a65-4457-91cc-0ecb993dfcca",
   "metadata": {},
   "source": [
    "## Package_Oddity (.sh)"
   ]
  },
  {
   "cell_type": "markdown",
   "id": "82461844-e281-458e-a375-f67f4a9cdbcf",
   "metadata": {},
   "source": [
    "Change `des` variable to reflect your own pathway"
   ]
  },
  {
   "cell_type": "code",
   "execution_count": null,
   "id": "f5a8f0c3-d041-4a0b-b6e5-3dbc220a2de8",
   "metadata": {},
   "outputs": [],
   "source": [
    "#!/bin/bash\n",
    "\n",
    "des=\"/home/$USER/projects/def-rolsen/AtRisk-Dataset/Oddity_Sourcedata\"\n",
    "count=0\n",
    "\n",
    "for id_dir in *; do\n",
    "    if [ -d \"$id_dir\" ]; then\n",
    "        id=$(basename \"$id_dir\")\n",
    "        for session_dir in \"$id_dir\"/*; do\n",
    "            if [ -d \"$session_dir\" ]; then\n",
    "                session=$(basename \"$session_dir\")\n",
    "                dest_tar_gz_path=\"$des/$id/$session.tar.gz\"  \n",
    "                if [ ! -f \"$dest_tar_gz_path\" ]; then\n",
    "                    echo \"Tarring $session from ID $id and copying to projects\"\n",
    "                    tar -czf \"$session_dir.tar.gz\" -C \"$id_dir\" \"$session\"  \n",
    "                    mkdir -p \"$des/$id\"\n",
    "                    mv \"$session_dir.tar.gz\" \"$dest_tar_gz_path\"  \n",
    "                    count=$((count+1))\n",
    "                fi\n",
    "            fi\n",
    "        done\n",
    "    fi\n",
    "done\n",
    "\n",
    "echo \"Total Sent: $count\"\n"
   ]
  }
 ],
 "metadata": {
  "kernelspec": {
   "display_name": "",
   "name": ""
  },
  "language_info": {
   "name": ""
  }
 },
 "nbformat": 4,
 "nbformat_minor": 5
}
