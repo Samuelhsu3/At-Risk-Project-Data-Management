{
 "cells": [
  {
   "cell_type": "markdown",
   "id": "7db8e201-f142-4fbf-831c-e216ffadf2ef",
   "metadata": {},
   "source": [
    "## Check_All_Oddity_Format (.sh)"
   ]
  },
  {
   "cell_type": "markdown",
   "id": "ac6373e6-f2d7-4d6a-b710-0a46281b6a1e",
   "metadata": {},
   "source": [
    "VERSION: `Check_All_Oddity_Format`"
   ]
  },
  {
   "cell_type": "markdown",
   "id": "39c09aa5-a4ac-40fb-acbc-5f85096857ac",
   "metadata": {},
   "source": [
    "Check all Oddity files for correct size and structure: \n",
    "- `1 txt && (1 edat | 1 edat2)`\n",
    "\n",
    "  Outputs results into txt."
   ]
  },
  {
   "cell_type": "markdown",
   "id": "ce168b5b-276f-4b4d-bb7d-5fa4642aeb1e",
   "metadata": {},
   "source": [
    "Check all Oddity files for correct size and structure "
   ]
  },
  {
   "cell_type": "code",
   "execution_count": null,
   "id": "0174a263-94e2-459b-be75-f1b64154be4a",
   "metadata": {},
   "outputs": [],
   "source": [
    "#!/bin/bash\n",
    "\n",
    "unexpected_found=false\n",
    "\n",
    "for id_folder in */; do\n",
    "    if [[ -d \"$id_folder\" ]]; then\n",
    "        for session_folder in \"${id_folder}\"*/; do\n",
    "            if [[ -d \"$session_folder\" ]]; then\n",
    "\n",
    "                edat_edat2_count=$(find \"$session_folder\" -maxdepth 1 -type f \\( -name \"*.edat\" -o -name \"*.edat2\" \\) | wc -l)\n",
    "                txt_count=$(find \"$session_folder\" -maxdepth 1 -type f -name \"*.txt\" | wc -l)\n",
    "\n",
    "                if [[ ! ($edat_edat2_count -eq 1 && $txt_count -eq 1) ]]; then\n",
    "                    echo \"[UNEXPECTED] Unexpected file structure in $session_folder. Contents:\"\n",
    "                    ls -l \"$session_folder\"\n",
    "                    echo \"_________________________________________________________________\"\n",
    "                    unexpected_found=true\n",
    "                fi\n",
    "            fi\n",
    "        done\n",
    "    fi\n",
    "done\n",
    "\n",
    "if ! $unexpected_found; then\n",
    "    echo \"All folders match structure.\"\n",
    "fi\n"
   ]
  }
 ],
 "metadata": {
  "kernelspec": {
   "display_name": "Bash",
   "language": "bash",
   "name": "bash"
  },
  "language_info": {
   "name": ""
  }
 },
 "nbformat": 4,
 "nbformat_minor": 5
}
