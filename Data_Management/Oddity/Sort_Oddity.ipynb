{
 "cells": [
  {
   "cell_type": "markdown",
   "id": "1680ad24-31d2-49bf-a882-3960a98599db",
   "metadata": {},
   "source": [
    "## Sort_Oddity (.sh)"
   ]
  },
  {
   "cell_type": "markdown",
   "id": "de45ad94-ebdc-43b9-96ce-ec1df6a58b3f",
   "metadata": {},
   "source": [
    "For Oddity, Contains dates but not prefix. Additional check for number to see if it's raw"
   ]
  },
  {
   "cell_type": "markdown",
   "id": "3b1d0cfa-f628-4239-8f22-cdcdfdc55e7d",
   "metadata": {},
   "source": [
    "*Prompts you to enter ID that are AVP, else will assume is BAY\n",
    "\n",
    "This is because Oddity files do not contain the Prefix by default"
   ]
  },
  {
   "cell_type": "markdown",
   "id": "b8dca326-fc04-4be3-a3ea-da95a8de26b2",
   "metadata": {},
   "source": [
    "*Assumes that directories without prefixes are raw"
   ]
  },
  {
   "cell_type": "code",
   "execution_count": null,
   "id": "77bf3e3b-c2e8-4fe5-a004-5af62f62777b",
   "metadata": {},
   "outputs": [],
   "source": [
    "#!/bin/bash\n",
    "\n",
    "folder_count=0\n",
    "dir_moved_count=0\n",
    "\n",
    "echo \"Enter AVP IDs separated by space (e.g., AVP123 AVP234 AVP567):\"\n",
    "read -ra avp_ids\n",
    "\n",
    "for dir in */; do\n",
    "    if [[ ! -d \"$dir\" ]] || [[ ! ${dir%%_*} =~ ^[0-9] ]]; then\n",
    "        continue\n",
    "    fi\n",
    "    participant_id=\"${dir%%_*}\"\n",
    "    target_folder=\"BAY$participant_id\"\n",
    "    for avp_id in \"${avp_ids[@]}\"; do\n",
    "        if [[ \"AVP$participant_id\" == \"$avp_id\" ]]; then\n",
    "            target_folder=\"AVP$participant_id\"\n",
    "            break\n",
    "        fi\n",
    "    done\n",
    "    if mkdir -p \"$target_folder\" 2>/dev/null; then\n",
    "        ((folder_count++))\n",
    "    fi\n",
    "\n",
    "    if mv \"$dir\" \"$target_folder/\" 2>/dev/null; then\n",
    "        ((dir_moved_count++))\n",
    "    fi\n",
    "done\n",
    "\n",
    "echo \"Folders created: $folder_count\"\n",
    "echo \"Directories moved: $dir_moved_count\"\n",
    "\n"
   ]
  }
 ],
 "metadata": {
  "kernelspec": {
   "display_name": "Python 3 (ipykernel)",
   "language": "python",
   "name": "python3"
  },
  "language_info": {
   "codemirror_mode": {
    "name": "ipython",
    "version": 3
   },
   "file_extension": ".py",
   "mimetype": "text/x-python",
   "name": "python",
   "nbconvert_exporter": "python",
   "pygments_lexer": "ipython3",
   "version": "3.10.9"
  }
 },
 "nbformat": 4,
 "nbformat_minor": 5
}
