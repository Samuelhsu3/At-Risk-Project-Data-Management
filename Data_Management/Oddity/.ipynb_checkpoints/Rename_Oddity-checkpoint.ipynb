{
 "cells": [
  {
   "cell_type": "markdown",
   "id": "7db8e201-f142-4fbf-831c-e216ffadf2ef",
   "metadata": {},
   "source": [
    "## Renames Oddity Files (.sh)"
   ]
  },
  {
   "cell_type": "markdown",
   "id": "5ff1953a-73ce-41f8-bc77-8000c0850dc6",
   "metadata": {},
   "source": [
    "This is another version of file renaming"
   ]
  },
  {
   "cell_type": "code",
   "execution_count": null,
   "id": "601d80c5-796a-4140-9fad-d6aa9283b704",
   "metadata": {},
   "outputs": [],
   "source": [
    "#!/bin/bash\n",
    "\n",
    "renamed_folders_count=0\n",
    "\n",
    "rename_file() {\n",
    "    local file=\"$1\"\n",
    "    local session_dir=\"$2\"\n",
    "    local id=\"$3\"\n",
    "    local date=\"$4\"\n",
    "    local extension=\"${file##*.}\"\n",
    "    local new_name=\"${session_dir}/sub-${id}_${date}_proj-oddity.${extension}\"\n",
    "\n",
    "    mv \"$file\" \"$new_name\"\n",
    "}\n",
    "\n",
    "for id_folder in */; do\n",
    "    if [[ -d \"$id_folder\" ]]; then\n",
    "        id=${id_folder%/}\n",
    "        id=${id#BAY}\n",
    "        for session_folder in \"${id_folder}\"*/; do\n",
    "            session_name=$(basename \"$session_folder\")\n",
    "            session_date=\"${session_name#*_}\"\n",
    "\n",
    "            if [[ $session_date =~ ^[0-9]{8}$ ]]; then\n",
    "                # Renaming files inside the session folder\n",
    "                for file in \"${session_folder}\"*.{txt,edat2}; do\n",
    "                    if [[ -f \"$file\" ]]; then\n",
    "                        rename_file \"$file\" \"$session_folder\" \"$id\" \"$session_date\"\n",
    "                    fi\n",
    "                done\n",
    "\n",
    "                # Renaming the session folder\n",
    "                new_session_folder=\"${id_folder}${session_date}\"\n",
    "                if [[ ! -d \"$new_session_folder\" ]]; then\n",
    "                    mv \"$session_folder\" \"$new_session_folder\" && {\n",
    "                        ((renamed_folders_count++))\n",
    "                        echo \"$session_folder -> $new_session_folder\"\n",
    "                    }\n",
    "                fi\n",
    "            else\n",
    "                echo \"Error: Invalid session folder name '$session_folder'\"\n",
    "            fi\n",
    "        done\n",
    "    fi\n",
    "done\n",
    "\n",
    "echo \"Renaming completed.\"\n",
    "echo \"Total session folders renamed: $renamed_folders_count\"\n"
   ]
  }
 ],
 "metadata": {
  "kernelspec": {
   "display_name": "Bash",
   "language": "bash",
   "name": "bash"
  },
  "language_info": {
   "name": ""
  }
 },
 "nbformat": 4,
 "nbformat_minor": 5
}
