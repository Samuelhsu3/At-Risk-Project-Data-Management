{
 "cells": [
  {
   "cell_type": "markdown",
   "id": "7db8e201-f142-4fbf-831c-e216ffadf2ef",
   "metadata": {},
   "source": [
    "## Check_All_RS_Format (.sh)"
   ]
  },
  {
   "cell_type": "markdown",
   "id": "ce168b5b-276f-4b4d-bb7d-5fa4642aeb1e",
   "metadata": {},
   "source": [
    "Checks all Resting State Eyetracking files for correct size and structure:  \n",
    "\n",
    "- `1 edf && 2 dat && 1 log`\n",
    "\n",
    "  Outputs results into txt"
   ]
  },
  {
   "cell_type": "code",
   "execution_count": null,
   "id": "067e29fa-fca1-4ef3-a369-1516bc6fffbb",
   "metadata": {},
   "outputs": [],
   "source": [
    "#!/bin/bash\n",
    "\n",
    "unexpected_found=false\n",
    "output_file=\"unexpected_folders_report.txt\"\n",
    "\n",
    "> \"$output_file\" \n",
    "\n",
    "for id_folder in */; do\n",
    "    if [[ -d \"$id_folder\" ]]; then\n",
    "        for session_folder in \"${id_folder}\"*/; do\n",
    "            if [[ -d \"$session_folder\" ]]; then\n",
    "\n",
    "                # Count files\n",
    "                dat_count=$(find \"$session_folder\" -maxdepth 1 -type f -name \"*.dat\" | wc -l)\n",
    "                edf_count=$(find \"$session_folder\" -maxdepth 1 -type f -name \"*.edf\" | wc -l)\n",
    "                log_count=$(find \"$session_folder\" -maxdepth 1 -type f -name \"*.log\" | wc -l)\n",
    "\n",
    "                if [[ ! ($dat_count -eq 2 && $edf_count -eq 1 && $log_count -eq 1) ]]; then\n",
    "                    echo \"[UNEXPECTED] Unexpected file structure in $session_folder. Contents:\" >> \"$output_file\"\n",
    "                    ls -l \"$session_folder\" >> \"$output_file\"\n",
    "                    echo \"_________________________________________________________________\" >> \"$output_file\"\n",
    "                    unexpected_found=true\n",
    "                fi\n",
    "            fi\n",
    "        done\n",
    "    fi\n",
    "done\n",
    "\n",
    "if ! $unexpected_found; then\n",
    "    echo \"All folders match expected structure.\" >> \"$output_file\"\n",
    "else\n",
    "    echo \"There are folders with unexpected structure. See $output_file for details.\"\n",
    "fi\n",
    "\n"
   ]
  }
 ],
 "metadata": {
  "kernelspec": {
   "display_name": "Bash",
   "language": "bash",
   "name": "bash"
  },
  "language_info": {
   "name": ""
  }
 },
 "nbformat": 4,
 "nbformat_minor": 5
}
