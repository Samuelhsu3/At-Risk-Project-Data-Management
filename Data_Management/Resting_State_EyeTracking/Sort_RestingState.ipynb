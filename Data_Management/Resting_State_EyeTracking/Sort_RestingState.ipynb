{
 "cells": [
  {
   "cell_type": "markdown",
   "id": "37b03fed-f93e-43c2-a6b8-d03556ddf340",
   "metadata": {},
   "source": [
    "## Sort Resting State Eyetracking Files into ID Folders (.sh)"
   ]
  },
  {
   "cell_type": "markdown",
   "id": "b7d736cc-15a6-4027-be50-3382461be8c5",
   "metadata": {},
   "source": [
    "*Prompts you to enter ID that are AVP, else will assume is BAY\n",
    "\n",
    "This is because older eyetracking files do not contain the Prefix by default"
   ]
  },
  {
   "cell_type": "markdown",
   "id": "6c5404ac-0be3-41e1-a42e-7c21aebb28c4",
   "metadata": {},
   "source": [
    "*Assumes that directories with lowercase are raw"
   ]
  },
  {
   "cell_type": "markdown",
   "id": "6db5cb9c-377d-4606-845f-9369ff1ca01f",
   "metadata": {},
   "source": [
    "VERSION: `Sort_RestingState`"
   ]
  },
  {
   "cell_type": "code",
   "execution_count": null,
   "id": "1aa0dd2c-9b7b-42b6-8262-4aa49076122f",
   "metadata": {},
   "outputs": [],
   "source": [
    "#!/bin/bash\n",
    "\n",
    "folder_count=0\n",
    "dir_moved_count=0\n",
    "echo \"Enter AVP IDs separated by space (e.g., AVP123 AVP234 AVP567):\"\n",
    "read -ra avp_ids\n",
    "\n",
    "for dir in */; do\n",
    "    if [[ -d \"$dir\" && \"$dir\" =~ [a-z] ]]; then\n",
    "    \n",
    "        participant_id=$(echo \"$dir\" | grep -oP '\\d{3,}')\n",
    "        if [[ -z \"$participant_id\" ]]; then\n",
    "            continue\n",
    "        fi\n",
    "        target_folder=\"BAY$participant_id\"\n",
    "\n",
    "        for avp_id in \"${avp_ids[@]}\"; do\n",
    "            if [[ \"AVP$participant_id\" == \"$avp_id\" ]]; then\n",
    "                target_folder=\"AVP$participant_id\"\n",
    "                break\n",
    "            fi\n",
    "        done\n",
    "        \n",
    "        if [[ ! -d \"$target_folder\" ]]; then\n",
    "            mkdir -p \"$target_folder\"\n",
    "            ((folder_count++))\n",
    "        fi\n",
    "        \n",
    "        mv \"$dir\" \"$target_folder/\"\n",
    "        ((dir_moved_count++))\n",
    "    fi\n",
    "done\n",
    "\n",
    "echo \"Folders created: $folder_count\"\n",
    "echo \"Directories moved: $dir_moved_count\"\n"
   ]
  }
 ],
 "metadata": {
  "kernelspec": {
   "display_name": "Python 3 (ipykernel)",
   "language": "python",
   "name": "python3"
  },
  "language_info": {
   "codemirror_mode": {
    "name": "ipython",
    "version": 3
   },
   "file_extension": ".py",
   "mimetype": "text/x-python",
   "name": "python",
   "nbconvert_exporter": "python",
   "pygments_lexer": "ipython3",
   "version": "3.10.9"
  }
 },
 "nbformat": 4,
 "nbformat_minor": 5
}
