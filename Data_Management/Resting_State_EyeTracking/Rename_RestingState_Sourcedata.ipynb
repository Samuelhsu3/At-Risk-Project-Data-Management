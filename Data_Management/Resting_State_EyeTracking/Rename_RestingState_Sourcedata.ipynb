{
 "cells": [
  {
   "cell_type": "markdown",
   "id": "7db8e201-f142-4fbf-831c-e216ffadf2ef",
   "metadata": {},
   "source": [
    "## Rename Resting State Eyetracking Session Folder and Files (.sh)"
   ]
  },
  {
   "cell_type": "markdown",
   "id": "45b6e234-580a-4385-9895-3027293da680",
   "metadata": {},
   "source": [
    "VERSION: `Rename_RestingState_Sourcedata`"
   ]
  },
  {
   "cell_type": "markdown",
   "id": "1e142b8b-cb77-4cda-b42b-aae0adecd1df",
   "metadata": {},
   "source": [
    "Renames files and session folders to the sourcedata format"
   ]
  },
  {
   "cell_type": "markdown",
   "id": "2c66b608-037e-4983-9384-87a287cc8590",
   "metadata": {},
   "source": [
    "This script will read the edf to extract date from the file itself and will determine the ID based on the Participant ID folder. This script should only be run after all the files have been sorted into their respective folders. If dates cannot be extracted from the file directly, it will prompt the user to enter the information manually.\n",
    "\n",
    "*Note that the script determines ID based on the folders instead of the files inside because any naming errors are only corrected at the folder level (does not include the files inside) post data collection."
   ]
  },
  {
   "cell_type": "markdown",
   "id": "a7527b2a-f3a3-414b-8730-64a61996b8c8",
   "metadata": {},
   "source": [
    "Files renamed include `1 edf && 2 dat && 1 log`"
   ]
  },
  {
   "cell_type": "markdown",
   "id": "264ec13e-53b0-4a8f-ba4b-9ded8f23921b",
   "metadata": {},
   "source": [
    "Script checks for redundancies only at the session folder level to avoid long run time. This means if a session folder is just numbers, it will assume that it has been renamed and skip it. "
   ]
  },
  {
   "cell_type": "code",
   "execution_count": null,
   "id": "67e17a7e-f086-441e-a9ed-5fac82c3ec6c",
   "metadata": {},
   "outputs": [],
   "source": [
    "#!/bin/bash\n",
    "\n",
    "renamed_folders_count=0\n",
    "\n",
    "extract_date() {\n",
    "    local file=\"$1\"\n",
    "    local date_info=$(strings \"$file\" | grep \"^DATE:\" | awk -F \"DATE:\" '{print $2}')\n",
    "    local month=$(echo \"$date_info\" | awk '{print $2}')\n",
    "    local day=$(echo \"$date_info\" | awk '{print $3}')\n",
    "    local year=$(echo \"$date_info\" | awk '{print $NF}')\n",
    "\n",
    "    local month_num=$(date -d \"$month 1 2000\" +%m 2> /dev/null | sed 's/^0*//')\n",
    "\n",
    "    if [[ -z $month_num ]]; then\n",
    "        echo \"Error: Unable to extract date from $file.\"\n",
    "        return 1\n",
    "    else\n",
    "        printf -v date_str \"%4d%02d%02d\" \"$year\" \"$month_num\" \"$day\"\n",
    "        echo \"$date_str\"\n",
    "    fi\n",
    "}\n",
    "\n",
    "rename_file() {\n",
    "    local file=\"$1\"\n",
    "    local session_dir=\"$2\"\n",
    "    local id=\"$3\"\n",
    "    local date=\"$4\"\n",
    "    local new_name\n",
    "\n",
    "    case \"$file\" in\n",
    "        *.edf)\n",
    "            new_name=\"${session_dir}/sub-${id}_date-${date}_proj-resting_eyetrack.edf\"\n",
    "            ;;\n",
    "        *actual_Trial*.dat)\n",
    "            new_name=\"${session_dir}/sub-${id}_date-${date}_proj-resting_eyetrack.dat\"\n",
    "            ;;\n",
    "        *actual_firsttrialFixation*.dat)\n",
    "            new_name=\"${session_dir}/sub-${id}_date-${date}_proj-resting_subset-firstfixation_eyetrack.dat\"\n",
    "            ;;\n",
    "        *.log)\n",
    "            new_name=\"${session_dir}/sub-${id}_date-${date}_proj-resting_eyetrack.log\"\n",
    "            ;;\n",
    "    esac\n",
    "\n",
    "    if [[ -n $new_name ]]; then\n",
    "        mv \"$file\" \"$new_name\"\n",
    "    fi\n",
    "}\n",
    "\n",
    "for id_folder in */; do\n",
    "    if [[ -d \"$id_folder\" ]]; then\n",
    "        id=${id_folder%/}\n",
    "        for session_folder in \"${id_folder}\"*/; do\n",
    "            session_name=$(basename \"$session_folder\")\n",
    "\n",
    "            if [[ $session_name =~ ^[0-9]+$ ]]; then\n",
    "                continue\n",
    "            fi\n",
    "\n",
    "            date=\"\"\n",
    "\n",
    "            edf_file=$(find \"$session_folder\" -maxdepth 1 -type f -name \"*.edf\" -print -quit)\n",
    "            if [[ -n $edf_file ]]; then\n",
    "                extracted_date=$(extract_date \"$edf_file\")\n",
    "                if [[ $? -eq 0 ]]; then\n",
    "                    date=$extracted_date\n",
    "                fi\n",
    "            fi\n",
    "\n",
    "            if [[ -z $date ]]; then\n",
    "                echo \"Error: Cannot extract date from .edf file in directory '$session_folder'\"\n",
    "                echo -n \"Enter the date for files in '$session_folder' in YYYYMMDD format (e.g. 20231211): \"\n",
    "                read date\n",
    "                while ! [[ $date =~ ^[0-9]{8}$ ]]; do\n",
    "                    echo \"Invalid date format. Please enter a valid date for '$session_folder': \"\n",
    "                    read date\n",
    "                done\n",
    "            fi\n",
    "\n",
    "            while IFS= read -r -d '' file; do\n",
    "                rename_file \"$file\" \"$session_folder\" \"$id\" \"$date\"\n",
    "            done < <(find \"$session_folder\" -maxdepth 1 -type f \\( -name \"*.edf\" -o -name \"*.dat\" -o -name \"*.log\" \\) -print0)\n",
    "\n",
    "            new_session_folder=\"${id_folder}${date}\"\n",
    "            if [[ ! -d \"$new_session_folder\" ]]; then\n",
    "                mv \"$session_folder\" \"$new_session_folder\" && ((renamed_folders_count++))\n",
    "                echo \"$session_folder -> $new_session_folder\"\n",
    "            fi\n",
    "        done\n",
    "    fi\n",
    "done\n",
    "\n",
    "echo \"Renaming completed.\"\n",
    "echo \"Total session folders renamed: $renamed_folders_count\"\n"
   ]
  }
 ],
 "metadata": {
  "kernelspec": {
   "display_name": "Bash",
   "language": "bash",
   "name": "bash"
  },
  "language_info": {
   "name": ""
  }
 },
 "nbformat": 4,
 "nbformat_minor": 5
}
