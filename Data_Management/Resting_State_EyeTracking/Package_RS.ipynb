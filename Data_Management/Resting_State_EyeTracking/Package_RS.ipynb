{
 "cells": [
  {
   "cell_type": "markdown",
   "id": "3d22f8c3-3103-4458-9862-ed3e4e25aa5c",
   "metadata": {},
   "source": [
    "## Package_RS (.sh)"
   ]
  },
  {
   "cell_type": "markdown",
   "id": "edf116fc-a49f-438b-80c9-e8c4d38a5434",
   "metadata": {},
   "source": [
    "Change `des` variable to reflect your own pathway"
   ]
  },
  {
   "cell_type": "code",
   "execution_count": null,
   "id": "9ded78fe-a7a4-45c5-9014-eb7bc58ab25d",
   "metadata": {},
   "outputs": [],
   "source": [
    "#!/bin/bash\n",
    "\n",
    "des=\"/home/samhsu03/projects/def-rolsen/AtRisk-Dataset/RestingState_EyeTrack_Sourcedata\"\n",
    "count=0\n",
    "\n",
    "for id_dir in *; do\n",
    "    if [ -d \"$id_dir\" ]; then\n",
    "        id=$(basename \"$id_dir\")\n",
    "        for session_dir in \"$id_dir\"/*; do\n",
    "            if [ -d \"$session_dir\" ]; then\n",
    "                session=$(basename \"$session_dir\")\n",
    "                dest_tar_gz_path=\"$des/$id/$session.tar.gz\"  \n",
    "                if [ ! -f \"$dest_tar_gz_path\" ]; then\n",
    "                    echo \"Tarring $session from ID $id and copying to projects\"\n",
    "                    tar -czf \"$session_dir.tar.gz\" -C \"$id_dir\" \"$session\"  \n",
    "                    mkdir -p \"$des/$id\"\n",
    "                    mv \"$session_dir.tar.gz\" \"$dest_tar_gz_path\"  \n",
    "                    count=$((count+1))\n",
    "                fi\n",
    "            fi\n",
    "        done\n",
    "    fi\n",
    "done\n",
    "\n",
    "echo \"Total Sent: $count\"\n"
   ]
  }
 ],
 "metadata": {
  "kernelspec": {
   "display_name": "Bash",
   "language": "bash",
   "name": "bash"
  },
  "language_info": {
   "name": ""
  }
 },
 "nbformat": 4,
 "nbformat_minor": 5
}
