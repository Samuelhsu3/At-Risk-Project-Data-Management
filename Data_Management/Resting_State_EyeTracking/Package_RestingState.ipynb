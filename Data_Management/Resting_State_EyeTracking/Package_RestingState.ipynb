{
 "cells": [
  {
   "cell_type": "markdown",
   "id": "3d22f8c3-3103-4458-9862-ed3e4e25aa5c",
   "metadata": {},
   "source": [
    "## Package RestingState Eyetracking Files to Projects (.sh)"
   ]
  },
  {
   "cell_type": "markdown",
   "id": "71fbee23-453e-4d27-9da7-ca728d0d0750",
   "metadata": {},
   "source": [
    "Target and compresses new session folders, sending them to projects/RestingState under the participant ID"
   ]
  },
  {
   "cell_type": "markdown",
   "id": "edf116fc-a49f-438b-80c9-e8c4d38a5434",
   "metadata": {},
   "source": [
    "The `des` variable reflects your own pathway"
   ]
  },
  {
   "cell_type": "markdown",
   "id": "cdbbae74-4c6f-4cc3-89f1-508dba4076be",
   "metadata": {},
   "source": [
    "VERSION: `Package_RestingState`"
   ]
  },
  {
   "cell_type": "code",
   "execution_count": null,
   "id": "9ded78fe-a7a4-45c5-9014-eb7bc58ab25d",
   "metadata": {},
   "outputs": [],
   "source": [
    "#!/bin/bash\n",
    "\n",
    "des=\"/home/$USER/projects/def-rolsen/AtRisk-Dataset/RestingState_EyeTrack_Sourcedata\"\n",
    "count=0\n",
    "\n",
    "for id_dir in *; do\n",
    "    if [ -d \"$id_dir\" ]; then\n",
    "        id=$(basename \"$id_dir\")\n",
    "        for session_dir in \"$id_dir\"/*; do\n",
    "            if [ -d \"$session_dir\" ]; then\n",
    "                session=$(basename \"$session_dir\")\n",
    "                dest_tar_gz_path=\"$des/$id/$session.tar.gz\"  \n",
    "                if [ ! -f \"$dest_tar_gz_path\" ]; then\n",
    "                    echo \"Tarring $session from ID $id and copying to projects\"\n",
    "                    tar -czf \"$session_dir.tar.gz\" -C \"$id_dir\" \"$session\"  \n",
    "                    mkdir -p \"$des/$id\"\n",
    "                    mv \"$session_dir.tar.gz\" \"$dest_tar_gz_path\"  \n",
    "                    count=$((count+1))\n",
    "                fi\n",
    "            fi\n",
    "        done\n",
    "    fi\n",
    "done\n",
    "\n",
    "echo \"Total Sent: $count\"\n"
   ]
  }
 ],
 "metadata": {
  "kernelspec": {
   "display_name": "Bash",
   "language": "bash",
   "name": "bash"
  },
  "language_info": {
   "name": ""
  }
 },
 "nbformat": 4,
 "nbformat_minor": 5
}
