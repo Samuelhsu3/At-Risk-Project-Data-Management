{
 "cells": [
  {
   "cell_type": "markdown",
   "id": "7db8e201-f142-4fbf-831c-e216ffadf2ef",
   "metadata": {},
   "source": [
    "## Renames Viewpoint Retrieval Eyetracking Files (.sh)"
   ]
  },
  {
   "cell_type": "markdown",
   "id": "383ec149-30f8-4795-8007-328793e17af9",
   "metadata": {},
   "source": [
    "VERSION: `Rename_Viewpoint_Retrieval_Sourcedata`"
   ]
  },
  {
   "cell_type": "code",
   "execution_count": null,
   "id": "f4c0ee50-0523-4624-938c-683fa2495ce5",
   "metadata": {},
   "outputs": [],
   "source": [
    "#!/bin/bash\n",
    "\n",
    "renamed_folders_count=0\n",
    "\n",
    "extract_date() {\n",
    "    local file=\"$1\"\n",
    "    local date_info=$(strings \"$file\" | grep \"^DATE:\" | awk -F \"DATE:\" '{print $2}')\n",
    "    local month=$(echo \"$date_info\" | awk '{print $2}')\n",
    "    local day=$(echo \"$date_info\" | awk '{print $3}')\n",
    "    local year=$(echo \"$date_info\" | awk '{print $NF}')\n",
    "\n",
    "    local month_num=$(date -d \"$month 1 2000\" +%m 2> /dev/null | sed 's/^0*//')\n",
    "\n",
    "    if [[ -z $month_num ]]; then\n",
    "        echo \"Error: Unable to extract date from $file.\"\n",
    "        return 1\n",
    "    else\n",
    "        printf -v date_str \"%4d%02d%02d\" \"$year\" \"$month_num\" \"$day\"\n",
    "        echo \"$date_str\"\n",
    "    fi\n",
    "}\n",
    "\n",
    "rename_file() {\n",
    "    local file=\"$1\"\n",
    "    local session_dir=\"$2\"\n",
    "    local id=\"$3\"\n",
    "    local date=\"$4\"\n",
    "    local extension=\"${file##*.}\"\n",
    "    local new_name=\"${session_dir}/sub-${id}_date-${date}_proj-viewpoint_task-recognition_eyetrack.${extension}\"\n",
    "\n",
    "    if [[ -n $new_name ]]; then\n",
    "        mv \"$file\" \"$new_name\"\n",
    "    fi\n",
    "}\n",
    "\n",
    "for id_folder in */; do\n",
    "    if [[ -d \"$id_folder\" ]]; then\n",
    "        id=${id_folder%/}\n",
    "        for session_folder in \"${id_folder}\"*/; do\n",
    "            session_name=$(basename \"$session_folder\")\n",
    "            date=\"\"\n",
    "\n",
    "            while IFS= read -r -d '' file; do\n",
    "                if [[ -z $date ]]; then\n",
    "                    extracted_date=$(extract_date \"$file\")\n",
    "                    if [[ $? -eq 0 ]]; then\n",
    "                        date=$extracted_date\n",
    "                    fi\n",
    "                fi\n",
    "                rename_file \"$file\" \"$session_folder\" \"$id\" \"$date\"\n",
    "            done < <(find \"$session_folder\" -maxdepth 1 -type f \\( -name \"*.edf\" -o -name \"*.dat\" -o -name \"*.log\" \\) -print0)\n",
    "            \n",
    "            if [[ -z $date ]]; then\n",
    "                echo \"Error: Cannot find date for files in directory '$session_folder'\"\n",
    "                read -p \"Enter the date for files in '$session_folder' in YYYYMMDD format (e.g. 20231211): \" date\n",
    "                while ! [[ $date =~ ^[0-9]{8}$ ]]; do\n",
    "                    read -p \"Invalid date format. Please enter a valid date for '$session_folder': \" date\n",
    "                done\n",
    "            fi\n",
    "\n",
    "            new_session_folder=\"${id_folder}${date}\"\n",
    "            if [[ ! -d \"$new_session_folder\" ]]; then\n",
    "                mv \"$session_folder\" \"$new_session_folder\" && ((renamed_folders_count++))\n",
    "                echo \"$session_folder -> $new_session_folder\"\n",
    "            fi\n",
    "        done\n",
    "    fi\n",
    "done\n",
    "\n",
    "echo \"Renaming completed.\"\n",
    "echo \"Total session folders renamed: $renamed_folders_count\"\n"
   ]
  }
 ],
 "metadata": {
  "kernelspec": {
   "display_name": "Bash",
   "language": "bash",
   "name": "bash"
  },
  "language_info": {
   "name": ""
  }
 },
 "nbformat": 4,
 "nbformat_minor": 5
}
