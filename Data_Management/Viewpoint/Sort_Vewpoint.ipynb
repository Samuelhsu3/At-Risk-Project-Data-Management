{
 "cells": [
  {
   "cell_type": "markdown",
   "id": "993396c1-f1e8-4a5b-8928-492a752c8c65",
   "metadata": {},
   "source": [
    "## Sort Viewpoint Files into ID Folders (.sh)"
   ]
  },
  {
   "cell_type": "markdown",
   "id": "67d8d8e4-8c5a-427b-98d5-07f7b07b1541",
   "metadata": {},
   "source": [
    "VERSION: `Sort_Viewpoint_All_Blocks`"
   ]
  },
  {
   "cell_type": "code",
   "execution_count": null,
   "id": "c9773d50-d39b-4f15-963b-b819ae1a12b3",
   "metadata": {},
   "outputs": [],
   "source": [
    "#!/bin/bash\n",
    "\n",
    "echo \"Enter AVP IDs separated by space (e.g., AVP123 AVP234 AVP567):\"\n",
    "read -ra avp_ids\n",
    "\n",
    "process_directory() {\n",
    "    local dir=\"$1\"\n",
    "    local folder_count=0\n",
    "    local dir_moved_count=0\n",
    "\n",
    "    for sub_dir in \"$dir\"/*/; do\n",
    "        if [[ ! \"$sub_dir\" =~ [a-z] ]]; then\n",
    "            continue\n",
    "        fi\n",
    "\n",
    "        participant_id=$(echo \"$sub_dir\" | grep -oP '\\d{3,}')\n",
    "        if [[ -z \"$participant_id\" ]]; then\n",
    "            continue\n",
    "        fi\n",
    "\n",
    "        if [[ \"$sub_dir\" == *\"AVP$participant_id/\" ]] || [[ \"$sub_dir\" == *\"BAY$participant_id/\" ]]; then\n",
    "            continue\n",
    "        fi\n",
    "\n",
    "        local target_folder_name=\"BAY$participant_id\"\n",
    "        for avp_id in \"${avp_ids[@]}\"; do\n",
    "            if [[ \"AVP$participant_id\" == \"$avp_id\" ]]; then\n",
    "                target_folder_name=\"AVP$participant_id\"\n",
    "                break\n",
    "            fi\n",
    "        done\n",
    "\n",
    "        local target_folder_path=\"$dir/$target_folder_name\"\n",
    "        \n",
    "        if [[ \"$(realpath \"$sub_dir\")\" == \"$(realpath \"$target_folder_path\")\" ]]; then\n",
    "            continue\n",
    "        fi\n",
    "\n",
    "        if [[ ! -d \"$target_folder_path\" ]]; then\n",
    "            mkdir -p \"$target_folder_path\"\n",
    "            ((folder_count++))\n",
    "        fi\n",
    "        \n",
    "        mv \"$sub_dir\" \"$target_folder_path/\"\n",
    "        ((dir_moved_count++))\n",
    "    done\n",
    "\n",
    "    echo \"In $dir: Folders created: $folder_count, Directories moved: $dir_moved_count\"\n",
    "}\n",
    "\n",
    "for dir in */; do\n",
    "    if [[ -d \"$dir\" ]]; then\n",
    "        process_directory \"$dir\"\n",
    "    fi\n",
    "done\n"
   ]
  },
  {
   "cell_type": "markdown",
   "id": "8b42494c-a312-45eb-b864-3996a8b6d225",
   "metadata": {},
   "source": [
    "VERSION: `Sort_Viewpoint_Block`"
   ]
  },
  {
   "cell_type": "code",
   "execution_count": null,
   "id": "3c6c533b-1510-4de7-acde-0d6b975b2be5",
   "metadata": {},
   "outputs": [],
   "source": [
    "#!/bin/bash\n",
    "\n",
    "folder_count=0\n",
    "dir_moved_count=0\n",
    "echo \"Enter AVP IDs separated by space (e.g., AVP123 AVP234 AVP567):\"\n",
    "read -ra avp_ids\n",
    "\n",
    "for dir in */; do\n",
    "    if [[ -d \"$dir\" && \"$dir\" =~ [a-z] ]]; then\n",
    "    \n",
    "        participant_id=$(echo \"$dir\" | grep -oP '\\d{3,}')\n",
    "        if [[ -z \"$participant_id\" ]]; then\n",
    "            continue\n",
    "        fi\n",
    "        target_folder=\"BAY$participant_id\"\n",
    "\n",
    "        for avp_id in \"${avp_ids[@]}\"; do\n",
    "            if [[ \"AVP$participant_id\" == \"$avp_id\" ]]; then\n",
    "                target_folder=\"AVP$participant_id\"\n",
    "                break\n",
    "            fi\n",
    "        done\n",
    "        \n",
    "        if [[ ! -d \"$target_folder\" ]]; then\n",
    "            mkdir -p \"$target_folder\"\n",
    "            ((folder_count++))\n",
    "        fi\n",
    "        \n",
    "        mv \"$dir\" \"$target_folder/\"\n",
    "        ((dir_moved_count++))\n",
    "    fi\n",
    "done\n",
    "\n",
    "echo \"Folders created: $folder_count\"\n",
    "echo \"Directories moved: $dir_moved_count\"\n"
   ]
  }
 ],
 "metadata": {
  "kernelspec": {
   "display_name": "",
   "name": ""
  },
  "language_info": {
   "name": ""
  }
 },
 "nbformat": 4,
 "nbformat_minor": 5
}
