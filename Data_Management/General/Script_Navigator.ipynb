{
 "cells": [
  {
   "cell_type": "markdown",
   "id": "20d1cc54-1d2c-4222-b79d-93406f011a20",
   "metadata": {},
   "source": [
    "### Generates Menu Pages when called "
   ]
  },
  {
   "cell_type": "markdown",
   "id": "d6e5e40d-36d3-427f-afe7-db4a923d6c3d",
   "metadata": {},
   "source": [
    "### Check Script "
   ]
  },
  {
   "cell_type": "code",
   "execution_count": null,
   "id": "b94f434d-4cc1-41a7-82c9-c8d221b4bf70",
   "metadata": {},
   "outputs": [],
   "source": [
    "#!/bin/bash\n",
    "\n",
    "script_directory=\"$(dirname \"$0\")\"\n",
    "check_scripts=($(cd \"$script_directory\"; ls Check* 2> /dev/null))\n",
    "\n",
    "if [ ${#check_scripts[@]} -eq 0 ]; then\n",
    "    echo \"No 'Check' scripts found in the script directory.\"\n",
    "    exit 1\n",
    "fi\n",
    "\n",
    "echo \"Select the script you want to run:\"\n",
    "\n",
    "select script_name in \"${check_scripts[@]}\"; do\n",
    "    if [[ \" ${check_scripts[*]} \" =~ \" ${script_name} \" ]]; then\n",
    "        echo \"Running $script_name...\"\n",
    "        \"$script_directory/$script_name\"\n",
    "        break\n",
    "    else\n",
    "        echo \"Invalid selection. Please try again.\"\n",
    "    fi\n",
    "done\n"
   ]
  },
  {
   "cell_type": "markdown",
   "id": "605a6c81-159f-4eaa-9b5a-843dc3ab6ade",
   "metadata": {},
   "source": [
    "### Merge Script "
   ]
  },
  {
   "cell_type": "code",
   "execution_count": null,
   "id": "c69f306e-fc12-47f7-bd4c-88168b567816",
   "metadata": {},
   "outputs": [],
   "source": [
    "#!/bin/bash\n",
    "\n",
    "script_directory=\"$(dirname \"$0\")\"\n",
    "merge_scripts=($(cd \"$script_directory\"; ls Merge* 2> /dev/null))\n",
    "\n",
    "if [ ${#merge_scripts[@]} -eq 0 ]; then\n",
    "    echo \"No 'Merge' scripts found in the script directory.\"\n",
    "    exit 1\n",
    "fi\n",
    "\n",
    "echo \"Select the script you want to run:\"\n",
    "\n",
    "select script_name in \"${merge_scripts[@]}\"; do\n",
    "    if [[ \" ${merge_scripts[*]} \" =~ \" ${script_name} \" ]]; then\n",
    "        echo \"Running $script_name...\"\n",
    "        \"$script_directory/$script_name\"\n",
    "        break\n",
    "    else\n",
    "        echo \"Invalid selection. Please try again.\"\n",
    "    fi\n",
    "done\n"
   ]
  },
  {
   "cell_type": "markdown",
   "id": "16eb9294-d910-4247-a4ab-bbd6047820d4",
   "metadata": {},
   "source": [
    "### Sort Script"
   ]
  },
  {
   "cell_type": "code",
   "execution_count": null,
   "id": "c836e5ba-dfb2-4ad4-8a28-b835bdf3b0ea",
   "metadata": {},
   "outputs": [],
   "source": [
    "#!/bin/bash\n",
    "\n",
    "script_directory=\"$(dirname \"$0\")\"\n",
    "sort_scripts=($(cd \"$script_directory\"; ls Sort* 2> /dev/null))\n",
    "\n",
    "if [ ${#sort_scripts[@]} -eq 0 ]; then\n",
    "    echo \"No 'Sort' scripts found in the script directory.\"\n",
    "    exit 1\n",
    "fi\n",
    "\n",
    "echo \"Select the script you want to run:\"\n",
    "\n",
    "select script_name in \"${sort_scripts[@]}\"; do\n",
    "    if [[ \" ${sort_scripts[*]} \" =~ \" ${script_name} \" ]]; then\n",
    "        echo \"Running $script_name...\"\n",
    "        \"$script_directory/$script_name\"\n",
    "        break\n",
    "    else\n",
    "        echo \"Invalid selection. Please try again.\"\n",
    "    fi\n",
    "done\n"
   ]
  },
  {
   "cell_type": "markdown",
   "id": "cec55fee-53d3-401e-adb4-96aeb87adff0",
   "metadata": {},
   "source": [
    "### Meta"
   ]
  },
  {
   "cell_type": "code",
   "execution_count": null,
   "id": "183034da-6341-458d-aff3-2a8d4a50131b",
   "metadata": {},
   "outputs": [],
   "source": [
    "#!/bin/bash\n",
    "\n",
    "script_directory=\"$(dirname \"$0\")\"\n",
    "specific_scripts=(\"Meta_Data_Summary\" \"Date_Extraction\")\n",
    "\n",
    "existing_scripts=()\n",
    "for script in \"${specific_scripts[@]}\"; do\n",
    "    if [ -f \"$script_directory/$script\" ]; then\n",
    "        existing_scripts+=(\"$script\")\n",
    "    fi\n",
    "done\n",
    "\n",
    "if [ ${#existing_scripts[@]} -eq 0 ]; then\n",
    "    echo \"Neither 'Meta_Data_Summary' nor 'Date_Extraction' scripts found in the script directory.\"\n",
    "    exit 1\n",
    "fi\n",
    "\n",
    "echo \"Select the script you want to run:\"\n",
    "\n",
    "select script_name in \"${existing_scripts[@]}\"; do\n",
    "    if [[ \" ${existing_scripts[*]} \" =~ \" ${script_name} \" ]]; then\n",
    "        echo \"Running $script_name...\"\n",
    "        \"$script_directory/$script_name\"\n",
    "        break\n",
    "    else\n",
    "        echo \"Invalid selection. Please try again.\"\n",
    "    fi\n",
    "done\n"
   ]
  }
 ],
 "metadata": {
  "kernelspec": {
   "display_name": "Python 3 (ipykernel)",
   "language": "python",
   "name": "python3"
  },
  "language_info": {
   "codemirror_mode": {
    "name": "ipython",
    "version": 3
   },
   "file_extension": ".py",
   "mimetype": "text/x-python",
   "name": "python",
   "nbconvert_exporter": "python",
   "pygments_lexer": "ipython3",
   "version": "3.10.9"
  }
 },
 "nbformat": 4,
 "nbformat_minor": 5
}
