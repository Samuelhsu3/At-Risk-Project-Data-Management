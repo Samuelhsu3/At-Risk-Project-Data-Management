{
 "cells": [
  {
   "cell_type": "markdown",
   "id": "7db8e201-f142-4fbf-831c-e216ffadf2ef",
   "metadata": {},
   "source": [
    "## Checks For Sourcedata Format (.sh)"
   ]
  },
  {
   "cell_type": "markdown",
   "id": "6e4dac74-7f01-42ec-b898-524e4bf4568f",
   "metadata": {},
   "source": [
    "VERSION: `Check_SourceData_Format`"
   ]
  },
  {
   "cell_type": "markdown",
   "id": "aadfe928-0e3a-40a7-bf25-aa9ffd34e509",
   "metadata": {},
   "source": [
    "Regular Expression As Currently Defined:\n",
    "\n",
    " `sub-([A-Za-z]+[0-9]+)_date-([0-9]{8})`"
   ]
  },
  {
   "cell_type": "code",
   "execution_count": null,
   "id": "067e29fa-fca1-4ef3-a369-1516bc6fffbb",
   "metadata": {},
   "outputs": [],
   "source": [
    "#!/bin/bash\n",
    "\n",
    "regex=\"sub-([A-Za-z]+[0-9]+)_date-([0-9]{8})_\"\n",
    "mishandled_file=\"mishandled_files.txt\"\n",
    "\n",
    "all_correct=true\n",
    "> \"$mishandled_file\"\n",
    "\n",
    "while IFS= read -r -d '' file; do\n",
    "    filename=$(basename \"$file\")\n",
    "    if [[ ! $filename =~ \\.sh$ ]] && [[ ! $filename =~ \\.txt$ ]]; then\n",
    "\n",
    "        if [[ ! $filename =~ $regex ]]; then\n",
    "            all_correct=false\n",
    "            echo \"__________\" >> \"$mishandled_file\"\n",
    "            echo \"$(dirname \"$file\")\" >> \"$mishandled_file\"\n",
    "            echo \"$filename\" >> \"$mishandled_file\"\n",
    "        fi\n",
    "    fi\n",
    "done < <(find . -type f -print0)\n",
    "\n",
    "if $all_correct; then\n",
    "    echo \"All files renamed correctly\"\n",
    "else\n",
    "    echo \"Some files were not renamed correctly. Check 'mishandled_files.txt' for details.\"\n",
    "fi\n"
   ]
  }
 ],
 "metadata": {
  "kernelspec": {
   "display_name": "Bash",
   "language": "bash",
   "name": "bash"
  },
  "language_info": {
   "name": ""
  }
 },
 "nbformat": 4,
 "nbformat_minor": 5
}
