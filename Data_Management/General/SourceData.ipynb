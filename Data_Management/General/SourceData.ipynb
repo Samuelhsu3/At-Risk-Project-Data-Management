{
 "cells": [
  {
   "cell_type": "markdown",
   "id": "7714134f-2d61-402c-9aef-30b52f11215d",
   "metadata": {},
   "source": [
    "## Convert to SourceData Format"
   ]
  },
  {
   "cell_type": "markdown",
   "id": "75c4fd44-44d7-4323-9cb6-4d5f8cb10dc4",
   "metadata": {},
   "source": [
    "VERSION: `Process_SourceData_Format`"
   ]
  },
  {
   "cell_type": "markdown",
   "id": "c05b9d1c-a0a7-4cbb-a07b-4c49e74c4f51",
   "metadata": {},
   "source": [
    "Compresses a copy of every new session folder, changes permissions, sorts, and moves to the shared projects Folder"
   ]
  },
  {
   "cell_type": "markdown",
   "id": "5c3d18b9-644f-42ed-bb0c-593da87a5af4",
   "metadata": {},
   "source": [
    "Spits out a warning message to deter users that don't know what they are doing. Also logs activity. "
   ]
  },
  {
   "cell_type": "code",
   "execution_count": null,
   "id": "9927363c-a03a-421e-b103-ec1ceb2514cb",
   "metadata": {},
   "outputs": [],
   "source": [
    "#!/bin/bash\n",
    "\n",
    "clear\n",
    "\n",
    "display_message_box() {\n",
    "    local msg=\"$1\"\n",
    "    local border=$(printf '%*s' \"${#msg}\")\n",
    "    border=${border// /-}\n",
    "\n",
    "    tput setaf 1\n",
    "    echo \"+-${border}-+\"\n",
    "    echo \"| $msg |\"\n",
    "    echo \"+-${border}-+\"\n",
    "\n",
    "    tput sgr0\n",
    "}\n",
    "\n",
    "display_message_box \"      [WARNING] This action involves sending files to a shared folder. We trust that the data has been properly sorted, cleaned, formatted, and tracked. Ensure that you are choosing the correct project pathways as undoing this action will require manual correction. This execution will not be logged if you abort. Type CONFIRMED to proceed.\"\n",
    "\n",
    "read -r confirmation\n",
    "if [ \"$confirmation\" != \"CONFIRMED\" ]; then\n",
    "    display_message_box \"Action Terminated.\"\n",
    "    exit 1\n",
    "fi\n",
    "\n",
    "echo \"Choose from the following projects:\"\n",
    "options=(\"RestingState_EyeTracking\" \"SceneViewing_EyeTracking\" \"Viewpoint_EyeTracking\" \"Neuropsych_Battery\" \"Oddity\")\n",
    "\n",
    "select study in \"${options[@]}\"\n",
    "do\n",
    "    case $study in\n",
    "        \"RestingState_EyeTracking\"|\"SceneViewing_EyeTracking\"|\"Viewpoint_EyeTracking\"|\"Neuropsych_Battery\"|\"Oddity\")\n",
    "            echo \"I have selected: $study and I understand its sourcedata structure (Y/N)\"\n",
    "            read -r confirmation\n",
    "            if [ \"$confirmation\" != \"Y\" ]; then\n",
    "                display_message_box \"Action Terminated.\"\n",
    "                exit 1\n",
    "            fi\n",
    "            break\n",
    "            ;;\n",
    "        *) echo \"Invalid option $REPLY\";;\n",
    "    esac\n",
    "done\n",
    "\n",
    "echo \"Project Selected: $study\"\n",
    "\n",
    "projects_base=\"/home/$USER/projects/def-rolsen/AtRisk-Dataset\"\n",
    "count=0\n",
    "processed_folders=()\n",
    "\n",
    "for id_dir in */; do\n",
    "    if [ -d \"$id_dir\" ]; then\n",
    "        id=$(basename \"$id_dir\")\n",
    "\n",
    "        for session_dir in \"$id_dir\"*/; do\n",
    "            if [ -d \"$session_dir\" ]; then\n",
    "                session=$(basename \"$session_dir\")\n",
    "                dest_tar_gz_path=\"$projects_base/$id/$study/$session.tar.gz\"\n",
    "\n",
    "                if [ ! -f \"$dest_tar_gz_path\" ]; then\n",
    "                    echo \"Processing $session from ID $id in study $study\"\n",
    "\n",
    "                    chmod -R 777 \"$session_dir\"\n",
    "\n",
    "                    temp_tar_gz_path=\"/tmp/$id-$study-$session.tar.gz\"\n",
    "\n",
    "                    tar -czf \"$temp_tar_gz_path\" -C \"$id_dir\" \"$session\"\n",
    "\n",
    "                    install -D -m 777 \"$temp_tar_gz_path\" \"$dest_tar_gz_path\"\n",
    "\n",
    "                    processed_folders+=(\"$id/$study/$session\")\n",
    "                    count=$((count+1))\n",
    "                fi\n",
    "            fi\n",
    "        done\n",
    "    fi\n",
    "done\n",
    "\n",
    "echo \"Total Processed: $count\"\n",
    "\n",
    "log_to_file() {\n",
    "    local log_file=\"/home/$USER/projects/def-rolsen/AtRisk-Dataset/data_log.txt\"\n",
    "    local date_time=$(date \"+%Y-%m-%d %H:%M:%S\")\n",
    "    local user=$USER\n",
    "    local folders=$(IFS=, ; echo \"${processed_folders[*]}\")\n",
    "\n",
    "    echo \"[$date_time] User: $user, Folders: $folders\" >> \"$log_file\"\n",
    "}\n",
    "\n",
    "if [ ${#processed_folders[@]} -ne 0 ]; then\n",
    "    log_to_file\n",
    "fi\n"
   ]
  }
 ],
 "metadata": {
  "kernelspec": {
   "display_name": "Python 3 (ipykernel)",
   "language": "python",
   "name": "python3"
  },
  "language_info": {
   "codemirror_mode": {
    "name": "ipython",
    "version": 3
   },
   "file_extension": ".py",
   "mimetype": "text/x-python",
   "name": "python",
   "nbconvert_exporter": "python",
   "pygments_lexer": "ipython3",
   "version": "3.10.9"
  }
 },
 "nbformat": 4,
 "nbformat_minor": 5
}
