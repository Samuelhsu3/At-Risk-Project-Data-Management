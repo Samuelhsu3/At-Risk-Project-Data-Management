{
 "cells": [
  {
   "cell_type": "markdown",
   "id": "9cc91971-2f44-436e-8c08-a2e53af62463",
   "metadata": {},
   "source": [
    "## Redo Sorting "
   ]
  },
  {
   "cell_type": "markdown",
   "id": "d3a86735-301b-474c-8c4e-fafeac56eab1",
   "metadata": {},
   "source": [
    "Will simply pull the session folders back out "
   ]
  },
  {
   "cell_type": "code",
   "execution_count": null,
   "id": "e7ed89bf-38b6-435d-8d0c-f6317700cad5",
   "metadata": {},
   "outputs": [],
   "source": [
    "#!/bin/bash\n",
    "\n",
    "for id_folder in */; do\n",
    "    if [[ -d \"$id_folder\" ]]; then\n",
    "        for session_folder in \"${id_folder}\"*/; do\n",
    "            if [[ -d \"$session_folder\" ]]; then\n",
    "                mv \"$session_folder\" ./\n",
    "                echo \"Moved $session_folder out\"\n",
    "            fi\n",
    "        done\n",
    "\n",
    "        rmdir \"$id_folder\"\n",
    "    fi\n",
    "done\n"
   ]
  },
  {
   "cell_type": "markdown",
   "id": "e59b28ff-5ad3-4e6a-bf0f-af5aef56a910",
   "metadata": {},
   "source": [
    "Also works"
   ]
  },
  {
   "cell_type": "code",
   "execution_count": null,
   "id": "a082a7a6-6769-4a50-abd5-a31cbf1020e3",
   "metadata": {},
   "outputs": [],
   "source": [
    "#!/bin/bash\n",
    "\n",
    "for dir in */; do\n",
    "    if [[ -d \"$dir\" && \"$dir\" =~ [A-Z] ]]; then\n",
    "        mv \"$dir\"* ./\n",
    "\n",
    "        echo \"Moved contents of $dir back to the parent directory.\"\n",
    "        \n",
    "        rmdir \"$dir\" && echo \"Removed empty directory $dir\"\n",
    "    fi\n",
    "done\n"
   ]
  }
 ],
 "metadata": {
  "kernelspec": {
   "display_name": "Python 3 (ipykernel)",
   "language": "python",
   "name": "python3"
  },
  "language_info": {
   "codemirror_mode": {
    "name": "ipython",
    "version": 3
   },
   "file_extension": ".py",
   "mimetype": "text/x-python",
   "name": "python",
   "nbconvert_exporter": "python",
   "pygments_lexer": "ipython3",
   "version": "3.10.9"
  }
 },
 "nbformat": 4,
 "nbformat_minor": 5
}
