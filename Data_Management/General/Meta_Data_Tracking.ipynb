{
 "cells": [
  {
   "cell_type": "markdown",
   "id": "804ccb79-a673-4f52-b4c0-b6e0c109b435",
   "metadata": {},
   "source": [
    "# Meta Data Generator (.sh)"
   ]
  },
  {
   "cell_type": "markdown",
   "id": "103b0fcf-298b-410f-8c87-fefdaaa6492a",
   "metadata": {},
   "source": [
    "VERSION: `Meta_Data_Summary`"
   ]
  },
  {
   "cell_type": "markdown",
   "id": "f2ea95fa-298c-441b-8944-719bc81a3252",
   "metadata": {},
   "source": [
    "Finds the most recent folders in the current directory, tracks metadata. This is made to be human readable. Usually used on MRI files. "
   ]
  },
  {
   "cell_type": "markdown",
   "id": "73fa16d3-12e6-4281-93ff-00163fcb65c6",
   "metadata": {},
   "source": [
    "*Number of files to list can be edited depending on situation*"
   ]
  },
  {
   "cell_type": "code",
   "execution_count": null,
   "id": "c266c05b-3719-4254-ae3e-992c070c9d7e",
   "metadata": {
    "tags": []
   },
   "outputs": [],
   "source": [
    "#!/bin/bash\n",
    "\n",
    "recent_dirs=($(ls -dt1 */ | head -n 3| tac))\n",
    "\n",
    "for dir in \"${recent_dirs[@]}\"; do\n",
    "    size=$(du -sh \"$dir\" | cut -f1)\n",
    "    crypto_hash=$(find \"$dir\" -type f -exec sha256sum {} \\; | sha256sum | cut -d' ' -f1)\n",
    "    num_files=$(find \"$dir\" -type f | wc -l)\n",
    "    abs_path=$(realpath \"$dir\")\n",
    "    subdirs_count=$(find \"$dir\" -maxdepth 1 -type d | wc -l)\n",
    "    ((subdirs_count--))\n",
    "    mod_time=$(stat -c %y \"$dir\")\n",
    "\n",
    "    echo \"Directory: $dir\"\n",
    "    echo \"Size: $size\"\n",
    "    echo \"ID (SHA-256): $crypto_hash\"\n",
    "    echo \"Number of files inside: $num_files\"\n",
    "    echo \"Pathway: $abs_path\"\n",
    "    echo \"Subdirectories: $subdirs_count\"\n",
    "    echo \"Last Modified: $mod_time\"\n",
    "    echo \"---------------------------------\"\n",
    "done\n"
   ]
  }
 ],
 "metadata": {
  "kernelspec": {
   "display_name": "Bash",
   "language": "bash",
   "name": "bash"
  },
  "language_info": {
   "name": ""
  }
 },
 "nbformat": 4,
 "nbformat_minor": 5
}
