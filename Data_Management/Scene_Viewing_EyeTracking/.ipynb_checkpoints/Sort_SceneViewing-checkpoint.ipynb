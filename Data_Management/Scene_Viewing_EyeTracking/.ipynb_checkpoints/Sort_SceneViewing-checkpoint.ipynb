{
 "cells": [
  {
   "cell_type": "markdown",
   "id": "37b03fed-f93e-43c2-a6b8-d03556ddf340",
   "metadata": {},
   "source": [
    "## Sort Scene Viewing Eyetracking Files (.sh)"
   ]
  },
  {
   "cell_type": "markdown",
   "id": "b7d736cc-15a6-4027-be50-3382461be8c5",
   "metadata": {},
   "source": [
    "*Prompts you to enter ID that are AVP, else will assume is BAY\n",
    "\n",
    "This is because older eyetracking files do not contain the Prefix by default"
   ]
  },
  {
   "cell_type": "markdown",
   "id": "6c5404ac-0be3-41e1-a42e-7c21aebb28c4",
   "metadata": {},
   "source": [
    "*Assumes that directories with lowercase are raw"
   ]
  },
  {
   "cell_type": "markdown",
   "id": "59fa78c9-29c8-49b1-925a-68204e7c7aa3",
   "metadata": {},
   "source": [
    "VERSION: `Sort_SceneViewing_All_Blocks`"
   ]
  },
  {
   "cell_type": "code",
   "execution_count": null,
   "id": "c3cac31c-4afe-4af4-964e-c37b64a82095",
   "metadata": {},
   "outputs": [],
   "source": [
    "#!/bin/bash\n",
    "\n",
    "echo \"Enter AVP IDs separated by space (e.g., AVP123 AVP234 AVP567):\"\n",
    "read -ra avp_ids\n",
    "\n",
    "process_directory() {\n",
    "    local dir=\"$1\"\n",
    "    local folder_count=0\n",
    "    local dir_moved_count=0\n",
    "\n",
    "    for sub_dir in \"$dir\"/*/; do\n",
    "        if [[ ! \"$sub_dir\" =~ [a-z] ]]; then\n",
    "            continue\n",
    "        fi\n",
    "\n",
    "        participant_id=$(echo \"$sub_dir\" | grep -oP '\\d{3,}')\n",
    "        if [[ -z \"$participant_id\" ]]; then\n",
    "            continue\n",
    "        fi\n",
    "\n",
    "        if [[ \"$sub_dir\" == *\"AVP$participant_id/\" ]] || [[ \"$sub_dir\" == *\"BAY$participant_id/\" ]]; then\n",
    "            continue\n",
    "        fi\n",
    "\n",
    "        local target_folder_name=\"BAY$participant_id\"\n",
    "        for avp_id in \"${avp_ids[@]}\"; do\n",
    "            if [[ \"AVP$participant_id\" == \"$avp_id\" ]]; then\n",
    "                target_folder_name=\"AVP$participant_id\"\n",
    "                break\n",
    "            fi\n",
    "        done\n",
    "\n",
    "        local target_folder_path=\"$dir/$target_folder_name\"\n",
    "        \n",
    "        if [[ \"$(realpath \"$sub_dir\")\" == \"$(realpath \"$target_folder_path\")\" ]]; then\n",
    "            continue\n",
    "        fi\n",
    "\n",
    "        if [[ ! -d \"$target_folder_path\" ]]; then\n",
    "            mkdir -p \"$target_folder_path\"\n",
    "            ((folder_count++))\n",
    "        fi\n",
    "        \n",
    "        mv \"$sub_dir\" \"$target_folder_path/\"\n",
    "        ((dir_moved_count++))\n",
    "    done\n",
    "\n",
    "    echo \"In $dir: Folders created: $folder_count, Directories moved: $dir_moved_count\"\n",
    "}\n",
    "\n",
    "for dir in */; do\n",
    "    if [[ -d \"$dir\" ]]; then\n",
    "        process_directory \"$dir\"\n",
    "    fi\n",
    "done\n"
   ]
  },
  {
   "cell_type": "markdown",
   "id": "835cc2c1-502b-41e0-a640-87c9f7b1d424",
   "metadata": {},
   "source": [
    "VERSION: `Sort_SceneViewing_Block`"
   ]
  },
  {
   "cell_type": "markdown",
   "id": "637b4f41-c0a3-49d7-bc4e-e24464bfaa26",
   "metadata": {},
   "source": [
    "To be run in block folders seperately"
   ]
  },
  {
   "cell_type": "code",
   "execution_count": null,
   "id": "1aa0dd2c-9b7b-42b6-8262-4aa49076122f",
   "metadata": {},
   "outputs": [],
   "source": [
    "#!/bin/bash\n",
    "\n",
    "echo \"Enter AVP IDs separated by space (e.g., AVP123 AVP234 AVP567):\"\n",
    "read -ra avp_ids\n",
    "\n",
    "process_directory() {\n",
    "    local dir=\"$1\"\n",
    "    local folder_count=0\n",
    "    local dir_moved_count=0\n",
    "\n",
    "    for sub_dir in \"$dir\"/*/; do\n",
    "\n",
    "        if [[ ! \"$sub_dir\" =~ [a-z] ]]; then\n",
    "            continue\n",
    "        fi\n",
    "\n",
    "        participant_id=$(echo \"$sub_dir\" | grep -oP '\\d{3,}')\n",
    "        if [[ -z \"$participant_id\" ]]; then\n",
    "            continue\n",
    "        fi\n",
    "\n",
    "        local target_folder_name=\"BAY$participant_id\"\n",
    "        for avp_id in \"${avp_ids[@]}\"; do\n",
    "            if [[ \"AVP$participant_id\" == \"$avp_id\" ]]; then\n",
    "                target_folder_name=\"AVP$participant_id\"\n",
    "                break\n",
    "            fi\n",
    "        done\n",
    "\n",
    "        local target_folder_path=\"$dir/$target_folder_name\"\n",
    "        \n",
    "\n",
    "        if [[ \"$(realpath \"$sub_dir\")\" == \"$(realpath \"$target_folder_path\")\" ]]; then\n",
    "            continue\n",
    "        fi\n",
    "\n",
    "        if [[ ! -d \"$target_folder_path\" ]]; then\n",
    "            mkdir -p \"$target_folder_path\"\n",
    "            ((folder_count++))\n",
    "        fi\n",
    "        \n",
    "        mv \"$sub_dir\" \"$target_folder_path/\"\n",
    "        ((dir_moved_count++))\n",
    "    done\n",
    "\n",
    "    echo \"In '$dir': Folders created: $folder_count, Directories moved: $dir_moved_count\"\n",
    "}\n",
    "\n",
    "for dir in */; do\n",
    "    if [[ -d \"$dir\" ]]; then\n",
    "        process_directory \"$dir\"\n",
    "    fi\n",
    "done\n"
   ]
  }
 ],
 "metadata": {
  "kernelspec": {
   "display_name": "Python 3 (ipykernel)",
   "language": "python",
   "name": "python3"
  },
  "language_info": {
   "codemirror_mode": {
    "name": "ipython",
    "version": 3
   },
   "file_extension": ".py",
   "mimetype": "text/x-python",
   "name": "python",
   "nbconvert_exporter": "python",
   "pygments_lexer": "ipython3",
   "version": "3.10.9"
  }
 },
 "nbformat": 4,
 "nbformat_minor": 5
}
