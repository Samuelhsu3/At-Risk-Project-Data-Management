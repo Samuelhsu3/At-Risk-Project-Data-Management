{
 "cells": [
  {
   "cell_type": "markdown",
   "id": "564564e9-50bb-48ec-90e3-e6f8eede52d6",
   "metadata": {},
   "source": [
    "## Rename All SceneViewing Folders and Files From All Blocks to Sourcedata Fromat "
   ]
  },
  {
   "cell_type": "markdown",
   "id": "52c54b54-edb4-4698-b264-842c3bbf6f99",
   "metadata": {},
   "source": [
    "VERSION: `Rename_SceneViewing_All_Blocks_Sourcedata`"
   ]
  },
  {
   "cell_type": "markdown",
   "id": "0fc77e7b-cca4-4a17-9a65-e5c92ee126a2",
   "metadata": {},
   "source": [
    "Renames files and session folders from every block into the sourcedata format"
   ]
  },
  {
   "cell_type": "markdown",
   "id": "7d24ee06-b9c5-4ae4-8c9a-026c751864c1",
   "metadata": {},
   "source": [
    "This script will read the edf to extract date from the file itself and will determine the ID based on the Participant ID folder. This script should only be run after all the files have been sorted into their respective folders. If dates cannot be extracted from the file directly, it will prompt the user to enter the information manually.\n",
    "\n",
    "*Note that the script determines ID based on the folders instead of the files inside because any naming errors are only corrected at the folder level (does not include the files inside) post data collection."
   ]
  },
  {
   "cell_type": "markdown",
   "id": "6591a30f-803d-4c8e-bb81-a13f400ce5f4",
   "metadata": {},
   "source": [
    "Script checks for redundancies only at the session folder level to avoid long run time. This means if a session folder is just numbers, it will assume that it has been renamed and skip it. "
   ]
  },
  {
   "cell_type": "code",
   "execution_count": null,
   "id": "e1bc225f-e5af-45f1-a505-7cf7768d5b26",
   "metadata": {},
   "outputs": [],
   "source": [
    "#!/bin/bash\n",
    "\n",
    "extract_date() {\n",
    "    local edf_file=$1\n",
    "    local date_info=$(strings \"$edf_file\" | grep \"^DATE:\" | awk -F \"DATE:\" '{print $2}')\n",
    "    local month=$(echo \"$date_info\" | awk '{print $2}')\n",
    "    local day=$(echo \"$date_info\" | awk '{print $3}')\n",
    "    local year=$(echo \"$date_info\" | awk '{print $NF}')\n",
    "    local month_num=$(date -d \"$month 1 2000\" +%m 2> /dev/null)\n",
    "    \n",
    "    if [ -z \"$month_num\" ]; then\n",
    "        echo \"Error: Unable to extract date from $edf_file.\"\n",
    "        return 1\n",
    "    fi\n",
    "\n",
    "    month_num=$((10#$month_num))\n",
    "    day=$((10#$day))\n",
    "\n",
    "    printf \"%4d%02d%02d\" \"$year\" \"$month_num\" \"$day\"\n",
    "}\n",
    "\n",
    "extract_block_number() {\n",
    "    local dat_file=$1\n",
    "    local block_type=$2\n",
    "\n",
    "    if [[ \"$block_type\" == \"Encoding\" ]]; then\n",
    "        echo \"$dat_file\" | grep -oP 'FinalR\\K\\d+'\n",
    "    elif [[ \"$block_type\" == \"Retrieval\" ]]; then\n",
    "        echo \"$dat_file\" | grep -oP 'Block_\\K\\d+'\n",
    "    fi\n",
    "}\n",
    "\n",
    "rename_files() {\n",
    "    local block_type=$1\n",
    "    local id=$2\n",
    "    local date=$3\n",
    "    local block=$4\n",
    "    local session_dir=$5\n",
    "\n",
    "    if [[ \"$block_type\" == \"Encoding\" ]]; then\n",
    "        local edf_file=$(find \"$session_dir\" -type f -name \"*.edf\")\n",
    "        local trial_dat_file=$(find \"$session_dir\" -type f -name \"*Trial*.dat\")\n",
    "        local first_trial_dat_file=$(find \"$session_dir\" -type f -name \"*firsttrialFixation*.dat\")\n",
    "        local log_file=$(find \"$session_dir\" -type f -name \"*.log\")\n",
    "\n",
    "        [ -f \"$edf_file\" ] && mv \"$edf_file\" \"${session_dir}/sub-${id}_date-${date}_proj-sceneviewing_task-study_run-${block}_eyetrack.edf\"\n",
    "        [ -f \"$trial_dat_file\" ] && mv \"$trial_dat_file\" \"${session_dir}/sub-${id}_date-${date}_proj-sceneviewing_task-study_run-${block}_eyetrack.dat\"\n",
    "        [ -f \"$first_trial_dat_file\" ] && mv \"$first_trial_dat_file\" \"${session_dir}/sub-${id}_date-${date}_proj-sceneviewing_task-study_run-${block}_subset-firstfixation_eyetrack.dat\"\n",
    "        [ -f \"$log_file\" ] && mv \"$log_file\" \"${session_dir}/sub-${id}_date-${date}_proj-sceneviewing_task-study_run-${block}_eyetrack.log\"\n",
    "\n",
    "    elif [[ \"$block_type\" == \"Retrieval\" ]]; then\n",
    "        local edf_file=$(find \"$session_dir\" -type f -name \"*.edf\")\n",
    "        local trial_dat_file=$(find \"$session_dir\" -type f -name \"*Trial*.dat\")\n",
    "        local txt_file=$(find \"$session_dir\" -type f -name \"*.txt\")\n",
    "        local warning_log_file=$(find \"$session_dir\" -type f -name \"warning.log\")\n",
    "        local eb_messages_log_file=$(find \"$session_dir\" -type f -name \"eb_messages.log\")\n",
    "\n",
    "        [ -f \"$edf_file\" ] && mv \"$edf_file\" \"${session_dir}/sub-${id}_${date}_proj-sceneviewing_task-recognition_run-${block}_eyetrack.edf\"\n",
    "        [ -f \"$trial_dat_file\" ] && mv \"$trial_dat_file\" \"${session_dir}/sub-${id}_${date}_proj-sceneviewing_task-recognition_run-${block}_eyetrack.dat\"\n",
    "        [ -f \"$txt_file\" ] && mv \"$txt_file\" \"${session_dir}/sub-${id}_${date}_scene_recognition_run${block}.txt\"\n",
    "        [ -f \"$warning_log_file\" ] && mv \"$warning_log_file\" \"${session_dir}/sub-${id}_${date}_proj-sceneviewing_task-recognition_run${block}_log-warning_eyetrack.log\"\n",
    "        [ -f \"$eb_messages_log_file\" ] && mv \"$eb_messages_log_file\" \"${session_dir}/sub-${id}_${date}_proj-sceneviewing_task-recognition_run${block}_log-eb_messages_eyetrack.log\"\n",
    "    fi\n",
    "}\n",
    "\n",
    "\n",
    "for block_dir in Encoding_Block* Retrieval_Block*; do\n",
    "    echo \"Processing Block: $block_dir\"\n",
    "    block_type=$(echo \"$block_dir\" | awk -F_ '{print $1}')\n",
    "    \n",
    "    for id_folder in \"$block_dir\"/*; do\n",
    "        id=$(basename \"$id_folder\")\n",
    "\n",
    "        for session_folder in \"$id_folder\"/*; do\n",
    "            session_name=$(basename \"$session_folder\")\n",
    "\n",
    "            if [[ $session_name =~ ^[0-9]{8}$ ]]; then\n",
    "                continue\n",
    "            fi\n",
    "\n",
    "            date=$(extract_date \"$(find \"$session_folder\" -type f -name \"*.edf\")\")\n",
    "            if [ $? -ne 0 ]; then\n",
    "                read -p \"Enter date (YYYYMMDD) for $session_folder: \" date\n",
    "            fi\n",
    "\n",
    "            block=$(extract_block_number \"$(find \"$session_folder\" -type f -name \"*Trial*.dat\")\" \"$block_type\")\n",
    "            if [ -z \"$block\" ]; then\n",
    "                read -p \"Enter block number for $session_folder: \" block\n",
    "            fi\n",
    "\n",
    "            new_session_dir=\"${id_folder}/${date}\"\n",
    "            mv \"$session_folder\" \"$new_session_dir\"\n",
    "            echo \"$(basename \"$session_folder\") -> $(basename \"$new_session_dir\")\"\n",
    "\n",
    "            rename_files \"$block_type\" \"$id\" \"$date\" \"$block\" \"$new_session_dir\"\n",
    "        done\n",
    "    done\n",
    "done\n"
   ]
  }
 ],
 "metadata": {
  "kernelspec": {
   "display_name": "Python 3 (ipykernel)",
   "language": "python",
   "name": "python3"
  },
  "language_info": {
   "codemirror_mode": {
    "name": "ipython",
    "version": 3
   },
   "file_extension": ".py",
   "mimetype": "text/x-python",
   "name": "python",
   "nbconvert_exporter": "python",
   "pygments_lexer": "ipython3",
   "version": "3.10.9"
  }
 },
 "nbformat": 4,
 "nbformat_minor": 5
}
