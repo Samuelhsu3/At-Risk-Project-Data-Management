{
 "cells": [
  {
   "cell_type": "markdown",
   "id": "de51f4e9-5d59-4b73-a210-b756554bf612",
   "metadata": {},
   "source": [
    "## Merge Scene Viewing Eyetracking Files (.sh)"
   ]
  },
  {
   "cell_type": "markdown",
   "id": "8a4815b4-ab4a-4dd1-bbdd-0adbd59aff83",
   "metadata": {},
   "source": [
    "Sorted folder"
   ]
  },
  {
   "cell_type": "code",
   "execution_count": null,
   "id": "06f2e4e2-f27e-4117-ae0f-1cac53f053aa",
   "metadata": {},
   "outputs": [],
   "source": [
    "#!/bin/bash\n",
    "\n",
    "base_dir=$(pwd)\n",
    "\n",
    "blocks=(\"Encoding_Block1\" \"Encoding_Block2\" \"Encoding_Block3\" \"Encoding_Block4\" \\\n",
    "        \"Retrieval_Block1\" \"Retrieval_Block2\" \"Retrieval_Block3\")\n",
    "\n",
    "mkdir -p \"$base_dir/Sorted\"\n",
    "\n",
    "log_file=\"$base_dir/merge_log.txt\"\n",
    "\n",
    "separator=\"_________________________________________________________________\"\n",
    "\n",
    "echo \"$separator\" >> \"$log_file\"\n",
    "\n",
    "for block in \"${blocks[@]}\"; do\n",
    "    for id_dir in \"$block\"/*; do\n",
    "        if [ -d \"$id_dir\" ]; then\n",
    "            id=$(basename \"$id_dir\")\n",
    "\n",
    "            for session_dir in \"$id_dir\"/*; do\n",
    "                if [ -d \"$session_dir\" ]; then\n",
    "                    session=$(basename \"$session_dir\")\n",
    "                    sorted_session_dir=\"$base_dir/Sorted/$id/$session\"\n",
    "\n",
    "                    mkdir -p \"$sorted_session_dir\"\n",
    "\n",
    "                    for file in \"$session_dir\"/*; do\n",
    "                        if [ -e \"$file\" ]; then\n",
    "                            filename=$(basename \"$file\")\n",
    "                            dest_file=\"$sorted_session_dir/$filename\"\n",
    "\n",
    "                            if [ -e \"$dest_file\" ]; then\n",
    "\n",
    "                                echo \"ERROR: Duplicate file name detected: $filename in session $session for ID $id\" >> \"$log_file\"\n",
    "                            else\n",
    "                                mv \"$file\" \"$dest_file\"\n",
    "                            fi\n",
    "                        fi\n",
    "                    done\n",
    "                fi\n",
    "            done\n",
    "        fi\n",
    "    done\n",
    "done\n",
    "\n",
    "echo \"Processing completed. Check $log_file for any issues or details.\"\n"
   ]
  }
 ],
 "metadata": {
  "kernelspec": {
   "display_name": "Python 3 (ipykernel)",
   "language": "python",
   "name": "python3"
  },
  "language_info": {
   "codemirror_mode": {
    "name": "ipython",
    "version": 3
   },
   "file_extension": ".py",
   "mimetype": "text/x-python",
   "name": "python",
   "nbconvert_exporter": "python",
   "pygments_lexer": "ipython3",
   "version": "3.10.9"
  }
 },
 "nbformat": 4,
 "nbformat_minor": 5
}
