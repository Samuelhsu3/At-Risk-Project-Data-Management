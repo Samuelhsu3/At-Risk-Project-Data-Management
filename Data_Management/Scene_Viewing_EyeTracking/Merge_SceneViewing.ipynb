{
 "cells": [
  {
   "cell_type": "markdown",
   "id": "de51f4e9-5d59-4b73-a210-b756554bf612",
   "metadata": {},
   "source": [
    "## Merge Scene Viewing Eyetracking Files (.sh)"
   ]
  },
  {
   "cell_type": "markdown",
   "id": "8a4815b4-ab4a-4dd1-bbdd-0adbd59aff83",
   "metadata": {},
   "source": [
    "VERSION: `Merge_SceneViewing_Blocks`"
   ]
  },
  {
   "cell_type": "markdown",
   "id": "10f696e3-bec9-4db0-8610-3e7ac0baf695",
   "metadata": {},
   "source": [
    "Only run after renaming has been completed"
   ]
  },
  {
   "cell_type": "markdown",
   "id": "4e8005be-25fe-4252-b001-8a0c83582493",
   "metadata": {},
   "source": [
    "Combines session folders from different blocks and creates a log noting errors. It moves files into the Sorted directory for Processing. It moves and not copies so you can run the script continuously in the same folder. ONLY RUN PROCESS IN SORTED NOT IN THE EYETRACKING FOLDER. \n",
    "\n",
    "Example: \n",
    "\n",
    "BlockE1/ID1/Session1/File1 ->    \n",
    "\n",
    "BlockE2/ID1/Session1/File2 ->  \n",
    "\n",
    "BlockE3/ID1/Session1/File3 ->  \n",
    "\n",
    "BlockE4/ID1/Session1/File4 ->\n",
    "\n",
    "BlockR1/ID1/Session1/File5 ->\n",
    "\n",
    "BlockR2/ID1/Session1/File6 ->\n",
    "\n",
    "BlockR3/ID1/Session1/File7 ->\n",
    "\n",
    "\n",
    "Sorted/ID1/Session1/File1 File2 File3 File4 File5 File6 File7 \n",
    "\n",
    "\n"
   ]
  },
  {
   "cell_type": "code",
   "execution_count": null,
   "id": "06f2e4e2-f27e-4117-ae0f-1cac53f053aa",
   "metadata": {},
   "outputs": [],
   "source": [
    "#!/bin/bash\n",
    "\n",
    "base_dir=$(pwd)\n",
    "\n",
    "blocks=(\"Encoding_Block1\" \"Encoding_Block2\" \"Encoding_Block3\" \"Encoding_Block4\" \\\n",
    "        \"Retrieval_Block1\" \"Retrieval_Block2\" \"Retrieval_Block3\")\n",
    "\n",
    "mkdir -p \"$base_dir/Sorted\"\n",
    "\n",
    "log_file=\"$base_dir/merge_log.txt\"\n",
    "\n",
    "separator=\"_________________________________________________________________\"\n",
    "\n",
    "echo \"$separator\" >> \"$log_file\"\n",
    "\n",
    "for block in \"${blocks[@]}\"; do\n",
    "    for id_dir in \"$block\"/*; do\n",
    "        if [ -d \"$id_dir\" ]; then\n",
    "            id=$(basename \"$id_dir\")\n",
    "\n",
    "            for session_dir in \"$id_dir\"/*; do\n",
    "                if [ -d \"$session_dir\" ]; then\n",
    "                    session=$(basename \"$session_dir\")\n",
    "                    sorted_session_dir=\"$base_dir/Sorted/$id/$session\"\n",
    "\n",
    "                    mkdir -p \"$sorted_session_dir\"\n",
    "\n",
    "                    for file in \"$session_dir\"/*; do\n",
    "                        if [ -e \"$file\" ]; then\n",
    "                            filename=$(basename \"$file\")\n",
    "                            dest_file=\"$sorted_session_dir/$filename\"\n",
    "\n",
    "                            if [ -e \"$dest_file\" ]; then\n",
    "\n",
    "                                echo \"ERROR: Duplicate file name detected: $filename in session $session for ID $id\" >> \"$log_file\"\n",
    "                            else\n",
    "                                mv \"$file\" \"$dest_file\"\n",
    "                            fi\n",
    "                        fi\n",
    "                    done\n",
    "                fi\n",
    "            done\n",
    "        fi\n",
    "    done\n",
    "done\n",
    "\n",
    "echo \"Processing completed. Check $log_file for any issues or details.\"\n"
   ]
  }
 ],
 "metadata": {
  "kernelspec": {
   "display_name": "Python 3 (ipykernel)",
   "language": "python",
   "name": "python3"
  },
  "language_info": {
   "codemirror_mode": {
    "name": "ipython",
    "version": 3
   },
   "file_extension": ".py",
   "mimetype": "text/x-python",
   "name": "python",
   "nbconvert_exporter": "python",
   "pygments_lexer": "ipython3",
   "version": "3.10.9"
  }
 },
 "nbformat": 4,
 "nbformat_minor": 5
}
