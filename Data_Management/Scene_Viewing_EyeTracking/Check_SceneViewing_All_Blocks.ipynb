{
 "cells": [
  {
   "cell_type": "markdown",
   "id": "a4e8d8c5-1f9f-4dfc-8ddb-436b516e6b8f",
   "metadata": {},
   "source": [
    "## Check Scene Viewing Eyetracking Files From All Blocks (.sh)"
   ]
  },
  {
   "cell_type": "markdown",
   "id": "3eb71c5c-8a74-4ef8-9328-9482dacd3581",
   "metadata": {},
   "source": [
    "This combines two scripts and allows you to run checks on all 7 blocks"
   ]
  },
  {
   "cell_type": "markdown",
   "id": "11778671-3eec-45af-8633-5e7ce371e6a3",
   "metadata": {},
   "source": [
    "Checks recent SceneViewing Eyetracking files from all blocks for correct size and structure:  \n",
    "\n",
    "- If Encoding: `1 edf && 2 dat && 1 log`\n",
    "- If Retrieval: `1 edf && 1 dat && 2 log`\n",
    "\n",
    "  Outputs into terminal"
   ]
  },
  {
   "cell_type": "markdown",
   "id": "d4f05d75-3bad-4a09-b7b9-13b918322c90",
   "metadata": {},
   "source": [
    "VERSION: `Check_Recent_SceneViewing_All_Blocks`"
   ]
  },
  {
   "cell_type": "code",
   "execution_count": null,
   "id": "bef00c01-23f7-44cd-90ea-1155f84b3d3d",
   "metadata": {},
   "outputs": [],
   "source": [
    "#!/bin/bash\n",
    "\n",
    "new_folders_found=false\n",
    "\n",
    "check_encoding_block() {\n",
    "    local session_folder=$1\n",
    "    local folder_size=$(du -sh \"$session_folder\" | cut -f1)\n",
    "\n",
    "    dat_count=$(find \"$session_folder\" -maxdepth 1 -type f -name \"*.dat\" | wc -l)\n",
    "    edf_count=$(find \"$session_folder\" -maxdepth 1 -type f -name \"*.edf\" | wc -l)\n",
    "    log_count=$(find \"$session_folder\" -maxdepth 1 -type f -name \"*.log\" | wc -l)\n",
    "\n",
    "    if [[ ! ($dat_count -eq 2 && $edf_count -eq 1 && $log_count -eq 1) ]]; then\n",
    "        echo \"  [UNEXPECTED FORMAT] Encoding block $session_folder [Size: $folder_size]. Contents:\"\n",
    "        ls -l \"$session_folder\"\n",
    "    else\n",
    "        echo \"  [EXPECTED FORMAT] Encoding block $session_folder [Size: $folder_size]\"\n",
    "    fi\n",
    "}\n",
    "\n",
    "check_retrieval_block() {\n",
    "    local session_folder=$1\n",
    "    local folder_size=$(du -sh \"$session_folder\" | cut -f1)\n",
    "\n",
    "    dat_count=$(find \"$session_folder\" -maxdepth 1 -type f -name \"*.dat\" | wc -l)\n",
    "    edf_count=$(find \"$session_folder\" -maxdepth 1 -type f -name \"*.edf\" | wc -l)\n",
    "    log_count=$(find \"$session_folder\" -maxdepth 1 -type f -name \"*.log\" | wc -l)\n",
    "    txt_count=$(find \"$session_folder\" -maxdepth 1 -type f -name \"*.txt\" | wc -l)\n",
    "\n",
    "    if [[ ! ($dat_count -eq 1 && $edf_count -eq 1 && $log_count -eq 2) || ($txt_count -gt 1) ]]; then\n",
    "        echo \"  [UNEXPECTED FORMAT] Retrieval block $session_folder. Contents:\"\n",
    "        ls -l \"$session_folder\"\n",
    "    else\n",
    "        echo \"  [EXPECTED FORMAT] Retrieval block $session_folder [Size: $folder_size]\"\n",
    "    fi\n",
    "}\n",
    "\n",
    "for block_folder in */; do\n",
    "    if [[ -d \"$block_folder\" ]]; then\n",
    "        for id_folder in \"${block_folder}\"*/; do\n",
    "            if [[ -d \"$id_folder\" ]]; then\n",
    "                for session_folder in \"${id_folder}\"*/; do\n",
    "                    if [[ -d \"$session_folder\" ]] && find \"$session_folder\" -maxdepth 0 -mtime -1 | read; then\n",
    "                        new_folders_found=true\n",
    "                        echo \"Checking new or modified session folder: $session_folder\"\n",
    "\n",
    "                        if [[ $block_folder == Encoding* ]]; then\n",
    "                            check_encoding_block \"$session_folder\"\n",
    "                        elif [[ $block_folder == Retrieval* ]]; then\n",
    "                            check_retrieval_block \"$session_folder\"\n",
    "                        fi\n",
    "\n",
    "                        echo \"_________________________________________________________________\"\n",
    "                    fi\n",
    "                done\n",
    "            fi\n",
    "        done\n",
    "    fi\n",
    "done\n",
    "\n",
    "if ! $new_folders_found; then\n",
    "    echo \"No new or modified files in last 24 hours.\"\n",
    "fi\n"
   ]
  },
  {
   "cell_type": "markdown",
   "id": "31ac2982-5c51-4733-a278-07118cca811d",
   "metadata": {},
   "source": [
    "Checks all SceneViewing Eyetracking files from all blocks for correct size and structure:  \n",
    "\n",
    "- If Encoding: `1 edf && 2 dat && 1 log`\n",
    "- If Retrieval: `1 edf && 1 dat && 2 log`\n"
   ]
  },
  {
   "cell_type": "markdown",
   "id": "d8107091-b8bd-4809-a722-3fce78d7e882",
   "metadata": {},
   "source": [
    "VERSION: `Check_All_SceneViewing_All_Blocks`"
   ]
  },
  {
   "cell_type": "code",
   "execution_count": null,
   "id": "391c540b-71df-465b-9c92-035e4c6597b6",
   "metadata": {},
   "outputs": [],
   "source": [
    "#!/bin/bash\n",
    "\n",
    "unexpected_found=false\n",
    "output_file=\"unexpected_folders_report.txt\"\n",
    "\n",
    "> \"$output_file\"\n",
    "\n",
    "check_encoding_block() {\n",
    "    local session_folder=$1\n",
    "    echo \"Checking Encoding block: $session_folder\"\n",
    "    dat_count=$(find \"$session_folder\" -maxdepth 1 -type f -name \"*.dat\" | wc -l)\n",
    "    edf_count=$(find \"$session_folder\" -maxdepth 1 -type f -name \"*.edf\" | wc -l)\n",
    "    log_count=$(find \"$session_folder\" -maxdepth 1 -type f -name \"*.log\" | wc -l)\n",
    "\n",
    "    if [[ ! ($dat_count -eq 2 && $edf_count -eq 1 && $log_count -eq 1) ]]; then\n",
    "        echo \"[UNEXPECTED] Unexpected file structure in Encoding block $session_folder. Contents:\" >> \"$output_file\"\n",
    "        ls -l \"$session_folder\" >> \"$output_file\"\n",
    "        echo \"_________________________________________________________________\" >> \"$output_file\"\n",
    "        unexpected_found=true\n",
    "    fi\n",
    "}\n",
    "\n",
    "check_retrieval_block() {\n",
    "    local session_folder=$1\n",
    "    echo \"Checking Retrieval block: $session_folder\"\n",
    "    dat_count=$(find \"$session_folder\" -maxdepth 1 -type f -name \"*.dat\" | wc -l)\n",
    "    edf_count=$(find \"$session_folder\" -maxdepth 1 -type f -name \"*.edf\" | wc -l)\n",
    "    log_count=$(find \"$session_folder\" -maxdepth 1 -type f -name \"*.log\" | wc -l)\n",
    "    txt_count=$(find \"$session_folder\" -maxdepth 1 -type f -name \"*.txt\" | wc -l)\n",
    "\n",
    "    if [[ ! ($dat_count -eq 1 && $edf_count -eq 1 && $log_count -eq 2) || ($txt_count -gt 1) ]]; then\n",
    "        echo \"[UNEXPECTED] Unexpected file structure in Retrieval block $session_folder. Contents:\" >> \"$output_file\"\n",
    "        ls -l \"$session_folder\" >> \"$output_file\"\n",
    "        echo \"_________________________________________________________________\" >> \"$output_file\"\n",
    "        unexpected_found=true\n",
    "    fi\n",
    "}\n",
    "\n",
    "for block_folder in */; do\n",
    "    if [[ -d \"$block_folder\" ]]; then\n",
    "        for id_folder in \"${block_folder}\"*/; do\n",
    "            if [[ -d \"$id_folder\" ]]; then\n",
    "                for session_folder in \"${id_folder}\"*/; do\n",
    "                    if [[ -d \"$session_folder\" ]]; then\n",
    "                        if [[ $block_folder == Encoding* ]]; then\n",
    "                            check_encoding_block \"$session_folder\"\n",
    "                        elif [[ $block_folder == Retrieval* ]]; then\n",
    "                            check_retrieval_block \"$session_folder\"\n",
    "                        fi\n",
    "                    fi\n",
    "                done\n",
    "            fi\n",
    "        done\n",
    "    fi\n",
    "done\n",
    "\n",
    "if ! $unexpected_found; then\n",
    "    echo \"All folders match expected structure.\" >> \"$output_file\"\n",
    "else\n",
    "    echo \"There are folders with unexpected structure. See $output_file for details.\"\n",
    "fi\n"
   ]
  }
 ],
 "metadata": {
  "kernelspec": {
   "display_name": "Python 3 (ipykernel)",
   "language": "python",
   "name": "python3"
  },
  "language_info": {
   "codemirror_mode": {
    "name": "ipython",
    "version": 3
   },
   "file_extension": ".py",
   "mimetype": "text/x-python",
   "name": "python",
   "nbconvert_exporter": "python",
   "pygments_lexer": "ipython3",
   "version": "3.10.9"
  }
 },
 "nbformat": 4,
 "nbformat_minor": 5
}
