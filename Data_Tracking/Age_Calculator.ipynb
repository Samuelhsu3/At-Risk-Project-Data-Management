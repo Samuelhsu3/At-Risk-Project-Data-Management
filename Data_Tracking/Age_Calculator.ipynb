{
 "cells": [
  {
   "cell_type": "markdown",
   "id": "3ac450b0-fb7e-489b-b82b-accc102f4c31",
   "metadata": {},
   "source": [
    "# Calculate Age (.gs)"
   ]
  },
  {
   "cell_type": "markdown",
   "id": "13b07cd1-35ac-472c-bcb5-c34ee2a10175",
   "metadata": {},
   "source": [
    "Reads from Age sheet and updates the age column"
   ]
  },
  {
   "cell_type": "code",
   "execution_count": null,
   "id": "bfadd81e-330b-4fc8-9a5c-3eb98012780e",
   "metadata": {},
   "outputs": [],
   "source": [
    "function Fill_age() {\n",
    "  var ss = SpreadsheetApp.getActiveSpreadsheet();\n",
    "  var sheet = ss.getActiveSheet();\n",
    "  var ageSheet = ss.getSheetByName(\"Age\");\n",
    "  \n",
    "  var dataRange = sheet.getRange(2, 1, sheet.getLastRow() - 1, sheet.getLastColumn());\n",
    "  var data = dataRange.getValues();\n",
    "  var ageData = ageSheet.getDataRange().getValues();\n",
    "  \n",
    "  var dobDict = {}; \n",
    "  var notFoundIds = []; \n",
    "  \n",
    "  for (var i = 0; i < ageData.length; i++) {\n",
    "    dobDict[ageData[i][0]] = new Date(ageData[i][1]);\n",
    "  }\n",
    "\n",
    "  for (var i = 0; i < data.length; i++) {\n",
    "    var participantId = data[i][0];\n",
    "    var ageCell = data[i][4];\n",
    "    if ((ageCell === \"\" || ageCell === \"DOB not found\") && participantId) { \n",
    "      var dob = dobDict[participantId];\n",
    "      if (dob) {\n",
    "        var currentDate = new Date(data[i][1]);\n",
    "        var age = getAge(dob, currentDate); \n",
    "        data[i][4] = age; \n",
    "      } else {\n",
    "        data[i][4] = \"DOB not found\"; \n",
    "        notFoundIds.push(participantId); \n",
    "      }\n",
    "    }\n",
    "  }\n",
    "  \n",
    " \n",
    "  var ageColumnIndex = 5; \n",
    "  var ageValues = data.map(function(row) {\n",
    "    return [row[ageColumnIndex - 1]]; \n",
    "  });\n",
    "  \n",
    "  sheet.getRange(2, ageColumnIndex, ageValues.length).setValues(ageValues);\n",
    "  \n",
    "  if (notFoundIds.length > 0) {\n",
    "    var message = \"DOB not found for ID(s): \" + notFoundIds.join(\", \");\n",
    "    SpreadsheetApp.getUi().alert(message);\n",
    "  } else {\n",
    "    SpreadsheetApp.getUi().alert('Age filled for all applicable entries.');\n",
    "  }\n",
    "\n",
    "  function getAge(dob, currentDate) {\n",
    "    var age = currentDate.getFullYear() - dob.getFullYear();\n",
    "    var m = currentDate.getMonth() - dob.getMonth();\n",
    "    if (m < 0 || (m === 0 && currentDate.getDate() < dob.getDate())) {\n",
    "      age--;\n",
    "    }\n",
    "    return age;\n",
    "  }\n",
    "}\n"
   ]
  }
 ],
 "metadata": {
  "kernelspec": {
   "display_name": "Python 3 (ipykernel)",
   "language": "python",
   "name": "python3"
  },
  "language_info": {
   "codemirror_mode": {
    "name": "ipython",
    "version": 3
   },
   "file_extension": ".py",
   "mimetype": "text/x-python",
   "name": "python",
   "nbconvert_exporter": "python",
   "pygments_lexer": "ipython3",
   "version": "3.10.9"
  }
 },
 "nbformat": 4,
 "nbformat_minor": 5
}
