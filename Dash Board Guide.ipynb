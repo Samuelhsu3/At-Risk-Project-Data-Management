{
 "cells": [
  {
   "cell_type": "markdown",
   "id": "776554b9-3529-4ce0-bfa5-e31df4835205",
   "metadata": {},
   "source": [
    "[Link to the current dashboard](https://atriskdata.onrender.com/)\n",
    "\n",
    "- Note that it spins down with inactivity so it may take some time to load \n",
    "\n",
    "---"
   ]
  },
  {
   "cell_type": "markdown",
   "id": "a6363da8-c8e0-4ee8-a2ed-7f5a0bb224cc",
   "metadata": {},
   "source": [
    "###Logging in"
   ]
  },
  {
   "cell_type": "markdown",
   "id": "2803ad4f-d9e8-4827-b2ef-b4f5bcfce48b",
   "metadata": {},
   "source": [
    "- When directed, you will be asked to provide a username and password pair\n",
    "    - Your ID can be found in your baycrest email (e.g. Email: shsu@research.baycrest.org. Username: shsu)\n",
    "    - You may also use “At-risk”  as the Default username \n",
    "    - All the passwords are currently set as “at-risk2022jmr” (same as TONI log in)"
   ]
  },
  {
   "cell_type": "markdown",
   "id": "94490ddd-bc3f-4a74-9a56-ecc15ae367bf",
   "metadata": {},
   "source": [
    "<img src=\"Images/Login.png\" alt=\"Login\" width=\"200\">"
   ]
  },
  {
   "cell_type": "markdown",
   "id": "af4f8d0b-9b92-4872-b1ab-68450e3299d5",
   "metadata": {},
   "source": [
    "---"
   ]
  },
  {
   "cell_type": "markdown",
   "id": "53746388-aa28-483d-b3fb-6dfae348d696",
   "metadata": {},
   "source": [
    "###Using the dashboard"
   ]
  },
  {
   "cell_type": "markdown",
   "id": "72cad006-40e4-4461-bee1-e2c0279a1aba",
   "metadata": {},
   "source": [
    " The *Find tab* allows you to view information about files, directories, and participants.\n",
    "- The search function at the top allows you to search for specific participants \n",
    "- There are two dropdown menus in the find tab. \n",
    "  - The first dropdown displays all the participants that are currently on file    \n",
    "  - The second dropdown displays all the file/directories that have been tracked.   \n",
    "- You may narrow the items displayed in the dropdown by using the filters\n",
    "\t- Filters applied will update BOTH the ID as well as the Filename dropdown\n"
   ]
  },
  {
   "cell_type": "markdown",
   "id": "73062b6b-723d-4f74-8f69-48268f691a2e",
   "metadata": {},
   "source": [
    "![Dropdowns](Images/dropdowns.png)"
   ]
  },
  {
   "cell_type": "markdown",
   "id": "3e98b771-96e7-4eae-9bd4-a3cef9d9d46f",
   "metadata": {},
   "source": [
    "- Once an ID is selected, the following can be viewed: \n",
    "     1. Demo info \n",
    "     2. Studies Completed \n",
    "     3. Files/Directories belonging to the Participant \n"
   ]
  },
  {
   "cell_type": "markdown",
   "id": "3627335b-c76f-4621-9422-5dc71211f21c",
   "metadata": {},
   "source": [
    "- Details about the files can be further explored by clicking on the file names which includes transfer history, date tested, size, file number, file type, location tested, timepoint, current pathway on compute canada, and any notes about the files (renaming history, incomplete blocks, errors…)\n",
    "            \n",
    "- Other tabs link you to any old or new tracking sheets used to complete the summary sheet, it also records where all the data are backed up along with past naming systems.\n",
    "\n",
    "---"
   ]
  },
  {
   "cell_type": "markdown",
   "id": "92972e8b-888c-4141-b5d2-930101621e5d",
   "metadata": {},
   "source": [
    "###Editing, Updating, and Uploading\n"
   ]
  },
  {
   "cell_type": "markdown",
   "id": "370eaa81-2cbe-4453-ae91-94ad579f488f",
   "metadata": {},
   "source": [
    "- The code is currently stored in my private github repository \n",
    "\t- assets/css (design)\n",
    "\t- credentials.py (the username and password pairs)\n",
    "\t- csv_to_json_converter.py (can be run locally to convert excel sheets)\n",
    "\t- main.py (dashboard)\n",
    "\t- requirements.txt (packages)\n",
    "- The dashboard is currently hosted on Render and new commits would require redeployment, any other host would probably also work (~5 minutes)\n",
    "\n",
    "---"
   ]
  },
  {
   "cell_type": "markdown",
   "id": "6b67ac33-e492-46d2-9b29-1d9adc27086e",
   "metadata": {},
   "source": [
    "###Json File"
   ]
  },
  {
   "cell_type": "markdown",
   "id": "719f220c-674d-41cc-a0ab-9681771ca945",
   "metadata": {},
   "source": [
    "- The Dashboard reads from a JSON file that contains information about all the files that are on Compute Canada. All tracking sheets currently associated with Compute Canada have been designed to fit the same format regardless of the study type. This allows for the smooth extraction of information for the google apps script.\n",
    "\n",
    "[Updating the Tracking sheets](Compute Canada Tracking Sheets.ipynb)\n",
    "\n",
    "- After making changes to the CC tracking sheets, you can then update the JSON sheet by clicking on the Commit button. This will sync any changes made in all sheets. Once the Script finishes running, you can download it with the Export button. The default name will be the current date which allows the dash to know when it was last updated. "
   ]
  },
  {
   "cell_type": "markdown",
   "id": "649265b3-5f5f-4187-b165-a61a48ff0de5",
   "metadata": {},
   "source": [
    "<table>\n",
    "  <tr>\n",
    "    <td><img src=\"Samuelhsu3/DataBackup/tree/main/Images/Commit.png\" width=\"200\" height=\"150\"></td>\n",
    "    <td><img src=\"Images/DownloadJSON.png\" width=\"180\" height=\"140\"></td>\n",
    "  </tr>\n",
    "</table>\n"
   ]
  },
  {
   "cell_type": "markdown",
   "id": "fbb86516-78c4-46fa-a398-34c0b1de540b",
   "metadata": {},
   "source": [
    "---\n",
    "\n",
    "From there you just need to upload the new file, and change the main.py code to read from the new file."
   ]
  },
  {
   "cell_type": "markdown",
   "id": "0304d95f-cef8-4562-a008-d65c33e25e26",
   "metadata": {},
   "source": [
    "![Github](Images/Github.png)"
   ]
  },
  {
   "cell_type": "markdown",
   "id": "745a6cf7-4b6f-4dd4-be38-127001f5ca7b",
   "metadata": {},
   "source": [
    "**Remember to Redeploy the app*"
   ]
  }
 ],
 "metadata": {
  "kernelspec": {
   "display_name": "Python 3 (ipykernel)",
   "language": "python",
   "name": "python3"
  },
  "language_info": {
   "codemirror_mode": {
    "name": "ipython",
    "version": 3
   },
   "file_extension": ".py",
   "mimetype": "text/x-python",
   "name": "python",
   "nbconvert_exporter": "python",
   "pygments_lexer": "ipython3",
   "version": "3.10.9"
  }
 },
 "nbformat": 4,
 "nbformat_minor": 5
}
