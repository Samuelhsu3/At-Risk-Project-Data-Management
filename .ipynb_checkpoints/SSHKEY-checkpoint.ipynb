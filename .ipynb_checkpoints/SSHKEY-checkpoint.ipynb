{
 "cells": [
  {
   "cell_type": "markdown",
   "id": "c26b0d3b-7ebf-41a3-8633-b3ede21e2e8a",
   "metadata": {
    "tags": []
   },
   "source": [
    "# Instructions on Generating SSH Keys to Connect to CC Faster\n",
    "\n",
    "This can be done on your device so that typing in passwords are no longer necessary. If you wish to script file transfer, this is probably ideal\n"
   ]
  },
  {
   "cell_type": "markdown",
   "id": "ee10e68d-91a5-49c4-81b6-59a63e0de3be",
   "metadata": {},
   "source": [
    "## Step 1: On Your Local Computer\n",
    "\n",
    "Run the following command to generate an SSH key if dont have one already: \n",
    "(Key is 4096 bits)"
   ]
  },
  {
   "cell_type": "code",
   "execution_count": null,
   "id": "cbff02f8-3d51-4e58-992c-28a718612388",
   "metadata": {
    "tags": []
   },
   "outputs": [],
   "source": [
    "ssh-keygen -t rsa -b 4096"
   ]
  },
  {
   "cell_type": "markdown",
   "id": "44c13b54-4f83-4505-b4c1-e2d0f6d32963",
   "metadata": {},
   "source": [
    "If you need to find the public key later, you can use the `cat` or `less` command:\n"
   ]
  },
  {
   "cell_type": "code",
   "execution_count": null,
   "id": "60ae3cbf-be0c-45d0-89e4-0f03b86ac941",
   "metadata": {
    "tags": []
   },
   "outputs": [],
   "source": [
    "cat ~/.ssh/id_rsa.pub "
   ]
  },
  {
   "cell_type": "markdown",
   "id": "6246d354-99b2-464b-9386-c93ad9988545",
   "metadata": {
    "tags": []
   },
   "source": [
    "## Step 2: On Your Remote Server\n",
    "\n",
    "Add the public key to the `authorized_keys` file and set the appropriate permissions. Read (4) and write (2) so owner has read and write permissions (4 + 2 = 6):"
   ]
  },
  {
   "cell_type": "code",
   "execution_count": null,
   "id": "be5641d0-ec9f-421d-96b5-c1d890a752ce",
   "metadata": {},
   "outputs": [],
   "source": [
    "nano ~/.ssh/authorized_keys\n",
    "chmod 600 ~/.ssh/authorized_keys"
   ]
  },
  {
   "cell_type": "markdown",
   "id": "585b2989-28ff-4949-8969-dc49c8eee6aa",
   "metadata": {},
   "source": [
    "To check the file permissions of `authorized_keys`, use the following command:\n"
   ]
  },
  {
   "cell_type": "code",
   "execution_count": null,
   "id": "4042fb7f-2927-431e-a5d2-a82c9cba8ca4",
   "metadata": {},
   "outputs": [],
   "source": [
    "!ls -l ~/.ssh/authorized_keys"
   ]
  }
 ],
 "metadata": {
  "kernelspec": {
   "display_name": "Bash",
   "language": "bash",
   "name": "bash"
  },
  "language_info": {
   "codemirror_mode": {
    "name": "ipython",
    "version": 3
   },
   "file_extension": ".py",
   "mimetype": "text/x-python",
   "name": "python",
   "nbconvert_exporter": "python",
   "pygments_lexer": "ipython3",
   "version": "3.10.9"
  }
 },
 "nbformat": 4,
 "nbformat_minor": 5
}
