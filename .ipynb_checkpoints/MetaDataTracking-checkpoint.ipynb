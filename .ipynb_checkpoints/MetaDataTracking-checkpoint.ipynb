{
 "cells": [
  {
   "cell_type": "markdown",
   "id": "f2ea95fa-298c-441b-8944-719bc81a3252",
   "metadata": {},
   "source": [
    "##Finds the most recent files in the current directory, tracks metadata. "
   ]
  },
  {
   "cell_type": "code",
   "execution_count": null,
   "id": "c266c05b-3719-4254-ae3e-992c070c9d7e",
   "metadata": {},
   "outputs": [],
   "source": [
    "#!/bin/bash\n",
    "\n",
    "# List the 5 most recent files/directories\n",
    "recent_files=($(ls -t1 | tail -n 5))\n",
    "\n",
    "for file in \"${recent_files[@]}\"; do\n",
    "    size=$(du -sh \"$file\" | cut -f1)\n",
    "    \n",
    "    # Compute cryptographic hash using sha256sum for files or directories\n",
    "    if [ -f \"$file\" ]; then\n",
    "        crypto_hash=$(sha256sum \"$file\" | cut -d' ' -f1)\n",
    "    else\n",
    "        # If directory, hash content of all files and then hash those results\n",
    "        crypto_hash=$(find \"$file\" -type f -exec sha256sum {} \\; | sha256sum | cut -d' ' -f1)\n",
    "    fi\n",
    "\n",
    "    if [ -d \"$file\" ]; then\n",
    "        num_files=$(find \"$file\" -type f | wc -l)\n",
    "    else\n",
    "        num_files=0\n",
    "    fi\n",
    "    \n",
    "    abs_path=$(realpath \"$file\")\n",
    "\n",
    "    # Count direct subdirectories\n",
    "    subdirs_count=$(find \"$file\" -maxdepth 1 -type d | wc -l)\n",
    "    ((subdirs_count--))\n",
    "    \n",
    "    echo \"File/Directory: $file\"\n",
    "    echo \"Size: $size\"\n",
    "    echo \"ID (SHA-256): $crypto_hash\"\n",
    "    echo \"Number of files inside: $num_files\"\n",
    "    echo \"Pathway: $abs_path\"\n",
    "    echo \"Subdirectories: $subdirs_count\"\n",
    "    echo \"---------------------------------\"\n",
    "done\n",
    "\n"
   ]
  }
 ],
 "metadata": {
  "kernelspec": {
   "display_name": "Bash",
   "language": "bash",
   "name": "bash"
  },
  "language_info": {
   "name": ""
  }
 },
 "nbformat": 4,
 "nbformat_minor": 5
}
