{
 "cells": [
  {
   "cell_type": "markdown",
   "id": "776554b9-3529-4ce0-bfa5-e31df4835205",
   "metadata": {},
   "source": [
    "##Link to the current dashboard: \n",
    "https://atriskdata.onrender.com/\n",
    "\t-Note that it spins down with inactivity so it may take some time to load \n"
   ]
  },
  {
   "cell_type": "markdown",
   "id": "a6363da8-c8e0-4ee8-a2ed-7f5a0bb224cc",
   "metadata": {},
   "source": [
    "###Logging in"
   ]
  },
  {
   "cell_type": "markdown",
   "id": "2803ad4f-d9e8-4827-b2ef-b4f5bcfce48b",
   "metadata": {},
   "source": [
    "- When directed, you will be asked to provide a username and password pair\n",
    "\t\t-You may use the same ID as in your baycrest email (e.g my email is shsu@research.baycrest.org, so my username would be shsu)\n",
    "-You may also use “At-risk”  as the username \n",
    "-All the passwords are currently set as “at-risk2022jmr”  (same as TONI log in)"
   ]
  }
 ],
 "metadata": {
  "kernelspec": {
   "display_name": "Python 3 (ipykernel)",
   "language": "python",
   "name": "python3"
  },
  "language_info": {
   "codemirror_mode": {
    "name": "ipython",
    "version": 3
   },
   "file_extension": ".py",
   "mimetype": "text/x-python",
   "name": "python",
   "nbconvert_exporter": "python",
   "pygments_lexer": "ipython3",
   "version": "3.10.9"
  }
 },
 "nbformat": 4,
 "nbformat_minor": 5
}
