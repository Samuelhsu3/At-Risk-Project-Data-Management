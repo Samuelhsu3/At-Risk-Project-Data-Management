{
 "cells": [
  {
   "cell_type": "markdown",
   "id": "ceb7e134-41f9-48c7-a386-a8eed280b48d",
   "metadata": {},
   "source": [
    "# Untaring FIles (.sh)"
   ]
  },
  {
   "cell_type": "markdown",
   "id": "30ffc034-354d-4c69-9e6e-7f7c3ebed843",
   "metadata": {},
   "source": [
    "Directories copied from projects can be untarred with this script.\n",
    "It will keep the same structure by replacing the tars."
   ]
  },
  {
   "cell_type": "code",
   "execution_count": null,
   "id": "f3452c0b-5e7b-49c5-9c8e-d08b3aa3ad0b",
   "metadata": {},
   "outputs": [],
   "source": [
    "#!/bin/bash\n",
    "\n",
    "untar_and_delete() {\n",
    "    local tar_file=\"$1\"\n",
    "    local dir_name=$(dirname \"$tar_file\")\n",
    "\n",
    "    tar -xzf \"$tar_file\" -C \"$dir_name\"\n",
    "    \n",
    "    rm \"$tar_file\"\n",
    "}\n",
    "\n",
    "find . -type f -name \"*.tar.gz\" -print0 | while IFS= read -r -d '' tar_file; do\n",
    "    untar_and_delete \"$tar_file\"\n",
    "done\n"
   ]
  }
 ],
 "metadata": {
  "kernelspec": {
   "display_name": "Bash",
   "language": "bash",
   "name": "bash"
  },
  "language_info": {
   "name": ""
  }
 },
 "nbformat": 4,
 "nbformat_minor": 5
}
