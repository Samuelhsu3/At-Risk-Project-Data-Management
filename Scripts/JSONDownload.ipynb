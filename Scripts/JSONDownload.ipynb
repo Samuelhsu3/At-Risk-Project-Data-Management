{
 "cells": [
  {
   "cell_type": "markdown",
   "id": "ce7c4ad9-19a8-428d-9f30-1905bba03915",
   "metadata": {},
   "source": [
    "# JSON Download (.gs)"
   ]
  },
  {
   "cell_type": "code",
   "execution_count": null,
   "id": "c988f35f-7ea0-4255-988c-d025914c2d92",
   "metadata": {},
   "outputs": [],
   "source": [
    "function downloadAsJson() {\n",
    "    var sheet = SpreadsheetApp.getActiveSpreadsheet().getActiveSheet();\n",
    "    var data = sheet.getDataRange().getValues();\n",
    "    \n",
    "    var jsonData = [];\n",
    "    var headers = data[0];\n",
    "    \n",
    "    for (var i = 1; i < data.length; i++) {\n",
    "        var row = data[i];\n",
    "        var record = {};\n",
    "        for (var j = 0; j < headers.length; j++) {\n",
    "            if (headers[j] === \"Date\" && row[j] instanceof Date) {\n",
    "                // Convert the Date object to the desired format\n",
    "                record[headers[j]] = Utilities.formatDate(row[j], Session.getScriptTimeZone(), \"MMMM dd, yyyy\");\n",
    "            } else {\n",
    "                record[headers[j]] = row[j];\n",
    "            }\n",
    "        }\n",
    "        jsonData.push(record);\n",
    "    }\n",
    "\n",
    "    // Set filename based on today's date\n",
    "    var today = new Date();\n",
    "    var formattedDate = (today.getMonth() + 1).toString() + today.getDate().toString() + today.getFullYear().toString();\n",
    "    var filename = formattedDate + \".json\";\n",
    "    \n",
    "    var blob = Utilities.newBlob(JSON.stringify(jsonData, null, 2), \"application/json\", filename);\n",
    "    var downloadLink = DriveApp.createFile(blob);\n",
    "    \n",
    "    var htmlOutput = HtmlService.createHtmlOutput(`<p>Click <a href=\"${downloadLink.getUrl()}\" target=\"_blank\" onClick=\"google.script.host.close()\">here</a> for download link.</p>`)\n",
    "      .setWidth(200)\n",
    "      .setHeight(100);\n",
    "    SpreadsheetApp.getUi().showModalDialog(htmlOutput, 'Download...');\n",
    "}\n"
   ]
  }
 ],
 "metadata": {
  "kernelspec": {
   "display_name": "Python 3 (ipykernel)",
   "language": "python",
   "name": "python3"
  },
  "language_info": {
   "codemirror_mode": {
    "name": "ipython",
    "version": 3
   },
   "file_extension": ".py",
   "mimetype": "text/x-python",
   "name": "python",
   "nbconvert_exporter": "python",
   "pygments_lexer": "ipython3",
   "version": "3.10.9"
  }
 },
 "nbformat": 4,
 "nbformat_minor": 5
}
