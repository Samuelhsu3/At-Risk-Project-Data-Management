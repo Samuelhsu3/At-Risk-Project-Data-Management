{
 "cells": [
  {
   "cell_type": "markdown",
   "id": "f94c1db2-8c71-4858-a022-3cf2fe09e266",
   "metadata": {},
   "source": [
    "# Renaming in Bulk (.sh)"
   ]
  },
  {
   "cell_type": "markdown",
   "id": "28719f1c-7c94-4a91-b644-d861c29fe416",
   "metadata": {},
   "source": [
    "Example usage when some folders needed to be renamed to avoid confusion"
   ]
  },
  {
   "cell_type": "markdown",
   "id": "fd31459c-8ea8-4073-8316-5799e9a201e7",
   "metadata": {},
   "source": [
    "*Replace with actual names in same order*"
   ]
  },
  {
   "cell_type": "code",
   "execution_count": null,
   "id": "26c3ee4a-d5d4-44ba-9f28-a549ff93afd4",
   "metadata": {},
   "outputs": [],
   "source": [
    "#!/bin/bash\n",
    "\n",
    "oldnames=(\"vt13ylm\" \"vt14ylm\" \"vt15ylm\" \"vt16ylm\" \"vt17ylm\" \"vt18ylm\" \"vt19ylm\" \"vt20ylm\" \"vt21ylm\" \"vt22ylm\" \"vt23ynm\" \"vt24ynm\" \"vt25ynm\" \"vt26ynm\" \"vt27ynm\" \"vt28ynm\" \"vt29ynm\" \"vt30ynm\" \"vt31ynm\" \"vt32ynm\" \"vt33ynm\" \"vt34ynm\" \"vt35ynm\" \"vt36ynm\" \"vt37ynm\" \"vt38ynm\" \"vt39ylj\" \"vt40ylj\")\n",
    "\n",
    "newnames=(\"vp15780r\" \"vp16830r\" \"vp12608r\" \"vp16643r\" \"vp16302r\" \"vp17094r\" \"vp16404r\" \"vp16465r\" \"vp17335r\" \"vp17793r\" \"vp17916r\" \"vp17956r\" \"vp13650r\" \"vp17702r\" \"vp18231r\" \"vp18174r\" \"vp15615r\" \"vp18262r\" \"vp16574r\" \"vp18032r\" \"vp18444r\" \"vp15943r\" \"vp16543r\" \"vp15029r\" \"vp18288r\" \"vp18205r\" \"vp19602r\" \"vp19600r\")\n",
    "\n",
    "if [ ${#oldnames[@]} -eq ${#newnames[@]} ]; then\n",
    "  for ((i=0;i<${#oldnames[@]};++i)); do\n",
    "    if [ -e \"${oldnames[i]}\" ]; then\n",
    "      mv \"${oldnames[i]}\" \"${newnames[i]}\"\n",
    "    else\n",
    "      echo \"File ${oldnames[i]} not found!\"\n",
    "    fi\n",
    "  done\n",
    "else\n",
    "  echo \"Mismatch in the number of old and new file names.\"\n",
    "fi\n"
   ]
  }
 ],
 "metadata": {
  "kernelspec": {
   "display_name": "Bash",
   "language": "bash",
   "name": "bash"
  },
  "language_info": {
   "name": ""
  }
 },
 "nbformat": 4,
 "nbformat_minor": 5
}
