{
 "cells": [
  {
   "cell_type": "markdown",
   "id": "6c66b6be-9309-4659-8521-459d18edeb9d",
   "metadata": {},
   "source": [
    "# Check File Sizes (.sh)"
   ]
  },
  {
   "cell_type": "markdown",
   "id": "3b9b626b-fac1-40de-a1ef-9eb061d2eedb",
   "metadata": {},
   "source": [
    "This is used to check the sizes of files in bulk so they can be tracked accordingly. "
   ]
  },
  {
   "cell_type": "markdown",
   "id": "be7ac8c2-f4ac-46c4-8529-ecfe7d48a2a7",
   "metadata": {},
   "source": [
    "*The output format should fit any excel sheet coloumn*"
   ]
  },
  {
   "cell_type": "code",
   "execution_count": null,
   "id": "3c6e9d60-111c-485a-a7be-12023142f677",
   "metadata": {},
   "outputs": [],
   "source": [
    "#!/bin/bash\n",
    "\n",
    "dirs=(\n",
    "    rt11886\n",
    "    rt11551\n",
    "    rt11454\n",
    "    rt11186\n",
    "    rt11107\n",
    "    rt9618\n",
    "    rt7982\n",
    ")\n",
    "\n",
    "for dir_name in \"${dirs[@]}\"; do\n",
    "\n",
    "    dir_path=$(find . -type d -name \"$dir_name\" -print -quit)\n",
    "    \n",
    "    if [ -n \"$dir_path\" ]; then\n",
    "        size=$(du -sh \"$dir_path\" 2>/dev/null | cut -f1)\n",
    "        echo \"$size\"\n",
    "    else\n",
    "        echo \"-\"\n",
    "    fi\n",
    "done\n"
   ]
  },
  {
   "cell_type": "markdown",
   "id": "36745069-a2cd-41b2-99a7-f6df5b862d9e",
   "metadata": {},
   "source": [
    "If you want to find all file sizes and file numbers without specifying names"
   ]
  },
  {
   "cell_type": "code",
   "execution_count": null,
   "id": "df6a859c-8eb3-48c8-a02b-0ca1733fcf9f",
   "metadata": {},
   "outputs": [],
   "source": [
    "#!/bin/bash\n",
    "\n",
    "outputFile=\"file_info.txt\"\n",
    "\n",
    "for item in *\n",
    "do\n",
    "\n",
    "    itemSize=$(du -sh \"$item\" | cut -f1)\n",
    "\n",
    "    if [[ -d $item ]]; then\n",
    "        numFiles=$(find \"$item\" -type f | wc -l)\n",
    "    else\n",
    "        numFiles=1\n",
    "    fi\n",
    "    echo \"$item : $itemSize : $numFiles\" >> \"$outputFile\"\n",
    "done\n",
    "\n",
    "sort \"$outputFile\" -o \"$outputFile\"\n"
   ]
  }
 ],
 "metadata": {
  "kernelspec": {
   "display_name": "Bash",
   "language": "bash",
   "name": "bash"
  },
  "language_info": {
   "name": ""
  }
 },
 "nbformat": 4,
 "nbformat_minor": 5
}
