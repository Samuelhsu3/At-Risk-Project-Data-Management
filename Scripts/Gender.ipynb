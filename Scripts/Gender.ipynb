{
 "cells": [
  {
   "cell_type": "markdown",
   "id": "59551eb4-76fb-41d3-add9-4b4ceb545332",
   "metadata": {},
   "source": [
    "# Find Gender (.sh)"
   ]
  },
  {
   "cell_type": "markdown",
   "id": "c6c4a1fe-78f9-49d8-974c-3b16d408b74e",
   "metadata": {},
   "source": [
    "Reads from Gender sheet and updates column"
   ]
  },
  {
   "cell_type": "code",
   "execution_count": null,
   "id": "443c550c-7c73-4d1c-8df1-7550ac502565",
   "metadata": {},
   "outputs": [],
   "source": [
    "function Fill_gender() {\n",
    "  var ss = SpreadsheetApp.getActiveSpreadsheet();\n",
    "  var sheet = ss.getActiveSheet();\n",
    "  var genderSheet = ss.getSheetByName(\"Gender\");\n",
    "  \n",
    "  // Start from the second row to skip the title\n",
    "  var data = sheet.getRange(2, 1, sheet.getLastRow() - 1, sheet.getLastColumn()).getValues();\n",
    "  var genderData = genderSheet.getDataRange().getValues();\n",
    "  \n",
    "  var genderDict = {}; // For mapping participant ID to Gender\n",
    "  \n",
    "  // Build a dictionary from the Gender sheet for easier lookup\n",
    "  for(var i = 0; i < genderData.length; i++) {\n",
    "    genderDict[genderData[i][0]] = genderData[i][1];\n",
    "  }\n",
    "  \n",
    "  // Iterate over all the rows in data, including the second row\n",
    "  for(var i = 0; i < data.length; i++) {\n",
    "    if(!data[i][3] && data[i][0]) { // If D is empty and A is not\n",
    "      var participantId = data[i][0];\n",
    "      var gender = genderDict[participantId];\n",
    "      if(gender) {\n",
    "        data[i][3] = gender; // Assign gender to Column D\n",
    "      } else {\n",
    "        data[i][3] = \"Not found\";\n",
    "      }\n",
    "    }\n",
    "  }\n",
    "  \n",
    "  // Update the data starting from the second row\n",
    "  sheet.getRange(2, 1, data.length, data[0].length).setValues(data);\n",
    "}\n"
   ]
  }
 ],
 "metadata": {
  "kernelspec": {
   "display_name": "Python 3 (ipykernel)",
   "language": "python",
   "name": "python3"
  },
  "language_info": {
   "codemirror_mode": {
    "name": "ipython",
    "version": 3
   },
   "file_extension": ".py",
   "mimetype": "text/x-python",
   "name": "python",
   "nbconvert_exporter": "python",
   "pygments_lexer": "ipython3",
   "version": "3.10.9"
  }
 },
 "nbformat": 4,
 "nbformat_minor": 5
}
