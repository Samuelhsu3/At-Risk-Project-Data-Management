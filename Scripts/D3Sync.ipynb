{
 "cells": [
  {
   "cell_type": "markdown",
   "id": "0fc9b23a-a532-419b-8a86-59a8ab9e53e9",
   "metadata": {},
   "source": [
    "# Sync Scene Viewing EyeTracking (.gs)"
   ]
  },
  {
   "cell_type": "markdown",
   "id": "2c9633d5-faa5-482a-8fd9-0ecbc611fbee",
   "metadata": {},
   "source": [
    "Generates encoding block templates on D3E "
   ]
  },
  {
   "cell_type": "code",
   "execution_count": null,
   "id": "fa25207a-335f-401b-9855-fe9ab72a9bb9",
   "metadata": {},
   "outputs": [],
   "source": [
    "function syncD3EData() {\n",
    "  var ss = SpreadsheetApp.getActiveSpreadsheet();\n",
    "  var editedSheet = ss.getSheetByName(\"Day 3 EyeTracking Encoding Data\");\n",
    "  var targetSheet = ss.getSheetByName(\"D3E\");\n",
    "\n",
    "  var dataA = editedSheet.getRange(editedSheet.getLastRow(), 1).getValue();\n",
    "  if (!dataA) return;  // Exit if the last row in column A is empty.\n",
    "\n",
    "  var dataB = editedSheet.getRange(editedSheet.getLastRow(), 2).getValue();\n",
    "  var dataL = editedSheet.getRange(editedSheet.getLastRow(), 12).getValue();\n",
    "  \n",
    "  for (var block = 1; block <= 4; block++) {\n",
    "    var lastRowWithBlock = findLastRowWithBlock(targetSheet, block);\n",
    "    targetSheet.insertRowAfter(lastRowWithBlock);\n",
    "    targetSheet.getRange(lastRowWithBlock + 1, 1).setValue(dataA);\n",
    "    targetSheet.getRange(lastRowWithBlock + 1, 2).setValue(dataB);\n",
    "    targetSheet.getRange(lastRowWithBlock + 1, 19).setValue(dataL);\n",
    "      \n",
    "    // Copy values from above for columns F, G, and K.\n",
    "    targetSheet.getRange(lastRowWithBlock + 1, 6).setValue(targetSheet.getRange(lastRowWithBlock, 6).getValue());\n",
    "    targetSheet.getRange(lastRowWithBlock + 1, 7).setValue(targetSheet.getRange(lastRowWithBlock, 7).getValue());\n",
    "    targetSheet.getRange(lastRowWithBlock + 1, 11).setValue(targetSheet.getRange(lastRowWithBlock, 11).getValue());\n",
    "\n",
    "    // Add the \"Awaiting\" messages\n",
    "    targetSheet.getRange(lastRowWithBlock + 1, 9).setValue(\"Awaiting Transfer...\");\n",
    "    targetSheet.getRange(lastRowWithBlock + 1, 10).setValue(\"Awaiting Compression\");\n",
    "  }\n",
    "}\n",
    "\n",
    "function findLastRowWithBlock(sheet, block) {\n",
    "  var blockColumn = sheet.getRange(\"F2:F\" + sheet.getLastRow()).getValues().flat();\n",
    "  var index = blockColumn.lastIndexOf(block);\n",
    "  return index + 2;  // adjust for 0-based array index and 1-based row index\n",
    "}\n"
   ]
  },
  {
   "cell_type": "markdown",
   "id": "b77e37a0-95d1-4049-8800-4ea033bb31f7",
   "metadata": {},
   "source": [
    "Generates retrieval block templates on D3R"
   ]
  },
  {
   "cell_type": "code",
   "execution_count": null,
   "id": "0c276964-a6a2-4565-9ad5-c32bc45d2cfd",
   "metadata": {},
   "outputs": [],
   "source": [
    "function syncD3RData() {\n",
    "  var ss = SpreadsheetApp.getActiveSpreadsheet();\n",
    "  var editedSheet = ss.getSheetByName(\"Day 3 EyeTracking Retrieval Data\");\n",
    "  var targetSheet = ss.getSheetByName(\"D3R\");\n",
    "\n",
    "  var dataA = editedSheet.getRange(editedSheet.getLastRow(), 1).getValue();\n",
    "  if (!dataA) return;  // Exit if the last row in column A is empty.\n",
    "\n",
    "  var dataB = editedSheet.getRange(editedSheet.getLastRow(), 2).getValue();\n",
    "  var dataI = editedSheet.getRange(editedSheet.getLastRow(), 9).getValue();\n",
    "  \n",
    "  for (var block = 1; block <= 3; block++) {  // Loop only 3 times for D3R\n",
    "    var lastRowWithBlock = findLastRowWithBlockD3R(targetSheet, block);\n",
    "    targetSheet.insertRowAfter(lastRowWithBlock);\n",
    "    targetSheet.getRange(lastRowWithBlock + 1, 1).setValue(dataA);\n",
    "    targetSheet.getRange(lastRowWithBlock + 1, 2).setValue(dataB);\n",
    "    targetSheet.getRange(lastRowWithBlock + 1, 19).setValue(dataI);\n",
    "      \n",
    "    // Copy values from above for columns F, G, and K.\n",
    "    targetSheet.getRange(lastRowWithBlock + 1, 6).setValue(targetSheet.getRange(lastRowWithBlock, 6).getValue());\n",
    "    targetSheet.getRange(lastRowWithBlock + 1, 7).setValue(targetSheet.getRange(lastRowWithBlock, 7).getValue());\n",
    "    targetSheet.getRange(lastRowWithBlock + 1, 11).setValue(targetSheet.getRange(lastRowWithBlock, 11).getValue());\n",
    "\n",
    "    // Add the \"Awaiting\" messages\n",
    "    targetSheet.getRange(lastRowWithBlock + 1, 9).setValue(\"Awaiting Transfer...\");\n",
    "    targetSheet.getRange(lastRowWithBlock + 1, 10).setValue(\"Awaiting Compression\");\n",
    "  }\n",
    "}\n",
    "\n",
    "function findLastRowWithBlockD3R(sheet, block) {\n",
    "  var blockColumn = sheet.getRange(\"F2:F\" + sheet.getLastRow()).getValues().flat();\n",
    "  var index = blockColumn.lastIndexOf(block);\n",
    "  return index + 2;  // adjust for 0-based array index and 1-based row index\n",
    "}\n"
   ]
  }
 ],
 "metadata": {
  "kernelspec": {
   "display_name": "Python 3 (ipykernel)",
   "language": "python",
   "name": "python3"
  },
  "language_info": {
   "codemirror_mode": {
    "name": "ipython",
    "version": 3
   },
   "file_extension": ".py",
   "mimetype": "text/x-python",
   "name": "python",
   "nbconvert_exporter": "python",
   "pygments_lexer": "ipython3",
   "version": "3.10.9"
  }
 },
 "nbformat": 4,
 "nbformat_minor": 5
}
