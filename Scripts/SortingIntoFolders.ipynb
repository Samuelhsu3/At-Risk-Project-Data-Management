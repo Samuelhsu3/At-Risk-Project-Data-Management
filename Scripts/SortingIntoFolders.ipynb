{
 "cells": [
  {
   "cell_type": "markdown",
   "id": "95a7eff6-01c9-4e6d-a7c0-dbc5971220b8",
   "metadata": {},
   "source": [
    "# Sorting Raw Files (.sh)"
   ]
  },
  {
   "cell_type": "markdown",
   "id": "2f3df12a-baf6-4ea3-bf2e-d43fcd989696",
   "metadata": {},
   "source": [
    "Extracts IDs from reading the filenames and moves to respective folder"
   ]
  },
  {
   "cell_type": "markdown",
   "id": "b573322b-2fba-43a6-981e-289f72ca8dbc",
   "metadata": {},
   "source": [
    "*This assumes that all IDs are BAY. If otherwise, you need to manually edit the folder name*"
   ]
  },
  {
   "cell_type": "code",
   "execution_count": null,
   "id": "1326ac24-a84c-487a-975a-ec0da43c5357",
   "metadata": {},
   "outputs": [],
   "source": [
    "#!/bin/bash\n",
    "\n",
    "folder_count=0\n",
    "dir_moved_count=0\n",
    "error_count=0\n",
    "\n",
    "for dir in */; do\n",
    "    # Extract the Participant ID which has at least 3 numbers in a row.\n",
    "    participant_id=$(echo \"$dir\" | grep -oP '(?<=\\D|^)\\d{3,}(?=\\D|$)')\n",
    "\n",
    "    if [[ -z \"$participant_id\" ]]; then\n",
    "        continue\n",
    "    fi\n",
    "\n",
    "    participant_folder=\"BAY$participant_id\"\n",
    "    \n",
    "    if mkdir -p \"$participant_folder\" 2>/dev/null; then\n",
    "        ((folder_count++))\n",
    "    else\n",
    "        ((error_count++))\n",
    "    fi\n",
    "    \n",
    "    if mv \"$dir\" \"$participant_folder/\" 2>/dev/null; then\n",
    "        ((dir_moved_count++))\n",
    "    else\n",
    "        ((error_count++))\n",
    "    fi\n",
    "done\n",
    "\n",
    "echo \"Folders created: $folder_count\"\n",
    "echo \"Directories moved: $dir_moved_count\"\n",
    "echo \"Errors encountered: $error_count\"\n",
    "\n",
    "\n"
   ]
  }
 ],
 "metadata": {
  "kernelspec": {
   "display_name": "Bash",
   "language": "bash",
   "name": "bash"
  },
  "language_info": {
   "name": ""
  }
 },
 "nbformat": 4,
 "nbformat_minor": 5
}
