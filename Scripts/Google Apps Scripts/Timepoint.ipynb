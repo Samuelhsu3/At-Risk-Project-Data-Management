{
 "cells": [
  {
   "cell_type": "markdown",
   "id": "59551eb4-76fb-41d3-add9-4b4ceb545332",
   "metadata": {},
   "source": [
    "# Find Timepoints(.gs)"
   ]
  },
  {
   "cell_type": "markdown",
   "id": "c6c4a1fe-78f9-49d8-974c-3b16d408b74e",
   "metadata": {},
   "source": [
    "Reads from ID and Date columns, updates Timepoint"
   ]
  },
  {
   "cell_type": "markdown",
   "id": "aa063c49-2066-4013-a5fe-36f9a3cad320",
   "metadata": {},
   "source": [
    "*IMPORTANT*: The first time a participant is tested is considered as timepoint 1, the 2nd as timepoint 2... and so on. It does not matter which year they did the study or how far apart two timepoints are from each other. This is just to better identify how many times a participant has actually completed a specific study. "
   ]
  },
  {
   "cell_type": "code",
   "execution_count": null,
   "id": "443c550c-7c73-4d1c-8df1-7550ac502565",
   "metadata": {},
   "outputs": [],
   "source": [
    "function updateTimepoints() {\n",
    "  var sheet = SpreadsheetApp.getActiveSpreadsheet().getActiveSheet();\n",
    "  var dataRange = sheet.getDataRange();\n",
    "  var data = dataRange.getValues();\n",
    "\n",
    "  var participantIDCol = data[0].indexOf(\"Participant_ID\");\n",
    "  var dateCol = data[0].indexOf(\"Date\");\n",
    "  var timepointCol = data[0].indexOf(\"Timepoint\");\n",
    "\n",
    "  if (participantIDCol < 0 || dateCol < 0 || timepointCol < 0) {\n",
    "    SpreadsheetApp.getUi().alert('One of the required columns (\"Participant_ID\", \"Date\", \"Timepoint\") is missing.');\n",
    "    return;\n",
    "  }\n",
    "\n",
    "  // Object to keep track of the timepoints\n",
    "  var timepointTracker = {};\n",
    "\n",
    "  // Iterate over the rows\n",
    "  for (var i = 1; i < data.length; i++) {\n",
    "    var participantID = data[i][participantIDCol];\n",
    "    var dateString = data[i][dateCol] ? Utilities.formatDate(new Date(data[i][dateCol]), Session.getScriptTimeZone(), \"MM/dd/yyyy\") : '';\n",
    "\n",
    "    // Skip if Participant_ID or Date is empty\n",
    "    if (!participantID || !dateString) continue;\n",
    "\n",
    "    // Create a unique key for each Participant_ID and Date combination\n",
    "    var key = participantID + '-' + dateString;\n",
    "\n",
    "    // Initialize the timepoint for this key if it hasn't been already\n",
    "    if (!timepointTracker.hasOwnProperty(key)) {\n",
    "      // Find the highest current timepoint for this participant ID\n",
    "      var currentMaxTimepoint = Object.keys(timepointTracker)\n",
    "        .filter(k => k.startsWith(participantID + '-'))\n",
    "        .reduce((max, k) => Math.max(max, timepointTracker[k]), 0);\n",
    "      timepointTracker[key] = currentMaxTimepoint + 1;\n",
    "    }\n",
    "\n",
    "    // Fill in the Timepoint column if it's empty\n",
    "    if (data[i][timepointCol] === '') {\n",
    "      sheet.getRange(i + 1, timepointCol + 1).setValue(timepointTracker[key]);\n",
    "    }\n",
    "  }\n",
    "\n",
    "  SpreadsheetApp.getUi().alert('Timepoints have been updated successfully.');\n",
    "}\n"
   ]
  }
 ],
 "metadata": {
  "kernelspec": {
   "display_name": "Python 3 (ipykernel)",
   "language": "python",
   "name": "python3"
  },
  "language_info": {
   "codemirror_mode": {
    "name": "ipython",
    "version": 3
   },
   "file_extension": ".py",
   "mimetype": "text/x-python",
   "name": "python",
   "nbconvert_exporter": "python",
   "pygments_lexer": "ipython3",
   "version": "3.10.9"
  }
 },
 "nbformat": 4,
 "nbformat_minor": 5
}
