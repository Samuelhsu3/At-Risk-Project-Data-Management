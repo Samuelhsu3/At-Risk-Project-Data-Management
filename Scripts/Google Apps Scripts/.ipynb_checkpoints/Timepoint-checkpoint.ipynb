{
 "cells": [
  {
   "cell_type": "markdown",
   "id": "59551eb4-76fb-41d3-add9-4b4ceb545332",
   "metadata": {},
   "source": [
    "# Sync Blocks(.gs)"
   ]
  },
  {
   "cell_type": "markdown",
   "id": "c6c4a1fe-78f9-49d8-974c-3b16d408b74e",
   "metadata": {},
   "source": [
    "Reads from ID and Date columns and updates Timepoint"
   ]
  },
  {
   "cell_type": "markdown",
   "id": "aa063c49-2066-4013-a5fe-36f9a3cad320",
   "metadata": {},
   "source": [
    "*IMPORTANT*: The first time a participant is tested is considered as timepoint 1, the 2nd as timepoint 2... and so on. It does not matter which year they did the study or how far apart two timepoints are from each other. This is just to better identify how many times a participant has actually completed a specific study. "
   ]
  },
  {
   "cell_type": "code",
   "execution_count": null,
   "id": "443c550c-7c73-4d1c-8df1-7550ac502565",
   "metadata": {},
   "outputs": [],
   "source": [
    "function onEdit(e) {\n",
    "  var range = e.range;\n",
    "  var sheet = range.getSheet();\n",
    "  var editedRow = range.getRow();\n",
    "  var editedColumn = range.getColumn();\n",
    "  var lastColumn = sheet.getLastColumn();\n",
    "  var headers = sheet.getRange(1, 1, 1, lastColumn).getValues()[0];\n",
    "  var participantIDCol = headers.indexOf(\"Participant_ID\") + 1;\n",
    "  var dateCol = headers.indexOf(\"Date\") + 1;\n",
    "  var newValue = e.value;\n",
    "  var columnsToSync = [\"Transferred\", \"Sent by\", \"Device\", \"Method\", \"Collected\", \"Notes\"];\n",
    "  var indexesToSync = columnsToSync.map(function(header) {\n",
    "    return headers.indexOf(header) + 1;\n",
    "  }).filter(function(index) {\n",
    "    return index > 0;\n",
    "  });\n",
    "\n",
    "  // Check for \"now\" and \"today\" entries to set date and time\n",
    "  if (newValue && newValue.toLowerCase() === \"now\") {\n",
    "    range.setValue(Utilities.formatDate(new Date(), Session.getScriptTimeZone(), \"M/d/yy (HH:mm)\"));\n",
    "    return;\n",
    "  }\n",
    "  if (newValue && newValue.toLowerCase() === \"today\") {\n",
    "    range.setValue(Utilities.formatDate(new Date(), Session.getScriptTimeZone(), \"MMMM d, yyyy\"));\n",
    "    return;\n",
    "  }\n",
    "\n",
    "  var participantID = sheet.getRange(editedRow, participantIDCol).getValue();\n",
    "  var sessionDate = sheet.getRange(editedRow, dateCol).getValue();\n",
    "\n",
    "  // Proceed only if the edited column is one to be synced\n",
    "  if (indexesToSync.includes(editedColumn)) {\n",
    "    var dataRange = sheet.getDataRange();\n",
    "    var data = dataRange.getValues();\n",
    "    var matchingRowsCount = 0;\n",
    "    var cellsUpdated = [];\n",
    "\n",
    "    for (var i = 1; i < data.length; i++) {\n",
    "      if (data[i][participantIDCol - 1] === participantID && \n",
    "          new Date(data[i][dateCol - 1]).getTime() === new Date(sessionDate).getTime()) {\n",
    "        if ((i + 1) !== editedRow) {\n",
    "          matchingRowsCount++;\n",
    "          var cellToChange = sheet.getRange(i + 1, editedColumn);\n",
    "          if (newValue === undefined) {\n",
    "            cellToChange.clearContent();\n",
    "          } else {\n",
    "            cellToChange.setValue(newValue);\n",
    "          }\n",
    "          cellsUpdated.push(cellToChange.getA1Notation());\n",
    "        }\n",
    "      }\n",
    "    }\n",
    "\n",
    "    if (matchingRowsCount > 0) {\n",
    "      var message = \"Now editing: \" + matchingRowsCount + \" other cell(s) in the same session. Cells: \" + cellsUpdated.join(\", \");\n",
    "      SpreadsheetApp.getActiveSpreadsheet().toast(message, 'Update Info', 10);\n",
    "    }\n",
    "\n",
    "    // Highlighting logic\n",
    "    highlightMatchingRows(sheet, participantID, sessionDate, editedRow, lastColumn, editedColumn);\n",
    "  }\n",
    "}\n",
    "\n",
    "function highlightMatchingRows(sheet, participantID, sessionDate, editedRow, lastColumn, editedColumn) {\n",
    "  var dataRange = sheet.getDataRange();\n",
    "  var data = dataRange.getValues();\n",
    "  var participantIDCol = sheet.getRange(1, 1, 1, lastColumn).getValues()[0].indexOf(\"Participant_ID\") + 1;\n",
    "  var dateCol = sheet.getRange(1, 1, 1, lastColumn).getValues()[0].indexOf(\"Date\") + 1;\n",
    "  var rowsToHighlight = [];\n",
    "\n",
    "  for (var i = 1; i < data.length; i++) {\n",
    "    if (data[i][participantIDCol - 1] === participantID && \n",
    "        new Date(data[i][dateCol - 1]).getTime() === new Date(sessionDate).getTime()) {\n",
    "      rowsToHighlight.push(i + 1);\n",
    "      sheet.getRange(i + 1, 1, 1, lastColumn).setBackground(\"#FFCCCC\");\n",
    "      if ((i + 1) !== editedRow) {\n",
    "        sheet.getRange(i + 1, editedColumn).setBackground(\"#CC0000\");\n",
    "      }\n",
    "    }\n",
    "  }\n",
    "\n",
    "  // Apply the highlight immediately and remove after 10 seconds\n",
    "  SpreadsheetApp.flush();\n",
    "  Utilities.sleep(10000);\n",
    "  rowsToHighlight.forEach(function(row) {\n",
    "    sheet.getRange(row, 1, 1, lastColumn).setBackground(null);\n",
    "    if (row !== editedRow) {\n",
    "      sheet.getRange(row, editedColumn).setBackground(null);\n",
    "    }\n",
    "  });\n",
    "}\n"
   ]
  }
 ],
 "metadata": {
  "kernelspec": {
   "display_name": "Python 3 (ipykernel)",
   "language": "python",
   "name": "python3"
  },
  "language_info": {
   "codemirror_mode": {
    "name": "ipython",
    "version": 3
   },
   "file_extension": ".py",
   "mimetype": "text/x-python",
   "name": "python",
   "nbconvert_exporter": "python",
   "pygments_lexer": "ipython3",
   "version": "3.10.9"
  }
 },
 "nbformat": 4,
 "nbformat_minor": 5
}
