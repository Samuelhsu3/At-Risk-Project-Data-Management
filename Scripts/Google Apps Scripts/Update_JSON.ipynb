{
 "cells": [
  {
   "cell_type": "markdown",
   "id": "a518c5ba-1332-4e59-b599-05cd2adf394b",
   "metadata": {},
   "source": [
    "# Sync sheets to JSON (.gs)"
   ]
  },
  {
   "cell_type": "markdown",
   "id": "6abb55da-c6a3-4e62-ba0d-644aad085360",
   "metadata": {},
   "source": [
    "This pulls from every compute canada tracking sheet and updates the summary/JSON sheet. If an edit is made in any sheet, it's best to still run the script rather than making a manual change (To avoid errors). If you delete the entire JSON sheet, it would just make a new one."
   ]
  },
  {
   "cell_type": "code",
   "execution_count": null,
   "id": "195c4fc2-0683-4d66-9a4b-40f423282103",
   "metadata": {},
   "outputs": [],
   "source": [
    "function updateJSON(editedSheetName) {\n",
    "  var ss = SpreadsheetApp.getActiveSpreadsheet();\n",
    "  var targetSheet = ss.getSheetByName(\"JSON\");\n",
    "  \n",
    "  var sheetsToSync = [\"MRI\", \"D1E\", \"D3E\", \"D3R\", \"VP study\", \"VP retr\", \"Oddity\", \"NeuroPsych\"];\n",
    "  var startRow = 1;\n",
    "\n",
    "  for (var i = 0; i < sheetsToSync.length; i++) {\n",
    "    var sheet = ss.getSheetByName(sheetsToSync[i]);\n",
    "    var lastRow = sheet.getLastRow();\n",
    "    var data;\n",
    "\n",
    "    if (sheetsToSync[i] === \"MRI\") {\n",
    "      data = sheet.getDataRange().getValues();\n",
    "    } else {\n",
    "      data = sheet.getRange(2, 1, lastRow - 1, sheet.getLastColumn()).getValues();\n",
    "    }\n",
    "\n",
    "    var targetDataRange = targetSheet.getRange(startRow, 1, data.length, data[0].length);\n",
    "    var targetData = targetDataRange.getValues();\n",
    "\n",
    "    if (targetData.length < data.length) {\n",
    "      targetSheet.insertRowsAfter(startRow + targetData.length - 1, data.length - targetData.length);\n",
    "    } else if (targetData.length > data.length) {\n",
    "      targetSheet.deleteRows(startRow + data.length, targetData.length - data.length);\n",
    "    }\n",
    "\n",
    "    targetSheet.getRange(startRow, 1, data.length, data[0].length).setValues(data);\n",
    "    startRow += data.length + 1; \n",
    "  }\n",
    "\n",
    " \n",
    "}"
   ]
  }
 ],
 "metadata": {
  "kernelspec": {
   "display_name": "Python 3 (ipykernel)",
   "language": "python",
   "name": "python3"
  },
  "language_info": {
   "codemirror_mode": {
    "name": "ipython",
    "version": 3
   },
   "file_extension": ".py",
   "mimetype": "text/x-python",
   "name": "python",
   "nbconvert_exporter": "python",
   "pygments_lexer": "ipython3",
   "version": "3.10.9"
  }
 },
 "nbformat": 4,
 "nbformat_minor": 5
}
