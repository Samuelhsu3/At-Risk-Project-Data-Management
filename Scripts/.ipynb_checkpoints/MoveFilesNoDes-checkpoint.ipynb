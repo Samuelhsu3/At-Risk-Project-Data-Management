{
 "cells": [
  {
   "cell_type": "markdown",
   "id": "5c26f60a-9d76-4f7f-a9d5-c7df2984617a",
   "metadata": {},
   "source": [
    "# Moves files to projects (.sh)"
   ]
  },
  {
   "cell_type": "markdown",
   "id": "23b0a5da-91fe-4105-82db-3d6e819ec60e",
   "metadata": {},
   "source": [
    "It differs from [this script](MoveFilesNoDes.ipynb) in that it determines the destination folder by the extracting information from the filenames themselves"
   ]
  },
  {
   "cell_type": "code",
   "execution_count": null,
   "id": "bce1344a-eb64-46bb-9005-c949a9ce6461",
   "metadata": {},
   "outputs": [],
   "source": [
    "#!/bin/bash\n",
    "\n",
    "\n",
    "source_files=(\"vp15780r.tar.gz\" \"vp19602r.tar.gz\" \"vp19600r.tar.gz\")\n",
    "destination_dir=\"/home/samhsu03/projects/def-rolsen/AtRisk-Dataset/viewpoint/retrieval_young/\"\n",
    "\n",
    "\n",
    "get_id_from_filename() {\n",
    "  filename=$(basename \"$1\")\n",
    "  id=$(echo \"$filename\" | sed -E 's/^vp([0-9]+)[sr](_session2)?.tar.gz/\\1/')\n",
    "  echo \"$id\"\n",
    "}\n",
    "\n",
    "total_files=0\n",
    "copied_files=0\n",
    "skipped_files=0\n",
    "\n",
    "for file in \"${source_files[@]}\"; do\n",
    "  ((total_files++))\n",
    "\n",
    "  if [ ! -f \"$file\" ]; then\n",
    "    echo \"Source file '$file' does not exist. Skipping...\"\n",
    "    ((skipped_files++))\n",
    "    continue\n",
    "  fi\n",
    "\n",
    "  # Extract the numeric part from the filename\n",
    "  id=$(get_id_from_filename \"$file\")\n",
    "\n",
    "\n",
    "  if [ -z \"$id\" ]; then\n",
    "    echo \"Invalid file name format for '$file'. Skipping...\"\n",
    "    ((skipped_files++))\n",
    "    continue\n",
    "  fi\n",
    "\n",
    "\n",
    "  destination_subdir=\"$destination_dir$id\"\n",
    "  mkdir -p \"$destination_subdir\"\n",
    "\n",
    "  if cp \"$file\" \"$destination_subdir\"; then\n",
    "    echo \"Successfully copied $file to $destination_subdir\"\n",
    "    ((copied_files++))\n",
    "  else\n",
    "    echo \"Failed to copy $file to $destination_subdir\"\n",
    "    ((skipped_files++))\n",
    "  fi\n",
    "done\n",
    "\n",
    "echo \"Total files: $total_files\"\n",
    "echo \"Copied files: $copied_files\"\n",
    "echo \"Skipped files: $skipped_files\"\n"
   ]
  }
 ],
 "metadata": {
  "kernelspec": {
   "display_name": "Bash",
   "language": "bash",
   "name": "bash"
  },
  "language_info": {
   "name": ""
  }
 },
 "nbformat": 4,
 "nbformat_minor": 5
}
