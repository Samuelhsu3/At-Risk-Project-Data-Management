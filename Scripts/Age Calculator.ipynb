{
 "cells": [
  {
   "cell_type": "markdown",
   "id": "3ac450b0-fb7e-489b-b82b-accc102f4c31",
   "metadata": {},
   "source": [
    "# Calculate Age (.gs)"
   ]
  },
  {
   "cell_type": "markdown",
   "id": "13b07cd1-35ac-472c-bcb5-c34ee2a10175",
   "metadata": {},
   "source": [
    "Reads from Age sheet and updates column"
   ]
  },
  {
   "cell_type": "code",
   "execution_count": null,
   "id": "bfadd81e-330b-4fc8-9a5c-3eb98012780e",
   "metadata": {},
   "outputs": [],
   "source": [
    "function Fill_age() {\n",
    "  var ss = SpreadsheetApp.getActiveSpreadsheet();\n",
    "  var sheet = ss.getActiveSheet();\n",
    "  var ageSheet = ss.getSheetByName(\"Age\");\n",
    "  \n",
    "  // Start from the second row to skip the title\n",
    "  var data = sheet.getRange(2, 1, sheet.getLastRow() - 1, sheet.getLastColumn()).getValues();\n",
    "  var ageData = ageSheet.getDataRange().getValues();\n",
    "  \n",
    "  var dobDict = {}; // For mapping participant ID to DOB\n",
    "  \n",
    "  // Build a dictionary from the Age sheet for easier lookup\n",
    "  for(var i = 0; i < ageData.length; i++) {\n",
    "    dobDict[ageData[i][0]] = ageData[i][1];\n",
    "  }\n",
    "  \n",
    "  for(var i = 1; i < data.length; i++) { // Start from the second element\n",
    "    if(!data[i][4] && data[i][1]) { // If E is empty and B is not\n",
    "      var participantId = data[i][0];\n",
    "      var dob = dobDict[participantId];\n",
    "      if(dob) {\n",
    "        var age = getAge(new Date(dob), new Date(data[i][1])); // Calculate age\n",
    "        data[i][4] = age; // Assign age to Column E\n",
    "      } else {\n",
    "        data[i][4] = \"DOB not found\";\n",
    "      }\n",
    "    }\n",
    "  }\n",
    "  \n",
    "  // Update the data starting from the second row\n",
    "  sheet.getRange(2, 1, data.length, data[0].length).setValues(data);\n",
    "\n",
    "  // Subfunction for age calculation\n",
    "  function getAge(dob, testDate) {\n",
    "    var age = testDate.getFullYear() - dob.getFullYear();\n",
    "    var m = testDate.getMonth() - dob.getMonth();\n",
    "    if (m < 0 || (m === 0 && testDate.getDate() < dob.getDate())) {\n",
    "      age--;\n",
    "    }\n",
    "    return age;\n",
    "  }\n",
    "}\n"
   ]
  }
 ],
 "metadata": {
  "kernelspec": {
   "display_name": "Python 3 (ipykernel)",
   "language": "python",
   "name": "python3"
  },
  "language_info": {
   "codemirror_mode": {
    "name": "ipython",
    "version": 3
   },
   "file_extension": ".py",
   "mimetype": "text/x-python",
   "name": "python",
   "nbconvert_exporter": "python",
   "pygments_lexer": "ipython3",
   "version": "3.10.9"
  }
 },
 "nbformat": 4,
 "nbformat_minor": 5
}
