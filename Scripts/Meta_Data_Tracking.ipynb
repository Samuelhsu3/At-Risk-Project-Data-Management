{
 "cells": [
  {
   "cell_type": "markdown",
   "id": "804ccb79-a673-4f52-b4c0-b6e0c109b435",
   "metadata": {},
   "source": [
    "# Meta Data Generator (.sh)"
   ]
  },
  {
   "cell_type": "markdown",
   "id": "f2ea95fa-298c-441b-8944-719bc81a3252",
   "metadata": {},
   "source": [
    "Finds the most recent files in the current directory, tracks metadata. "
   ]
  },
  {
   "cell_type": "markdown",
   "id": "73fa16d3-12e6-4281-93ff-00163fcb65c6",
   "metadata": {},
   "source": [
    "*Number of files to list can be edited depending on situation*"
   ]
  },
  {
   "cell_type": "code",
   "execution_count": null,
   "id": "c266c05b-3719-4254-ae3e-992c070c9d7e",
   "metadata": {},
   "outputs": [],
   "source": [
    "#!/bin/bash\n",
    "\n",
    "# List the 5 most recent files/directories\n",
    "recent_files=($(ls -t1 | tail -n 5))\n",
    "\n",
    "for file in \"${recent_files[@]}\"; do\n",
    "    size=$(du -sh \"$file\" | cut -f1)\n",
    "    \n",
    "    if [ -f \"$file\" ]; then\n",
    "        crypto_hash=$(sha256sum \"$file\" | cut -d' ' -f1)\n",
    "    else\n",
    "    \n",
    "        crypto_hash=$(find \"$file\" -type f -exec sha256sum {} \\; | sha256sum | cut -d' ' -f1)\n",
    "    fi\n",
    "\n",
    "    if [ -d \"$file\" ]; then\n",
    "        num_files=$(find \"$file\" -type f | wc -l)\n",
    "    else\n",
    "        num_files=0\n",
    "    fi\n",
    "    \n",
    "    abs_path=$(realpath \"$file\")\n",
    "\n",
    "\n",
    "    subdirs_count=$(find \"$file\" -maxdepth 1 -type d | wc -l)\n",
    "    ((subdirs_count--))\n",
    "    \n",
    "    echo \"File/Directory: $file\"\n",
    "    echo \"Size: $size\"\n",
    "    echo \"ID (SHA-256): $crypto_hash\"\n",
    "    echo \"Number of files inside: $num_files\"\n",
    "    echo \"Pathway: $abs_path\"\n",
    "    echo \"Subdirectories: $subdirs_count\"\n",
    "    echo \"---------------------------------\"\n",
    "done\n",
    "\n"
   ]
  }
 ],
 "metadata": {
  "kernelspec": {
   "display_name": "Bash",
   "language": "bash",
   "name": "bash"
  },
  "language_info": {
   "name": ""
  }
 },
 "nbformat": 4,
 "nbformat_minor": 5
}
