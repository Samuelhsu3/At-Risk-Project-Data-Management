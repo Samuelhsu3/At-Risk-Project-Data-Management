{
 "cells": [
  {
   "cell_type": "markdown",
   "id": "83b159c7-4d9b-434b-a8cc-62c1f5db3b0b",
   "metadata": {},
   "source": [
    "# Renaming Oddity Files (.ps1)"
   ]
  },
  {
   "cell_type": "markdown",
   "id": "14f09c1d-94c0-456a-a8ce-5badabf4c5fe",
   "metadata": {},
   "source": [
    "This is used to rename raw oddity files immediately after testing and can be used to reduce human error\n",
    "\n",
    "*This has to be run in powershell terminal unless you sign the script*"
   ]
  },
  {
   "cell_type": "code",
   "execution_count": null,
   "id": "65591911-5afc-4dfc-a0a3-7a735e976ed1",
   "metadata": {},
   "outputs": [],
   "source": [
    "$currentDate = Get-Date -Format \"yyyyMMdd\"\n",
    "\n",
    "Get-ChildItem -Path .\\*cat* | ForEach-Object {\n",
    "\n",
    "    if ($_.Name -match \"_v2-(\\d+)-1\") {\n",
    "        # Extract the ID\n",
    "        $participantID = $matches[1]\n",
    "        $newFileName = \"${participantID}_$currentDate$($_.Extension)\"\n",
    "\n",
    "        Rename-Item -Path $_.FullName -NewName $newFileName\n",
    "        Write-Output \"Renamed $($_.Name) to $newFileName\"\n",
    "    }\n",
    "}\n",
    "\n",
    "\n"
   ]
  }
 ],
 "metadata": {
  "kernelspec": {
   "display_name": "Bash",
   "language": "bash",
   "name": "bash"
  },
  "language_info": {
   "name": ""
  }
 },
 "nbformat": 4,
 "nbformat_minor": 5
}
