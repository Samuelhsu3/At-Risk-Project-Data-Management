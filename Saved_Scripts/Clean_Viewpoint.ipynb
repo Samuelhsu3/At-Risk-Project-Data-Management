{
 "cells": [
  {
   "cell_type": "markdown",
   "id": "a4f8c3ff-f974-4268-8073-3a46e63a5791",
   "metadata": {},
   "source": [
    "## Clean Viewpoint files (.sh)"
   ]
  },
  {
   "cell_type": "markdown",
   "id": "e3bbdfe2-fd75-4cd4-98dd-952d64bacddc",
   "metadata": {},
   "source": [
    "Report unexpected into txt"
   ]
  },
  {
   "cell_type": "code",
   "execution_count": null,
   "id": "3b8bea01-d4f5-4b1d-880b-5619d2e59667",
   "metadata": {},
   "outputs": [],
   "source": [
    "#!/bin/bash\n",
    "\n",
    "unexpected_found=false\n",
    "output_file=\"unexpected_folders_report.txt\"\n",
    "\n",
    "> \"$output_file\"\n",
    "\n",
    "for id_folder in */; do\n",
    "    if [[ -d \"$id_folder\" ]]; then\n",
    "        for session_folder in \"${id_folder}\"*/; do\n",
    "            if [[ -d \"$session_folder\" ]]; then\n",
    "\n",
    "                dat_count=$(find \"$session_folder\" -maxdepth 1 -type f -name \"*.dat\" | wc -l)\n",
    "                edf_count=$(find \"$session_folder\" -maxdepth 1 -type f -name \"*.edf\" | wc -l)\n",
    "                log_count=$(find \"$session_folder\" -maxdepth 1 -type f -name \"*.log\" | wc -l)\n",
    "\n",
    "                total_count=$(find \"$session_folder\" -maxdepth 1 -mindepth 1 | wc -l)\n",
    "\n",
    "                if [[ ! ($dat_count -eq 1 && $edf_count -eq 1 && $log_count -eq 1 && $total_count -eq 3) ]]; then\n",
    "                    echo \"[UNEXPECTED] Unexpected file structure in $session_folder. Contents:\" >> \"$output_file\"\n",
    "                    ls -l \"$session_folder\" >> \"$output_file\"\n",
    "                    echo \"_________________________________________________________________\" >> \"$output_file\"\n",
    "                    unexpected_found=true\n",
    "                fi\n",
    "            fi\n",
    "        done\n",
    "    fi\n",
    "done\n",
    "\n",
    "if ! $unexpected_found; then\n",
    "    echo \"All folders match expected structure.\" >> \"$output_file\"\n",
    "else\n",
    "    echo \"There are folders with unexpected structure. See $output_file for details.\"\n",
    "fi\n"
   ]
  },
  {
   "cell_type": "markdown",
   "id": "f42f2953-d1fb-46b4-9193-2251d10c3b83",
   "metadata": {},
   "source": [
    "To delete the extra folders"
   ]
  },
  {
   "cell_type": "code",
   "execution_count": null,
   "id": "b968aa46-d98c-41b4-80f5-d62f17e5609d",
   "metadata": {},
   "outputs": [],
   "source": [
    "#!/bin/bash\n",
    "\n",
    "declare -a dirs_to_delete\n",
    "\n",
    "for id_folder in */; do\n",
    "    if [[ -d \"$id_folder\" ]]; then\n",
    "\n",
    "        for session_folder in \"${id_folder}\"*/; do\n",
    "            if [[ -d \"$session_folder\" ]]; then\n",
    "\n",
    "                for item in \"${session_folder}\"*; do\n",
    "                  \n",
    "                    if [[ -d \"$item\" ]]; then\n",
    "                        echo \"Found directory: $item\"\n",
    "                        dirs_to_delete+=(\"$item\")\n",
    "                    fi\n",
    "                done\n",
    "            fi\n",
    "        done\n",
    "    fi\n",
    "done\n",
    "\n",
    "\n",
    "if [ ${#dirs_to_delete[@]} -ne 0 ]; then\n",
    "    echo \"The following directories will be deleted:\"\n",
    "    printf '%s\\n' \"${dirs_to_delete[@]}\"\n",
    "    read -p \"Do you want to delete all the above directories? (y/n) \" -n 1 -r\n",
    "    echo  \n",
    "\n",
    "    if [[ $REPLY =~ ^[Yy]$ ]]; then\n",
    "        for dir in \"${dirs_to_delete[@]}\"; do\n",
    "            rm -rf \"$dir\"\n",
    "            echo \"Deleted $dir.\"\n",
    "        done\n",
    "    else\n",
    "        echo \"No directories were deleted.\"\n",
    "    fi\n",
    "else\n",
    "    echo \"No directories found for deletion.\"\n",
    "fi\n",
    "\n",
    "echo \"Directory cleanup complete.\"\n"
   ]
  }
 ],
 "metadata": {
  "kernelspec": {
   "display_name": "Python 3 (ipykernel)",
   "language": "python",
   "name": "python3"
  },
  "language_info": {
   "codemirror_mode": {
    "name": "ipython",
    "version": 3
   },
   "file_extension": ".py",
   "mimetype": "text/x-python",
   "name": "python",
   "nbconvert_exporter": "python",
   "pygments_lexer": "ipython3",
   "version": "3.10.9"
  }
 },
 "nbformat": 4,
 "nbformat_minor": 5
}
