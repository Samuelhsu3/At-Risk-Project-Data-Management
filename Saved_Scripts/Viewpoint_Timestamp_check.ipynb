{
 "cells": [
  {
   "cell_type": "markdown",
   "id": "5ee98d0b-cfe7-499d-8dec-ba10dffc6337",
   "metadata": {},
   "source": [
    "## Finds Incorrectly Renamed Viewpoint Files"
   ]
  },
  {
   "cell_type": "code",
   "execution_count": null,
   "id": "e2acb0c7-3b64-4584-857b-b1d8f58d9c51",
   "metadata": {},
   "outputs": [],
   "source": [
    "#!/bin/bash\n",
    "\n",
    "outputFile=\"timestamp_error.txt\"\n",
    "\n",
    "if [ -f \"$outputFile\" ]; then\n",
    "    rm \"$outputFile\"\n",
    "fi\n",
    "\n",
    "for idFolder in *; do\n",
    "    if [ -d \"$idFolder\" ]; then\n",
    "        for subFolder in \"$idFolder\"/*; do\n",
    "            # Check if the subfolder's name starts with 200\n",
    "            if [[ $(basename \"$subFolder\") == 200* ]]; then\n",
    "                # Append ls -l output to the outputFile\n",
    "                ls -l \"$subFolder\" >> \"$outputFile\"\n",
    "                # Append separator\n",
    "                echo \"_____\" >> \"$outputFile\"\n",
    "            fi\n",
    "        done\n",
    "    fi\n",
    "done\n",
    "\n",
    "echo \"Script completed. Output is in $outputFile.\"\n"
   ]
  }
 ],
 "metadata": {
  "kernelspec": {
   "display_name": "",
   "name": ""
  },
  "language_info": {
   "name": ""
  }
 },
 "nbformat": 4,
 "nbformat_minor": 5
}
