{
 "cells": [
  {
   "cell_type": "markdown",
   "id": "9cc91971-2f44-436e-8c08-a2e53af62463",
   "metadata": {},
   "source": [
    "## Packaging files for projects\n"
   ]
  },
  {
   "cell_type": "markdown",
   "id": "578d988c-a5b1-4c82-b5e5-2cfa8d7fe126",
   "metadata": {},
   "source": [
    "This script looks for new session folders, compresses them, then sends to projects."
   ]
  },
  {
   "cell_type": "markdown",
   "id": "0c57f910-03bc-46f3-993f-7be3d4edf40e",
   "metadata": {},
   "source": [
    "*Path should be replaced depending on the study"
   ]
  },
  {
   "cell_type": "code",
   "execution_count": null,
   "id": "a5bd9264-a55f-4768-86a6-b3dfb4c92fa2",
   "metadata": {},
   "outputs": [],
   "source": [
    "#!/bin/bash\n",
    "\n",
    "des=\"/home/samhsu03/projects/def-rolsen/AtRisk-Dataset/MRI_scans\"\n",
    "count=0  \n",
    "for id_dir in *; do\n",
    "    if [ -d \"$id_dir\" ]; then\n",
    "        id=$(basename \"$id_dir\")\n",
    "        for session_dir in \"$id_dir\"/*; do\n",
    "            if [ -d \"$session_dir\" ]; then\n",
    "                session=$(basename \"$session_dir\")\n",
    "                dest_tar_path=\"$des/$id/$session.tar\"\n",
    "                if [ ! -f \"$dest_tar_path\" ]; then\n",
    "                    echo \"Tarring $session from ID $id and copying to projects\"\n",
    "                    tar -czf \"$session_dir.tar.gz\" -C \"$id_dir\" \"$session\"  \n",
    "                    mkdir -p \"$des/$id\"\n",
    "                    mv \"$session_dir.tar\" \"$dest_tar_path\"\n",
    "                    count=$((count+1))  \n",
    "                fi\n",
    "            fi\n",
    "        done\n",
    "    fi\n",
    "done\n",
    "\n",
    "echo \"Total Sent: $count\"\n"
   ]
  },
  {
   "cell_type": "markdown",
   "id": "79f84e80-76e3-4f98-8c1d-9fec057c36da",
   "metadata": {},
   "source": [
    "## For Scene Viewing Eyetracking"
   ]
  },
  {
   "cell_type": "markdown",
   "id": "c3d1bc14-27da-4ffb-8424-1248734fef91",
   "metadata": {},
   "source": [
    "This takes into account the blocks"
   ]
  },
  {
   "cell_type": "code",
   "execution_count": null,
   "id": "1a821a9a-c175-4097-aacc-5749fccc455f",
   "metadata": {},
   "outputs": [],
   "source": [
    "#!/bin/bash\n",
    "\n",
    "base_des=\"/home/samhsu03/projects/def-rolsen/AtRisk-Dataset/Cleaned_Final_SceneViewing_EyeTracking\"\n",
    "\n",
    "block_dir=$(basename \"$(pwd)\")\n",
    "\n",
    "des=\"$base_des/$block_dir\"\n",
    "count=0\n",
    "\n",
    "for id_dir in *; do\n",
    "    if [ -d \"$id_dir\" ]; then\n",
    "        id=$(basename \"$id_dir\")\n",
    "        for session_dir in \"$id_dir\"/*; do\n",
    "            if [ -d \"$session_dir\" ]; then\n",
    "                session=$(basename \"$session_dir\")\n",
    "                dest_tar_path=\"$des/$id/$session.tar\"\n",
    "                if [ ! -f \"$dest_tar_path\" ]; then\n",
    "                    echo \"Tarring and copying $session from ID $id\"\n",
    "                    tar -czf \"$session_dir.tar\" -C \"$id_dir\" \"$session\"\n",
    "                    mkdir -p \"$des/$id\"\n",
    "                    mv \"$session_dir.tar\" \"$dest_tar_path\"\n",
    "                    count=$((count+1))  \n",
    "                fi\n",
    "            fi\n",
    "        done\n",
    "    fi\n",
    "done\n",
    "\n",
    "echo \"Total Sent: $count\"\n"
   ]
  }
 ],
 "metadata": {
  "kernelspec": {
   "display_name": "Python 3 (ipykernel)",
   "language": "python",
   "name": "python3"
  },
  "language_info": {
   "codemirror_mode": {
    "name": "ipython",
    "version": 3
   },
   "file_extension": ".py",
   "mimetype": "text/x-python",
   "name": "python",
   "nbconvert_exporter": "python",
   "pygments_lexer": "ipython3",
   "version": "3.10.9"
  }
 },
 "nbformat": 4,
 "nbformat_minor": 5
}
