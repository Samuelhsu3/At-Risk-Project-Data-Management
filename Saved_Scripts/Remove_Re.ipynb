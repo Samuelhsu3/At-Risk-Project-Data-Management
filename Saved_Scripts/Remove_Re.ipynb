{
 "cells": [
  {
   "cell_type": "markdown",
   "id": "eae23c7f-2e2d-4fbd-a6a8-c6063b5253e3",
   "metadata": {},
   "source": [
    "Remove redundant session folder"
   ]
  },
  {
   "cell_type": "code",
   "execution_count": null,
   "id": "1c403f48-2bc7-42d3-8773-f1ac5c349172",
   "metadata": {},
   "outputs": [],
   "source": [
    "#!/bin/bash\n",
    "\n",
    "move_and_remove() {\n",
    "    local inner_dir=$1\n",
    "    local outer_dir=$(dirname \"$inner_dir\")\n",
    "\n",
    "    mv \"$inner_dir\"/* \"$outer_dir\"\n",
    "\n",
    "    rmdir \"$inner_dir\"\n",
    "}\n",
    "\n",
    "export -f move_and_remove\n",
    "\n",
    "BASE_DIR=$(pwd)\n",
    "\n",
    "find \"$BASE_DIR\" -type d -print0 | while IFS= read -r -d '' dir; do\n",
    "    parent_dir=$(dirname \"$dir\")\n",
    "    dir_name=$(basename \"$dir\")\n",
    "    parent_name=$(basename \"$parent_dir\")\n",
    "\n",
    "    if [ \"$dir_name\" = \"$parent_name\" ]; then\n",
    "        move_and_remove \"$dir\"\n",
    "    fi\n",
    "done\n"
   ]
  },
  {
   "cell_type": "code",
   "execution_count": null,
   "id": "27ed6861-d89c-4e1b-ab02-cdc45f8a556f",
   "metadata": {},
   "outputs": [],
   "source": [
    "#!/bin/bash\n",
    "\n",
    "# Function to extract tar.gz files\n",
    "extract_tar_gz() {\n",
    "    local tar_file=\"$1\"\n",
    "    local dir_name=$(dirname \"$tar_file\")\n",
    "\n",
    "    # Extract the tarball in its current directory\n",
    "    tar -xzf \"$tar_file\" -C \"$dir_name\"\n",
    "\n",
    "    # Uncomment the following line if you want to delete the tarball after extracting\n",
    "    rm \"$tar_file\"\n",
    "}\n",
    "\n",
    "export -f extract_tar_gz\n",
    "\n",
    "# Get the current directory\n",
    "BASE_DIR=$(pwd)\n",
    "\n",
    "# Finding all tar.gz files in subdirectories and extracting them\n",
    "find \"$BASE_DIR\" -mindepth 2 -type f -name \"*.tar.gz\" -print0 | while IFS= read -r -d '' tar_file; do\n",
    "    extract_tar_gz \"$tar_file\"\n",
    "done\n"
   ]
  }
 ],
 "metadata": {
  "kernelspec": {
   "display_name": "Python 3 (ipykernel)",
   "language": "python",
   "name": "python3"
  },
  "language_info": {
   "codemirror_mode": {
    "name": "ipython",
    "version": 3
   },
   "file_extension": ".py",
   "mimetype": "text/x-python",
   "name": "python",
   "nbconvert_exporter": "python",
   "pygments_lexer": "ipython3",
   "version": "3.10.9"
  }
 },
 "nbformat": 4,
 "nbformat_minor": 5
}
