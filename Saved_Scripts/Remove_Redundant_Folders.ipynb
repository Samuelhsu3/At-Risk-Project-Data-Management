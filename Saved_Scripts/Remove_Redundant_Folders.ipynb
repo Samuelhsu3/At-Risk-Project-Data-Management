{
 "cells": [
  {
   "cell_type": "markdown",
   "id": "eae23c7f-2e2d-4fbd-a6a8-c6063b5253e3",
   "metadata": {},
   "source": [
    "## Remove Redundant Session Folder"
   ]
  },
  {
   "cell_type": "code",
   "execution_count": null,
   "id": "1c403f48-2bc7-42d3-8773-f1ac5c349172",
   "metadata": {},
   "outputs": [],
   "source": [
    "#!/bin/bash\n",
    "\n",
    "move_and_remove() {\n",
    "    local inner_dir=$1\n",
    "    local outer_dir=$(dirname \"$inner_dir\")\n",
    "\n",
    "    mv \"$inner_dir\"/* \"$outer_dir\"\n",
    "\n",
    "    rmdir \"$inner_dir\"\n",
    "}\n",
    "\n",
    "export -f move_and_remove\n",
    "\n",
    "BASE_DIR=$(pwd)\n",
    "\n",
    "find \"$BASE_DIR\" -type d -print0 | while IFS= read -r -d '' dir; do\n",
    "    parent_dir=$(dirname \"$dir\")\n",
    "    dir_name=$(basename \"$dir\")\n",
    "    parent_name=$(basename \"$parent_dir\")\n",
    "\n",
    "    if [ \"$dir_name\" = \"$parent_name\" ]; then\n",
    "        move_and_remove \"$dir\"\n",
    "    fi\n",
    "done\n"
   ]
  }
 ],
 "metadata": {
  "kernelspec": {
   "display_name": "Python 3 (ipykernel)",
   "language": "python",
   "name": "python3"
  },
  "language_info": {
   "codemirror_mode": {
    "name": "ipython",
    "version": 3
   },
   "file_extension": ".py",
   "mimetype": "text/x-python",
   "name": "python",
   "nbconvert_exporter": "python",
   "pygments_lexer": "ipython3",
   "version": "3.10.9"
  }
 },
 "nbformat": 4,
 "nbformat_minor": 5
}
