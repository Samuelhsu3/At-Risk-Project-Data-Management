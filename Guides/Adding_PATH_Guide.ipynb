{
 "cells": [
  {
   "cell_type": "markdown",
   "id": "5d964615-53a5-40f4-b3dd-e7518c49ef54",
   "metadata": {},
   "source": [
    "## Modifying the PATH Environment Variable (Guide)"
   ]
  },
  {
   "cell_type": "markdown",
   "id": "4b787ce0-256f-4700-9d46-86fcb7a874cb",
   "metadata": {},
   "source": [
    "Unless you have saved your own .sh files, running any data processing scripts requires calling executable files from projects. Instead of needing to specify the full pathway of the script when running it in your current working directory, you can add it to your PATH, allowing you to acess the scripts at projects from anywhere on the server. Think of this as adding a shortcut on your Desktop.  Please be careful of naming conflicts"
   ]
  },
  {
   "cell_type": "markdown",
   "id": "337615ee-dbef-4549-a9f5-c7b3d8cba769",
   "metadata": {},
   "source": [
    "### Step 1 Open the Shell Profile "
   ]
  },
  {
   "cell_type": "code",
   "execution_count": null,
   "id": "9f99bfa5-fa7b-4ca8-bcaf-53e7a2281ace",
   "metadata": {},
   "outputs": [],
   "source": [
    "nano ~/.bashrc"
   ]
  },
  {
   "cell_type": "markdown",
   "id": "82787dfd-dbc1-462f-a915-2386651725a8",
   "metadata": {},
   "source": [
    "### Step 2 Add this line to the End"
   ]
  },
  {
   "cell_type": "code",
   "execution_count": null,
   "id": "5c8476f8-26fe-41f9-9831-cd27472a1615",
   "metadata": {},
   "outputs": [],
   "source": [
    "export PATH=\"$PATH:/home/YOUR_USERNAME/projects/def-rolsen/Scripts\""
   ]
  },
  {
   "cell_type": "markdown",
   "id": "1deaa7ad-c581-4a9f-b9ec-ec585c100cb7",
   "metadata": {},
   "source": [
    "Remember to replace YOUR_USERNAME with your actual username"
   ]
  },
  {
   "cell_type": "markdown",
   "id": "7f467b3c-48b1-4a1f-a7ff-03032cf04d28",
   "metadata": {},
   "source": [
    "Control +V to Paste, Control +O to Save, Enter to Confirm, Control +X to Exit. (Learn how to use the nano text editor first )"
   ]
  },
  {
   "cell_type": "markdown",
   "id": "3bfd48f9-f73a-4573-8809-729a3f97a310",
   "metadata": {},
   "source": [
    "### Step 2 Restart the terminal"
   ]
  },
  {
   "cell_type": "markdown",
   "id": "07868623-011b-41c0-94c2-1e334ce7f2e1",
   "metadata": {},
   "source": [
    "Now try typing the name of the script without the full path from your scratch folder "
   ]
  }
 ],
 "metadata": {
  "kernelspec": {
   "display_name": "",
   "name": ""
  },
  "language_info": {
   "name": ""
  }
 },
 "nbformat": 4,
 "nbformat_minor": 5
}
