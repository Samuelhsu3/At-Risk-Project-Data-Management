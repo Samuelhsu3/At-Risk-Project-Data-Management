{
 "cells": [
  {
   "cell_type": "markdown",
   "id": "5d964615-53a5-40f4-b3dd-e7518c49ef54",
   "metadata": {},
   "source": [
    "## Modifying the PATH Environment Variable (Guide)"
   ]
  },
  {
   "cell_type": "markdown",
   "id": "4b787ce0-256f-4700-9d46-86fcb7a874cb",
   "metadata": {},
   "source": [
    "Unless you have saved your own .sh files, running any data processing scripts requires calling from executable files from projects. Think of this as adding a shortcut on your Desktop. Doin"
   ]
  },
  {
   "cell_type": "markdown",
   "id": "337615ee-dbef-4549-a9f5-c7b3d8cba769",
   "metadata": {},
   "source": [
    "### Step 1 Open the Shell Profile "
   ]
  },
  {
   "cell_type": "code",
   "execution_count": null,
   "id": "9f99bfa5-fa7b-4ca8-bcaf-53e7a2281ace",
   "metadata": {},
   "outputs": [],
   "source": [
    "nano ~/.bashrc"
   ]
  },
  {
   "cell_type": "markdown",
   "id": "82787dfd-dbc1-462f-a915-2386651725a8",
   "metadata": {},
   "source": [
    "### Step 2 Add this line"
   ]
  },
  {
   "cell_type": "code",
   "execution_count": null,
   "id": "5c8476f8-26fe-41f9-9831-cd27472a1615",
   "metadata": {},
   "outputs": [],
   "source": [
    "export PATH=\"$PATH:/home/$user/projects/def-rolsen/Scripts\""
   ]
  }
 ],
 "metadata": {
  "kernelspec": {
   "display_name": "",
   "name": ""
  },
  "language_info": {
   "name": ""
  }
 },
 "nbformat": 4,
 "nbformat_minor": 5
}
